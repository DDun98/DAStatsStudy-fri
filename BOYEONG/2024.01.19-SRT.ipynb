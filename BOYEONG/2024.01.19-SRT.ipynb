{
 "cells": [
  {
   "cell_type": "markdown",
   "id": "26ca4ff4",
   "metadata": {},
   "source": [
    "# API\n",
    "- https://coding-potato.tistory.com/8\n",
    "- https://wonhwa.tistory.com/9"
   ]
  },
  {
   "cell_type": "code",
   "execution_count": 25,
   "id": "076ee3ac",
   "metadata": {},
   "outputs": [],
   "source": [
    "## 필요한 라이브러리 임포트\n",
    "import requests\n",
    "import pprint\n",
    "import pandas as pd\n",
    "import json"
   ]
  },
  {
   "cell_type": "code",
   "execution_count": 15,
   "id": "4876ad08",
   "metadata": {},
   "outputs": [],
   "source": [
    "# url = \"http://api.data.go.kr/openapi/tn_pubr_public_ovrspd_prvn_manage_api?serviceKey=개인인증키&pageNo=1&numOfRows=1000&type=json\"\n",
    "\n",
    "url = \"https://apis.data.go.kr/B553912/tk_sales/v1/channel_sales?serviceKey=TJbcS%2F%2FHqeBXmQz6V%2B7seApTMh%2B4Lch3JL00yQKfHgyfHZiIeLVZuZ%2Fukf8ywpedCjdtjwIx2fWrM93QY%2FuQ6g%3D%3D&page=1&perPage=10&returnType=JSON&cond%5BRUN_YMD%3A%3ALT%5D=20221231&cond%5BRUN_YMD%3A%3ALTE%5D=20221231&cond%5BRUN_YMD%3A%3AGT%5D=20220101&cond%5BRUN_YMD%3A%3AGTE%5D=20220101\""
   ]
  },
  {
   "cell_type": "code",
   "execution_count": 20,
   "id": "4a53a8ac",
   "metadata": {},
   "outputs": [],
   "source": [
    "response = requests.get(url)\n",
    "contents = response.text\n"
   ]
  },
  {
   "cell_type": "code",
   "execution_count": 17,
   "id": "f19b1366",
   "metadata": {},
   "outputs": [
    {
     "name": "stdout",
     "output_type": "stream",
     "text": [
      "('{\"currentCount\":10,\"data\":[{\"PRT_CMPTN_QNTY\":1362,\"RFND_QNTY\":133,\"ROUTE_NM\":\"경부선\",\"RUN_YMD\":\"20220801\",\"SELLNG_QNTY\":1521,\"SELLNG_WICKET_KND_CD\":\"0011\",\"SELLNG_WICKET_KND_NM\":\"역\",\"SELLNG_YMD\":\"20220801\"},{\"PRT_CMPTN_QNTY\":436,\"RFND_QNTY\":3,\"ROUTE_NM\":\"경부선\",\"RUN_YMD\":\"20220801\",\"SELLNG_QNTY\":441,\"SELLNG_WICKET_KND_CD\":\"0013\",\"SELLNG_WICKET_KND_NM\":\"PDA\",\"SELLNG_YMD\":\"20220801\"},{\"PRT_CMPTN_QNTY\":98,\"RFND_QNTY\":3,\"ROUTE_NM\":\"경부선\",\"RUN_YMD\":\"20220801\",\"SELLNG_QNTY\":101,\"SELLNG_WICKET_KND_CD\":\"0022\",\"SELLNG_WICKET_KND_NM\":\"TMO(군장병 '\n",
      " '철도수송지원반)\",\"SELLNG_YMD\":\"20220801\"},{\"PRT_CMPTN_QNTY\":1078,\"RFND_QNTY\":90,\"ROUTE_NM\":\"경부선\",\"RUN_YMD\":\"20220801\",\"SELLNG_QNTY\":1174,\"SELLNG_WICKET_KND_CD\":\"0027\",\"SELLNG_WICKET_KND_NM\":\"철도공사 '\n",
      " '자회사 '\n",
      " '위탁운영역\",\"SELLNG_YMD\":\"20220801\"},{\"PRT_CMPTN_QNTY\":954,\"RFND_QNTY\":29,\"ROUTE_NM\":\"경부선\",\"RUN_YMD\":\"20220801\",\"SELLNG_QNTY\":989,\"SELLNG_WICKET_KND_CD\":\"0036\",\"SELLNG_WICKET_KND_NM\":\"현금ATM\",\"SELLNG_YMD\":\"20220801\"},{\"PRT_CMPTN_QNTY\":135,\"RFND_QNTY\":16,\"ROUTE_NM\":\"경부선\",\"RUN_YMD\":\"20220801\",\"SELLNG_QNTY\":151,\"SELLNG_WICKET_KND_CD\":\"0037\",\"SELLNG_WICKET_KND_NM\":\"Tablet(자동발매기)\",\"SELLNG_YMD\":\"20220801\"},{\"PRT_CMPTN_QNTY\":11497,\"RFND_QNTY\":4314,\"ROUTE_NM\":\"경부선\",\"RUN_YMD\":\"20220801\",\"SELLNG_QNTY\":15910,\"SELLNG_WICKET_KND_CD\":\"0077\",\"SELLNG_WICKET_KND_NM\":\"스마트폰\",\"SELLNG_YMD\":\"20220801\"},{\"PRT_CMPTN_QNTY\":204,\"RFND_QNTY\":82,\"ROUTE_NM\":\"경부선\",\"RUN_YMD\":\"20220801\",\"SELLNG_QNTY\":317,\"SELLNG_WICKET_KND_CD\":\"0085\",\"SELLNG_WICKET_KND_NM\":\"INTERNET\",\"SELLNG_YMD\":\"20220801\"},{\"PRT_CMPTN_QNTY\":986,\"RFND_QNTY\":115,\"ROUTE_NM\":\"호남선\",\"RUN_YMD\":\"20220801\",\"SELLNG_QNTY\":1111,\"SELLNG_WICKET_KND_CD\":\"0011\",\"SELLNG_WICKET_KND_NM\":\"역\",\"SELLNG_YMD\":\"20220801\"},{\"PRT_CMPTN_QNTY\":174,\"RFND_QNTY\":1,\"ROUTE_NM\":\"호남선\",\"RUN_YMD\":\"20220801\",\"SELLNG_QNTY\":175,\"SELLNG_WICKET_KND_CD\":\"0013\",\"SELLNG_WICKET_KND_NM\":\"PDA\",\"SELLNG_YMD\":\"20220801\"}],\"matchCount\":37139,\"page\":1,\"perPage\":10,\"totalCount\":141803}\\n')\n",
      "None\n"
     ]
    }
   ],
   "source": [
    "## 보다 예쁘게 출력하기 위해..\n",
    "##  indent는 들여쓴다는 의미\n",
    "pp = pprint.PrettyPrinter(indent=4)\n",
    "print(pp.pprint(contents))"
   ]
  },
  {
   "cell_type": "code",
   "execution_count": 22,
   "id": "de58c28b",
   "metadata": {},
   "outputs": [
    {
     "name": "stdout",
     "output_type": "stream",
     "text": [
      "{'currentCount': 10, 'data': [{'PRT_CMPTN_QNTY': 1362, 'RFND_QNTY': 133, 'ROUTE_NM': '경부선', 'RUN_YMD': '20220801', 'SELLNG_QNTY': 1521, 'SELLNG_WICKET_KND_CD': '0011', 'SELLNG_WICKET_KND_NM': '역', 'SELLNG_YMD': '20220801'}, {'PRT_CMPTN_QNTY': 436, 'RFND_QNTY': 3, 'ROUTE_NM': '경부선', 'RUN_YMD': '20220801', 'SELLNG_QNTY': 441, 'SELLNG_WICKET_KND_CD': '0013', 'SELLNG_WICKET_KND_NM': 'PDA', 'SELLNG_YMD': '20220801'}, {'PRT_CMPTN_QNTY': 98, 'RFND_QNTY': 3, 'ROUTE_NM': '경부선', 'RUN_YMD': '20220801', 'SELLNG_QNTY': 101, 'SELLNG_WICKET_KND_CD': '0022', 'SELLNG_WICKET_KND_NM': 'TMO(군장병 철도수송지원반)', 'SELLNG_YMD': '20220801'}, {'PRT_CMPTN_QNTY': 1078, 'RFND_QNTY': 90, 'ROUTE_NM': '경부선', 'RUN_YMD': '20220801', 'SELLNG_QNTY': 1174, 'SELLNG_WICKET_KND_CD': '0027', 'SELLNG_WICKET_KND_NM': '철도공사 자회사 위탁운영역', 'SELLNG_YMD': '20220801'}, {'PRT_CMPTN_QNTY': 954, 'RFND_QNTY': 29, 'ROUTE_NM': '경부선', 'RUN_YMD': '20220801', 'SELLNG_QNTY': 989, 'SELLNG_WICKET_KND_CD': '0036', 'SELLNG_WICKET_KND_NM': '현금ATM', 'SELLNG_YMD': '20220801'}, {'PRT_CMPTN_QNTY': 135, 'RFND_QNTY': 16, 'ROUTE_NM': '경부선', 'RUN_YMD': '20220801', 'SELLNG_QNTY': 151, 'SELLNG_WICKET_KND_CD': '0037', 'SELLNG_WICKET_KND_NM': 'Tablet(자동발매기)', 'SELLNG_YMD': '20220801'}, {'PRT_CMPTN_QNTY': 11497, 'RFND_QNTY': 4314, 'ROUTE_NM': '경부선', 'RUN_YMD': '20220801', 'SELLNG_QNTY': 15910, 'SELLNG_WICKET_KND_CD': '0077', 'SELLNG_WICKET_KND_NM': '스마트폰', 'SELLNG_YMD': '20220801'}, {'PRT_CMPTN_QNTY': 204, 'RFND_QNTY': 82, 'ROUTE_NM': '경부선', 'RUN_YMD': '20220801', 'SELLNG_QNTY': 317, 'SELLNG_WICKET_KND_CD': '0085', 'SELLNG_WICKET_KND_NM': 'INTERNET', 'SELLNG_YMD': '20220801'}, {'PRT_CMPTN_QNTY': 986, 'RFND_QNTY': 115, 'ROUTE_NM': '호남선', 'RUN_YMD': '20220801', 'SELLNG_QNTY': 1111, 'SELLNG_WICKET_KND_CD': '0011', 'SELLNG_WICKET_KND_NM': '역', 'SELLNG_YMD': '20220801'}, {'PRT_CMPTN_QNTY': 174, 'RFND_QNTY': 1, 'ROUTE_NM': '호남선', 'RUN_YMD': '20220801', 'SELLNG_QNTY': 175, 'SELLNG_WICKET_KND_CD': '0013', 'SELLNG_WICKET_KND_NM': 'PDA', 'SELLNG_YMD': '20220801'}], 'matchCount': 37139, 'page': 1, 'perPage': 10, 'totalCount': 141803}\n",
      "<class 'dict'>\n"
     ]
    }
   ],
   "source": [
    "#문자열을 json으로 변경\n",
    "json_ob = json.loads(contents)\n",
    "print(json_ob)\n",
    "print(type(json_ob)) #json타입 확인"
   ]
  },
  {
   "cell_type": "code",
   "execution_count": 23,
   "id": "ebdb96f1",
   "metadata": {},
   "outputs": [
    {
     "name": "stdout",
     "output_type": "stream",
     "text": [
      "One or more required keys not found in the dictionary.\n"
     ]
    }
   ],
   "source": [
    "# 필요한 내용만 꺼내기\n",
    "if 'response' in json_ob and 'body' in json_ob['response'] and 'items' in json_ob['response']['body']:\n",
    "    body = json_ob['response']['body']['items']\n",
    "    print(body)\n",
    "else:\n",
    "    print(\"One or more required keys not found in the dictionary.\")\n"
   ]
  },
  {
   "cell_type": "code",
   "execution_count": 30,
   "id": "72253c7b",
   "metadata": {},
   "outputs": [
    {
     "name": "stdout",
     "output_type": "stream",
     "text": [
      "[{'PRT_CMPTN_QNTY': 1362, 'RFND_QNTY': 133, 'ROUTE_NM': '경부선', 'RUN_YMD': '20220801', 'SELLNG_QNTY': 1521, 'SELLNG_WICKET_KND_CD': '0011', 'SELLNG_WICKET_KND_NM': '역', 'SELLNG_YMD': '20220801'}, {'PRT_CMPTN_QNTY': 436, 'RFND_QNTY': 3, 'ROUTE_NM': '경부선', 'RUN_YMD': '20220801', 'SELLNG_QNTY': 441, 'SELLNG_WICKET_KND_CD': '0013', 'SELLNG_WICKET_KND_NM': 'PDA', 'SELLNG_YMD': '20220801'}, {'PRT_CMPTN_QNTY': 98, 'RFND_QNTY': 3, 'ROUTE_NM': '경부선', 'RUN_YMD': '20220801', 'SELLNG_QNTY': 101, 'SELLNG_WICKET_KND_CD': '0022', 'SELLNG_WICKET_KND_NM': 'TMO(군장병 철도수송지원반)', 'SELLNG_YMD': '20220801'}, {'PRT_CMPTN_QNTY': 1078, 'RFND_QNTY': 90, 'ROUTE_NM': '경부선', 'RUN_YMD': '20220801', 'SELLNG_QNTY': 1174, 'SELLNG_WICKET_KND_CD': '0027', 'SELLNG_WICKET_KND_NM': '철도공사 자회사 위탁운영역', 'SELLNG_YMD': '20220801'}, {'PRT_CMPTN_QNTY': 954, 'RFND_QNTY': 29, 'ROUTE_NM': '경부선', 'RUN_YMD': '20220801', 'SELLNG_QNTY': 989, 'SELLNG_WICKET_KND_CD': '0036', 'SELLNG_WICKET_KND_NM': '현금ATM', 'SELLNG_YMD': '20220801'}, {'PRT_CMPTN_QNTY': 135, 'RFND_QNTY': 16, 'ROUTE_NM': '경부선', 'RUN_YMD': '20220801', 'SELLNG_QNTY': 151, 'SELLNG_WICKET_KND_CD': '0037', 'SELLNG_WICKET_KND_NM': 'Tablet(자동발매기)', 'SELLNG_YMD': '20220801'}, {'PRT_CMPTN_QNTY': 11497, 'RFND_QNTY': 4314, 'ROUTE_NM': '경부선', 'RUN_YMD': '20220801', 'SELLNG_QNTY': 15910, 'SELLNG_WICKET_KND_CD': '0077', 'SELLNG_WICKET_KND_NM': '스마트폰', 'SELLNG_YMD': '20220801'}, {'PRT_CMPTN_QNTY': 204, 'RFND_QNTY': 82, 'ROUTE_NM': '경부선', 'RUN_YMD': '20220801', 'SELLNG_QNTY': 317, 'SELLNG_WICKET_KND_CD': '0085', 'SELLNG_WICKET_KND_NM': 'INTERNET', 'SELLNG_YMD': '20220801'}, {'PRT_CMPTN_QNTY': 986, 'RFND_QNTY': 115, 'ROUTE_NM': '호남선', 'RUN_YMD': '20220801', 'SELLNG_QNTY': 1111, 'SELLNG_WICKET_KND_CD': '0011', 'SELLNG_WICKET_KND_NM': '역', 'SELLNG_YMD': '20220801'}, {'PRT_CMPTN_QNTY': 174, 'RFND_QNTY': 1, 'ROUTE_NM': '호남선', 'RUN_YMD': '20220801', 'SELLNG_QNTY': 175, 'SELLNG_WICKET_KND_CD': '0013', 'SELLNG_WICKET_KND_NM': 'PDA', 'SELLNG_YMD': '20220801'}]\n"
     ]
    }
   ],
   "source": [
    "# 필요한 내용만 꺼내기\n",
    "body = json_ob['data']\n",
    "print(body)"
   ]
  },
  {
   "cell_type": "code",
   "execution_count": 26,
   "id": "b51bbd61",
   "metadata": {},
   "outputs": [
    {
     "ename": "NameError",
     "evalue": "name 'body' is not defined",
     "output_type": "error",
     "traceback": [
      "\u001b[0;31m---------------------------------------------------------------------------\u001b[0m",
      "\u001b[0;31mNameError\u001b[0m                                 Traceback (most recent call last)",
      "Cell \u001b[0;32mIn[26], line 2\u001b[0m\n\u001b[1;32m      1\u001b[0m \u001b[38;5;66;03m# Dataframe으로 만들기\u001b[39;00m\n\u001b[0;32m----> 2\u001b[0m dataframe \u001b[38;5;241m=\u001b[39m pd\u001b[38;5;241m.\u001b[39mjson_normalize(body)\n\u001b[1;32m      4\u001b[0m \u001b[38;5;28mprint\u001b[39m(dataframe)\n",
      "\u001b[0;31mNameError\u001b[0m: name 'body' is not defined"
     ]
    }
   ],
   "source": [
    "# # Dataframe으로 만들기\n",
    "# dataframe = pd.json_normalize(body)\n",
    "\n",
    "# print(dataframe)"
   ]
  },
  {
   "cell_type": "code",
   "execution_count": 31,
   "id": "e04e594f",
   "metadata": {},
   "outputs": [
    {
     "name": "stdout",
     "output_type": "stream",
     "text": [
      "[{'PRT_CMPTN_QNTY': 1362, 'RFND_QNTY': 133, 'ROUTE_NM': '경부선', 'RUN_YMD': '20220801', 'SELLNG_QNTY': 1521, 'SELLNG_WICKET_KND_CD': '0011', 'SELLNG_WICKET_KND_NM': '역', 'SELLNG_YMD': '20220801'}, {'PRT_CMPTN_QNTY': 436, 'RFND_QNTY': 3, 'ROUTE_NM': '경부선', 'RUN_YMD': '20220801', 'SELLNG_QNTY': 441, 'SELLNG_WICKET_KND_CD': '0013', 'SELLNG_WICKET_KND_NM': 'PDA', 'SELLNG_YMD': '20220801'}, {'PRT_CMPTN_QNTY': 98, 'RFND_QNTY': 3, 'ROUTE_NM': '경부선', 'RUN_YMD': '20220801', 'SELLNG_QNTY': 101, 'SELLNG_WICKET_KND_CD': '0022', 'SELLNG_WICKET_KND_NM': 'TMO(군장병 철도수송지원반)', 'SELLNG_YMD': '20220801'}, {'PRT_CMPTN_QNTY': 1078, 'RFND_QNTY': 90, 'ROUTE_NM': '경부선', 'RUN_YMD': '20220801', 'SELLNG_QNTY': 1174, 'SELLNG_WICKET_KND_CD': '0027', 'SELLNG_WICKET_KND_NM': '철도공사 자회사 위탁운영역', 'SELLNG_YMD': '20220801'}, {'PRT_CMPTN_QNTY': 954, 'RFND_QNTY': 29, 'ROUTE_NM': '경부선', 'RUN_YMD': '20220801', 'SELLNG_QNTY': 989, 'SELLNG_WICKET_KND_CD': '0036', 'SELLNG_WICKET_KND_NM': '현금ATM', 'SELLNG_YMD': '20220801'}, {'PRT_CMPTN_QNTY': 135, 'RFND_QNTY': 16, 'ROUTE_NM': '경부선', 'RUN_YMD': '20220801', 'SELLNG_QNTY': 151, 'SELLNG_WICKET_KND_CD': '0037', 'SELLNG_WICKET_KND_NM': 'Tablet(자동발매기)', 'SELLNG_YMD': '20220801'}, {'PRT_CMPTN_QNTY': 11497, 'RFND_QNTY': 4314, 'ROUTE_NM': '경부선', 'RUN_YMD': '20220801', 'SELLNG_QNTY': 15910, 'SELLNG_WICKET_KND_CD': '0077', 'SELLNG_WICKET_KND_NM': '스마트폰', 'SELLNG_YMD': '20220801'}, {'PRT_CMPTN_QNTY': 204, 'RFND_QNTY': 82, 'ROUTE_NM': '경부선', 'RUN_YMD': '20220801', 'SELLNG_QNTY': 317, 'SELLNG_WICKET_KND_CD': '0085', 'SELLNG_WICKET_KND_NM': 'INTERNET', 'SELLNG_YMD': '20220801'}, {'PRT_CMPTN_QNTY': 986, 'RFND_QNTY': 115, 'ROUTE_NM': '호남선', 'RUN_YMD': '20220801', 'SELLNG_QNTY': 1111, 'SELLNG_WICKET_KND_CD': '0011', 'SELLNG_WICKET_KND_NM': '역', 'SELLNG_YMD': '20220801'}, {'PRT_CMPTN_QNTY': 174, 'RFND_QNTY': 1, 'ROUTE_NM': '호남선', 'RUN_YMD': '20220801', 'SELLNG_QNTY': 175, 'SELLNG_WICKET_KND_CD': '0013', 'SELLNG_WICKET_KND_NM': 'PDA', 'SELLNG_YMD': '20220801'}]\n",
      "   PRT_CMPTN_QNTY  RFND_QNTY ROUTE_NM   RUN_YMD  SELLNG_QNTY  \\\n",
      "0            1362        133      경부선  20220801         1521   \n",
      "1             436          3      경부선  20220801          441   \n",
      "2              98          3      경부선  20220801          101   \n",
      "3            1078         90      경부선  20220801         1174   \n",
      "4             954         29      경부선  20220801          989   \n",
      "5             135         16      경부선  20220801          151   \n",
      "6           11497       4314      경부선  20220801        15910   \n",
      "7             204         82      경부선  20220801          317   \n",
      "8             986        115      호남선  20220801         1111   \n",
      "9             174          1      호남선  20220801          175   \n",
      "\n",
      "  SELLNG_WICKET_KND_CD SELLNG_WICKET_KND_NM SELLNG_YMD  \n",
      "0                 0011                    역   20220801  \n",
      "1                 0013                  PDA   20220801  \n",
      "2                 0022     TMO(군장병 철도수송지원반)   20220801  \n",
      "3                 0027       철도공사 자회사 위탁운영역   20220801  \n",
      "4                 0036                현금ATM   20220801  \n",
      "5                 0037        Tablet(자동발매기)   20220801  \n",
      "6                 0077                 스마트폰   20220801  \n",
      "7                 0085             INTERNET   20220801  \n",
      "8                 0011                    역   20220801  \n",
      "9                 0013                  PDA   20220801  \n"
     ]
    }
   ],
   "source": [
    "# pandas import\n",
    "import pandas as pd\n",
    "# Dataframe으로 만들기\n",
    "body = json_ob['data']\n",
    "print(body)\n",
    "dataframe = pd.json_normalize(body)\n",
    "print(dataframe)"
   ]
  },
  {
   "cell_type": "code",
   "execution_count": 34,
   "id": "2a6477a6",
   "metadata": {},
   "outputs": [
    {
     "name": "stdout",
     "output_type": "stream",
     "text": [
      "<class 'pandas.core.frame.DataFrame'>\n",
      "RangeIndex: 10 entries, 0 to 9\n",
      "Data columns (total 8 columns):\n",
      " #   Column                Non-Null Count  Dtype \n",
      "---  ------                --------------  ----- \n",
      " 0   PRT_CMPTN_QNTY        10 non-null     int64 \n",
      " 1   RFND_QNTY             10 non-null     int64 \n",
      " 2   ROUTE_NM              10 non-null     object\n",
      " 3   RUN_YMD               10 non-null     object\n",
      " 4   SELLNG_QNTY           10 non-null     int64 \n",
      " 5   SELLNG_WICKET_KND_CD  10 non-null     object\n",
      " 6   SELLNG_WICKET_KND_NM  10 non-null     object\n",
      " 7   SELLNG_YMD            10 non-null     object\n",
      "dtypes: int64(3), object(5)\n",
      "memory usage: 772.0+ bytes\n"
     ]
    }
   ],
   "source": [
    "dataframe.info()"
   ]
  },
  {
   "cell_type": "code",
   "execution_count": null,
   "id": "7891e542",
   "metadata": {},
   "outputs": [],
   "source": []
  },
  {
   "cell_type": "code",
   "execution_count": null,
   "id": "7bf22769",
   "metadata": {},
   "outputs": [],
   "source": []
  },
  {
   "cell_type": "code",
   "execution_count": null,
   "id": "ce1d4634",
   "metadata": {},
   "outputs": [],
   "source": []
  },
  {
   "cell_type": "code",
   "execution_count": null,
   "id": "0b6e8e07",
   "metadata": {},
   "outputs": [],
   "source": []
  },
  {
   "cell_type": "code",
   "execution_count": null,
   "id": "37d28323",
   "metadata": {},
   "outputs": [],
   "source": []
  },
  {
   "cell_type": "code",
   "execution_count": null,
   "id": "86cfa97f",
   "metadata": {},
   "outputs": [],
   "source": []
  },
  {
   "cell_type": "code",
   "execution_count": null,
   "id": "ba14dc0b",
   "metadata": {},
   "outputs": [],
   "source": []
  }
 ],
 "metadata": {
  "kernelspec": {
   "display_name": "Python 3 (ipykernel)",
   "language": "python",
   "name": "python3"
  },
  "language_info": {
   "codemirror_mode": {
    "name": "ipython",
    "version": 3
   },
   "file_extension": ".py",
   "mimetype": "text/x-python",
   "name": "python",
   "nbconvert_exporter": "python",
   "pygments_lexer": "ipython3",
   "version": "3.11.5"
  },
  "toc": {
   "base_numbering": 1,
   "nav_menu": {},
   "number_sections": true,
   "sideBar": true,
   "skip_h1_title": false,
   "title_cell": "Table of Contents",
   "title_sidebar": "Contents",
   "toc_cell": false,
   "toc_position": {},
   "toc_section_display": true,
   "toc_window_display": false
  }
 },
 "nbformat": 4,
 "nbformat_minor": 5
}
