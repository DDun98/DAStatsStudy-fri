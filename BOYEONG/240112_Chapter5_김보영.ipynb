{
 "cells": [
  {
   "cell_type": "markdown",
   "id": "b454ee65",
   "metadata": {},
   "source": [
    "# 통계 스터디 Quiz\n",
    "\n",
    "- 일시: 2023.01.12(금)\n",
    "- 범위: 5장\n",
    "- 출제: 이우진"
   ]
  },
  {
   "cell_type": "code",
   "execution_count": 3,
   "id": "13e763e9",
   "metadata": {},
   "outputs": [],
   "source": [
    "import pandas as pd\n",
    "import numpy as np\n",
    "from scipy import stats"
   ]
  },
  {
   "cell_type": "markdown",
   "id": "2418a243",
   "metadata": {},
   "source": [
    "---"
   ]
  },
  {
   "cell_type": "markdown",
   "id": "1737aba6",
   "metadata": {},
   "source": [
    "### 1.\n",
    "\n",
    "될성부른 떡잎을 육성하고자 하는 교육기관 떡잎스쿨에서 자신들의 커리큘럼에 대한 만족 여부를 조사했다. 역대 수강생 중 150명을 임의로 선정하여 조사하였더니 55명이 만족했다는 결과를 얻었다."
   ]
  },
  {
   "cell_type": "markdown",
   "id": "b4a9eb56",
   "metadata": {},
   "source": [
    "#### (1)\n",
    "\n",
    "커리큘럼의 만족도에 대한 점추정 값을 구하시오. **[10점]**"
   ]
  },
  {
   "cell_type": "code",
   "execution_count": 2,
   "id": "2924ab48",
   "metadata": {},
   "outputs": [
    {
     "name": "stdout",
     "output_type": "stream",
     "text": [
      "만족도: 0.367\n"
     ]
    }
   ],
   "source": [
    "answer = 55/150\n",
    "print(f\"만족도: {np.round(answer, 3)}\")"
   ]
  },
  {
   "cell_type": "markdown",
   "id": "bf82c2fc",
   "metadata": {},
   "source": [
    "#### (2)\n",
    "\n",
    "신뢰수준 95%에서 커리큘럼의 만족도에 대한 신뢰구간을 구하시오.  **[20점]**"
   ]
  },
  {
   "cell_type": "code",
   "execution_count": 3,
   "id": "b26419d7",
   "metadata": {},
   "outputs": [
    {
     "name": "stdout",
     "output_type": "stream",
     "text": [
      "신뢰구간: (0.2889174369037752, 0.4444158964295581)\n"
     ]
    }
   ],
   "source": [
    "answer = stats.t.interval(0.95, 150-1, loc=55/150, scale=np.sqrt((55/150 * (1 - 55/150)) / 150))\n",
    "print(f\"신뢰구간: {answer}\")"
   ]
  },
  {
   "cell_type": "code",
   "execution_count": null,
   "id": "96709bce",
   "metadata": {},
   "outputs": [],
   "source": [
    "# # 신뢰수준과 자유도 설정\n",
    "# confidence_level = 0.95\n",
    "# degrees_of_freedom = len(data) - 1\n",
    "\n",
    "# # 평균과 표준편차 계산\n",
    "# mean = np.mean(data)\n",
    "# std_dev = np.std(data, ddof=1)  # 자유도를 고려한 표준편차 계산\n",
    "\n",
    "# # 신뢰구간 계산\n",
    "# confidence_interval = stats.t.interval(confidence_level, degrees_of_freedom, loc=mean, scale=std_dev/np.sqrt(len(data)))\n",
    "\n",
    "# print(\"평균:\", mean)\n",
    "# print(f\"{confidence_level*100}% 신뢰구간:\", confidence_interval)"
   ]
  },
  {
   "cell_type": "code",
   "execution_count": null,
   "id": "4410f1b6",
   "metadata": {},
   "outputs": [],
   "source": [
    "# import numpy as np\n",
    "# from scipy import stats\n",
    "\n",
    "# # 주어진 정보\n",
    "# N = 150\n",
    "# X = 55\n",
    "# confidence_level = 0.95\n",
    "\n",
    "# # 표본 비율 계산\n",
    "# p = X / N\n",
    "\n",
    "# # 표본 표준 오차 계산\n",
    "# SE = np.sqrt((p * (1 - p)) / N)\n",
    "\n",
    "# # 자유도 계산\n",
    "# df = N - 1\n",
    "\n",
    "# # t-분포를 이용한 신뢰구간 계산\n",
    "# confidence_interval = stats.t.interval(confidence_level, df, loc=p, scale=SE)\n",
    "\n",
    "# print(f\"{confidence_level*100}% 신뢰구간:\", confidence_interval)\n"
   ]
  },
  {
   "cell_type": "markdown",
   "id": "aca1b47f",
   "metadata": {},
   "source": [
    "---"
   ]
  },
  {
   "cell_type": "markdown",
   "id": "6c2e8165",
   "metadata": {},
   "source": [
    "### 2.\n",
    "\n",
    "원디두(23)씨는 IT 스타트업의 DA 직군 초봉을 알아보고자 한다. IT 스타트업에 재직 중인 DA 직군의 25명을 임의로 선정하여 커피챗을 나눠보며 초봉 자료를 수집한 결과, 평균 3200만원, 표준편차 480만원의 정규분포를 따른다는 사실을 알게 되었다."
   ]
  },
  {
   "cell_type": "markdown",
   "id": "74cf3839",
   "metadata": {},
   "source": [
    "#### (1)\n",
    "\n",
    "신뢰수준 95%에서 IT 스타트업 DA 직군 초봉에 대한 신뢰구간을 구하시오. **[20점]**"
   ]
  },
  {
   "cell_type": "code",
   "execution_count": 7,
   "id": "150ef6f3",
   "metadata": {},
   "outputs": [
    {
     "name": "stdout",
     "output_type": "stream",
     "text": [
      "신뢰구간: (3011.84만원, 3388.16만원)\n"
     ]
    }
   ],
   "source": [
    "# 주어진 정보\n",
    "mean_salary = 3200  # 평균 초봉 (만원)\n",
    "std_deviation = 480  # 표준편차 (만원)\n",
    "sample_size = 25  # 샘플 크기\n",
    "confidence_level = 0.95  # 신뢰수준\n",
    "\n",
    "# Z값 계산\n",
    "z_value = stats.norm.ppf((1 + confidence_level) / 2)\n",
    "\n",
    "# 신뢰구간 계산\n",
    "margin_of_error = z_value * (std_deviation / (sample_size ** 0.5))\n",
    "confidence_interval_lower = mean_salary - margin_of_error\n",
    "confidence_interval_upper = mean_salary + margin_of_error\n",
    "\n",
    "# 결과 출력\n",
    "print(f\"신뢰구간: ({confidence_interval_lower:.2f}만원, {confidence_interval_upper:.2f}만원)\")"
   ]
  },
  {
   "cell_type": "markdown",
   "id": "9fcc8d7d",
   "metadata": {},
   "source": [
    "#### (2)\n",
    "\n",
    "2024년 최저연봉은 약 2500만원이라고 한다. 2500만원 이상 3000만원 미만에 속하는 기업에 입사하게 될 확률을 구하시오. **[20점]**"
   ]
  },
  {
   "cell_type": "code",
   "execution_count": 8,
   "id": "aa80fa21",
   "metadata": {},
   "outputs": [],
   "source": [
    "# 주어진 정보 (예시 데이터)\n",
    "mean_salary = 3200  # 평균 연봉 (만원)\n",
    "std_deviation = 480  # 표준편차 (만원)\n",
    "minimum_salary = 2500  # 최저 연봉 (만원)\n",
    "\n",
    "# Z-점수 계산\n",
    "z_score = (minimum_salary - mean_salary) / std_deviation\n",
    "\n",
    "# Z-점수를 사용하여 확률 계산\n",
    "probability = 1 - stats.norm.cdf(z_score)"
   ]
  },
  {
   "cell_type": "code",
   "execution_count": 9,
   "id": "cb04b5e6",
   "metadata": {},
   "outputs": [
    {
     "name": "stdout",
     "output_type": "stream",
     "text": [
      "확률: 0.928\n"
     ]
    }
   ],
   "source": [
    "answer = probability\n",
    "print(f\"확률: {np.round(answer, 3)}\")"
   ]
  },
  {
   "cell_type": "markdown",
   "id": "941233fa",
   "metadata": {},
   "source": [
    "---"
   ]
  },
  {
   "cell_type": "markdown",
   "id": "2d1d3ac6",
   "metadata": {},
   "source": [
    "### 3.\n",
    "\n",
    "야구를 좋아하는 두인수(29)씨는 잠실구장의 진짜 주인이 누군지 가리고자 한다."
   ]
  },
  {
   "cell_type": "markdown",
   "id": "f453c991",
   "metadata": {},
   "source": [
    "#### (1)\n",
    "\n",
    "두인수 씨는 전체 야구 팬들을 대상으로 설문조사를 실시하여, LG 트윈스를 선호하는 비율을 95% 신뢰수준에서 구간추정하고자 한다. 이때 추정치의 허용오차를 5% 미만으로 하고 싶다. 몇 명의 야구팬을 대상으로 설문을 진행해야 하는가? **[25점]**"
   ]
  },
  {
   "cell_type": "code",
   "execution_count": 14,
   "id": "fd088179",
   "metadata": {},
   "outputs": [
    {
     "name": "stdout",
     "output_type": "stream",
     "text": [
      "필요한 샘플 크기: 385\n"
     ]
    }
   ],
   "source": [
    "# 주어진 정보\n",
    "confidence_level = 0.95\n",
    "margin_of_error = 0.05\n",
    "estimated_proportion = 0.5  # 보수적으로 0.5로 설정\n",
    "\n",
    "# Z-점수 계산\n",
    "z_score = stats.norm.ppf((1 + confidence_level) / 2)\n",
    "\n",
    "# 필요한 샘플 크기 계산\n",
    "required_sample_size = math.ceil((z_score ** 2 * estimated_proportion * (1 - estimated_proportion)) / (margin_of_error ** 2))\n",
    "\n",
    "# 결과 출력\n",
    "print(f\"필요한 샘플 크기: {required_sample_size}\")"
   ]
  },
  {
   "cell_type": "markdown",
   "id": "b4aa3dce",
   "metadata": {},
   "source": [
    "#### (2)\n",
    "\n",
    "두인수 씨는 야구 커뮤니티를 통해 임의의 야구 팬 1,501명에게 설문을 받았다. 그 결과 688명이 LG 트윈스를 선호한다는 결과를 얻었다.\n",
    "\n",
    "한편, 오늘은 KBO 올스타전이 있는 날이다. 임의의 야구 팬들에 의해 잠실구장의 좌석 수 24,411석이 매진되었다고 전해진다. 이때 LG 트윈스를 선호하는 관객이 몇 명이나 있을지 알아보고 싶다. 95% 신뢰수준에서 신뢰구간을 구하시오. **[25점]**"
   ]
  },
  {
   "cell_type": "code",
   "execution_count": 13,
   "id": "29026def",
   "metadata": {},
   "outputs": [
    {
     "name": "stdout",
     "output_type": "stream",
     "text": [
      "LG 트윈스를 선호하는 관객의 수의 95% 신뢰구간: (10573, 11804) 명\n"
     ]
    }
   ],
   "source": [
    "import math\n",
    "\n",
    "# 설문 결과\n",
    "total_respondents = 1501\n",
    "lg_twins_fans = 688\n",
    "\n",
    "# LG 트윈스를 선호하는 팬의 비율 계산\n",
    "p = lg_twins_fans / total_respondents\n",
    "\n",
    "# 95% 신뢰수준에서 신뢰구간 계산\n",
    "confidence_interval = stats.norm.interval(0.95, loc=p, scale=math.sqrt((p * (1 - p)) / total_respondents))\n",
    "\n",
    "# 결과 출력\n",
    "print(f\"LG 트윈스를 선호하는 관객의 수의 95% 신뢰구간: ({int(confidence_interval[0] * 24411)}, {int(confidence_interval[1] * 24411)}) 명\")\n"
   ]
  }
 ],
 "metadata": {
  "kernelspec": {
   "display_name": "Python 3 (ipykernel)",
   "language": "python",
   "name": "python3"
  },
  "language_info": {
   "codemirror_mode": {
    "name": "ipython",
    "version": 3
   },
   "file_extension": ".py",
   "mimetype": "text/x-python",
   "name": "python",
   "nbconvert_exporter": "python",
   "pygments_lexer": "ipython3",
   "version": "3.11.5"
  },
  "toc": {
   "base_numbering": 1,
   "nav_menu": {},
   "number_sections": false,
   "sideBar": true,
   "skip_h1_title": false,
   "title_cell": "Table of Contents",
   "title_sidebar": "Contents",
   "toc_cell": false,
   "toc_position": {},
   "toc_section_display": true,
   "toc_window_display": false
  }
 },
 "nbformat": 4,
 "nbformat_minor": 5
}
