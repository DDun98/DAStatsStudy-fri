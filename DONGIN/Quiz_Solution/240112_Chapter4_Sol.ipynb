{
 "cells": [
  {
   "cell_type": "markdown",
   "id": "b454ee65",
   "metadata": {},
   "source": [
    "# 통계 스터디 Quiz\n",
    "\n",
    "- 일시: 2023.01.12(금)\n",
    "- 범위: 4장\n",
    "- 출제: 이우진"
   ]
  },
  {
   "cell_type": "code",
   "execution_count": 1,
   "id": "13e763e9",
   "metadata": {},
   "outputs": [
    {
     "name": "stderr",
     "output_type": "stream",
     "text": [
      "c:\\Users\\173ch\\anaconda3\\lib\\site-packages\\scipy\\__init__.py:155: UserWarning: A NumPy version >=1.18.5 and <1.25.0 is required for this version of SciPy (detected version 1.26.2\n",
      "  warnings.warn(f\"A NumPy version >={np_minversion} and <{np_maxversion}\"\n"
     ]
    }
   ],
   "source": [
    "import pandas as pd\n",
    "import numpy as np\n",
    "from scipy import stats"
   ]
  },
  {
   "cell_type": "markdown",
   "id": "2418a243",
   "metadata": {},
   "source": [
    "---"
   ]
  },
  {
   "cell_type": "markdown",
   "id": "1737aba6",
   "metadata": {},
   "source": [
    "### 1.\n",
    "\n",
    "만점이 100점인 자격증 시험이 있다. 이 자격증 시험의 성적 분포는 평균 70점, 표준편차 10점인 분포를 따르는 것으로 알려져 있다. A 부트캠프에 참여하는 수강생 25명이 해당 시험에 응시하려고 한다."
   ]
  },
  {
   "cell_type": "markdown",
   "id": "b4a9eb56",
   "metadata": {},
   "source": [
    "#### (1)\n",
    "\n",
    "수강생들의 평균 점수가 80점 이상을 기록할 확률을 구하시오. **[20점]**"
   ]
  },
  {
   "cell_type": "code",
   "execution_count": 2,
   "id": "2924ab48",
   "metadata": {},
   "outputs": [
    {
     "name": "stdout",
     "output_type": "stream",
     "text": [
      "확률: 0.159\n"
     ]
    }
   ],
   "source": [
    "from scipy.stats import norm\n",
    "mean = 70\n",
    "std_dev = 10\n",
    "num_students = 25\n",
    "target_scroe = 80\n",
    "z_score = (target_scroe-mean)/std_dev\n",
    "answer = 1-norm.cdf(z_score)\n",
    "print(f\"확률: {np.round(answer, 3)}\")"
   ]
  },
  {
   "cell_type": "markdown",
   "id": "bf82c2fc",
   "metadata": {},
   "source": [
    "#### (2)\n",
    "\n",
    "수강생들의 평균 점수가 전체 응시자 중 상위 10%에 해당하는 경우, 우수 교육기관으로 선정되어 장학금을 획득할 수 있다고 한다. A 부트캠프가 우수 교육기관으로 선정되려면 평균 점수가 몇 점 이상이어야 하는지 구하시오. **[40점]**"
   ]
  },
  {
   "cell_type": "code",
   "execution_count": 3,
   "id": "b26419d7",
   "metadata": {},
   "outputs": [
    {
     "name": "stdout",
     "output_type": "stream",
     "text": [
      "평균 점수: 82.82점\n"
     ]
    }
   ],
   "source": [
    "percentile = 90\n",
    "\n",
    "# Calculate the z-score for the given percentile\n",
    "z_score = norm.ppf(percentile / 100)\n",
    "\n",
    "# Calculate the raw score (X) using the z-score formula\n",
    "answer =  mean + z_score * std_dev\n",
    "\n",
    "print(f\"평균 점수: {np.round(answer, 2)}점\")"
   ]
  },
  {
   "cell_type": "markdown",
   "id": "aca1b47f",
   "metadata": {},
   "source": [
    "---"
   ]
  },
  {
   "cell_type": "markdown",
   "id": "6c2e8165",
   "metadata": {},
   "source": [
    "### 2.\n",
    "\n",
    "자칭 맛잘알 대식(27)씨는 지인들에게 맛집 소개하는 것을 좋아한다. 하지만 애석하게도, 대식씨에게 추천 받은 식당이 맛있을 확률은 30% 수준으로 그리 높지는 않은 편이다.\n",
    "\n",
    "소식(25)씨는 대식씨의 가장 친한 친구로, 무려 64번의 추천을 받았다. 하지만 소식씨의 기억에 맛있었던 식당은 별로 없었던 것 같다. 소식씨가 그 후기들을 일일이 기록해 두지는 않았기 때문에 통계적 방법론의 도움을 받고자 한다."
   ]
  },
  {
   "cell_type": "markdown",
   "id": "74cf3839",
   "metadata": {},
   "source": [
    "#### (1)\n",
    "\n",
    "소식씨가 맛있다고 느낀 횟수가 10회 미만일 확률을 구하시오. **[20점]**"
   ]
  },
  {
   "cell_type": "code",
   "execution_count": 16,
   "id": "dbfc0dcd",
   "metadata": {},
   "outputs": [
    {
     "name": "stdout",
     "output_type": "stream",
     "text": [
      "확률: 0.003\n"
     ]
    }
   ],
   "source": [
    "from scipy.stats import binom\n",
    "answer = binom.cdf(k=9, n=64, p=0.3)\n",
    "print(f\"확률: {np.round(answer, 3)}\")"
   ]
  },
  {
   "cell_type": "markdown",
   "id": "9fcc8d7d",
   "metadata": {},
   "source": [
    "#### (2)\n",
    "\n",
    "소식씨가 맛있다고 느낀 횟수가 기적적이게도 32회 이상일 확률을 구하시오. **[20점]**"
   ]
  },
  {
   "cell_type": "code",
   "execution_count": 17,
   "id": "cb04b5e6",
   "metadata": {},
   "outputs": [
    {
     "name": "stdout",
     "output_type": "stream",
     "text": [
      "확률: 0.001\n"
     ]
    }
   ],
   "source": [
    "answer = 1 - binom.cdf(k=31, n=64, p=0.3)\n",
    "print(f\"확률: {np.round(answer, 3)}\")"
   ]
  }
 ],
 "metadata": {
  "kernelspec": {
   "display_name": "Python 3 (ipykernel)",
   "language": "python",
   "name": "python3"
  },
  "language_info": {
   "codemirror_mode": {
    "name": "ipython",
    "version": 3
   },
   "file_extension": ".py",
   "mimetype": "text/x-python",
   "name": "python",
   "nbconvert_exporter": "python",
   "pygments_lexer": "ipython3",
   "version": "3.9.13"
  },
  "toc": {
   "base_numbering": 1,
   "nav_menu": {},
   "number_sections": false,
   "sideBar": true,
   "skip_h1_title": false,
   "title_cell": "Table of Contents",
   "title_sidebar": "Contents",
   "toc_cell": false,
   "toc_position": {},
   "toc_section_display": true,
   "toc_window_display": false
  }
 },
 "nbformat": 4,
 "nbformat_minor": 5
}
