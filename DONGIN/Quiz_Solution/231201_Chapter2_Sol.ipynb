{
 "cells": [
  {
   "cell_type": "markdown",
   "id": "b454ee65",
   "metadata": {},
   "source": [
    "# 통계 스터디 Quiz\n",
    "\n",
    "- 일시: 2023.12.01(금)\n",
    "- 범위: 2장\n",
    "- 출제: 이우진"
   ]
  },
  {
   "cell_type": "code",
   "execution_count": 3,
   "id": "f2c665e8",
   "metadata": {
    "ExecuteTime": {
     "end_time": "2023-11-27T10:47:22.639132Z",
     "start_time": "2023-11-27T10:47:21.565743Z"
    }
   },
   "outputs": [
    {
     "name": "stderr",
     "output_type": "stream",
     "text": [
      "c:\\Users\\173ch\\anaconda3\\lib\\site-packages\\scipy\\__init__.py:155: UserWarning: A NumPy version >=1.18.5 and <1.25.0 is required for this version of SciPy (detected version 1.26.2\n",
      "  warnings.warn(f\"A NumPy version >={np_minversion} and <{np_maxversion}\"\n"
     ]
    }
   ],
   "source": [
    "import pandas as pd\n",
    "import numpy as np\n",
    "import matplotlib.pyplot as plt\n",
    "import seaborn as sns\n",
    "import pickle"
   ]
  },
  {
   "cell_type": "code",
   "execution_count": 4,
   "id": "cd11cfbc",
   "metadata": {
    "ExecuteTime": {
     "end_time": "2023-11-27T10:47:23.510227Z",
     "start_time": "2023-11-27T10:47:23.490501Z"
    }
   },
   "outputs": [],
   "source": [
    "with open('chapter_2.pkl', 'rb') as file:\n",
    "    chapter_2 = pickle.load(file)\n",
    "\n",
    "quiz_1_data = chapter_2['quiz_1']\n",
    "quiz_2_data = chapter_2['quiz_2']\n",
    "quiz_3_data = chapter_2['quiz_3']"
   ]
  },
  {
   "cell_type": "markdown",
   "id": "2418a243",
   "metadata": {},
   "source": [
    "---"
   ]
  },
  {
   "cell_type": "markdown",
   "id": "1737aba6",
   "metadata": {},
   "source": [
    "### 1.\n",
    "\n",
    "상자 그림(box plot)은 자료의 특성을 요약하는 그래프이다. 상자 그림을 그릴 때에는 총 다섯 개의 숫자가 사용되는데, 이는 각각 자료의 최대값, 최소값, 중앙값, 제 1사분위수, 제 3사분위수이다."
   ]
  },
  {
   "cell_type": "code",
   "execution_count": 5,
   "id": "cf453c74",
   "metadata": {
    "ExecuteTime": {
     "end_time": "2023-11-27T10:47:25.450202Z",
     "start_time": "2023-11-27T10:47:25.424886Z"
    }
   },
   "outputs": [
    {
     "data": {
      "text/plain": [
       "array([99, 63, 68, 61, 69, 65, 77, 82, 53, 61, 64, 91, 79, 98, 57, 99, 85,\n",
       "       69, 74, 59, 90, 61, 78, 53, 65, 51, 94, 87, 80, 51, 75, 56, 87, 95,\n",
       "       55, 83, 78, 84, 97, 63, 83, 85, 79, 93, 75, 83, 80, 94, 54, 84])"
      ]
     },
     "execution_count": 5,
     "metadata": {},
     "output_type": "execute_result"
    }
   ],
   "source": [
    "quiz_1_data"
   ]
  },
  {
   "cell_type": "markdown",
   "id": "9a0bb882",
   "metadata": {},
   "source": [
    "위의 ```quiz_1_data```에 대한 상자 그림을 그리고자 한다. 다음의 물음에 답하시오.\n",
    "\n",
    "#### (1)\n",
    "\n",
    "자료에 대한 최대값, 최소값, 중앙값, 제 1사분위수, 제 3사분위수를 구하시오."
   ]
  },
  {
   "cell_type": "code",
   "execution_count": 6,
   "id": "16dfaef0",
   "metadata": {},
   "outputs": [
    {
     "name": "stdout",
     "output_type": "stream",
     "text": [
      "최대값: 99\n",
      "최소값: 51\n",
      "중앙값: 78.0\n",
      "제 1사분위수: 63.0\n",
      "제 3사분위수: 85.0\n"
     ]
    }
   ],
   "source": [
    "quiz_1_answers = {\n",
    "    '최대값': max(quiz_1_data),\n",
    "    '최소값': min(quiz_1_data),\n",
    "    '중앙값': np.median(quiz_1_data),\n",
    "    '제 1사분위수': np.percentile(quiz_1_data, 25),\n",
    "    '제 3사분위수': np.percentile(quiz_1_data, 75) \n",
    "}\n",
    "\n",
    "for key, value in quiz_1_answers.items():\n",
    "    print(f\"{key}: {round(value, 2)}\")"
   ]
  },
  {
   "cell_type": "markdown",
   "id": "2824e26f",
   "metadata": {},
   "source": [
    "#### (2)\n",
    "\n",
    "시각화 라이브러리(matplotlib, seaborn 등)를 활용하여 상자 그림을 그리고, (1)에서 구한 값이 맞는지 검증하시오."
   ]
  },
  {
   "cell_type": "code",
   "execution_count": 7,
   "id": "0490ad54",
   "metadata": {},
   "outputs": [
    {
     "data": {
      "image/png": "[encoded data removed]",
      "text/plain": [
       "<Figure size 640x480 with 1 Axes>"
      ]
     },
     "metadata": {},
     "output_type": "display_data"
    }
   ],
   "source": [
    "plt.boxplot(quiz_1_data)\n",
    "plt.title('Quiz 1 Data')\n",
    "\n",
    "for key, value in quiz_1_answers.items():\n",
    "    plt.axhline(value, linestyle='--', color='red')\n",
    "    \n",
    "plt.show()"
   ]
  },
  {
   "cell_type": "markdown",
   "id": "aca1b47f",
   "metadata": {},
   "source": [
    "---"
   ]
  },
  {
   "cell_type": "markdown",
   "id": "6c2e8165",
   "metadata": {},
   "source": [
    "### 2.\n",
    "\n",
    "어떤 IT 기업에서 신입 공채를 진행하고 있다. 공채 전형 중 코딩테스트는 다음의 규칙에 의해 진행되었다.\n",
    "\n",
    "- 응시자 수는 50명이다.\n",
    "- '언어'는 Python, Java, C 의 3가지 중 하나이다.\n",
    "- '점수'는 0 이상 100 이하의 정수이다.\n",
    "\n",
    "이 코딩테스트의 결과는 다음과 같다."
   ]
  },
  {
   "cell_type": "code",
   "execution_count": 8,
   "id": "3b7a194e",
   "metadata": {
    "ExecuteTime": {
     "end_time": "2023-11-27T10:47:44.483993Z",
     "start_time": "2023-11-27T10:47:44.466041Z"
    }
   },
   "outputs": [
    {
     "data": {
      "text/html": [
       "<div>\n",
       "<style scoped>\n",
       "    .dataframe tbody tr th:only-of-type {\n",
       "        vertical-align: middle;\n",
       "    }\n",
       "\n",
       "    .dataframe tbody tr th {\n",
       "        vertical-align: top;\n",
       "    }\n",
       "\n",
       "    .dataframe thead th {\n",
       "        text-align: right;\n",
       "    }\n",
       "</style>\n",
       "<table border=\"1\" class=\"dataframe\">\n",
       "  <thead>\n",
       "    <tr style=\"text-align: right;\">\n",
       "      <th></th>\n",
       "      <th>언어</th>\n",
       "      <th>점수</th>\n",
       "    </tr>\n",
       "  </thead>\n",
       "  <tbody>\n",
       "    <tr>\n",
       "      <th>0</th>\n",
       "      <td>Python</td>\n",
       "      <td>97</td>\n",
       "    </tr>\n",
       "    <tr>\n",
       "      <th>1</th>\n",
       "      <td>Python</td>\n",
       "      <td>28</td>\n",
       "    </tr>\n",
       "    <tr>\n",
       "      <th>2</th>\n",
       "      <td>C</td>\n",
       "      <td>33</td>\n",
       "    </tr>\n",
       "    <tr>\n",
       "      <th>3</th>\n",
       "      <td>C</td>\n",
       "      <td>75</td>\n",
       "    </tr>\n",
       "    <tr>\n",
       "      <th>4</th>\n",
       "      <td>Python</td>\n",
       "      <td>59</td>\n",
       "    </tr>\n",
       "    <tr>\n",
       "      <th>5</th>\n",
       "      <td>Java</td>\n",
       "      <td>5</td>\n",
       "    </tr>\n",
       "    <tr>\n",
       "      <th>6</th>\n",
       "      <td>Python</td>\n",
       "      <td>19</td>\n",
       "    </tr>\n",
       "    <tr>\n",
       "      <th>7</th>\n",
       "      <td>Java</td>\n",
       "      <td>20</td>\n",
       "    </tr>\n",
       "    <tr>\n",
       "      <th>8</th>\n",
       "      <td>Java</td>\n",
       "      <td>70</td>\n",
       "    </tr>\n",
       "    <tr>\n",
       "      <th>9</th>\n",
       "      <td>Java</td>\n",
       "      <td>59</td>\n",
       "    </tr>\n",
       "    <tr>\n",
       "      <th>10</th>\n",
       "      <td>Java</td>\n",
       "      <td>47</td>\n",
       "    </tr>\n",
       "    <tr>\n",
       "      <th>11</th>\n",
       "      <td>Java</td>\n",
       "      <td>23</td>\n",
       "    </tr>\n",
       "    <tr>\n",
       "      <th>12</th>\n",
       "      <td>Python</td>\n",
       "      <td>55</td>\n",
       "    </tr>\n",
       "    <tr>\n",
       "      <th>13</th>\n",
       "      <td>Python</td>\n",
       "      <td>47</td>\n",
       "    </tr>\n",
       "    <tr>\n",
       "      <th>14</th>\n",
       "      <td>Java</td>\n",
       "      <td>53</td>\n",
       "    </tr>\n",
       "    <tr>\n",
       "      <th>15</th>\n",
       "      <td>C</td>\n",
       "      <td>62</td>\n",
       "    </tr>\n",
       "    <tr>\n",
       "      <th>16</th>\n",
       "      <td>Python</td>\n",
       "      <td>17</td>\n",
       "    </tr>\n",
       "    <tr>\n",
       "      <th>17</th>\n",
       "      <td>Python</td>\n",
       "      <td>40</td>\n",
       "    </tr>\n",
       "    <tr>\n",
       "      <th>18</th>\n",
       "      <td>Java</td>\n",
       "      <td>18</td>\n",
       "    </tr>\n",
       "    <tr>\n",
       "      <th>19</th>\n",
       "      <td>C</td>\n",
       "      <td>98</td>\n",
       "    </tr>\n",
       "    <tr>\n",
       "      <th>20</th>\n",
       "      <td>Python</td>\n",
       "      <td>49</td>\n",
       "    </tr>\n",
       "    <tr>\n",
       "      <th>21</th>\n",
       "      <td>Python</td>\n",
       "      <td>85</td>\n",
       "    </tr>\n",
       "    <tr>\n",
       "      <th>22</th>\n",
       "      <td>Java</td>\n",
       "      <td>50</td>\n",
       "    </tr>\n",
       "    <tr>\n",
       "      <th>23</th>\n",
       "      <td>Python</td>\n",
       "      <td>94</td>\n",
       "    </tr>\n",
       "    <tr>\n",
       "      <th>24</th>\n",
       "      <td>Python</td>\n",
       "      <td>10</td>\n",
       "    </tr>\n",
       "    <tr>\n",
       "      <th>25</th>\n",
       "      <td>Java</td>\n",
       "      <td>7</td>\n",
       "    </tr>\n",
       "    <tr>\n",
       "      <th>26</th>\n",
       "      <td>Python</td>\n",
       "      <td>4</td>\n",
       "    </tr>\n",
       "    <tr>\n",
       "      <th>27</th>\n",
       "      <td>C</td>\n",
       "      <td>86</td>\n",
       "    </tr>\n",
       "    <tr>\n",
       "      <th>28</th>\n",
       "      <td>C</td>\n",
       "      <td>25</td>\n",
       "    </tr>\n",
       "    <tr>\n",
       "      <th>29</th>\n",
       "      <td>Python</td>\n",
       "      <td>58</td>\n",
       "    </tr>\n",
       "    <tr>\n",
       "      <th>30</th>\n",
       "      <td>Python</td>\n",
       "      <td>98</td>\n",
       "    </tr>\n",
       "    <tr>\n",
       "      <th>31</th>\n",
       "      <td>Java</td>\n",
       "      <td>50</td>\n",
       "    </tr>\n",
       "    <tr>\n",
       "      <th>32</th>\n",
       "      <td>C</td>\n",
       "      <td>82</td>\n",
       "    </tr>\n",
       "    <tr>\n",
       "      <th>33</th>\n",
       "      <td>Python</td>\n",
       "      <td>76</td>\n",
       "    </tr>\n",
       "    <tr>\n",
       "      <th>34</th>\n",
       "      <td>Python</td>\n",
       "      <td>78</td>\n",
       "    </tr>\n",
       "    <tr>\n",
       "      <th>35</th>\n",
       "      <td>C</td>\n",
       "      <td>41</td>\n",
       "    </tr>\n",
       "    <tr>\n",
       "      <th>36</th>\n",
       "      <td>Java</td>\n",
       "      <td>45</td>\n",
       "    </tr>\n",
       "    <tr>\n",
       "      <th>37</th>\n",
       "      <td>Python</td>\n",
       "      <td>69</td>\n",
       "    </tr>\n",
       "    <tr>\n",
       "      <th>38</th>\n",
       "      <td>Java</td>\n",
       "      <td>64</td>\n",
       "    </tr>\n",
       "    <tr>\n",
       "      <th>39</th>\n",
       "      <td>Python</td>\n",
       "      <td>62</td>\n",
       "    </tr>\n",
       "    <tr>\n",
       "      <th>40</th>\n",
       "      <td>C</td>\n",
       "      <td>44</td>\n",
       "    </tr>\n",
       "    <tr>\n",
       "      <th>41</th>\n",
       "      <td>Python</td>\n",
       "      <td>69</td>\n",
       "    </tr>\n",
       "    <tr>\n",
       "      <th>42</th>\n",
       "      <td>Java</td>\n",
       "      <td>30</td>\n",
       "    </tr>\n",
       "    <tr>\n",
       "      <th>43</th>\n",
       "      <td>Java</td>\n",
       "      <td>9</td>\n",
       "    </tr>\n",
       "    <tr>\n",
       "      <th>44</th>\n",
       "      <td>Python</td>\n",
       "      <td>26</td>\n",
       "    </tr>\n",
       "    <tr>\n",
       "      <th>45</th>\n",
       "      <td>Python</td>\n",
       "      <td>40</td>\n",
       "    </tr>\n",
       "    <tr>\n",
       "      <th>46</th>\n",
       "      <td>Python</td>\n",
       "      <td>12</td>\n",
       "    </tr>\n",
       "    <tr>\n",
       "      <th>47</th>\n",
       "      <td>Python</td>\n",
       "      <td>80</td>\n",
       "    </tr>\n",
       "    <tr>\n",
       "      <th>48</th>\n",
       "      <td>Python</td>\n",
       "      <td>29</td>\n",
       "    </tr>\n",
       "    <tr>\n",
       "      <th>49</th>\n",
       "      <td>C</td>\n",
       "      <td>84</td>\n",
       "    </tr>\n",
       "  </tbody>\n",
       "</table>\n",
       "</div>"
      ],
      "text/plain": [
       "        언어  점수\n",
       "0   Python  97\n",
       "1   Python  28\n",
       "2        C  33\n",
       "3        C  75\n",
       "4   Python  59\n",
       "5     Java   5\n",
       "6   Python  19\n",
       "7     Java  20\n",
       "8     Java  70\n",
       "9     Java  59\n",
       "10    Java  47\n",
       "11    Java  23\n",
       "12  Python  55\n",
       "13  Python  47\n",
       "14    Java  53\n",
       "15       C  62\n",
       "16  Python  17\n",
       "17  Python  40\n",
       "18    Java  18\n",
       "19       C  98\n",
       "20  Python  49\n",
       "21  Python  85\n",
       "22    Java  50\n",
       "23  Python  94\n",
       "24  Python  10\n",
       "25    Java   7\n",
       "26  Python   4\n",
       "27       C  86\n",
       "28       C  25\n",
       "29  Python  58\n",
       "30  Python  98\n",
       "31    Java  50\n",
       "32       C  82\n",
       "33  Python  76\n",
       "34  Python  78\n",
       "35       C  41\n",
       "36    Java  45\n",
       "37  Python  69\n",
       "38    Java  64\n",
       "39  Python  62\n",
       "40       C  44\n",
       "41  Python  69\n",
       "42    Java  30\n",
       "43    Java   9\n",
       "44  Python  26\n",
       "45  Python  40\n",
       "46  Python  12\n",
       "47  Python  80\n",
       "48  Python  29\n",
       "49       C  84"
      ]
     },
     "execution_count": 8,
     "metadata": {},
     "output_type": "execute_result"
    }
   ],
   "source": [
    "quiz_2_data"
   ]
  },
  {
   "cell_type": "markdown",
   "id": "32d5b885",
   "metadata": {},
   "source": [
    "#### (1)\n",
    "'언어' 컬럼의 도수와 상대도수를 계산하시오."
   ]
  },
  {
   "cell_type": "code",
   "execution_count": 9,
   "id": "74b50e9a",
   "metadata": {},
   "outputs": [
    {
     "data": {
      "text/plain": [
       "언어\n",
       "Python    25\n",
       "Java      15\n",
       "C         10\n",
       "Name: count, dtype: int64"
      ]
     },
     "execution_count": 9,
     "metadata": {},
     "output_type": "execute_result"
    }
   ],
   "source": [
    "quiz_2_data[\"언어\"].value_counts()"
   ]
  },
  {
   "cell_type": "code",
   "execution_count": 10,
   "id": "45cf8d4b",
   "metadata": {},
   "outputs": [
    {
     "data": {
      "text/html": [
       "<div>\n",
       "<style scoped>\n",
       "    .dataframe tbody tr th:only-of-type {\n",
       "        vertical-align: middle;\n",
       "    }\n",
       "\n",
       "    .dataframe tbody tr th {\n",
       "        vertical-align: top;\n",
       "    }\n",
       "\n",
       "    .dataframe thead th {\n",
       "        text-align: right;\n",
       "    }\n",
       "</style>\n",
       "<table border=\"1\" class=\"dataframe\">\n",
       "  <thead>\n",
       "    <tr style=\"text-align: right;\">\n",
       "      <th></th>\n",
       "      <th>도수</th>\n",
       "      <th>상대도수</th>\n",
       "    </tr>\n",
       "  </thead>\n",
       "  <tbody>\n",
       "    <tr>\n",
       "      <th>0</th>\n",
       "      <td>25</td>\n",
       "      <td>0.5</td>\n",
       "    </tr>\n",
       "    <tr>\n",
       "      <th>1</th>\n",
       "      <td>15</td>\n",
       "      <td>0.3</td>\n",
       "    </tr>\n",
       "    <tr>\n",
       "      <th>2</th>\n",
       "      <td>10</td>\n",
       "      <td>0.2</td>\n",
       "    </tr>\n",
       "  </tbody>\n",
       "</table>\n",
       "</div>"
      ],
      "text/plain": [
       "   도수  상대도수\n",
       "0  25   0.5\n",
       "1  15   0.3\n",
       "2  10   0.2"
      ]
     },
     "execution_count": 10,
     "metadata": {},
     "output_type": "execute_result"
    }
   ],
   "source": [
    "quiz_2_1_answers = {\n",
    "    '도수': [25, 15, 10],\n",
    "    '상대도수': [0.5, 0.3, 0.2]\n",
    "}\n",
    "\n",
    "pd.DataFrame(quiz_2_1_answers)"
   ]
  },
  {
   "cell_type": "markdown",
   "id": "6d179c2c",
   "metadata": {},
   "source": [
    "#### (2)\n",
    "이 회사는 파이썬 사용자를 우대하기 때문에, '언어'에 따른 가중치를 다음과 같이 두고 있다.\n",
    "\n",
    "```python\n",
    "weight = {\n",
    "    'Python': 1.2,\n",
    "    'Java': 0.9,\n",
    "    'C': 0.5\n",
    "}\n",
    "```\n",
    "\n",
    "전체 응시자의 점수에 대한 평균과 가중평균을 각각 구하시오."
   ]
  },
  {
   "cell_type": "markdown",
   "id": "5d907b64",
   "metadata": {},
   "source": [
    "---"
   ]
  },
  {
   "cell_type": "code",
   "execution_count": null,
   "id": "cf7a2a41",
   "metadata": {},
   "outputs": [],
   "source": [
    "weight = {\n",
    "    'Python': 1.2,\n",
    "     'Java': 0.9,\n",
    "     'C': 0.5\n",
    "} #언어별 가중치\n",
    "\n",
    "quiz_2_2_answers = {\n",
    "    '평균': quiz_2_data['점수'].mean(),\n",
    "    '가중평균': \n",
    "}\n",
    "\n",
    "for key, value in quiz_2_2_answers.items():\n",
    "    print(f\"{key}: {round(value, 2)}\")"
   ]
  },
  {
   "cell_type": "markdown",
   "id": "f3932263",
   "metadata": {},
   "source": [
    "### 3.\n",
    "\n",
    "K대학교에서는 다음과 같은 기준으로 상대평가하여 학점을 매긴다.\n",
    "\n",
    "|등급|비율|\n",
    "|:---:|:---:|\n",
    "|A|35%|\n",
    "|B|35%|\n",
    "|F|30%|\n",
    "\n",
    "어떤 전공 강의를 듣는 학생들 45명의 점수가 다음과 같이 산출되었다."
   ]
  },
  {
   "cell_type": "code",
   "execution_count": 12,
   "id": "15bec4f1",
   "metadata": {
    "ExecuteTime": {
     "end_time": "2023-11-27T10:47:54.060416Z",
     "start_time": "2023-11-27T10:47:54.047850Z"
    }
   },
   "outputs": [
    {
     "data": {
      "text/plain": [
       "array([99.69, 95.68, 86.94, 63.31, 88.61, 50.7 , 93.58, 95.07, 97.54,\n",
       "       69.04, 90.89, 96.9 , 70.8 , 86.13, 84.76, 75.18, 67.87, 79.74,\n",
       "       81.36, 72.94, 92.57, 68.  , 67.9 , 72.  , 54.82, 75.7 , 94.95,\n",
       "       94.98, 84.21, 65.16, 62.3 , 73.54, 80.45, 96.99, 56.99, 82.31,\n",
       "       70.75, 80.8 , 62.16, 68.12, 58.87, 67.87, 69.52, 86.73, 58.4 ])"
      ]
     },
     "execution_count": 12,
     "metadata": {},
     "output_type": "execute_result"
    }
   ],
   "source": [
    "quiz_3_data"
   ]
  },
  {
   "cell_type": "code",
   "execution_count": 13,
   "id": "1b305a5c",
   "metadata": {},
   "outputs": [
    {
     "data": {
      "text/plain": [
       "array([50.7 , 54.82, 56.99, 58.4 , 58.87, 62.16, 62.3 , 63.31, 65.16,\n",
       "       67.87, 67.87, 67.9 , 68.  , 68.12, 69.04, 69.52, 70.75, 70.8 ,\n",
       "       72.  , 72.94, 73.54, 75.18, 75.7 , 79.74, 80.45, 80.8 , 81.36,\n",
       "       82.31, 84.21, 84.76, 86.13, 86.73, 86.94, 88.61, 90.89, 92.57,\n",
       "       93.58, 94.95, 94.98, 95.07, 95.68, 96.9 , 96.99, 97.54, 99.69])"
      ]
     },
     "execution_count": 13,
     "metadata": {},
     "output_type": "execute_result"
    }
   ],
   "source": [
    "quiz_3_data.sort()\n",
    "quiz_3_data"
   ]
  },
  {
   "cell_type": "code",
   "execution_count": 15,
   "id": "1fec6796",
   "metadata": {},
   "outputs": [
    {
     "name": "stdout",
     "output_type": "stream",
     "text": [
      "84.54\n",
      "68.304\n"
     ]
    }
   ],
   "source": [
    "print(np.percentile(quiz_3_data, 65))\n",
    "print(np.percentile(quiz_3_data, 30))"
   ]
  },
  {
   "cell_type": "markdown",
   "id": "20ec0194",
   "metadata": {},
   "source": [
    "#### (1)\n",
    "각 등급에서 가장 낮은 점수를 가진 학생을 '수문장'이라고 부른다고 하자. A등급과 B등급의 '수문장'의 점수를 구하시오."
   ]
  },
  {
   "cell_type": "code",
   "execution_count": 16,
   "id": "3ffa17dc",
   "metadata": {},
   "outputs": [
    {
     "name": "stdout",
     "output_type": "stream",
     "text": [
      "A등급 수문장: 84.76점\n",
      "B등급 수문장: 69.04점\n"
     ]
    }
   ],
   "source": [
    "quiz_3_1_answers = {\n",
    "    'A등급 수문장': 84.76,\n",
    "    'B등급 수문장': 69.04\n",
    "}\n",
    "\n",
    "for key, value in quiz_3_1_answers.items():\n",
    "    print(f\"{key}: {value}점\")"
   ]
  },
  {
   "cell_type": "markdown",
   "id": "04a6cda2",
   "metadata": {},
   "source": [
    "#### (2)\n",
    "응급한 전염병의 사유로 정상적인 수업 진행이 어려워지면서, K대학교에서는 상대평가를 대신해 절대평가 성적 산출을 시행하기로 하였다.\n",
    "\n",
    "|등급|점수|\n",
    "|:---:|:---:|\n",
    "|A|90점 이상|\n",
    "|B|80점 이상 90점 미만|\n",
    "|C|70점 이상 80점 미만|\n",
    "|D|60점 이상 70점 미만|\n",
    "|F|60점 미만|\n",
    "\n",
    "절대평가를 시행할 때 각 등급에 대한 도수분포표와 히스토그램을 그리시오."
   ]
  },
  {
   "cell_type": "code",
   "execution_count": 17,
   "id": "815e6cc4",
   "metadata": {},
   "outputs": [
    {
     "data": {
      "text/plain": [
       "[11, 10, 8, 11, 5]"
      ]
     },
     "execution_count": 17,
     "metadata": {},
     "output_type": "execute_result"
    }
   ],
   "source": [
    "freq = [0,0,0,0,0]\n",
    "for i in quiz_3_data:\n",
    "    if i < 60:\n",
    "        freq[4] += 1\n",
    "    elif i >= 60 and i <70:\n",
    "        freq[3] += 1\n",
    "    elif i >= 70 and i <80:\n",
    "        freq[2] += 1\n",
    "    elif i >= 80 and i <90:\n",
    "        freq[1] += 1\n",
    "    else:\n",
    "        freq[0] += 1\n",
    "\n",
    "freq"
   ]
  },
  {
   "cell_type": "code",
   "execution_count": 18,
   "id": "977a4102",
   "metadata": {},
   "outputs": [
    {
     "data": {
      "text/html": [
       "<div>\n",
       "<style scoped>\n",
       "    .dataframe tbody tr th:only-of-type {\n",
       "        vertical-align: middle;\n",
       "    }\n",
       "\n",
       "    .dataframe tbody tr th {\n",
       "        vertical-align: top;\n",
       "    }\n",
       "\n",
       "    .dataframe thead th {\n",
       "        text-align: right;\n",
       "    }\n",
       "</style>\n",
       "<table border=\"1\" class=\"dataframe\">\n",
       "  <thead>\n",
       "    <tr style=\"text-align: right;\">\n",
       "      <th></th>\n",
       "      <th>도수</th>\n",
       "    </tr>\n",
       "    <tr>\n",
       "      <th>계급</th>\n",
       "      <th></th>\n",
       "    </tr>\n",
       "  </thead>\n",
       "  <tbody>\n",
       "    <tr>\n",
       "      <th>A</th>\n",
       "      <td>11</td>\n",
       "    </tr>\n",
       "    <tr>\n",
       "      <th>B</th>\n",
       "      <td>10</td>\n",
       "    </tr>\n",
       "    <tr>\n",
       "      <th>C</th>\n",
       "      <td>8</td>\n",
       "    </tr>\n",
       "    <tr>\n",
       "      <th>D</th>\n",
       "      <td>11</td>\n",
       "    </tr>\n",
       "    <tr>\n",
       "      <th>F</th>\n",
       "      <td>5</td>\n",
       "    </tr>\n",
       "  </tbody>\n",
       "</table>\n",
       "</div>"
      ],
      "text/plain": [
       "    도수\n",
       "계급    \n",
       "A   11\n",
       "B   10\n",
       "C    8\n",
       "D   11\n",
       "F    5"
      ]
     },
     "execution_count": 18,
     "metadata": {},
     "output_type": "execute_result"
    }
   ],
   "source": [
    "# 도수분포표\n",
    "# bins_range = [0] + [i for i in range(60, 101, 10)] #등급 기준\n",
    "\n",
    "freq_class = ['A', 'B', 'C', 'D', 'F']\n",
    "his = pd.DataFrame({\n",
    "    '계급': freq_class,\n",
    "    '도수': freq\n",
    "}).set_index('계급')\n",
    "his"
   ]
  },
  {
   "cell_type": "code",
   "execution_count": null,
   "id": "06ceb9d9",
   "metadata": {},
   "outputs": [],
   "source": [
    "# 히스토그램\n",
    "\n",
    "plt.xticks(bins_range)\n",
    "plt.show()"
   ]
  },
  {
   "cell_type": "markdown",
   "id": "0ce4376a",
   "metadata": {},
   "source": [
    "#### (3)\n",
    "K대학교에서는 평점을 매길 때 다음과 같은 가중치를 적용한다.\n",
    "\n",
    "|등급|가중치|\n",
    "|:---:|:---:|\n",
    "|A|4.5|\n",
    "|B|3.5|\n",
    "|C|2.5|\n",
    "|D|1.5|\n",
    "|F|0|\n",
    "\n",
    "(1)에서의 상대평가안과 (2)에서의 절대평가안에 대하여, 전체 학생들의 평점의 평균을 각각 계산하시오."
   ]
  },
  {
   "cell_type": "code",
   "execution_count": null,
   "id": "2feb6657",
   "metadata": {},
   "outputs": [],
   "source": [
    "\n",
    "\n",
    "\n",
    "quiz_3_3_answers = {\n",
    "    '상대평가': ,\n",
    "    '절대평가': \n",
    "}\n",
    "\n",
    "for key, value in quiz_3_3_answers.items():\n",
    "    print(f\"{key}: {round(value, 2)}\")"
   ]
  }
 ],
 "metadata": {
  "kernelspec": {
   "display_name": "Python 3 (ipykernel)",
   "language": "python",
   "name": "python3"
  },
  "language_info": {
   "codemirror_mode": {
    "name": "ipython",
    "version": 3
   },
   "file_extension": ".py",
   "mimetype": "text/x-python",
   "name": "python",
   "nbconvert_exporter": "python",
   "pygments_lexer": "ipython3",
   "version": "3.9.13"
  }
 },
 "nbformat": 4,
 "nbformat_minor": 5
}
