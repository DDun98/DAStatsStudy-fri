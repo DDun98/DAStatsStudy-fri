{
  "cells": [
    {
      "cell_type": "markdown",
      "id": "b454ee65",
      "metadata": {
        "id": "b454ee65"
      },
      "source": [
        "# 통계 스터디 Quiz\n",
        "\n",
        "- 일시: 2023.01.25(목)\n",
        "- 범위: 6장\n",
        "- 출제: 조동인"
      ]
    },
    {
      "cell_type": "code",
      "execution_count": 6,
      "id": "13e763e9",
      "metadata": {
        "id": "13e763e9"
      },
      "outputs": [],
      "source": [
        "import pandas as pd\n",
        "import numpy as np\n",
        "from scipy import stats"
      ]
    },
    {
      "cell_type": "markdown",
      "id": "2418a243",
      "metadata": {
        "id": "2418a243"
      },
      "source": [
        "---"
      ]
    },
    {
      "cell_type": "markdown",
      "id": "1737aba6",
      "metadata": {
        "id": "1737aba6"
      },
      "source": [
        "### 1.\n",
        "\n",
        "하나둘은행은 창구에서 고객의 대기 시간이 2500초를 넘으면 고객의 불만이 높아진다고 한다. 하나둘은행은 고객의 대기 시간을 7번 측정하여 다음과 같은 결과를 얻었다. 모든 답안은 문장으로 서술하라.\n",
        "\n",
        "[2610, 2750, 2420, 2510, 2540, 2490, 2680]"
      ]
    },
    {
      "cell_type": "markdown",
      "id": "b4a9eb56",
      "metadata": {
        "id": "b4a9eb56"
      },
      "source": [
        "#### (1)\n",
        "\n",
        "고객 대기 시간이 평균 2500초를 넘는다고 할 수 있는가를 검정하기 위한 가설 귀무가설(H0)와 대립가설(H1)을 설정하라.(주관식) **[10점]**"
      ]
    },
    {
      "cell_type": "code",
      "execution_count": 13,
      "id": "2924ab48",
      "metadata": {
        "colab": {
          "base_uri": "https://localhost:8080/"
        },
        "id": "2924ab48",
        "outputId": "5eddfeb4-fbf4-4800-a0a9-c97cf78031a5"
      },
      "outputs": [
        {
          "output_type": "stream",
          "name": "stdout",
          "text": [
            "귀무가설(H0): 고객 대기 시간이 평균 2500초를 넘지 않는다.\n",
            "대립가설(H1): 고객 대기 시간이 평균 2500초를 넘는다.\n"
          ]
        }
      ],
      "source": [
        "H0 = \"고객 대기 시간이 평균 2500초를 넘지 않는다.\"\n",
        "H1 = \"고객 대기 시간이 평균 2500초를 넘는다.\"\n",
        "print(\"귀무가설(H0):\", H0)\n",
        "print(\"대립가설(H1):\", H1)"
      ]
    },
    {
      "cell_type": "markdown",
      "id": "bf82c2fc",
      "metadata": {
        "id": "bf82c2fc"
      },
      "source": [
        "#### (2)\n",
        "\n",
        "유의수준 0.05에서 가설검정을 진행하라.  **[20점]**"
      ]
    },
    {
      "cell_type": "code",
      "execution_count": 14,
      "id": "b26419d7",
      "metadata": {
        "colab": {
          "base_uri": "https://localhost:8080/"
        },
        "id": "b26419d7",
        "outputId": "76517b33-5db6-4fcc-d4af-71bb4e899f61"
      },
      "outputs": [
        {
          "output_type": "stream",
          "name": "stdout",
          "text": [
            "x< 2401.7265218817524\n",
            "x> 2598.2734781182476\n",
            "고객의 대기 시간이 평균 2500초를 넘지 않는다.\n"
          ]
        }
      ],
      "source": [
        "wait_times = [2610, 2750, 2420, 2510, 2540, 2490, 2680]\n",
        "w_std = np.std(wait_times)\n",
        "w_mean = np.mean(wait_times)\n",
        "print('x<',2500-(2.44)*w_std/np.sqrt(7))\n",
        "print('x>',2500+(2.44)*w_std/np.sqrt(7))\n",
        "answer = '고객의 대기 시간이 평균 2500초를 넘지 않는다.'\n",
        "print(answer)\n"
      ]
    },
    {
      "cell_type": "markdown",
      "id": "35081da6",
      "metadata": {
        "id": "35081da6"
      },
      "source": [
        "#### (3)\n",
        "\n",
        "유의수준 0.1에서 가설검정을 진행하라.  **[20점]**"
      ]
    },
    {
      "cell_type": "code",
      "execution_count": 16,
      "id": "9eb89c77",
      "metadata": {
        "colab": {
          "base_uri": "https://localhost:8080/"
        },
        "id": "9eb89c77",
        "outputId": "85628cef-dafe-465b-8de6-5a54097f0171"
      },
      "outputs": [
        {
          "output_type": "stream",
          "name": "stdout",
          "text": [
            "x< 2421.8645296928685\n",
            "x> 2578.1354703071315\n",
            "고객 대기 시간이 평균 2500초를 넘지 않는다.\n"
          ]
        }
      ],
      "source": [
        "wait_times = [2610, 2750, 2420, 2510, 2540, 2490, 2680]\n",
        "\n",
        "print('x<',2500-(1.94)*w_std/np.sqrt(7))\n",
        "print('x>',2500+(1.94)*w_std/np.sqrt(7))\n",
        "\n",
        "answer = H0\n",
        "print(answer)"
      ]
    },
    {
      "cell_type": "markdown",
      "id": "aca1b47f",
      "metadata": {
        "id": "aca1b47f"
      },
      "source": [
        "---"
      ]
    },
    {
      "cell_type": "markdown",
      "id": "6c2e8165",
      "metadata": {
        "id": "6c2e8165"
      },
      "source": [
        "### 2.\n",
        "\n",
        "서로 독립인 두 집단에 대해 얻어진 표본값이 다음과 같다. 이에 대한 두 가설을 검정하라. <b>[30점]</b>\n",
        "\n",
        "모집단1: [16,21,12,24,22,17,19,17,25,28], 모집단2:[23,31,13,19,23,17,28,26,28,25]\n",
        "\n",
        "H0: 모집단1의 평균+1은 모집단2의 평균과 같다\n",
        "\n",
        "H1: 모집단1의 평균+1은 모집단2의 평균과 다르다"
      ]
    },
    {
      "cell_type": "code",
      "execution_count": 22,
      "id": "dbfc0dcd",
      "metadata": {
        "colab": {
          "base_uri": "https://localhost:8080/"
        },
        "id": "dbfc0dcd",
        "outputId": "25bc7d1c-dc1a-450b-b940-89ba1ffe3ad2"
      },
      "outputs": [
        {
          "output_type": "stream",
          "name": "stdout",
          "text": [
            "20.1 23.3\n",
            "귀무가설을 기각하고, 대립가설을 채택한다. 모집단1의 평균+1은 모집단2의 평균과 다르다\n"
          ]
        }
      ],
      "source": [
        "# 각 모집단의 데이터\n",
        "pop1 = [16,21,12,24,22,17,19,17,25,28]\n",
        "pop2 = [23,31,13,19,23,17,28,26,28,25]\n",
        "\n",
        "\n",
        "print(np.mean(pop1), np.mean(pop2))\n",
        "answer=\"귀무가설을 기각하고, 대립가설을 채택한다. 모집단1의 평균+1은 모집단2의 평균과 다르다\"\n",
        "print(answer)\n"
      ]
    },
    {
      "cell_type": "markdown",
      "id": "941233fa",
      "metadata": {
        "id": "941233fa"
      },
      "source": [
        "---"
      ]
    },
    {
      "cell_type": "markdown",
      "id": "2d1d3ac6",
      "metadata": {
        "id": "2d1d3ac6"
      },
      "source": [
        "### 3.\n",
        "\n",
        "맞벌이 부부들의 여가 시간 만족도 조사를 위해 여성 근로자 100명, 남성 근로자 100명을 표본으로 얻었다.\n",
        "\n",
        "남성 근로자들 100명 중에 여가 시간을 만족하는 사람은 56명, 여성 100명 중에는 40명이 만족한다고 할 때, 맞벌이 여성 근로자가 남성에 비해 만족도가 낮은지 가설검정하라. <b>[20점]</b>"
      ]
    },
    {
      "cell_type": "code",
      "execution_count": 4,
      "id": "f2fc6bff",
      "metadata": {
        "colab": {
          "base_uri": "https://localhost:8080/"
        },
        "id": "f2fc6bff",
        "outputId": "a9f2d863-e30b-4070-b42a-a9b58da999fb"
      },
      "outputs": [
        {
          "output_type": "stream",
          "name": "stdout",
          "text": [
            "유의수준을 0.05로 설정했을 때를 기준으로 귀무가설 기각, 따라서 맞벌이 여성 근로자들의 여가 시간 만족도가 남성 근로자들과 차이가 있다.\n"
          ]
        }
      ],
      "source": [
        "from statsmodels.stats.proportion import proportions_ztest\n",
        "\n",
        "\n",
        "from statsmodels.stats.proportion import proportions_ztest\n",
        "\n",
        "# 데이터 입력\n",
        "female_satisfied = 40\n",
        "female = 100\n",
        "\n",
        "count_male_satisfied = 56\n",
        "male = 100\n",
        "\n",
        "stat, pval = proportions_ztest([female_satisfied, count_male_satisfied], [female, male])\n",
        "alpha = 0.05\n",
        "\n",
        "if pval < alpha:\n",
        "    pass\n",
        "else:\n",
        "    print('유의수준 0.05에서 귀무가설을 기각하지 못합니다. 따라서 맞벌이 여성 근로자들의 여가 시간 만족도가 남성 근로자들과 차이가 없다고 할 수 있습니다.')\n",
        "\n",
        "\n",
        "H0 = \"맞벌이 여성 근로자들의 여가 시간 만족도가 남성 근로자들과 차이가 없다.\"\n",
        "H1 = \"맞벌이 여성 근로자들의 여가 시간 만족도가 남성 근로자들과 차이가 있다.\"\n",
        "\n",
        "answer=\"유의수준을 0.05로 설정했을 때를 기준으로 귀무가설 기각, 따라서 맞벌이 여성 근로자들의 여가 시간 만족도가 남성 근로자들과 차이가 있다.\"\n",
        "print(answer)\n"
      ]
    }
  ],
  "metadata": {
    "kernelspec": {
      "display_name": "Python 3 (ipykernel)",
      "language": "python",
      "name": "python3"
    },
    "language_info": {
      "codemirror_mode": {
        "name": "ipython",
        "version": 3
      },
      "file_extension": ".py",
      "mimetype": "text/x-python",
      "name": "python",
      "nbconvert_exporter": "python",
      "pygments_lexer": "ipython3",
      "version": "3.9.13"
    },
    "toc": {
      "base_numbering": 1,
      "nav_menu": {},
      "number_sections": false,
      "sideBar": true,
      "skip_h1_title": false,
      "title_cell": "Table of Contents",
      "title_sidebar": "Contents",
      "toc_cell": false,
      "toc_position": {},
      "toc_section_display": true,
      "toc_window_display": false
    },
    "colab": {
      "provenance": []
    }
  },
  "nbformat": 4,
  "nbformat_minor": 5
}