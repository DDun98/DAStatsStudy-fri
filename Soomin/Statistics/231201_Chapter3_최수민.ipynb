{
  "cells": [
    {
      "cell_type": "markdown",
      "id": "b454ee65",
      "metadata": {
        "id": "b454ee65"
      },
      "source": [
        "# 통계 스터디 Quiz\n",
        "\n",
        "- 일시: 2023.12.01(금) 19:00\n",
        "- 범위: 3장\n",
        "- 출제: 이우진"
      ]
    },
    {
      "cell_type": "code",
      "execution_count": 1,
      "id": "f2c665e8",
      "metadata": {
        "ExecuteTime": {
          "end_time": "2023-11-27T13:21:38.428395Z",
          "start_time": "2023-11-27T13:21:38.401336Z"
        },
        "colab": {
          "base_uri": "https://localhost:8080/"
        },
        "id": "f2c665e8",
        "outputId": "ce8d289f-a8e3-49f2-f401-b7d0bf9f134b"
      },
      "outputs": [
        {
          "output_type": "stream",
          "name": "stdout",
          "text": [
            "Mounted at /content/drive\n"
          ]
        }
      ],
      "source": [
        "from google.colab import drive\n",
        "drive.mount('/content/drive')\n",
        "import pandas as pd\n",
        "import numpy as np\n",
        "from scipy import stats\n",
        "import pickle"
      ]
    },
    {
      "cell_type": "code",
      "execution_count": 2,
      "id": "cd11cfbc",
      "metadata": {
        "ExecuteTime": {
          "end_time": "2023-11-27T13:21:39.311604Z",
          "start_time": "2023-11-27T13:21:39.282099Z"
        },
        "id": "cd11cfbc"
      },
      "outputs": [],
      "source": [
        "with open('/content/drive/MyDrive/chapter_3.pkl', 'rb') as file:\n",
        "    chapter_3 = pickle.load(file)\n",
        "\n",
        "quiz_2_data = chapter_3['quiz_2']\n",
        "quiz_3_data = chapter_3['quiz_3']"
      ]
    },
    {
      "cell_type": "markdown",
      "id": "2418a243",
      "metadata": {
        "id": "2418a243"
      },
      "source": [
        "---"
      ]
    },
    {
      "cell_type": "markdown",
      "id": "1737aba6",
      "metadata": {
        "id": "1737aba6"
      },
      "source": [
        "### 1.\n",
        "\n",
        "연 2회 시행되고 만점이 100점인 자격증 시험이 있다.\n",
        "\n",
        "- 1회차 시험의 성적 자료는 평균 70점, 표준편차 10점의 정규분포를 따른다.\n",
        "- 2회차 시험의 성적 자료는 평균 60점, 표준편차 15점의 정규분포를 따른다."
      ]
    },
    {
      "cell_type": "markdown",
      "id": "bf82c2fc",
      "metadata": {
        "id": "bf82c2fc"
      },
      "source": [
        "#### (1)\n",
        "\n",
        "Z점수는 해당 회차의 모집단에 대해 정규화한 점수를 의미한다. 각 회차에서 만점자의 Z점수를 구하시오."
      ]
    },
    {
      "cell_type": "code",
      "execution_count": 4,
      "id": "5ffe7bcf",
      "metadata": {
        "id": "5ffe7bcf",
        "colab": {
          "base_uri": "https://localhost:8080/"
        },
        "outputId": "f918827e-c059-4a1d-b74a-637590eaff73"
      },
      "outputs": [
        {
          "output_type": "stream",
          "name": "stdout",
          "text": [
            "1회자 만점자 Z점수: 0.5\n",
            "2회자 만점자 Z점수: -0.333\n"
          ]
        }
      ],
      "source": [
        "answers = {\n",
        "    '1회자 만점자 Z점수': (70-65)/10,\n",
        "    '2회자 만점자 Z점수': (60-65)/15\n",
        "}\n",
        "\n",
        "for key, value in answers.items():\n",
        "    print(f\"{key}: {round(value, 3)}\")"
      ]
    },
    {
      "cell_type": "markdown",
      "id": "3c010dec",
      "metadata": {
        "id": "3c010dec"
      },
      "source": [
        "#### (2)\n",
        "\n",
        "각 회차에서 60점 이상을 기록할 확률을 구하시오."
      ]
    },
    {
      "cell_type": "code",
      "execution_count": 7,
      "id": "7d97b06d",
      "metadata": {
        "id": "7d97b06d",
        "colab": {
          "base_uri": "https://localhost:8080/"
        },
        "outputId": "0a95a3a3-3447-421e-abd3-db2d744c8fee"
      },
      "outputs": [
        {
          "output_type": "stream",
          "name": "stdout",
          "text": [
            "1회차 확률: 0.159\n",
            "2회차 확률: 0.5\n"
          ]
        }
      ],
      "source": [
        "#확률계산은 stats.norm.cdf를 사용하고, (몇 점 , 평균값, 표준편차)를 이용하여 구한다.\n",
        "#어떤 코드를 사용할지 알려주면 좋을듯! 미리\n",
        "\n",
        "prob1 = stats.norm.cdf(60,70,10)\n",
        "prob2 = stats.norm.cdf(60,60,15)\n",
        "\n",
        "answers = {\n",
        "    '1회차 확률':prob1,\n",
        "    '2회차 확률':prob2\n",
        "}\n",
        "\n",
        "for key, value in answers.items():\n",
        "    print(f\"{key}: {round(value, 3)}\")"
      ]
    },
    {
      "cell_type": "markdown",
      "id": "9a0bb882",
      "metadata": {
        "id": "9a0bb882"
      },
      "source": [
        "#### (3)\n",
        "\n",
        "상위 20%에 해당하는 응시자만 합격이라고 할 때, 각 회차의 합격 기준 점수를 구하시오."
      ]
    },
    {
      "cell_type": "code",
      "execution_count": null,
      "id": "63c5f91e",
      "metadata": {
        "id": "63c5f91e"
      },
      "outputs": [],
      "source": [
        "#표준정규분포 이용해서 z값으로 상위 20%의 값을 찾는 건지?\n",
        "\n",
        "\n",
        "answers = {\n",
        "    '1회차 합격 기준 점수': ,\n",
        "    '2회차 합격 기준 점수':\n",
        "}\n",
        "\n",
        "for key, value in answers.items():\n",
        "    print(f\"{key}: {round(value, 2)}점\")"
      ]
    },
    {
      "cell_type": "markdown",
      "id": "aca1b47f",
      "metadata": {
        "id": "aca1b47f"
      },
      "source": [
        "---"
      ]
    },
    {
      "cell_type": "markdown",
      "id": "6c2e8165",
      "metadata": {
        "id": "6c2e8165"
      },
      "source": [
        "### 2.\n",
        "\n",
        "어떤 IT 기업에서 채용을 위한 코딩테스트를 진행했다. 이 기업의 인사 팀은 응시자의 MBTI 중 '사고(T)'의 비율과 코딩테스트 점수 간의 관계를 분석하는 프로젝트를 시행하고자 한다."
      ]
    },
    {
      "cell_type": "code",
      "execution_count": null,
      "id": "0af8820b",
      "metadata": {
        "ExecuteTime": {
          "end_time": "2023-11-27T13:21:44.762298Z",
          "start_time": "2023-11-27T13:21:44.727869Z"
        },
        "id": "0af8820b",
        "outputId": "74a8e8a8-02d0-4eb3-b3af-2f60da67730b"
      },
      "outputs": [
        {
          "data": {
            "text/html": [
              "<div>\n",
              "<style scoped>\n",
              "    .dataframe tbody tr th:only-of-type {\n",
              "        vertical-align: middle;\n",
              "    }\n",
              "\n",
              "    .dataframe tbody tr th {\n",
              "        vertical-align: top;\n",
              "    }\n",
              "\n",
              "    .dataframe thead th {\n",
              "        text-align: right;\n",
              "    }\n",
              "</style>\n",
              "<table border=\"1\" class=\"dataframe\">\n",
              "  <thead>\n",
              "    <tr style=\"text-align: right;\">\n",
              "      <th></th>\n",
              "      <th>사고(T) 비율</th>\n",
              "      <th>점수</th>\n",
              "    </tr>\n",
              "  </thead>\n",
              "  <tbody>\n",
              "    <tr>\n",
              "      <th>0</th>\n",
              "      <td>0.051380</td>\n",
              "      <td>58.027610</td>\n",
              "    </tr>\n",
              "    <tr>\n",
              "      <th>1</th>\n",
              "      <td>0.284721</td>\n",
              "      <td>58.694412</td>\n",
              "    </tr>\n",
              "    <tr>\n",
              "      <th>2</th>\n",
              "      <td>0.500000</td>\n",
              "      <td>72.000000</td>\n",
              "    </tr>\n",
              "    <tr>\n",
              "      <th>3</th>\n",
              "      <td>0.500000</td>\n",
              "      <td>69.000000</td>\n",
              "    </tr>\n",
              "    <tr>\n",
              "      <th>4</th>\n",
              "      <td>0.101264</td>\n",
              "      <td>70.025271</td>\n",
              "    </tr>\n",
              "    <tr>\n",
              "      <th>...</th>\n",
              "      <td>...</td>\n",
              "      <td>...</td>\n",
              "    </tr>\n",
              "    <tr>\n",
              "      <th>295</th>\n",
              "      <td>0.500000</td>\n",
              "      <td>71.000000</td>\n",
              "    </tr>\n",
              "    <tr>\n",
              "      <th>296</th>\n",
              "      <td>0.500000</td>\n",
              "      <td>88.000000</td>\n",
              "    </tr>\n",
              "    <tr>\n",
              "      <th>297</th>\n",
              "      <td>0.500000</td>\n",
              "      <td>89.000000</td>\n",
              "    </tr>\n",
              "    <tr>\n",
              "      <th>298</th>\n",
              "      <td>0.500000</td>\n",
              "      <td>71.000000</td>\n",
              "    </tr>\n",
              "    <tr>\n",
              "      <th>299</th>\n",
              "      <td>0.262774</td>\n",
              "      <td>59.255490</td>\n",
              "    </tr>\n",
              "  </tbody>\n",
              "</table>\n",
              "<p>300 rows × 2 columns</p>\n",
              "</div>"
            ],
            "text/plain": [
              "     사고(T) 비율         점수\n",
              "0    0.051380  58.027610\n",
              "1    0.284721  58.694412\n",
              "2    0.500000  72.000000\n",
              "3    0.500000  69.000000\n",
              "4    0.101264  70.025271\n",
              "..        ...        ...\n",
              "295  0.500000  71.000000\n",
              "296  0.500000  88.000000\n",
              "297  0.500000  89.000000\n",
              "298  0.500000  71.000000\n",
              "299  0.262774  59.255490\n",
              "\n",
              "[300 rows x 2 columns]"
            ]
          },
          "execution_count": 4,
          "metadata": {},
          "output_type": "execute_result"
        }
      ],
      "source": [
        "quiz_2_data"
      ]
    },
    {
      "cell_type": "markdown",
      "id": "d60d8e88",
      "metadata": {
        "id": "d60d8e88"
      },
      "source": [
        "#### (1)\n",
        "\n",
        "응시자의 사고 비율과 코딩테스트 점수 사이의 공분산을 구하시오."
      ]
    },
    {
      "cell_type": "code",
      "execution_count": 9,
      "id": "1e2f80e8",
      "metadata": {
        "id": "1e2f80e8",
        "colab": {
          "base_uri": "https://localhost:8080/"
        },
        "outputId": "43570e9c-cc1b-4208-a0b1-85b7bd74af76"
      },
      "outputs": [
        {
          "output_type": "stream",
          "name": "stdout",
          "text": [
            "공분산: 0.942\n"
          ]
        }
      ],
      "source": [
        "answer = np.cov(quiz_2_data['사고(T) 비율'], quiz_2_data['점수'])[0,1]\n",
        "\n",
        "print(f\"공분산: {np.round(answer, 3)}\")"
      ]
    },
    {
      "cell_type": "markdown",
      "id": "728b90aa",
      "metadata": {
        "id": "728b90aa"
      },
      "source": [
        "#### (2)\n",
        "\n",
        "응시자의 사고 비율과 코딩테스트 점수 사이의 피어슨 상관계수를 구하시오."
      ]
    },
    {
      "cell_type": "code",
      "execution_count": 31,
      "id": "7c76d950",
      "metadata": {
        "id": "7c76d950",
        "colab": {
          "base_uri": "https://localhost:8080/"
        },
        "outputId": "5e7853c9-df24-4831-8d66-6d58e416ab47"
      },
      "outputs": [
        {
          "output_type": "stream",
          "name": "stdout",
          "text": [
            "피어슨 상관계수: 0.436\n"
          ]
        }
      ],
      "source": [
        "from scipy.stats import pearsonr #scipy.stats의 피어슨 상관계수 사용방법, [0]을 하지않으면 유의확률값까지 같이 나옴\n",
        "\n",
        "answer = pearsonr(quiz_2_data['사고(T) 비율'],quiz_2_data['점수'])[0]\n",
        "\n",
        "print(f\"피어슨 상관계수: {np.round(answer, 3)}\")"
      ]
    },
    {
      "cell_type": "markdown",
      "id": "5d907b64",
      "metadata": {
        "id": "5d907b64"
      },
      "source": [
        "---"
      ]
    },
    {
      "cell_type": "markdown",
      "id": "f3932263",
      "metadata": {
        "id": "f3932263"
      },
      "source": [
        "### 3.\n",
        "\n",
        "IT 취준생 100명에게 Python과 Java 사용 여부에 대한 설문을 진행한 결과가 다음과 같다."
      ]
    },
    {
      "cell_type": "code",
      "execution_count": null,
      "id": "51227ee7",
      "metadata": {
        "ExecuteTime": {
          "end_time": "2023-11-27T13:21:50.285221Z",
          "start_time": "2023-11-27T13:21:50.260258Z"
        },
        "id": "51227ee7",
        "outputId": "8d1d67a9-d344-431f-d514-36e907d5cf49"
      },
      "outputs": [
        {
          "data": {
            "text/html": [
              "<div>\n",
              "<style scoped>\n",
              "    .dataframe tbody tr th:only-of-type {\n",
              "        vertical-align: middle;\n",
              "    }\n",
              "\n",
              "    .dataframe tbody tr th {\n",
              "        vertical-align: top;\n",
              "    }\n",
              "\n",
              "    .dataframe thead th {\n",
              "        text-align: right;\n",
              "    }\n",
              "</style>\n",
              "<table border=\"1\" class=\"dataframe\">\n",
              "  <thead>\n",
              "    <tr style=\"text-align: right;\">\n",
              "      <th></th>\n",
              "      <th>Python</th>\n",
              "      <th>Java</th>\n",
              "    </tr>\n",
              "  </thead>\n",
              "  <tbody>\n",
              "    <tr>\n",
              "      <th>0</th>\n",
              "      <td>X</td>\n",
              "      <td>O</td>\n",
              "    </tr>\n",
              "    <tr>\n",
              "      <th>1</th>\n",
              "      <td>X</td>\n",
              "      <td>O</td>\n",
              "    </tr>\n",
              "    <tr>\n",
              "      <th>2</th>\n",
              "      <td>X</td>\n",
              "      <td>O</td>\n",
              "    </tr>\n",
              "    <tr>\n",
              "      <th>3</th>\n",
              "      <td>O</td>\n",
              "      <td>X</td>\n",
              "    </tr>\n",
              "    <tr>\n",
              "      <th>4</th>\n",
              "      <td>X</td>\n",
              "      <td>O</td>\n",
              "    </tr>\n",
              "    <tr>\n",
              "      <th>...</th>\n",
              "      <td>...</td>\n",
              "      <td>...</td>\n",
              "    </tr>\n",
              "    <tr>\n",
              "      <th>95</th>\n",
              "      <td>O</td>\n",
              "      <td>O</td>\n",
              "    </tr>\n",
              "    <tr>\n",
              "      <th>96</th>\n",
              "      <td>O</td>\n",
              "      <td>O</td>\n",
              "    </tr>\n",
              "    <tr>\n",
              "      <th>97</th>\n",
              "      <td>X</td>\n",
              "      <td>O</td>\n",
              "    </tr>\n",
              "    <tr>\n",
              "      <th>98</th>\n",
              "      <td>X</td>\n",
              "      <td>O</td>\n",
              "    </tr>\n",
              "    <tr>\n",
              "      <th>99</th>\n",
              "      <td>O</td>\n",
              "      <td>X</td>\n",
              "    </tr>\n",
              "  </tbody>\n",
              "</table>\n",
              "<p>100 rows × 2 columns</p>\n",
              "</div>"
            ],
            "text/plain": [
              "   Python Java\n",
              "0       X    O\n",
              "1       X    O\n",
              "2       X    O\n",
              "3       O    X\n",
              "4       X    O\n",
              "..    ...  ...\n",
              "95      O    O\n",
              "96      O    O\n",
              "97      X    O\n",
              "98      X    O\n",
              "99      O    X\n",
              "\n",
              "[100 rows x 2 columns]"
            ]
          },
          "execution_count": 7,
          "metadata": {},
          "output_type": "execute_result"
        }
      ],
      "source": [
        "quiz_3_data"
      ]
    },
    {
      "cell_type": "markdown",
      "id": "89d76688",
      "metadata": {
        "id": "89d76688"
      },
      "source": [
        "#### (1)\n",
        "\n",
        "설문에 참여한 취준생 중 임의로 선택한 한 명이 Python을 사용하면서 Java는 사용하지 않을 확률을 구하시오."
      ]
    },
    {
      "cell_type": "code",
      "source": [],
      "metadata": {
        "colab": {
          "base_uri": "https://localhost:8080/"
        },
        "id": "DaN8q0z45jmf",
        "outputId": "c05f2011-ef89-48df-c247-690e3fc83a40"
      },
      "id": "DaN8q0z45jmf",
      "execution_count": 19,
      "outputs": [
        {
          "output_type": "execute_result",
          "data": {
            "text/plain": [
              "Python  Java\n",
              "O       O       0.33\n",
              "        X       0.40\n",
              "X       O       0.24\n",
              "        X       0.03\n",
              "dtype: float64"
            ]
          },
          "metadata": {},
          "execution_count": 19
        }
      ]
    },
    {
      "cell_type": "code",
      "execution_count": 20,
      "id": "500c1393",
      "metadata": {
        "id": "500c1393",
        "colab": {
          "base_uri": "https://localhost:8080/"
        },
        "outputId": "335cf1fe-5e94-4da0-b6b6-7a4315ea5b15"
      },
      "outputs": [
        {
          "output_type": "stream",
          "name": "stdout",
          "text": [
            "확률: 0.4\n"
          ]
        }
      ],
      "source": [
        "#조건부확률 문제?\n",
        "#Python으로 먼저 그룹화하여, Java를 택한 사람의 사이즈를 볼 수 있다. 그리고 quiz_3_data의 전체 갯수로 나누어 비율을 구한다.\n",
        "\n",
        "answer = quiz_3_data.groupby(['Python','Java']).size().div(len(quiz_3_data))[1]\n",
        "\n",
        "print(f\"확률: {np.round(answer, 3)}\")"
      ]
    },
    {
      "cell_type": "markdown",
      "id": "3c5e75af",
      "metadata": {
        "id": "3c5e75af"
      },
      "source": [
        "#### (2)\n",
        "\n",
        "설문에 참여한 취준생 중 임의로 선택한 한 명이 Python을 사용하는 사람일 때, Java를 사용하지 않을 확률을 구하시오."
      ]
    },
    {
      "cell_type": "code",
      "execution_count": 30,
      "id": "a974fb53",
      "metadata": {
        "id": "a974fb53",
        "colab": {
          "base_uri": "https://localhost:8080/"
        },
        "outputId": "113a726b-596b-4b9e-c5e6-f3092febad9f"
      },
      "outputs": [
        {
          "output_type": "stream",
          "name": "stdout",
          "text": [
            "확률: 0.548\n"
          ]
        }
      ],
      "source": [
        "python = len(quiz_3_data[quiz_3_data['Python']=='O'])\n",
        "jp = len(quiz_3_data[(quiz_3_data['Python']=='O') & (quiz_3_data['Java']=='X')])\n",
        "\n",
        "answer = jp/python\n",
        "\n",
        "print(f\"확률: {np.round(answer, 3)}\")"
      ]
    },
    {
      "cell_type": "code",
      "source": [],
      "metadata": {
        "id": "bCnm1lik6_Zm"
      },
      "id": "bCnm1lik6_Zm",
      "execution_count": 29,
      "outputs": []
    }
  ],
  "metadata": {
    "kernelspec": {
      "display_name": "Python 3 (ipykernel)",
      "language": "python",
      "name": "python3"
    },
    "language_info": {
      "codemirror_mode": {
        "name": "ipython",
        "version": 3
      },
      "file_extension": ".py",
      "mimetype": "text/x-python",
      "name": "python",
      "nbconvert_exporter": "python",
      "pygments_lexer": "ipython3",
      "version": "3.9.16"
    },
    "colab": {
      "provenance": []
    }
  },
  "nbformat": 4,
  "nbformat_minor": 5
}