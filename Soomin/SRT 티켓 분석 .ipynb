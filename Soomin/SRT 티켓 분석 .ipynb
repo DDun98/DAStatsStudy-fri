{
 "cells": [
  {
   "cell_type": "code",
   "execution_count": 133,
   "id": "adc65741",
   "metadata": {},
   "outputs": [
    {
     "name": "stdout",
     "output_type": "stream",
     "text": [
      "Requirement already satisfied: koreanize-matplotlib in c:\\users\\82103\\anaconda3\\lib\\site-packages (0.1.1)\n",
      "Requirement already satisfied: matplotlib in c:\\users\\82103\\anaconda3\\lib\\site-packages (from koreanize-matplotlib) (3.7.2)\n",
      "Requirement already satisfied: contourpy>=1.0.1 in c:\\users\\82103\\anaconda3\\lib\\site-packages (from matplotlib->koreanize-matplotlib) (1.0.5)\n",
      "Requirement already satisfied: cycler>=0.10 in c:\\users\\82103\\anaconda3\\lib\\site-packages (from matplotlib->koreanize-matplotlib) (0.11.0)\n",
      "Requirement already satisfied: fonttools>=4.22.0 in c:\\users\\82103\\anaconda3\\lib\\site-packages (from matplotlib->koreanize-matplotlib) (4.25.0)\n",
      "Requirement already satisfied: kiwisolver>=1.0.1 in c:\\users\\82103\\anaconda3\\lib\\site-packages (from matplotlib->koreanize-matplotlib) (1.4.4)\n",
      "Requirement already satisfied: numpy>=1.20 in c:\\users\\82103\\anaconda3\\lib\\site-packages (from matplotlib->koreanize-matplotlib) (1.24.3)\n",
      "Requirement already satisfied: packaging>=20.0 in c:\\users\\82103\\anaconda3\\lib\\site-packages (from matplotlib->koreanize-matplotlib) (23.1)\n",
      "Requirement already satisfied: pillow>=6.2.0 in c:\\users\\82103\\anaconda3\\lib\\site-packages (from matplotlib->koreanize-matplotlib) (9.4.0)\n",
      "Requirement already satisfied: pyparsing<3.1,>=2.3.1 in c:\\users\\82103\\anaconda3\\lib\\site-packages (from matplotlib->koreanize-matplotlib) (3.0.9)\n",
      "Requirement already satisfied: python-dateutil>=2.7 in c:\\users\\82103\\anaconda3\\lib\\site-packages (from matplotlib->koreanize-matplotlib) (2.8.2)\n",
      "Requirement already satisfied: six>=1.5 in c:\\users\\82103\\anaconda3\\lib\\site-packages (from python-dateutil>=2.7->matplotlib->koreanize-matplotlib) (1.16.0)\n"
     ]
    }
   ],
   "source": [
    "#라이브러리 import\n",
    "\n",
    "!pip install koreanize-matplotlib\n",
    "import lxml\n",
    "from bs4 import BeautifulSoup\n",
    "import pandas as pd\n",
    "import requests\n",
    "import pprint\n",
    "import json\n",
    "import seaborn as sns\n",
    "import matplotlib.pyplot as plt\n",
    "import koreanize_matplotlib\n",
    "\n",
    "# url 입력, url1은 발매채널별 승차권 현황, url2는 SR운영역 승차권 발매 현황, URL3은 연도별 SR승차권 발매현황, URL4는 특실/일반실 승차인원\n",
    "url1 = 'https://apis.data.go.kr/B553912/tk_sales/v1/channel_sales?serviceKey=1bVt7XCloZptrTwPRfarbdvxEDoRb1WeHHMuuqkVGHEKIr83gR4I15YQhuXkxNo7QW3PigOT3%2BnsuLi4Mt9dMg%3D%3D&page=1&perPage=20000&cond%5BRUN_YMD%3A%3ALT%5D=20231231&cond%5BRUN_YMD%3A%3ALTE%5D=20231231&cond%5BRUN_YMD%3A%3AGT%5D=20221231&cond%5BRUN_YMD%3A%3AGTE%5D=20221231'\n",
    "url2 = 'https://apis.data.go.kr/B553912/tk_sales/v1/srt_station_sales?serviceKey=1bVt7XCloZptrTwPRfarbdvxEDoRb1WeHHMuuqkVGHEKIr83gR4I15YQhuXkxNo7QW3PigOT3%2BnsuLi4Mt9dMg%3D%3D&page=1&perPage=20000&cond%5BRUN_YMD%3A%3ALT%5D=20231231&cond%5BRUN_YMD%3A%3ALTE%5D=20231231&cond%5BRUN_YMD%3A%3AGT%5D=20221231&cond%5BRUN_YMD%3A%3AGTE%5D=20221231'\n",
    "url3 = 'https://apis.data.go.kr/B553912/tk_sales/v1/yearly_sales?serviceKey=1bVt7XCloZptrTwPRfarbdvxEDoRb1WeHHMuuqkVGHEKIr83gR4I15YQhuXkxNo7QW3PigOT3%2BnsuLi4Mt9dMg%3D%3D&page=1&perPage=20000cond%5BRUN_YR%3A%3ALT%5D=2023&cond%5BRUN_YR%3A%3ALTE%5D=2023&cond%5BRUN_YR%3A%3AGT%5D=2021&cond%5BRUN_YR%3A%3AGTE%5D=2021'\n",
    "url4 = 'https://apis.data.go.kr/B553912/tk_sales/v1/room_class_passengers?serviceKey=1bVt7XCloZptrTwPRfarbdvxEDoRb1WeHHMuuqkVGHEKIr83gR4I15YQhuXkxNo7QW3PigOT3%2BnsuLi4Mt9dMg%3D%3D&page=1&perPage=20000&cond%5BRUN_YM%3A%3ALT%5D=202312&cond%5BRUN_YM%3A%3ALTE%5D=202312&cond%5BRUN_YM%3A%3AGT%5D=202301&cond%5BRUN_YM%3A%3AGTE%5D=202301'\n",
    "url5 = 'https://apis.data.go.kr/B553912/srt_passenger/v1/station_passengers?serviceKey=1bVt7XCloZptrTwPRfarbdvxEDoRb1WeHHMuuqkVGHEKIr83gR4I15YQhuXkxNo7QW3PigOT3%252BnsuLi4Mt9dMg%253D%253D&page=1&perPage=20000&cond%5BRUN_YM%3A%3ALT%5D=202312&cond%5BRUN_YM%3A%3ALTE%5D=202312&cond%5BRUN_YM%3A%3AGT%5D=202301&cond%5BRUN_YM%3A%3AGTE%5D=202212'\n",
    "\n",
    "li = [url1,url2,url3,url4,url5]\n",
    "dfs = []\n",
    "# url 불러오기\n",
    "for i in li:\n",
    "    response = requests.get(i)\n",
    "    contents = response.text\n",
    "    json_ob = json.loads(contents)\n",
    "    data = json_ob['data']\n",
    "    df = pd.json_normalize(data)\n",
    "    dfs.append(df)\n",
    "\n",
    "by_channel = dfs[0]\n",
    "by_station = dfs[1]\n",
    "by_year = dfs[2]\n",
    "by_room = dfs[3] \n",
    "stop_station = dfs[4]"
   ]
  },
  {
   "cell_type": "code",
   "execution_count": 139,
   "id": "4dc1cf0d",
   "metadata": {},
   "outputs": [],
   "source": [
    "#데이터 열 이름 바꾸기\n",
    "\n",
    "by_channel = by_channel.rename(columns={'PRT_CMPTN_QNTY':'인쇄완료수량',\n",
    "                          'RFND_QNTY':'환불수',\n",
    "                          'ROUTE_NM':'노선명',\n",
    "                          'RUN_YMD':'운행일자',\n",
    "                          'SELLNG_QNTY':'발매수량',\n",
    "                          'SELLNG_WICKET_KND_CD':'발매창구종류코드',\n",
    "                          'SELLNG_WICKET_KND_NM':'발매창구종류명',\n",
    "                          'SELLNG_YMD':'발매일자'})\n",
    "\n",
    "by_station = by_station.rename(columns={'PRT_CMPTN_QNTY':'인쇄완료수량',\n",
    "                          'RFND_QNTY':'환불수',\n",
    "                          'ROUTE_NM':'노선명',\n",
    "                          'RUN_YMD':'운행일자',\n",
    "                          'SELLNG_QNTY':'발매수량',\n",
    "                          'SELLNG_STN_NM':'발매역명',\n",
    "                          'SELLNG_YMD':'발매일자',\n",
    "                          'SELLNG_STN_CD':'발매역코드'})\n",
    "\n",
    "by_year = by_year.rename(columns={'PRT_CMPTN_QNTY':'인쇄완료수량',\n",
    "                       'RFND_QNTY':'환불수',\n",
    "                       'ROUTE_NM':'노선명',\n",
    "                        'RUN_YR':'운행년도',\n",
    "                       'SELLNG_QNTY':'발매수량'})\n",
    "\n",
    "by_room = by_room.rename(columns={'PSRM_GRD_CD':'객실등급코드',\n",
    "                        'PSRM_GRD_NM':'객실등급명',\n",
    "                        'ROUTE_NM':'노선명',\n",
    "                        'RUN_YM':'운행연월',\n",
    "                        'TKCAR_NMPR_CNT':'승차인원수'})"
   ]
  },
  {
   "cell_type": "code",
   "execution_count": 123,
   "id": "bdf87b69",
   "metadata": {},
   "outputs": [
    {
     "data": {
      "text/html": [
       "<div>\n",
       "<style scoped>\n",
       "    .dataframe tbody tr th:only-of-type {\n",
       "        vertical-align: middle;\n",
       "    }\n",
       "\n",
       "    .dataframe tbody tr th {\n",
       "        vertical-align: top;\n",
       "    }\n",
       "\n",
       "    .dataframe thead th {\n",
       "        text-align: right;\n",
       "    }\n",
       "</style>\n",
       "<table border=\"1\" class=\"dataframe\">\n",
       "  <thead>\n",
       "    <tr style=\"text-align: right;\">\n",
       "      <th></th>\n",
       "      <th>인쇄완료수량</th>\n",
       "      <th>환불수</th>\n",
       "      <th>노선명</th>\n",
       "      <th>운행일자</th>\n",
       "      <th>발매수량</th>\n",
       "      <th>발매창구종류코드</th>\n",
       "      <th>발매창구종류명</th>\n",
       "      <th>발매일자</th>\n",
       "    </tr>\n",
       "  </thead>\n",
       "  <tbody>\n",
       "    <tr>\n",
       "      <th>0</th>\n",
       "      <td>5</td>\n",
       "      <td>16</td>\n",
       "      <td>경부선</td>\n",
       "      <td>20230101</td>\n",
       "      <td>21</td>\n",
       "      <td>0011</td>\n",
       "      <td>역</td>\n",
       "      <td>20221201</td>\n",
       "    </tr>\n",
       "    <tr>\n",
       "      <th>1</th>\n",
       "      <td>0</td>\n",
       "      <td>3</td>\n",
       "      <td>경부선</td>\n",
       "      <td>20230101</td>\n",
       "      <td>3</td>\n",
       "      <td>0027</td>\n",
       "      <td>철도공사 자회사 위탁운영역</td>\n",
       "      <td>20221201</td>\n",
       "    </tr>\n",
       "    <tr>\n",
       "      <th>2</th>\n",
       "      <td>2</td>\n",
       "      <td>0</td>\n",
       "      <td>경부선</td>\n",
       "      <td>20230101</td>\n",
       "      <td>2</td>\n",
       "      <td>0036</td>\n",
       "      <td>현금ATM</td>\n",
       "      <td>20221201</td>\n",
       "    </tr>\n",
       "    <tr>\n",
       "      <th>3</th>\n",
       "      <td>3972</td>\n",
       "      <td>4329</td>\n",
       "      <td>경부선</td>\n",
       "      <td>20230101</td>\n",
       "      <td>8315</td>\n",
       "      <td>0077</td>\n",
       "      <td>스마트폰</td>\n",
       "      <td>20221201</td>\n",
       "    </tr>\n",
       "    <tr>\n",
       "      <th>4</th>\n",
       "      <td>146</td>\n",
       "      <td>138</td>\n",
       "      <td>경부선</td>\n",
       "      <td>20230101</td>\n",
       "      <td>291</td>\n",
       "      <td>0085</td>\n",
       "      <td>INTERNET</td>\n",
       "      <td>20221201</td>\n",
       "    </tr>\n",
       "    <tr>\n",
       "      <th>...</th>\n",
       "      <td>...</td>\n",
       "      <td>...</td>\n",
       "      <td>...</td>\n",
       "      <td>...</td>\n",
       "      <td>...</td>\n",
       "      <td>...</td>\n",
       "      <td>...</td>\n",
       "      <td>...</td>\n",
       "    </tr>\n",
       "    <tr>\n",
       "      <th>19995</th>\n",
       "      <td>2</td>\n",
       "      <td>0</td>\n",
       "      <td>경부선</td>\n",
       "      <td>20230319</td>\n",
       "      <td>2</td>\n",
       "      <td>0036</td>\n",
       "      <td>현금ATM</td>\n",
       "      <td>20230305</td>\n",
       "    </tr>\n",
       "    <tr>\n",
       "      <th>19996</th>\n",
       "      <td>1</td>\n",
       "      <td>1</td>\n",
       "      <td>경부선</td>\n",
       "      <td>20230319</td>\n",
       "      <td>2</td>\n",
       "      <td>0037</td>\n",
       "      <td>Tablet(자동발매기)</td>\n",
       "      <td>20230305</td>\n",
       "    </tr>\n",
       "    <tr>\n",
       "      <th>19997</th>\n",
       "      <td>1181</td>\n",
       "      <td>1024</td>\n",
       "      <td>경부선</td>\n",
       "      <td>20230319</td>\n",
       "      <td>2216</td>\n",
       "      <td>0077</td>\n",
       "      <td>스마트폰</td>\n",
       "      <td>20230305</td>\n",
       "    </tr>\n",
       "    <tr>\n",
       "      <th>19998</th>\n",
       "      <td>32</td>\n",
       "      <td>8</td>\n",
       "      <td>경부선</td>\n",
       "      <td>20230319</td>\n",
       "      <td>41</td>\n",
       "      <td>0085</td>\n",
       "      <td>INTERNET</td>\n",
       "      <td>20230305</td>\n",
       "    </tr>\n",
       "    <tr>\n",
       "      <th>19999</th>\n",
       "      <td>7</td>\n",
       "      <td>2</td>\n",
       "      <td>호남선</td>\n",
       "      <td>20230319</td>\n",
       "      <td>9</td>\n",
       "      <td>0011</td>\n",
       "      <td>역</td>\n",
       "      <td>20230305</td>\n",
       "    </tr>\n",
       "  </tbody>\n",
       "</table>\n",
       "<p>20000 rows × 8 columns</p>\n",
       "</div>"
      ],
      "text/plain": [
       "       인쇄완료수량   환불수  노선명      운행일자  발매수량 발매창구종류코드         발매창구종류명      발매일자\n",
       "0           5    16  경부선  20230101    21     0011               역  20221201\n",
       "1           0     3  경부선  20230101     3     0027  철도공사 자회사 위탁운영역  20221201\n",
       "2           2     0  경부선  20230101     2     0036           현금ATM  20221201\n",
       "3        3972  4329  경부선  20230101  8315     0077            스마트폰  20221201\n",
       "4         146   138  경부선  20230101   291     0085        INTERNET  20221201\n",
       "...       ...   ...  ...       ...   ...      ...             ...       ...\n",
       "19995       2     0  경부선  20230319     2     0036           현금ATM  20230305\n",
       "19996       1     1  경부선  20230319     2     0037   Tablet(자동발매기)  20230305\n",
       "19997    1181  1024  경부선  20230319  2216     0077            스마트폰  20230305\n",
       "19998      32     8  경부선  20230319    41     0085        INTERNET  20230305\n",
       "19999       7     2  호남선  20230319     9     0011               역  20230305\n",
       "\n",
       "[20000 rows x 8 columns]"
      ]
     },
     "execution_count": 123,
     "metadata": {},
     "output_type": "execute_result"
    }
   ],
   "source": [
    "by_channel"
   ]
  },
  {
   "cell_type": "code",
   "execution_count": 140,
   "id": "2f9e59ac",
   "metadata": {},
   "outputs": [],
   "source": [
    "# 환불 퍼센트 계산과 발매일과 운행일의 차이 열 생성\n",
    "# 환불 퍼센트 계산은 미리 예매해놓고 환불하는 사람들이 있다고 해서 어느정도로 많을지 보고 싶어서,\n",
    "# 발매일과 운행일 차이열 생성은 보통 티켓이 운행일과 발매일의 몇일 차이를 두고 생성되는 지 알고 싶어서.\n",
    "\n",
    "by_channel['환불정도'] = by_channel['환불수']/by_channel['발매수량']\n",
    "by_channel['운행일자'], by_channel['발매일자'] = pd.to_datetime(by_channel['운행일자'],format='%Y%m%d'), pd.to_datetime(by_channel['발매일자'], format='%Y%m%d')\n",
    "by_channel['날짜차이'] = by_channel['운행일자'] - by_channel['발매일자']"
   ]
  },
  {
   "cell_type": "code",
   "execution_count": 80,
   "id": "52442f9d",
   "metadata": {},
   "outputs": [
    {
     "data": {
      "text/plain": [
       "<Axes: xlabel='발매창구종류명', ylabel='발매수량'>"
      ]
     },
     "execution_count": 80,
     "metadata": {},
     "output_type": "execute_result"
    },
    {
     "data": {
      "image/png": "[encoded data removed]",
      "text/plain": [
       "<Figure size 1200x600 with 1 Axes>"
      ]
     },
     "metadata": {},
     "output_type": "display_data"
    }
   ],
   "source": [
    "#가장 많이 티켓을 발매하는 곳은 어디일까? (channel)\n",
    "\n",
    "table = pd.pivot_table(by_channel,values='발매수량',index='발매창구종류명',aggfunc='sum').sort_values(ascending=False,by='발매수량')\n",
    "plt.figure(figsize=(12,6))\n",
    "sns.barplot(table, x=table.index, y='발매수량')"
   ]
  },
  {
   "cell_type": "code",
   "execution_count": 101,
   "id": "2d2bdcd4",
   "metadata": {},
   "outputs": [
    {
     "data": {
      "text/plain": [
       "([<matplotlib.patches.Wedge at 0x2083caebed0>,\n",
       "  <matplotlib.patches.Wedge at 0x2083cad3510>],\n",
       " [Text(-0.22289678843987573, 1.077180125003794, '경부선'),\n",
       "  Text(0.2228967884398756, -1.0771801250037942, '호남선')],\n",
       " [Text(-0.12158006642175037, 0.5875527954566149, '56.5%'),\n",
       "  Text(0.12158006642175032, -0.587552795456615, '43.5%')])"
      ]
     },
     "execution_count": 101,
     "metadata": {},
     "output_type": "execute_result"
    },
    {
     "data": {
      "image/png": "[encoded data removed]",
      "text/plain": [
       "<Figure size 640x480 with 1 Axes>"
      ]
     },
     "metadata": {},
     "output_type": "display_data"
    }
   ],
   "source": [
    "#가장 운행을 많이 하는 노선은 어디일까? (channel)\n",
    "\n",
    "label=['경부선','호남선']\n",
    "values=[0.56495, 0.43505]\n",
    "by_channel['노선명'].value_counts(normalize=True)\n",
    "plt.pie(values,labels=label, autopct='%.1f%%')"
   ]
  },
  {
   "cell_type": "code",
   "execution_count": 157,
   "id": "eaeac8a0",
   "metadata": {},
   "outputs": [
    {
     "data": {
      "text/plain": [
       "(array([ 0,  1,  2,  3,  4,  5,  6,  7,  8,  9, 10, 11, 12, 13, 14, 15, 16,\n",
       "        17, 18, 19, 20, 21, 22, 23, 24, 25, 26, 27, 28, 29, 30, 31]),\n",
       " [Text(0, 0, '0 days 00:00:00'),\n",
       "  Text(1, 0, '1 days 00:00:00'),\n",
       "  Text(2, 0, '2 days 00:00:00'),\n",
       "  Text(3, 0, '3 days 00:00:00'),\n",
       "  Text(4, 0, '4 days 00:00:00'),\n",
       "  Text(5, 0, '5 days 00:00:00'),\n",
       "  Text(6, 0, '6 days 00:00:00'),\n",
       "  Text(7, 0, '7 days 00:00:00'),\n",
       "  Text(8, 0, '8 days 00:00:00'),\n",
       "  Text(9, 0, '9 days 00:00:00'),\n",
       "  Text(10, 0, '10 days 00:00:00'),\n",
       "  Text(11, 0, '11 days 00:00:00'),\n",
       "  Text(12, 0, '12 days 00:00:00'),\n",
       "  Text(13, 0, '13 days 00:00:00'),\n",
       "  Text(14, 0, '14 days 00:00:00'),\n",
       "  Text(15, 0, '15 days 00:00:00'),\n",
       "  Text(16, 0, '16 days 00:00:00'),\n",
       "  Text(17, 0, '17 days 00:00:00'),\n",
       "  Text(18, 0, '18 days 00:00:00'),\n",
       "  Text(19, 0, '19 days 00:00:00'),\n",
       "  Text(20, 0, '20 days 00:00:00'),\n",
       "  Text(21, 0, '21 days 00:00:00'),\n",
       "  Text(22, 0, '22 days 00:00:00'),\n",
       "  Text(23, 0, '23 days 00:00:00'),\n",
       "  Text(24, 0, '24 days 00:00:00'),\n",
       "  Text(25, 0, '25 days 00:00:00'),\n",
       "  Text(26, 0, '26 days 00:00:00'),\n",
       "  Text(27, 0, '27 days 00:00:00'),\n",
       "  Text(28, 0, '28 days 00:00:00'),\n",
       "  Text(29, 0, '29 days 00:00:00'),\n",
       "  Text(30, 0, '30 days 00:00:00'),\n",
       "  Text(31, 0, '31 days 00:00:00')])"
      ]
     },
     "execution_count": 157,
     "metadata": {},
     "output_type": "execute_result"
    },
    {
     "data": {
      "image/png": "[encoded data removed]",
      "text/plain": [
       "<Figure size 1200x600 with 1 Axes>"
      ]
     },
     "metadata": {},
     "output_type": "display_data"
    }
   ],
   "source": [
    "#운행일과 예매일의 차이는 어느정도일까? (channel)\n",
    "\n",
    "table = by_channel['날짜차이'].value_counts(normalize=True).sort_index().reset_index()\n",
    "plt.figure(figsize=(12,6))\n",
    "sns.barplot(table, x='날짜차이', y='proportion')\n",
    "plt.xticks(rotation=45)"
   ]
  },
  {
   "cell_type": "code",
   "execution_count": 201,
   "id": "7aa21c28",
   "metadata": {},
   "outputs": [
    {
     "ename": "IndexError",
     "evalue": "single positional indexer is out-of-bounds",
     "output_type": "error",
     "traceback": [
      "\u001b[1;31m---------------------------------------------------------------------------\u001b[0m",
      "\u001b[1;31mIndexError\u001b[0m                                Traceback (most recent call last)",
      "Cell \u001b[1;32mIn[201], line 15\u001b[0m\n\u001b[0;32m     13\u001b[0m     \u001b[38;5;28;01mcontinue\u001b[39;00m\n\u001b[0;32m     14\u001b[0m \u001b[38;5;28;01melse\u001b[39;00m:\n\u001b[1;32m---> 15\u001b[0m     d \u001b[38;5;241m=\u001b[39m gyungbu[(gyungbu[\u001b[38;5;124m'\u001b[39m\u001b[38;5;124m운행일자\u001b[39m\u001b[38;5;124m'\u001b[39m]\u001b[38;5;241m==\u001b[39m\u001b[38;5;124mf\u001b[39m\u001b[38;5;124m'\u001b[39m\u001b[38;5;124m2023-\u001b[39m\u001b[38;5;132;01m{\u001b[39;00mi\u001b[38;5;132;01m}\u001b[39;00m\u001b[38;5;124m-\u001b[39m\u001b[38;5;132;01m{\u001b[39;00mj\u001b[38;5;132;01m}\u001b[39;00m\u001b[38;5;124m'\u001b[39m) \u001b[38;5;241m&\u001b[39m (gyungbu[\u001b[38;5;124m'\u001b[39m\u001b[38;5;124m발매창구종류명\u001b[39m\u001b[38;5;124m'\u001b[39m]\u001b[38;5;241m==\u001b[39m\u001b[38;5;124m'\u001b[39m\u001b[38;5;124m스마트폰\u001b[39m\u001b[38;5;124m'\u001b[39m)][\u001b[38;5;124m'\u001b[39m\u001b[38;5;124m운행일자\u001b[39m\u001b[38;5;124m'\u001b[39m]\u001b[38;5;241m.\u001b[39miloc[\u001b[38;5;241m0\u001b[39m]\n\u001b[0;32m     16\u001b[0m     r \u001b[38;5;241m=\u001b[39m gyungbu[(gyungbu[\u001b[38;5;124m'\u001b[39m\u001b[38;5;124m운행일자\u001b[39m\u001b[38;5;124m'\u001b[39m]\u001b[38;5;241m==\u001b[39m\u001b[38;5;124mf\u001b[39m\u001b[38;5;124m'\u001b[39m\u001b[38;5;124m2023-\u001b[39m\u001b[38;5;132;01m{\u001b[39;00mi\u001b[38;5;132;01m}\u001b[39;00m\u001b[38;5;124m-\u001b[39m\u001b[38;5;132;01m{\u001b[39;00mj\u001b[38;5;132;01m}\u001b[39;00m\u001b[38;5;124m'\u001b[39m) \u001b[38;5;241m&\u001b[39m (gyungbu[\u001b[38;5;124m'\u001b[39m\u001b[38;5;124m발매창구종류명\u001b[39m\u001b[38;5;124m'\u001b[39m]\u001b[38;5;241m==\u001b[39m\u001b[38;5;124m'\u001b[39m\u001b[38;5;124m스마트폰\u001b[39m\u001b[38;5;124m'\u001b[39m)][\u001b[38;5;124m'\u001b[39m\u001b[38;5;124m환불정도\u001b[39m\u001b[38;5;124m'\u001b[39m]\u001b[38;5;241m.\u001b[39mmean()\n\u001b[0;32m     17\u001b[0m     t \u001b[38;5;241m=\u001b[39m gyungbu[(gyungbu[\u001b[38;5;124m'\u001b[39m\u001b[38;5;124m운행일자\u001b[39m\u001b[38;5;124m'\u001b[39m]\u001b[38;5;241m==\u001b[39m\u001b[38;5;124mf\u001b[39m\u001b[38;5;124m'\u001b[39m\u001b[38;5;124m2023-\u001b[39m\u001b[38;5;132;01m{\u001b[39;00mi\u001b[38;5;132;01m}\u001b[39;00m\u001b[38;5;124m-\u001b[39m\u001b[38;5;132;01m{\u001b[39;00mj\u001b[38;5;132;01m}\u001b[39;00m\u001b[38;5;124m'\u001b[39m) \u001b[38;5;241m&\u001b[39m (gyungbu[\u001b[38;5;124m'\u001b[39m\u001b[38;5;124m발매창구종류명\u001b[39m\u001b[38;5;124m'\u001b[39m]\u001b[38;5;241m==\u001b[39m\u001b[38;5;124m'\u001b[39m\u001b[38;5;124m스마트폰\u001b[39m\u001b[38;5;124m'\u001b[39m)][\u001b[38;5;124m'\u001b[39m\u001b[38;5;124m발매수량\u001b[39m\u001b[38;5;124m'\u001b[39m]\u001b[38;5;241m.\u001b[39msum()\n",
      "File \u001b[1;32m~\\anaconda3\\Lib\\site-packages\\pandas\\core\\indexing.py:1103\u001b[0m, in \u001b[0;36m_LocationIndexer.__getitem__\u001b[1;34m(self, key)\u001b[0m\n\u001b[0;32m   1100\u001b[0m axis \u001b[38;5;241m=\u001b[39m \u001b[38;5;28mself\u001b[39m\u001b[38;5;241m.\u001b[39maxis \u001b[38;5;129;01mor\u001b[39;00m \u001b[38;5;241m0\u001b[39m\n\u001b[0;32m   1102\u001b[0m maybe_callable \u001b[38;5;241m=\u001b[39m com\u001b[38;5;241m.\u001b[39mapply_if_callable(key, \u001b[38;5;28mself\u001b[39m\u001b[38;5;241m.\u001b[39mobj)\n\u001b[1;32m-> 1103\u001b[0m \u001b[38;5;28;01mreturn\u001b[39;00m \u001b[38;5;28mself\u001b[39m\u001b[38;5;241m.\u001b[39m_getitem_axis(maybe_callable, axis\u001b[38;5;241m=\u001b[39maxis)\n",
      "File \u001b[1;32m~\\anaconda3\\Lib\\site-packages\\pandas\\core\\indexing.py:1656\u001b[0m, in \u001b[0;36m_iLocIndexer._getitem_axis\u001b[1;34m(self, key, axis)\u001b[0m\n\u001b[0;32m   1653\u001b[0m     \u001b[38;5;28;01mraise\u001b[39;00m \u001b[38;5;167;01mTypeError\u001b[39;00m(\u001b[38;5;124m\"\u001b[39m\u001b[38;5;124mCannot index by location index with a non-integer key\u001b[39m\u001b[38;5;124m\"\u001b[39m)\n\u001b[0;32m   1655\u001b[0m \u001b[38;5;66;03m# validate the location\u001b[39;00m\n\u001b[1;32m-> 1656\u001b[0m \u001b[38;5;28mself\u001b[39m\u001b[38;5;241m.\u001b[39m_validate_integer(key, axis)\n\u001b[0;32m   1658\u001b[0m \u001b[38;5;28;01mreturn\u001b[39;00m \u001b[38;5;28mself\u001b[39m\u001b[38;5;241m.\u001b[39mobj\u001b[38;5;241m.\u001b[39m_ixs(key, axis\u001b[38;5;241m=\u001b[39maxis)\n",
      "File \u001b[1;32m~\\anaconda3\\Lib\\site-packages\\pandas\\core\\indexing.py:1589\u001b[0m, in \u001b[0;36m_iLocIndexer._validate_integer\u001b[1;34m(self, key, axis)\u001b[0m\n\u001b[0;32m   1587\u001b[0m len_axis \u001b[38;5;241m=\u001b[39m \u001b[38;5;28mlen\u001b[39m(\u001b[38;5;28mself\u001b[39m\u001b[38;5;241m.\u001b[39mobj\u001b[38;5;241m.\u001b[39m_get_axis(axis))\n\u001b[0;32m   1588\u001b[0m \u001b[38;5;28;01mif\u001b[39;00m key \u001b[38;5;241m>\u001b[39m\u001b[38;5;241m=\u001b[39m len_axis \u001b[38;5;129;01mor\u001b[39;00m key \u001b[38;5;241m<\u001b[39m \u001b[38;5;241m-\u001b[39mlen_axis:\n\u001b[1;32m-> 1589\u001b[0m     \u001b[38;5;28;01mraise\u001b[39;00m \u001b[38;5;167;01mIndexError\u001b[39;00m(\u001b[38;5;124m\"\u001b[39m\u001b[38;5;124msingle positional indexer is out-of-bounds\u001b[39m\u001b[38;5;124m\"\u001b[39m)\n",
      "\u001b[1;31mIndexError\u001b[0m: single positional indexer is out-of-bounds"
     ]
    }
   ],
   "source": [
    "#환불 정도 보기1(channel)\n",
    "\n",
    "gyungbu = by_channel[by_channel['노선명']=='경부선']\n",
    "honam = by_channel[by_channel['노선명']=='호남선']\n",
    "\n",
    "day = []\n",
    "refund = []\n",
    "tickets = []\n",
    "    \n",
    "for i in range(1,4):\n",
    "    for j in range(1,32):\n",
    "        if i == 2 and j >=29:\n",
    "            continue\n",
    "        else:\n",
    "            d = gyungbu[(gyungbu['운행일자']==f'2023-{i}-{j}') & (gyungbu['발매창구종류명']=='스마트폰')]['운행일자'].iloc[0]\n",
    "            r = gyungbu[(gyungbu['운행일자']==f'2023-{i}-{j}') & (gyungbu['발매창구종류명']=='스마트폰')]['환불정도'].mean()\n",
    "            t = gyungbu[(gyungbu['운행일자']==f'2023-{i}-{j}') & (gyungbu['발매창구종류명']=='스마트폰')]['발매수량'].sum()\n",
    "            day.append(d), refund.append(r), tickets.append(t)\n",
    "\n",
    "refund_gyungbu = pd.DataFrame({'일':day,\n",
    "                              '환불정도':refund,\n",
    "                              '총 티켓 수':tickets})\n",
    "#gyungbu[(gyungbu['발매창구종류명']=='스마트폰') & (gyungbu['운행일자']=='2023-1-2')]\n",
    "#plt.subplots(1,2,1)"
   ]
  },
  {
   "cell_type": "code",
   "execution_count": 183,
   "id": "1ceb1a20",
   "metadata": {},
   "outputs": [
    {
     "data": {
      "text/plain": [
       "Timestamp('2023-01-01 00:00:00')"
      ]
     },
     "execution_count": 183,
     "metadata": {},
     "output_type": "execute_result"
    }
   ],
   "source": [
    "#환불 정도 보기1(channel)\n",
    "\n",
    "gyungbu = by_channel[by_channel['노선명']=='경부선']\n",
    "honam = by_channel[by_channel['노선명']=='호남선']\n",
    "\n",
    "day = []\n",
    "refund = []\n",
    "tickets = []\n",
    "    \n",
    "for i in range(1,32):\n",
    "    d = gyungbu[(gyungbu['운행일자']==f'2023-01-{i}') & (gyungbu['발매창구종류명']=='스마트폰')]['운행일자'].iloc[0]\n",
    "    r = gyungbu[(gyungbu['운행일자']==f'2023-01-{i}') & (gyungbu['발매창구종류명']=='스마트폰')]['환불정도'].mean()\n",
    "    t = gyungbu[(gyungbu['운행일자']==f'2023-01-{i}') & (gyungbu['발매창구종류명']=='스마트폰')]['발매수량'].sum()\n",
    "    day.append(d), refund.append(r), tickets.append(t)\n",
    "\n",
    "refund_gyungbu = pd.DataFrame({'일':day,\n",
    "                              '환불정도':refund,\n",
    "                              '총 티켓 수':tickets})"
   ]
  },
  {
   "cell_type": "code",
   "execution_count": 207,
   "id": "8b74cf75",
   "metadata": {},
   "outputs": [
    {
     "data": {
      "text/plain": [
       "Timestamp('2023-01-02 00:00:00')"
      ]
     },
     "execution_count": 207,
     "metadata": {},
     "output_type": "execute_result"
    }
   ],
   "source": [
    "gyungbu[(gyungbu['운행일자']==f'2023-01-2') & (gyungbu['발매창구종류명']=='스마트폰')]['운행일자'].iloc[0]"
   ]
  },
  {
   "cell_type": "code",
   "execution_count": 119,
   "id": "d5a37dcc",
   "metadata": {},
   "outputs": [
    {
     "data": {
      "text/plain": [
       "<Axes: xlabel='발매역명', ylabel='count'>"
      ]
     },
     "execution_count": 119,
     "metadata": {},
     "output_type": "execute_result"
    },
    {
     "data": {
      "image/png": "[encoded data removed]",
      "text/plain": [
       "<Figure size 1200x600 with 1 Axes>"
      ]
     },
     "metadata": {},
     "output_type": "display_data"
    }
   ],
   "source": [
    "#발권하는 곳이 가장 많은 곳은 어디일까? (station)\n",
    "plt.figure(figsize=(12,6))\n",
    "table = by_station['발매역명'].value_counts().reset_index()\n",
    "sns.barplot(table, x='발매역명', y='count')"
   ]
  },
  {
   "cell_type": "code",
   "execution_count": null,
   "id": "72e2353d",
   "metadata": {},
   "outputs": [],
   "source": [
    "#인증키 : 1bVt7XCloZptrTwPRfarbdvxEDoRb1WeHHMuuqkVGHEKIr83gR4I15YQhuXkxNo7QW3PigOT3%2BnsuLi4Mt9dMg%3D%3D"
   ]
  },
  {
   "cell_type": "code",
   "execution_count": 124,
   "id": "8138188b",
   "metadata": {},
   "outputs": [
    {
     "data": {
      "text/html": [
       "<div>\n",
       "<style scoped>\n",
       "    .dataframe tbody tr th:only-of-type {\n",
       "        vertical-align: middle;\n",
       "    }\n",
       "\n",
       "    .dataframe tbody tr th {\n",
       "        vertical-align: top;\n",
       "    }\n",
       "\n",
       "    .dataframe thead th {\n",
       "        text-align: right;\n",
       "    }\n",
       "</style>\n",
       "<table border=\"1\" class=\"dataframe\">\n",
       "  <thead>\n",
       "    <tr style=\"text-align: right;\">\n",
       "      <th></th>\n",
       "      <th>인쇄완료수량</th>\n",
       "      <th>환불수</th>\n",
       "      <th>노선명</th>\n",
       "      <th>운행일자</th>\n",
       "      <th>발매수량</th>\n",
       "      <th>발매역코드</th>\n",
       "      <th>발매역명</th>\n",
       "      <th>발매일자</th>\n",
       "    </tr>\n",
       "  </thead>\n",
       "  <tbody>\n",
       "    <tr>\n",
       "      <th>0</th>\n",
       "      <td>1</td>\n",
       "      <td>0</td>\n",
       "      <td>경부선</td>\n",
       "      <td>20230101</td>\n",
       "      <td>1</td>\n",
       "      <td>0551</td>\n",
       "      <td>수서</td>\n",
       "      <td>20221201</td>\n",
       "    </tr>\n",
       "    <tr>\n",
       "      <th>1</th>\n",
       "      <td>1</td>\n",
       "      <td>1</td>\n",
       "      <td>경부선</td>\n",
       "      <td>20230101</td>\n",
       "      <td>2</td>\n",
       "      <td>0553</td>\n",
       "      <td>지제</td>\n",
       "      <td>20221201</td>\n",
       "    </tr>\n",
       "    <tr>\n",
       "      <th>2</th>\n",
       "      <td>5</td>\n",
       "      <td>0</td>\n",
       "      <td>호남선</td>\n",
       "      <td>20230101</td>\n",
       "      <td>5</td>\n",
       "      <td>0551</td>\n",
       "      <td>수서</td>\n",
       "      <td>20221201</td>\n",
       "    </tr>\n",
       "    <tr>\n",
       "      <th>3</th>\n",
       "      <td>2</td>\n",
       "      <td>0</td>\n",
       "      <td>경부선</td>\n",
       "      <td>20230101</td>\n",
       "      <td>2</td>\n",
       "      <td>0552</td>\n",
       "      <td>동탄</td>\n",
       "      <td>20221202</td>\n",
       "    </tr>\n",
       "    <tr>\n",
       "      <th>4</th>\n",
       "      <td>6</td>\n",
       "      <td>0</td>\n",
       "      <td>경부선</td>\n",
       "      <td>20230101</td>\n",
       "      <td>6</td>\n",
       "      <td>0553</td>\n",
       "      <td>지제</td>\n",
       "      <td>20221202</td>\n",
       "    </tr>\n",
       "    <tr>\n",
       "      <th>...</th>\n",
       "      <td>...</td>\n",
       "      <td>...</td>\n",
       "      <td>...</td>\n",
       "      <td>...</td>\n",
       "      <td>...</td>\n",
       "      <td>...</td>\n",
       "      <td>...</td>\n",
       "      <td>...</td>\n",
       "    </tr>\n",
       "    <tr>\n",
       "      <th>19995</th>\n",
       "      <td>3</td>\n",
       "      <td>1</td>\n",
       "      <td>경부선</td>\n",
       "      <td>20230717</td>\n",
       "      <td>4</td>\n",
       "      <td>0552</td>\n",
       "      <td>동탄</td>\n",
       "      <td>20230716</td>\n",
       "    </tr>\n",
       "    <tr>\n",
       "      <th>19996</th>\n",
       "      <td>8</td>\n",
       "      <td>4</td>\n",
       "      <td>경부선</td>\n",
       "      <td>20230717</td>\n",
       "      <td>12</td>\n",
       "      <td>0553</td>\n",
       "      <td>지제</td>\n",
       "      <td>20230716</td>\n",
       "    </tr>\n",
       "    <tr>\n",
       "      <th>19997</th>\n",
       "      <td>10</td>\n",
       "      <td>3</td>\n",
       "      <td>호남선</td>\n",
       "      <td>20230717</td>\n",
       "      <td>13</td>\n",
       "      <td>0551</td>\n",
       "      <td>수서</td>\n",
       "      <td>20230716</td>\n",
       "    </tr>\n",
       "    <tr>\n",
       "      <th>19998</th>\n",
       "      <td>3</td>\n",
       "      <td>2</td>\n",
       "      <td>호남선</td>\n",
       "      <td>20230717</td>\n",
       "      <td>5</td>\n",
       "      <td>0552</td>\n",
       "      <td>동탄</td>\n",
       "      <td>20230716</td>\n",
       "    </tr>\n",
       "    <tr>\n",
       "      <th>19999</th>\n",
       "      <td>2</td>\n",
       "      <td>0</td>\n",
       "      <td>호남선</td>\n",
       "      <td>20230717</td>\n",
       "      <td>2</td>\n",
       "      <td>0553</td>\n",
       "      <td>지제</td>\n",
       "      <td>20230716</td>\n",
       "    </tr>\n",
       "  </tbody>\n",
       "</table>\n",
       "<p>20000 rows × 8 columns</p>\n",
       "</div>"
      ],
      "text/plain": [
       "       인쇄완료수량  환불수  노선명      운행일자  발매수량 발매역코드 발매역명      발매일자\n",
       "0           1    0  경부선  20230101     1  0551   수서  20221201\n",
       "1           1    1  경부선  20230101     2  0553   지제  20221201\n",
       "2           5    0  호남선  20230101     5  0551   수서  20221201\n",
       "3           2    0  경부선  20230101     2  0552   동탄  20221202\n",
       "4           6    0  경부선  20230101     6  0553   지제  20221202\n",
       "...       ...  ...  ...       ...   ...   ...  ...       ...\n",
       "19995       3    1  경부선  20230717     4  0552   동탄  20230716\n",
       "19996       8    4  경부선  20230717    12  0553   지제  20230716\n",
       "19997      10    3  호남선  20230717    13  0551   수서  20230716\n",
       "19998       3    2  호남선  20230717     5  0552   동탄  20230716\n",
       "19999       2    0  호남선  20230717     2  0553   지제  20230716\n",
       "\n",
       "[20000 rows x 8 columns]"
      ]
     },
     "execution_count": 124,
     "metadata": {},
     "output_type": "execute_result"
    }
   ],
   "source": [
    "by_station"
   ]
  }
 ],
 "metadata": {
  "kernelspec": {
   "display_name": "Python 3 (ipykernel)",
   "language": "python",
   "name": "python3"
  },
  "language_info": {
   "codemirror_mode": {
    "name": "ipython",
    "version": 3
   },
   "file_extension": ".py",
   "mimetype": "text/x-python",
   "name": "python",
   "nbconvert_exporter": "python",
   "pygments_lexer": "ipython3",
   "version": "3.11.5"
  }
 },
 "nbformat": 4,
 "nbformat_minor": 5
}
