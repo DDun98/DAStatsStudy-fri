{
 "cells": [
  {
   "cell_type": "markdown",
   "id": "b454ee65",
   "metadata": {},
   "source": [
    "# 통계 스터디 Quiz\n",
    "\n",
    "- 일시: 2023.12.29(금) 19:00\n",
    "- 범위: 3장\n",
    "- 출제: 이우진"
   ]
  },
  {
   "cell_type": "code",
   "execution_count": 1,
   "id": "f2c665e8",
   "metadata": {
    "ExecuteTime": {
     "end_time": "2023-11-29T11:25:14.948576Z",
     "start_time": "2023-11-29T11:25:14.029675Z"
    }
   },
   "outputs": [],
   "source": [
    "import pandas as pd\n",
    "import numpy as np\n",
    "from scipy import stats\n",
    "import pickle"
   ]
  },
  {
   "cell_type": "code",
   "execution_count": 2,
   "id": "cd11cfbc",
   "metadata": {
    "ExecuteTime": {
     "end_time": "2023-11-29T11:25:17.582773Z",
     "start_time": "2023-11-29T11:25:17.561136Z"
    }
   },
   "outputs": [],
   "source": [
    "with open('chapter_3.pkl', 'rb') as file:\n",
    "    chapter_3 = pickle.load(file)\n",
    "\n",
    "quiz_2_data = chapter_3['quiz_2']\n",
    "quiz_3_data = chapter_3['quiz_3']"
   ]
  },
  {
   "cell_type": "markdown",
   "id": "2418a243",
   "metadata": {},
   "source": [
    "---"
   ]
  },
  {
   "cell_type": "markdown",
   "id": "1737aba6",
   "metadata": {},
   "source": [
    "### 1.\n",
    "\n",
    "연 2회 시행되고 만점이 100점인 자격증 시험이 있다.\n",
    "\n",
    "- 1회차 시험의 성적 자료는 평균 70점, 표준편차 10점의 정규분포를 따른다.\n",
    "- 2회차 시험의 성적 자료는 평균 60점, 표준편차 15점의 정규분포를 따른다."
   ]
  },
  {
   "cell_type": "markdown",
   "id": "bf82c2fc",
   "metadata": {},
   "source": [
    "#### (1)\n",
    "\n",
    "Z점수는 해당 회차의 모집단에 대해 정규화한 점수를 의미한다. 각각의 회차에서 만점자의 Z점수를 구하시오."
   ]
  },
  {
   "cell_type": "code",
   "execution_count": 3,
   "id": "11292e81",
   "metadata": {
    "ExecuteTime": {
     "end_time": "2023-11-29T11:25:19.845839Z",
     "start_time": "2023-11-29T11:25:19.816806Z"
    }
   },
   "outputs": [
    {
     "name": "stdout",
     "output_type": "stream",
     "text": [
      "1회자 만점자 Z점수: 3.0\n",
      "2회자 만점자 Z점수: 2.667\n"
     ]
    }
   ],
   "source": [
    "answers = {\n",
    "    '1회자 만점자 Z점수': (100 - 70) / 10,\n",
    "    '2회자 만점자 Z점수': (100 - 60) / 15\n",
    "}\n",
    "\n",
    "for key, value in answers.items():\n",
    "    print(f\"{key}: {round(value, 3)}\")"
   ]
  },
  {
   "cell_type": "markdown",
   "id": "2829fbfe",
   "metadata": {},
   "source": [
    "$$z = \\frac{x - \\mu}{\\sigma}$$\n",
    "\n",
    "위와 같이 모집단의 평균, 표준편차를 이용하여 정규화할 수 있다."
   ]
  },
  {
   "cell_type": "markdown",
   "id": "3c010dec",
   "metadata": {},
   "source": [
    "#### (2)\n",
    "\n",
    "각 회차에서 60점 이상을 기록할 확률을 구하시오."
   ]
  },
  {
   "cell_type": "code",
   "execution_count": 4,
   "id": "7d97b06d",
   "metadata": {
    "ExecuteTime": {
     "end_time": "2023-11-29T11:25:21.704951Z",
     "start_time": "2023-11-29T11:25:21.681617Z"
    }
   },
   "outputs": [
    {
     "name": "stdout",
     "output_type": "stream",
     "text": [
      "1회차 확률: 0.841\n",
      "2회차 확률: 0.5\n"
     ]
    }
   ],
   "source": [
    "answers = {\n",
    "    '1회차 확률': 1 - stats.norm.cdf((60 - 70) / 10),\n",
    "    '2회차 확률': 1 - stats.norm.cdf((60 - 60) / 15)\n",
    "}\n",
    "\n",
    "for key, value in answers.items():\n",
    "    print(f\"{key}: {round(value, 3)}\")"
   ]
  },
  {
   "cell_type": "markdown",
   "id": "efd446ca",
   "metadata": {},
   "source": [
    "다음의 과정을 거쳐서 해결할 수 있다.\n",
    "- 기준점인 60점을 정규화하여 Z점수를 구한다.\n",
    "- Z점수를 넣어 CDF를 구하면, 해당 회차에서 60점 **이하**를 기록할 확률을 얻게 된다. 이때 scipy의 ```stats.norm.cdf()```를 이용할 수 있다.\n",
    "- 1에서 그 값을 빼주면, 60점 이상을 기록할 확률이 된다."
   ]
  },
  {
   "cell_type": "markdown",
   "id": "9a0bb882",
   "metadata": {},
   "source": [
    "#### (3)\n",
    "\n",
    "상위 20%에 해당하는 응시자만 합격이라고 할 때, 각 회차의 합격 기준 점수를 구하시오."
   ]
  },
  {
   "cell_type": "code",
   "execution_count": 5,
   "id": "63c5f91e",
   "metadata": {
    "ExecuteTime": {
     "end_time": "2023-11-29T11:25:23.877815Z",
     "start_time": "2023-11-29T11:25:23.859881Z"
    }
   },
   "outputs": [
    {
     "name": "stdout",
     "output_type": "stream",
     "text": [
      "1회차 합격 기준 점수: 78.42점\n",
      "2회차 합격 기준 점수: 72.62점\n"
     ]
    }
   ],
   "source": [
    "answers = {\n",
    "    '1회차 합격 기준 점수': stats.norm.ppf(0.8) * 10 + 70,\n",
    "    '2회차 합격 기준 점수': stats.norm.ppf(0.8) * 15 + 60\n",
    "}\n",
    "\n",
    "for key, value in answers.items():\n",
    "    print(f\"{key}: {round(value, 2)}점\")"
   ]
  },
  {
   "cell_type": "markdown",
   "id": "477d0bac",
   "metadata": {},
   "source": [
    "(2)에서 진행한 과정을 반대로 한다고 생각하면 된다.\n",
    "- 상위 20%는 곧 하위 80%와 같다. 따라서 CDF가 $1 - 0.2 = 0.8$이 되는 지점을 찾아야 한다.\n",
    "- CDF의 역함수인 PPF를 이용하여, CDF가 0.8이 될 때의 Z점수를 구한다. 이때 scipy의 ```stats.norm.ppf()```를 이용할 수 있다.\n",
    "- 해당 Z점수를 역정규화하여 원점수를 구한다."
   ]
  },
  {
   "cell_type": "markdown",
   "id": "aca1b47f",
   "metadata": {},
   "source": [
    "---"
   ]
  },
  {
   "cell_type": "markdown",
   "id": "6c2e8165",
   "metadata": {},
   "source": [
    "### 2.\n",
    "\n",
    "어떤 IT 기업에서 채용을 위한 코딩테스트를 진행했다. 이 기업의 인사 팀은 응시자의 MBTI 중 '사고(T)'의 비율과 코딩테스트 점수 간의 관계를 분석하는 프로젝트를 시행하고자 한다."
   ]
  },
  {
   "cell_type": "code",
   "execution_count": 6,
   "id": "0af8820b",
   "metadata": {
    "ExecuteTime": {
     "end_time": "2023-11-29T11:25:44.770033Z",
     "start_time": "2023-11-29T11:25:44.737164Z"
    }
   },
   "outputs": [
    {
     "data": {
      "text/html": [
       "<div>\n",
       "<style scoped>\n",
       "    .dataframe tbody tr th:only-of-type {\n",
       "        vertical-align: middle;\n",
       "    }\n",
       "\n",
       "    .dataframe tbody tr th {\n",
       "        vertical-align: top;\n",
       "    }\n",
       "\n",
       "    .dataframe thead th {\n",
       "        text-align: right;\n",
       "    }\n",
       "</style>\n",
       "<table border=\"1\" class=\"dataframe\">\n",
       "  <thead>\n",
       "    <tr style=\"text-align: right;\">\n",
       "      <th></th>\n",
       "      <th>사고(T) 비율</th>\n",
       "      <th>점수</th>\n",
       "    </tr>\n",
       "  </thead>\n",
       "  <tbody>\n",
       "    <tr>\n",
       "      <th>0</th>\n",
       "      <td>0.051380</td>\n",
       "      <td>58.027610</td>\n",
       "    </tr>\n",
       "    <tr>\n",
       "      <th>1</th>\n",
       "      <td>0.284721</td>\n",
       "      <td>58.694412</td>\n",
       "    </tr>\n",
       "    <tr>\n",
       "      <th>2</th>\n",
       "      <td>0.500000</td>\n",
       "      <td>72.000000</td>\n",
       "    </tr>\n",
       "    <tr>\n",
       "      <th>3</th>\n",
       "      <td>0.500000</td>\n",
       "      <td>69.000000</td>\n",
       "    </tr>\n",
       "    <tr>\n",
       "      <th>4</th>\n",
       "      <td>0.101264</td>\n",
       "      <td>70.025271</td>\n",
       "    </tr>\n",
       "    <tr>\n",
       "      <th>...</th>\n",
       "      <td>...</td>\n",
       "      <td>...</td>\n",
       "    </tr>\n",
       "    <tr>\n",
       "      <th>295</th>\n",
       "      <td>0.500000</td>\n",
       "      <td>71.000000</td>\n",
       "    </tr>\n",
       "    <tr>\n",
       "      <th>296</th>\n",
       "      <td>0.500000</td>\n",
       "      <td>88.000000</td>\n",
       "    </tr>\n",
       "    <tr>\n",
       "      <th>297</th>\n",
       "      <td>0.500000</td>\n",
       "      <td>89.000000</td>\n",
       "    </tr>\n",
       "    <tr>\n",
       "      <th>298</th>\n",
       "      <td>0.500000</td>\n",
       "      <td>71.000000</td>\n",
       "    </tr>\n",
       "    <tr>\n",
       "      <th>299</th>\n",
       "      <td>0.262774</td>\n",
       "      <td>59.255490</td>\n",
       "    </tr>\n",
       "  </tbody>\n",
       "</table>\n",
       "<p>300 rows × 2 columns</p>\n",
       "</div>"
      ],
      "text/plain": [
       "     사고(T) 비율         점수\n",
       "0    0.051380  58.027610\n",
       "1    0.284721  58.694412\n",
       "2    0.500000  72.000000\n",
       "3    0.500000  69.000000\n",
       "4    0.101264  70.025271\n",
       "..        ...        ...\n",
       "295  0.500000  71.000000\n",
       "296  0.500000  88.000000\n",
       "297  0.500000  89.000000\n",
       "298  0.500000  71.000000\n",
       "299  0.262774  59.255490\n",
       "\n",
       "[300 rows x 2 columns]"
      ]
     },
     "execution_count": 6,
     "metadata": {},
     "output_type": "execute_result"
    }
   ],
   "source": [
    "quiz_2_data"
   ]
  },
  {
   "cell_type": "markdown",
   "id": "d60d8e88",
   "metadata": {},
   "source": [
    "#### (1)\n",
    "\n",
    "응시자의 사고 비율과 코딩테스트 점수 사이의 공분산을 구하시오."
   ]
  },
  {
   "cell_type": "code",
   "execution_count": 7,
   "id": "fd5a3289",
   "metadata": {
    "ExecuteTime": {
     "end_time": "2023-11-29T11:25:58.155173Z",
     "start_time": "2023-11-29T11:25:58.131889Z"
    }
   },
   "outputs": [
    {
     "data": {
      "text/html": [
       "<div>\n",
       "<style scoped>\n",
       "    .dataframe tbody tr th:only-of-type {\n",
       "        vertical-align: middle;\n",
       "    }\n",
       "\n",
       "    .dataframe tbody tr th {\n",
       "        vertical-align: top;\n",
       "    }\n",
       "\n",
       "    .dataframe thead th {\n",
       "        text-align: right;\n",
       "    }\n",
       "</style>\n",
       "<table border=\"1\" class=\"dataframe\">\n",
       "  <thead>\n",
       "    <tr style=\"text-align: right;\">\n",
       "      <th></th>\n",
       "      <th>0</th>\n",
       "      <th>1</th>\n",
       "    </tr>\n",
       "  </thead>\n",
       "  <tbody>\n",
       "    <tr>\n",
       "      <th>0</th>\n",
       "      <td>0.045128</td>\n",
       "      <td>0.942034</td>\n",
       "    </tr>\n",
       "    <tr>\n",
       "      <th>1</th>\n",
       "      <td>0.942034</td>\n",
       "      <td>103.636218</td>\n",
       "    </tr>\n",
       "  </tbody>\n",
       "</table>\n",
       "</div>"
      ],
      "text/plain": [
       "          0           1\n",
       "0  0.045128    0.942034\n",
       "1  0.942034  103.636218"
      ]
     },
     "execution_count": 7,
     "metadata": {},
     "output_type": "execute_result"
    }
   ],
   "source": [
    "pd.DataFrame(np.cov([quiz_2_data.iloc[:, 0], quiz_2_data.iloc[:, 1]]))"
   ]
  },
  {
   "cell_type": "markdown",
   "id": "a4e47712",
   "metadata": {},
   "source": [
    "numpy의 ```np.cov()```를 이용하면 위와 같이 공분산 행렬(Covariation Matrix)을 얻을 수 있다. 이때 [0, 1] 또는 [1, 0]이 공분산에 해당한다. [0, 0]은 사고(T) 비율 컬럼의 분산, [1, 1]은 점수 컬럼의 분산을 의미한다."
   ]
  },
  {
   "cell_type": "code",
   "execution_count": 8,
   "id": "eff9dc82",
   "metadata": {
    "ExecuteTime": {
     "end_time": "2023-11-29T11:26:03.518488Z",
     "start_time": "2023-11-29T11:26:03.505850Z"
    }
   },
   "outputs": [
    {
     "name": "stdout",
     "output_type": "stream",
     "text": [
      "공분산: 0.942\n"
     ]
    }
   ],
   "source": [
    "answer = np.cov([quiz_2_data.iloc[:, 0], quiz_2_data.iloc[:, 1]])[0, 1]\n",
    "print(f\"공분산: {np.round(answer, 3)}\")"
   ]
  },
  {
   "cell_type": "markdown",
   "id": "728b90aa",
   "metadata": {},
   "source": [
    "#### (2)\n",
    "\n",
    "응시자의 사고 비율과 코딩테스트 점수 사이의 피어슨 상관계수를 구하시오."
   ]
  },
  {
   "cell_type": "code",
   "execution_count": 9,
   "id": "989a2936",
   "metadata": {
    "ExecuteTime": {
     "end_time": "2023-11-29T11:26:08.836907Z",
     "start_time": "2023-11-29T11:26:08.815585Z"
    }
   },
   "outputs": [
    {
     "data": {
      "text/html": [
       "<div>\n",
       "<style scoped>\n",
       "    .dataframe tbody tr th:only-of-type {\n",
       "        vertical-align: middle;\n",
       "    }\n",
       "\n",
       "    .dataframe tbody tr th {\n",
       "        vertical-align: top;\n",
       "    }\n",
       "\n",
       "    .dataframe thead th {\n",
       "        text-align: right;\n",
       "    }\n",
       "</style>\n",
       "<table border=\"1\" class=\"dataframe\">\n",
       "  <thead>\n",
       "    <tr style=\"text-align: right;\">\n",
       "      <th></th>\n",
       "      <th>0</th>\n",
       "      <th>1</th>\n",
       "    </tr>\n",
       "  </thead>\n",
       "  <tbody>\n",
       "    <tr>\n",
       "      <th>0</th>\n",
       "      <td>1.0000</td>\n",
       "      <td>0.4356</td>\n",
       "    </tr>\n",
       "    <tr>\n",
       "      <th>1</th>\n",
       "      <td>0.4356</td>\n",
       "      <td>1.0000</td>\n",
       "    </tr>\n",
       "  </tbody>\n",
       "</table>\n",
       "</div>"
      ],
      "text/plain": [
       "        0       1\n",
       "0  1.0000  0.4356\n",
       "1  0.4356  1.0000"
      ]
     },
     "execution_count": 9,
     "metadata": {},
     "output_type": "execute_result"
    }
   ],
   "source": [
    "pd.DataFrame(np.corrcoef([quiz_2_data.iloc[:, 0], quiz_2_data.iloc[:, 1]]))"
   ]
  },
  {
   "cell_type": "markdown",
   "id": "c14b52b9",
   "metadata": {},
   "source": [
    "numpy의 ```np.corrcoef()``` 함수를 이용하면 위와 같이 상관계수 행렬을 얻을 수 있다. 이를 통해 각 컬럼들 사이의 관계를 알아볼 수 있다. 사고(T) 비율 컬럼과 점수 컬럼 사이의 피어슨 상관계수는 [0, 1] 또는 [1, 0]으로 인덱싱하면 된다."
   ]
  },
  {
   "cell_type": "code",
   "execution_count": 10,
   "id": "5b43bb51",
   "metadata": {
    "ExecuteTime": {
     "end_time": "2023-11-29T11:26:12.278685Z",
     "start_time": "2023-11-29T11:26:12.259242Z"
    }
   },
   "outputs": [
    {
     "name": "stdout",
     "output_type": "stream",
     "text": [
      "피어슨 상관계수: 0.436\n"
     ]
    }
   ],
   "source": [
    "answer = np.corrcoef([quiz_2_data.iloc[:, 0], quiz_2_data.iloc[:, 1]])[0, 1]\n",
    "print(f\"피어슨 상관계수: {np.round(answer, 3)}\")"
   ]
  },
  {
   "cell_type": "code",
   "execution_count": null,
   "id": "46bbf914",
   "metadata": {},
   "outputs": [],
   "source": [
    "from scipy.stats import pearsonr\n",
    "\n",
    "pearsonr(quiz_2_data['~~~'], quiz_2_data['~~~~'])[0]"
   ]
  },
  {
   "cell_type": "markdown",
   "id": "5d907b64",
   "metadata": {},
   "source": [
    "---"
   ]
  },
  {
   "cell_type": "markdown",
   "id": "f3932263",
   "metadata": {},
   "source": [
    "### 3.\n",
    "\n",
    "IT 취준생 100명에게 Python과 Java 사용 여부에 대한 설문을 진행한 결과가 다음과 같다."
   ]
  },
  {
   "cell_type": "code",
   "execution_count": 11,
   "id": "51227ee7",
   "metadata": {
    "ExecuteTime": {
     "end_time": "2023-11-29T11:26:17.779049Z",
     "start_time": "2023-11-29T11:26:17.754503Z"
    }
   },
   "outputs": [
    {
     "data": {
      "text/html": [
       "<div>\n",
       "<style scoped>\n",
       "    .dataframe tbody tr th:only-of-type {\n",
       "        vertical-align: middle;\n",
       "    }\n",
       "\n",
       "    .dataframe tbody tr th {\n",
       "        vertical-align: top;\n",
       "    }\n",
       "\n",
       "    .dataframe thead th {\n",
       "        text-align: right;\n",
       "    }\n",
       "</style>\n",
       "<table border=\"1\" class=\"dataframe\">\n",
       "  <thead>\n",
       "    <tr style=\"text-align: right;\">\n",
       "      <th></th>\n",
       "      <th>Python</th>\n",
       "      <th>Java</th>\n",
       "    </tr>\n",
       "  </thead>\n",
       "  <tbody>\n",
       "    <tr>\n",
       "      <th>0</th>\n",
       "      <td>X</td>\n",
       "      <td>O</td>\n",
       "    </tr>\n",
       "    <tr>\n",
       "      <th>1</th>\n",
       "      <td>X</td>\n",
       "      <td>O</td>\n",
       "    </tr>\n",
       "    <tr>\n",
       "      <th>2</th>\n",
       "      <td>X</td>\n",
       "      <td>O</td>\n",
       "    </tr>\n",
       "    <tr>\n",
       "      <th>3</th>\n",
       "      <td>O</td>\n",
       "      <td>X</td>\n",
       "    </tr>\n",
       "    <tr>\n",
       "      <th>4</th>\n",
       "      <td>X</td>\n",
       "      <td>O</td>\n",
       "    </tr>\n",
       "    <tr>\n",
       "      <th>...</th>\n",
       "      <td>...</td>\n",
       "      <td>...</td>\n",
       "    </tr>\n",
       "    <tr>\n",
       "      <th>95</th>\n",
       "      <td>O</td>\n",
       "      <td>O</td>\n",
       "    </tr>\n",
       "    <tr>\n",
       "      <th>96</th>\n",
       "      <td>O</td>\n",
       "      <td>O</td>\n",
       "    </tr>\n",
       "    <tr>\n",
       "      <th>97</th>\n",
       "      <td>X</td>\n",
       "      <td>O</td>\n",
       "    </tr>\n",
       "    <tr>\n",
       "      <th>98</th>\n",
       "      <td>X</td>\n",
       "      <td>O</td>\n",
       "    </tr>\n",
       "    <tr>\n",
       "      <th>99</th>\n",
       "      <td>O</td>\n",
       "      <td>X</td>\n",
       "    </tr>\n",
       "  </tbody>\n",
       "</table>\n",
       "<p>100 rows × 2 columns</p>\n",
       "</div>"
      ],
      "text/plain": [
       "   Python Java\n",
       "0       X    O\n",
       "1       X    O\n",
       "2       X    O\n",
       "3       O    X\n",
       "4       X    O\n",
       "..    ...  ...\n",
       "95      O    O\n",
       "96      O    O\n",
       "97      X    O\n",
       "98      X    O\n",
       "99      O    X\n",
       "\n",
       "[100 rows x 2 columns]"
      ]
     },
     "execution_count": 11,
     "metadata": {},
     "output_type": "execute_result"
    }
   ],
   "source": [
    "quiz_3_data"
   ]
  },
  {
   "cell_type": "markdown",
   "id": "89d76688",
   "metadata": {},
   "source": [
    "#### (1)\n",
    "\n",
    "설문에 참여한 취준생 중 임의로 선택한 한 명이 Python을 사용하면서 Java는 사용하지 않을 확률을 구하시오."
   ]
  },
  {
   "cell_type": "code",
   "execution_count": 12,
   "id": "55d041d9",
   "metadata": {
    "ExecuteTime": {
     "end_time": "2023-11-29T11:26:21.548056Z",
     "start_time": "2023-11-29T11:26:21.523611Z"
    }
   },
   "outputs": [
    {
     "name": "stdout",
     "output_type": "stream",
     "text": [
      "확률: 0.4\n"
     ]
    }
   ],
   "source": [
    "python_o_java_x = quiz_3_data[\n",
    "    (quiz_3_data['Python'] == 'O') & (quiz_3_data['Java'] == 'X')\n",
    "].count()[0]\n",
    "answer = python_o_java_x / quiz_3_data.count()[0]\n",
    "print(f\"확률: {np.round(answer, 3)}\")"
   ]
  },
  {
   "cell_type": "markdown",
   "id": "8e980be0",
   "metadata": {},
   "source": [
    "문제를 다음과 같은 사건 A와 사건 B의 결합확률로 이해할 수 있다.\n",
    "- 사건 A: Python을 사용한다.\n",
    "- 사건 B: Java를 사용하지 않는다.\n",
    "\n",
    "pandas의 조건 인덱싱을 활용하면 ${A}\\cap{B}$를 쉽게 구할 수 있으며, 이를 통해 확률을 도출할 수 있다."
   ]
  },
  {
   "cell_type": "markdown",
   "id": "3c5e75af",
   "metadata": {},
   "source": [
    "#### (2)\n",
    "\n",
    "설문에 참여한 취준생 중 임의로 선택한 한 명이 Python을 사용하는 사람일 때, Java를 사용하지 않을 확률을 구하시오."
   ]
  },
  {
   "cell_type": "code",
   "execution_count": 13,
   "id": "2ac7ff82",
   "metadata": {
    "ExecuteTime": {
     "end_time": "2023-11-29T11:26:30.013699Z",
     "start_time": "2023-11-29T11:26:29.998748Z"
    }
   },
   "outputs": [
    {
     "name": "stdout",
     "output_type": "stream",
     "text": [
      "확률: 0.548\n"
     ]
    }
   ],
   "source": [
    "python_o = quiz_3_data[(quiz_3_data['Python'] == 'O')].count()[0]\n",
    "answer = python_o_java_x / python_o\n",
    "print(f\"확률: {np.round(answer, 3)}\")"
   ]
  },
  {
   "cell_type": "markdown",
   "id": "07ff0029",
   "metadata": {},
   "source": [
    "이번 문제는 사건 A, 사건 B에 대한 조건부확률로 이해할 수 있다.\n",
    "\n",
    "$$P(B|A) = \\frac{P(A \\cap B)}{P(A)}$$\n",
    "\n",
    "이때 앞서 (1)에서 구한 $P(A \\cap B)$를 활용하면 된다."
   ]
  },
  {
   "cell_type": "markdown",
   "id": "6b4c33b2",
   "metadata": {},
   "source": [
    "---"
   ]
  },
  {
   "cell_type": "markdown",
   "id": "bd59f625",
   "metadata": {},
   "source": [
    "### Appendix"
   ]
  },
  {
   "cell_type": "code",
   "execution_count": 95,
   "id": "7064825f",
   "metadata": {
    "ExecuteTime": {
     "end_time": "2023-11-27T13:20:17.220049Z",
     "start_time": "2023-11-27T13:20:17.195066Z"
    }
   },
   "outputs": [],
   "source": [
    "# 2번 데이터 생성\n",
    "np.random.seed(826)\n",
    "t_ratio = 0.5 + np.random.rand(300) * 0.45 * np.random.randint(-1, 2, 300)\n",
    "coding_score = 65 + t_ratio * 20 + np.random.randint(-15, 16, 300)\n",
    "quiz_2_data = pd.DataFrame({\n",
    "    '사고(T) 비율': t_ratio,\n",
    "    '점수': coding_score\n",
    "})"
   ]
  },
  {
   "cell_type": "code",
   "execution_count": 96,
   "id": "f32cca3b",
   "metadata": {
    "ExecuteTime": {
     "end_time": "2023-11-27T13:20:17.907517Z",
     "start_time": "2023-11-27T13:20:17.874578Z"
    }
   },
   "outputs": [],
   "source": [
    "# 3번 데이터 생성\n",
    "np.random.seed(826)\n",
    "quiz_3 = [['O', 'O']] * 33 + [['O', 'X']] * 40 + [['X', 'O']] * 24 + [['X', 'X']] * 3\n",
    "np.random.shuffle(quiz_3)\n",
    "quiz_3_data = pd.DataFrame(quiz_3, columns=['Python', 'Java'])"
   ]
  },
  {
   "cell_type": "code",
   "execution_count": 104,
   "id": "fc000738",
   "metadata": {
    "ExecuteTime": {
     "end_time": "2023-11-27T13:21:18.579391Z",
     "start_time": "2023-11-27T13:21:18.561003Z"
    }
   },
   "outputs": [],
   "source": [
    "# 데이터 합쳐서 저장\n",
    "chapter_3 = {\n",
    "    'quiz_2': quiz_2_data,\n",
    "    'quiz_3': quiz_3_data\n",
    "}\n",
    "\n",
    "with open('chapter_3.pkl', 'wb') as file:\n",
    "    pickle.dump(chapter_3, file)"
   ]
  }
 ],
 "metadata": {
  "kernelspec": {
   "display_name": "Python 3 (ipykernel)",
   "language": "python",
   "name": "python3"
  },
  "language_info": {
   "codemirror_mode": {
    "name": "ipython",
    "version": 3
   },
   "file_extension": ".py",
   "mimetype": "text/x-python",
   "name": "python",
   "nbconvert_exporter": "python",
   "pygments_lexer": "ipython3",
   "version": "3.9.16"
  },
  "toc": {
   "base_numbering": 1,
   "nav_menu": {},
   "number_sections": false,
   "sideBar": true,
   "skip_h1_title": false,
   "title_cell": "Table of Contents",
   "title_sidebar": "Contents",
   "toc_cell": false,
   "toc_position": {},
   "toc_section_display": true,
   "toc_window_display": false
  }
 },
 "nbformat": 4,
 "nbformat_minor": 5
}
