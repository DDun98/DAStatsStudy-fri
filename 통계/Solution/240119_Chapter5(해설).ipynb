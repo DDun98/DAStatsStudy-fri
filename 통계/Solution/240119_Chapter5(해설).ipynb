{
 "cells": [
  {
   "cell_type": "markdown",
   "id": "b454ee65",
   "metadata": {},
   "source": [
    "# 통계 스터디 Quiz\n",
    "\n",
    "- 일시: 2023.01.12(금)\n",
    "- 범위: 5장\n",
    "- 출제: 이우진"
   ]
  },
  {
   "cell_type": "code",
   "execution_count": 1,
   "id": "13e763e9",
   "metadata": {
    "ExecuteTime": {
     "end_time": "2024-01-24T15:15:20.398397Z",
     "start_time": "2024-01-24T15:15:19.463367Z"
    }
   },
   "outputs": [],
   "source": [
    "import pandas as pd\n",
    "import numpy as np\n",
    "from scipy import stats\n",
    "import math"
   ]
  },
  {
   "cell_type": "markdown",
   "id": "2418a243",
   "metadata": {},
   "source": [
    "---"
   ]
  },
  {
   "cell_type": "markdown",
   "id": "1737aba6",
   "metadata": {},
   "source": [
    "### 1.\n",
    "\n",
    "될성부른 떡잎을 육성하고자 하는 교육기관 떡잎스쿨에서 자신들의 커리큘럼에 대한 만족 여부를 조사했다. 역대 수강생 중 150명을 임의로 선정하여 조사하였더니 55명이 만족했다는 결과를 얻었다."
   ]
  },
  {
   "cell_type": "markdown",
   "id": "b4a9eb56",
   "metadata": {},
   "source": [
    "#### (1)\n",
    "\n",
    "커리큘럼의 만족도에 대한 점추정 값을 구하시오. **[10점]**"
   ]
  },
  {
   "cell_type": "code",
   "execution_count": 2,
   "id": "2924ab48",
   "metadata": {
    "ExecuteTime": {
     "end_time": "2024-01-24T15:15:20.492887Z",
     "start_time": "2024-01-24T15:15:20.399464Z"
    }
   },
   "outputs": [
    {
     "name": "stdout",
     "output_type": "stream",
     "text": [
      "만족도: 0.367\n"
     ]
    }
   ],
   "source": [
    "answer = 55 / 150\n",
    "print(f\"만족도: {np.round(answer, 3)}\")"
   ]
  },
  {
   "cell_type": "markdown",
   "id": "0ad03dfc",
   "metadata": {},
   "source": [
    "모비율의 점추정 값은 표본비율과 같다."
   ]
  },
  {
   "cell_type": "markdown",
   "id": "bf82c2fc",
   "metadata": {},
   "source": [
    "#### (2)\n",
    "\n",
    "신뢰수준 95%에서 커리큘럼의 만족도에 대한 신뢰구간을 구하시오.  **[20점]**"
   ]
  },
  {
   "cell_type": "code",
   "execution_count": 3,
   "id": "b26419d7",
   "metadata": {
    "ExecuteTime": {
     "end_time": "2024-01-24T15:15:20.588561Z",
     "start_time": "2024-01-24T15:15:20.493876Z"
    }
   },
   "outputs": [
    {
     "name": "stdout",
     "output_type": "stream",
     "text": [
      "신뢰구간: [0.29 0.44]\n"
     ]
    }
   ],
   "source": [
    "p = 55 / 150\n",
    "sigma = np.sqrt(p * (1 - p) / 150)\n",
    "answer = stats.norm(p, sigma).interval(0.95)\n",
    "print(f\"신뢰구간: {np.round(answer, 2)}\")"
   ]
  },
  {
   "cell_type": "markdown",
   "id": "dddac306",
   "metadata": {},
   "source": [
    "표본비율을 이용하여 모비율에 대한 신뢰구간을 구할 수 있다. 이때 ```stats.norm``` 객체에 파라미터로 표본비율과 표본오차를 넣어줄 수 있다. 또한 신뢰구간을 구할 때에는 ```stats.norm.interval()``` 함수를 이용할 수 있다."
   ]
  },
  {
   "cell_type": "markdown",
   "id": "aca1b47f",
   "metadata": {},
   "source": [
    "---"
   ]
  },
  {
   "cell_type": "markdown",
   "id": "6c2e8165",
   "metadata": {},
   "source": [
    "### 2.\n",
    "\n",
    "원디두(23)씨는 IT 스타트업의 DA 직군 초봉을 알아보고자 한다. IT 스타트업에 재직 중인 DA 직군의 25명을 임의로 선정하여 커피챗을 나눠보며 초봉 자료를 수집한 결과, 평균 3200만원, 표준편차 480만원의 정규분포를 따른다는 사실을 알게 되었다."
   ]
  },
  {
   "cell_type": "markdown",
   "id": "74cf3839",
   "metadata": {},
   "source": [
    "#### (1)\n",
    "\n",
    "신뢰수준 95%에서 IT 스타트업 DA 직군 초봉에 대한 신뢰구간을 구하시오. **[20점]**"
   ]
  },
  {
   "cell_type": "code",
   "execution_count": 4,
   "id": "dbfc0dcd",
   "metadata": {
    "ExecuteTime": {
     "end_time": "2024-01-24T15:15:20.651201Z",
     "start_time": "2024-01-24T15:15:20.589807Z"
    }
   },
   "outputs": [
    {
     "name": "stdout",
     "output_type": "stream",
     "text": [
      "신뢰구간: [30118435. 33881565.]\n"
     ]
    }
   ],
   "source": [
    "mu = 32000000\n",
    "sigma = 4800000 / np.sqrt(25)\n",
    "answer = stats.norm(mu, sigma).interval(0.95)\n",
    "print(f\"신뢰구간: {np.round(answer)}\")"
   ]
  },
  {
   "cell_type": "markdown",
   "id": "b8ad3ceb",
   "metadata": {},
   "source": [
    "모평균에 대한 신뢰구간을 구하려면 표본평균과 표본오차를 ```stats.norm``` 객체에 넘겨준 뒤, ```stats.norm.interval()``` 함수를 이용한다."
   ]
  },
  {
   "cell_type": "markdown",
   "id": "9fcc8d7d",
   "metadata": {},
   "source": [
    "#### (2)\n",
    "\n",
    "2024년 최저연봉은 약 2500만원이라고 한다. 2500만원 이상 3000만원 미만에 속하는 기업에 입사하게 될 확률을 구하시오. **[20점]**"
   ]
  },
  {
   "cell_type": "code",
   "execution_count": 5,
   "id": "cb04b5e6",
   "metadata": {
    "ExecuteTime": {
     "end_time": "2024-01-24T15:15:20.729833Z",
     "start_time": "2024-01-24T15:15:20.653195Z"
    }
   },
   "outputs": [
    {
     "name": "stdout",
     "output_type": "stream",
     "text": [
      "확률: 0.019\n"
     ]
    }
   ],
   "source": [
    "answer = stats.norm(mu, sigma).cdf(30000000) - stats.norm(mu, sigma).cdf(25000000)\n",
    "print(f\"확률: {np.round(answer, 3)}\")"
   ]
  },
  {
   "cell_type": "markdown",
   "id": "6b9dd6d9",
   "metadata": {},
   "source": [
    "정규분포에서 확률을 구하려면 ```stats.norm.cdf()``` 함수를 이용할 수 있다. 이때 3000만원 미만에 속할 확률에서 2500만원 미만에 속할 확률을 빼주면, 2500만원 이상 3000만원 미만에 속하는 확률을 구할 수 있다."
   ]
  },
  {
   "cell_type": "markdown",
   "id": "941233fa",
   "metadata": {},
   "source": [
    "---"
   ]
  },
  {
   "cell_type": "markdown",
   "id": "2d1d3ac6",
   "metadata": {},
   "source": [
    "### 3.\n",
    "\n",
    "야구를 좋아하는 두인수(29)씨는 잠실구장의 진짜 주인이 누군지 가리고자 한다."
   ]
  },
  {
   "cell_type": "markdown",
   "id": "f453c991",
   "metadata": {},
   "source": [
    "#### (1)\n",
    "\n",
    "두인수 씨는 전체 야구 팬들을 대상으로 설문조사를 실시하여, LG 트윈스를 선호하는 비율을 95% 신뢰수준에서 구간추정하고자 한다. 이때 추정치의 허용오차를 5% 미만으로 하고 싶다. 몇 명의 야구팬을 대상으로 설문을 진행해야 하는가? **[25점]**"
   ]
  },
  {
   "cell_type": "code",
   "execution_count": 6,
   "id": "f2fc6bff",
   "metadata": {
    "ExecuteTime": {
     "end_time": "2024-01-24T15:15:20.841466Z",
     "start_time": "2024-01-24T15:15:20.730776Z"
    }
   },
   "outputs": [
    {
     "name": "stdout",
     "output_type": "stream",
     "text": [
      "정답: 385명\n"
     ]
    }
   ],
   "source": [
    "answer = (stats.norm.ppf(0.975) ** 2 * 0.5 * 0.5) / (0.05 ** 2)\n",
    "print(f\"정답: {math.ceil(answer)}명\")"
   ]
  },
  {
   "cell_type": "markdown",
   "id": "6feeb568",
   "metadata": {},
   "source": [
    "표본비율을 알 수 없는 경우, 0.5로 간주하여 문제를 풀어야 한다.\n",
    "\n",
    "$$z_{{\\alpha}\\over{2}}\\sqrt{{0.5 (1 - 0.5)}\\over{n}} \\ge 0.05$$"
   ]
  },
  {
   "cell_type": "markdown",
   "id": "b4aa3dce",
   "metadata": {},
   "source": [
    "#### (2)\n",
    "\n",
    "두인수 씨는 야구 커뮤니티를 통해 임의의 야구 팬 1,501명에게 설문을 받았다. 그 결과 688명이 LG 트윈스를 선호한다는 결과를 얻었다.\n",
    "\n",
    "한편, 오늘은 KBO 올스타전이 있는 날이다. 임의의 야구 팬들에 의해 잠실구장의 좌석 수 24,411석이 매진되었다고 전해진다. 이때 LG 트윈스를 선호하는 관객이 몇 명이나 있을지 알아보고 싶다. 95% 신뢰수준에서 신뢰구간을 구하시오. **[25점]**"
   ]
  },
  {
   "cell_type": "code",
   "execution_count": 7,
   "id": "a45e3644",
   "metadata": {
    "ExecuteTime": {
     "end_time": "2024-01-24T15:15:20.937127Z",
     "start_time": "2024-01-24T15:15:20.843440Z"
    }
   },
   "outputs": [
    {
     "name": "stdout",
     "output_type": "stream",
     "text": [
      "신뢰구간: [11181. 11197.]\n"
     ]
    }
   ],
   "source": [
    "p = 688 / 1501\n",
    "sigma = p * (1 - p) / 1501\n",
    "ci_lower, ci_upper = stats.norm(p, sigma).interval(0.95)\n",
    "answer = [ci_lower * 24411, ci_upper * 24411]\n",
    "print(f\"신뢰구간: {np.round(answer)}\")"
   ]
  },
  {
   "cell_type": "markdown",
   "id": "cb6a9dbe",
   "metadata": {},
   "source": [
    "모비율의 구간추정을 진행한 뒤, 점추정 값을 곱해줌으로써 새로운 표본에 대한 구간을 구할 수 있다. 단, 이 경우 같은 모집단을 두고 있는지 신중하게 접근해야 할 필요가 있을 것이다."
   ]
  }
 ],
 "metadata": {
  "kernelspec": {
   "display_name": "Python 3 (ipykernel)",
   "language": "python",
   "name": "python3"
  },
  "language_info": {
   "codemirror_mode": {
    "name": "ipython",
    "version": 3
   },
   "file_extension": ".py",
   "mimetype": "text/x-python",
   "name": "python",
   "nbconvert_exporter": "python",
   "pygments_lexer": "ipython3",
   "version": "3.9.16"
  },
  "toc": {
   "base_numbering": 1,
   "nav_menu": {},
   "number_sections": false,
   "sideBar": true,
   "skip_h1_title": false,
   "title_cell": "Table of Contents",
   "title_sidebar": "Contents",
   "toc_cell": false,
   "toc_position": {},
   "toc_section_display": true,
   "toc_window_display": false
  }
 },
 "nbformat": 4,
 "nbformat_minor": 5
}
