{
 "cells": [
  {
   "cell_type": "markdown",
   "id": "b454ee65",
   "metadata": {},
   "source": [
    "# 통계 스터디 Quiz\n",
    "\n",
    "- 일시: 2023.12.01(금) 19:00\n",
    "- 범위: 3장\n",
    "- 출제: 이우진"
   ]
  },
  {
   "cell_type": "code",
   "execution_count": 2,
   "id": "f2c665e8",
   "metadata": {
    "ExecuteTime": {
     "end_time": "2023-11-27T13:21:38.428395Z",
     "start_time": "2023-11-27T13:21:38.401336Z"
    }
   },
   "outputs": [],
   "source": [
    "import pandas as pd\n",
    "import numpy as np\n",
    "from scipy import stats\n",
    "import pickle"
   ]
  },
  {
   "cell_type": "code",
   "execution_count": 3,
   "id": "cd11cfbc",
   "metadata": {
    "ExecuteTime": {
     "end_time": "2023-11-27T13:21:39.311604Z",
     "start_time": "2023-11-27T13:21:39.282099Z"
    }
   },
   "outputs": [],
   "source": [
    "with open('chapter_3.pkl', 'rb') as file:\n",
    "    chapter_3 = pickle.load(file)\n",
    "\n",
    "quiz_2_data = chapter_3['quiz_2']\n",
    "quiz_3_data = chapter_3['quiz_3']"
   ]
  },
  {
   "cell_type": "markdown",
   "id": "2418a243",
   "metadata": {},
   "source": [
    "---"
   ]
  },
  {
   "cell_type": "markdown",
   "id": "1737aba6",
   "metadata": {},
   "source": [
    "### 1.\n",
    "\n",
    "연 2회 시행되고 만점이 100점인 자격증 시험이 있다.\n",
    "\n",
    "- 1회차 시험의 성적 자료는 평균 70점, 표준편차 10점의 정규분포를 따른다.\n",
    "- 2회차 시험의 성적 자료는 평균 60점, 표준편차 15점의 정규분포를 따른다."
   ]
  },
  {
   "cell_type": "markdown",
   "id": "bf82c2fc",
   "metadata": {},
   "source": [
    "#### (1)\n",
    "\n",
    "Z점수는 해당 회차의 모집단에 대해 정규화한 점수를 의미한다. 각 회차에서 만점자의 Z점수를 구하시오."
   ]
  },
  {
   "cell_type": "code",
   "execution_count": null,
   "id": "5ffe7bcf",
   "metadata": {},
   "outputs": [],
   "source": [
    "answers = {\n",
    "    '1회자 만점자 Z점수': ,\n",
    "    '2회자 만점자 Z점수': \n",
    "}\n",
    "\n",
    "for key, value in answers.items():\n",
    "    print(f\"{key}: {round(value, 3)}\")"
   ]
  },
  {
   "cell_type": "markdown",
   "id": "3c010dec",
   "metadata": {},
   "source": [
    "#### (2)\n",
    "\n",
    "각 회차에서 60점 이상을 기록할 확률을 구하시오."
   ]
  },
  {
   "cell_type": "code",
   "execution_count": null,
   "id": "7d97b06d",
   "metadata": {},
   "outputs": [],
   "source": [
    "answers = {\n",
    "    '1회차 확률': ,\n",
    "    '2회차 확률': \n",
    "}\n",
    "\n",
    "for key, value in answers.items():\n",
    "    print(f\"{key}: {round(value, 3)}\")"
   ]
  },
  {
   "cell_type": "markdown",
   "id": "9a0bb882",
   "metadata": {},
   "source": [
    "#### (3)\n",
    "\n",
    "상위 20%에 해당하는 응시자만 합격이라고 할 때, 각 회차의 합격 기준 점수를 구하시오."
   ]
  },
  {
   "cell_type": "code",
   "execution_count": null,
   "id": "63c5f91e",
   "metadata": {},
   "outputs": [],
   "source": [
    "answers = {\n",
    "    '1회차 합격 기준 점수': ,\n",
    "    '2회차 합격 기준 점수': \n",
    "}\n",
    "\n",
    "for key, value in answers.items():\n",
    "    print(f\"{key}: {round(value, 2)}점\")"
   ]
  },
  {
   "cell_type": "markdown",
   "id": "aca1b47f",
   "metadata": {},
   "source": [
    "---"
   ]
  },
  {
   "cell_type": "markdown",
   "id": "6c2e8165",
   "metadata": {},
   "source": [
    "### 2.\n",
    "\n",
    "어떤 IT 기업에서 채용을 위한 코딩테스트를 진행했다. 이 기업의 인사 팀은 응시자의 MBTI 중 '사고(T)'의 비율과 코딩테스트 점수 간의 관계를 분석하는 프로젝트를 시행하고자 한다."
   ]
  },
  {
   "cell_type": "code",
   "execution_count": 4,
   "id": "0af8820b",
   "metadata": {
    "ExecuteTime": {
     "end_time": "2023-11-27T13:21:44.762298Z",
     "start_time": "2023-11-27T13:21:44.727869Z"
    }
   },
   "outputs": [
    {
     "data": {
      "text/html": [
       "<div>\n",
       "<style scoped>\n",
       "    .dataframe tbody tr th:only-of-type {\n",
       "        vertical-align: middle;\n",
       "    }\n",
       "\n",
       "    .dataframe tbody tr th {\n",
       "        vertical-align: top;\n",
       "    }\n",
       "\n",
       "    .dataframe thead th {\n",
       "        text-align: right;\n",
       "    }\n",
       "</style>\n",
       "<table border=\"1\" class=\"dataframe\">\n",
       "  <thead>\n",
       "    <tr style=\"text-align: right;\">\n",
       "      <th></th>\n",
       "      <th>사고(T) 비율</th>\n",
       "      <th>점수</th>\n",
       "    </tr>\n",
       "  </thead>\n",
       "  <tbody>\n",
       "    <tr>\n",
       "      <th>0</th>\n",
       "      <td>0.051380</td>\n",
       "      <td>58.027610</td>\n",
       "    </tr>\n",
       "    <tr>\n",
       "      <th>1</th>\n",
       "      <td>0.284721</td>\n",
       "      <td>58.694412</td>\n",
       "    </tr>\n",
       "    <tr>\n",
       "      <th>2</th>\n",
       "      <td>0.500000</td>\n",
       "      <td>72.000000</td>\n",
       "    </tr>\n",
       "    <tr>\n",
       "      <th>3</th>\n",
       "      <td>0.500000</td>\n",
       "      <td>69.000000</td>\n",
       "    </tr>\n",
       "    <tr>\n",
       "      <th>4</th>\n",
       "      <td>0.101264</td>\n",
       "      <td>70.025271</td>\n",
       "    </tr>\n",
       "    <tr>\n",
       "      <th>...</th>\n",
       "      <td>...</td>\n",
       "      <td>...</td>\n",
       "    </tr>\n",
       "    <tr>\n",
       "      <th>295</th>\n",
       "      <td>0.500000</td>\n",
       "      <td>71.000000</td>\n",
       "    </tr>\n",
       "    <tr>\n",
       "      <th>296</th>\n",
       "      <td>0.500000</td>\n",
       "      <td>88.000000</td>\n",
       "    </tr>\n",
       "    <tr>\n",
       "      <th>297</th>\n",
       "      <td>0.500000</td>\n",
       "      <td>89.000000</td>\n",
       "    </tr>\n",
       "    <tr>\n",
       "      <th>298</th>\n",
       "      <td>0.500000</td>\n",
       "      <td>71.000000</td>\n",
       "    </tr>\n",
       "    <tr>\n",
       "      <th>299</th>\n",
       "      <td>0.262774</td>\n",
       "      <td>59.255490</td>\n",
       "    </tr>\n",
       "  </tbody>\n",
       "</table>\n",
       "<p>300 rows × 2 columns</p>\n",
       "</div>"
      ],
      "text/plain": [
       "     사고(T) 비율         점수\n",
       "0    0.051380  58.027610\n",
       "1    0.284721  58.694412\n",
       "2    0.500000  72.000000\n",
       "3    0.500000  69.000000\n",
       "4    0.101264  70.025271\n",
       "..        ...        ...\n",
       "295  0.500000  71.000000\n",
       "296  0.500000  88.000000\n",
       "297  0.500000  89.000000\n",
       "298  0.500000  71.000000\n",
       "299  0.262774  59.255490\n",
       "\n",
       "[300 rows x 2 columns]"
      ]
     },
     "execution_count": 4,
     "metadata": {},
     "output_type": "execute_result"
    }
   ],
   "source": [
    "quiz_2_data"
   ]
  },
  {
   "cell_type": "markdown",
   "id": "d60d8e88",
   "metadata": {},
   "source": [
    "#### (1)\n",
    "\n",
    "응시자의 사고 비율과 코딩테스트 점수 사이의 공분산을 구하시오."
   ]
  },
  {
   "cell_type": "code",
   "execution_count": null,
   "id": "1e2f80e8",
   "metadata": {},
   "outputs": [],
   "source": [
    "answer = \n",
    "\n",
    "print(f\"공분산: {np.round(answer, 3)}\")"
   ]
  },
  {
   "cell_type": "markdown",
   "id": "728b90aa",
   "metadata": {},
   "source": [
    "#### (2)\n",
    "\n",
    "응시자의 사고 비율과 코딩테스트 점수 사이의 피어슨 상관계수를 구하시오."
   ]
  },
  {
   "cell_type": "code",
   "execution_count": null,
   "id": "7c76d950",
   "metadata": {},
   "outputs": [],
   "source": [
    "answer = \n",
    "\n",
    "print(f\"피어슨 상관계수: {np.round(answer, 3)}\")"
   ]
  },
  {
   "cell_type": "markdown",
   "id": "5d907b64",
   "metadata": {},
   "source": [
    "---"
   ]
  },
  {
   "cell_type": "markdown",
   "id": "f3932263",
   "metadata": {},
   "source": [
    "### 3.\n",
    "\n",
    "IT 취준생 100명에게 Python과 Java 사용 여부에 대한 설문을 진행한 결과가 다음과 같다."
   ]
  },
  {
   "cell_type": "code",
   "execution_count": 7,
   "id": "51227ee7",
   "metadata": {
    "ExecuteTime": {
     "end_time": "2023-11-27T13:21:50.285221Z",
     "start_time": "2023-11-27T13:21:50.260258Z"
    }
   },
   "outputs": [
    {
     "data": {
      "text/html": [
       "<div>\n",
       "<style scoped>\n",
       "    .dataframe tbody tr th:only-of-type {\n",
       "        vertical-align: middle;\n",
       "    }\n",
       "\n",
       "    .dataframe tbody tr th {\n",
       "        vertical-align: top;\n",
       "    }\n",
       "\n",
       "    .dataframe thead th {\n",
       "        text-align: right;\n",
       "    }\n",
       "</style>\n",
       "<table border=\"1\" class=\"dataframe\">\n",
       "  <thead>\n",
       "    <tr style=\"text-align: right;\">\n",
       "      <th></th>\n",
       "      <th>Python</th>\n",
       "      <th>Java</th>\n",
       "    </tr>\n",
       "  </thead>\n",
       "  <tbody>\n",
       "    <tr>\n",
       "      <th>0</th>\n",
       "      <td>X</td>\n",
       "      <td>O</td>\n",
       "    </tr>\n",
       "    <tr>\n",
       "      <th>1</th>\n",
       "      <td>X</td>\n",
       "      <td>O</td>\n",
       "    </tr>\n",
       "    <tr>\n",
       "      <th>2</th>\n",
       "      <td>X</td>\n",
       "      <td>O</td>\n",
       "    </tr>\n",
       "    <tr>\n",
       "      <th>3</th>\n",
       "      <td>O</td>\n",
       "      <td>X</td>\n",
       "    </tr>\n",
       "    <tr>\n",
       "      <th>4</th>\n",
       "      <td>X</td>\n",
       "      <td>O</td>\n",
       "    </tr>\n",
       "    <tr>\n",
       "      <th>...</th>\n",
       "      <td>...</td>\n",
       "      <td>...</td>\n",
       "    </tr>\n",
       "    <tr>\n",
       "      <th>95</th>\n",
       "      <td>O</td>\n",
       "      <td>O</td>\n",
       "    </tr>\n",
       "    <tr>\n",
       "      <th>96</th>\n",
       "      <td>O</td>\n",
       "      <td>O</td>\n",
       "    </tr>\n",
       "    <tr>\n",
       "      <th>97</th>\n",
       "      <td>X</td>\n",
       "      <td>O</td>\n",
       "    </tr>\n",
       "    <tr>\n",
       "      <th>98</th>\n",
       "      <td>X</td>\n",
       "      <td>O</td>\n",
       "    </tr>\n",
       "    <tr>\n",
       "      <th>99</th>\n",
       "      <td>O</td>\n",
       "      <td>X</td>\n",
       "    </tr>\n",
       "  </tbody>\n",
       "</table>\n",
       "<p>100 rows × 2 columns</p>\n",
       "</div>"
      ],
      "text/plain": [
       "   Python Java\n",
       "0       X    O\n",
       "1       X    O\n",
       "2       X    O\n",
       "3       O    X\n",
       "4       X    O\n",
       "..    ...  ...\n",
       "95      O    O\n",
       "96      O    O\n",
       "97      X    O\n",
       "98      X    O\n",
       "99      O    X\n",
       "\n",
       "[100 rows x 2 columns]"
      ]
     },
     "execution_count": 7,
     "metadata": {},
     "output_type": "execute_result"
    }
   ],
   "source": [
    "quiz_3_data"
   ]
  },
  {
   "cell_type": "markdown",
   "id": "89d76688",
   "metadata": {},
   "source": [
    "#### (1)\n",
    "\n",
    "설문에 참여한 취준생 중 임의로 선택한 한 명이 Python을 사용하면서 Java는 사용하지 않을 확률을 구하시오."
   ]
  },
  {
   "cell_type": "code",
   "execution_count": null,
   "id": "500c1393",
   "metadata": {},
   "outputs": [],
   "source": [
    "answer = \n",
    "\n",
    "print(f\"확률: {np.round(answer, 3)}\")"
   ]
  },
  {
   "cell_type": "markdown",
   "id": "3c5e75af",
   "metadata": {},
   "source": [
    "#### (2)\n",
    "\n",
    "설문에 참여한 취준생 중 임의로 선택한 한 명이 Python을 사용하는 사람일 때, Java를 사용하지 않을 확률을 구하시오."
   ]
  },
  {
   "cell_type": "code",
   "execution_count": null,
   "id": "a974fb53",
   "metadata": {},
   "outputs": [],
   "source": [
    "answer = \n",
    "\n",
    "print(f\"확률: {np.round(answer, 3)}\")"
   ]
  }
 ],
 "metadata": {
  "kernelspec": {
   "display_name": "Python 3 (ipykernel)",
   "language": "python",
   "name": "python3"
  },
  "language_info": {
   "codemirror_mode": {
    "name": "ipython",
    "version": 3
   },
   "file_extension": ".py",
   "mimetype": "text/x-python",
   "name": "python",
   "nbconvert_exporter": "python",
   "pygments_lexer": "ipython3",
   "version": "3.9.16"
  }
 },
 "nbformat": 4,
 "nbformat_minor": 5
}
