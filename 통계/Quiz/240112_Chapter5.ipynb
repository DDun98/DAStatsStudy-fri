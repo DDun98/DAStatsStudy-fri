{
 "cells": [
  {
   "cell_type": "markdown",
   "id": "b454ee65",
   "metadata": {},
   "source": [
    "# 통계 스터디 Quiz\n",
    "\n",
    "- 일시: 2023.01.12(금)\n",
    "- 범위: 5장\n",
    "- 출제: 이우진"
   ]
  },
  {
   "cell_type": "code",
   "execution_count": null,
   "id": "13e763e9",
   "metadata": {},
   "outputs": [],
   "source": [
    "import pandas as pd\n",
    "import numpy as np\n",
    "from scipy import stats"
   ]
  },
  {
   "cell_type": "markdown",
   "id": "2418a243",
   "metadata": {},
   "source": [
    "---"
   ]
  },
  {
   "cell_type": "markdown",
   "id": "1737aba6",
   "metadata": {},
   "source": [
    "### 1.\n",
    "\n",
    "될성부른 떡잎을 육성하고자 하는 교육기관 떡잎스쿨에서 자신들의 커리큘럼에 대한 만족 여부를 조사했다. 역대 수강생 중 150명을 임의로 선정하여 조사하였더니 55명이 만족했다는 결과를 얻었다."
   ]
  },
  {
   "cell_type": "markdown",
   "id": "b4a9eb56",
   "metadata": {},
   "source": [
    "#### (1)\n",
    "\n",
    "커리큘럼의 만족도에 대한 점추정 값을 구하시오. **[10점]**"
   ]
  },
  {
   "cell_type": "code",
   "execution_count": null,
   "id": "2924ab48",
   "metadata": {},
   "outputs": [],
   "source": [
    "answer = \n",
    "print(f\"만족도: {np.round(answer, 3)}\")"
   ]
  },
  {
   "cell_type": "markdown",
   "id": "bf82c2fc",
   "metadata": {},
   "source": [
    "#### (2)\n",
    "\n",
    "신뢰수준 95%에서 커리큘럼의 만족도에 대한 신뢰구간을 구하시오.  **[20점]**"
   ]
  },
  {
   "cell_type": "code",
   "execution_count": null,
   "id": "b26419d7",
   "metadata": {},
   "outputs": [],
   "source": [
    "answer = \n",
    "print(f\"신뢰구간: {answer}\")"
   ]
  },
  {
   "cell_type": "markdown",
   "id": "aca1b47f",
   "metadata": {},
   "source": [
    "---"
   ]
  },
  {
   "cell_type": "markdown",
   "id": "6c2e8165",
   "metadata": {},
   "source": [
    "### 2.\n",
    "\n",
    "원디두(23)씨는 IT 스타트업의 DA 직군 초봉을 알아보고자 한다. IT 스타트업에 재직 중인 DA 직군의 25명을 임의로 선정하여 커피챗을 나눠보며 초봉 자료를 수집한 결과, 평균 3200만원, 표준편차 480만원의 정규분포를 따른다는 사실을 알게 되었다."
   ]
  },
  {
   "cell_type": "markdown",
   "id": "74cf3839",
   "metadata": {},
   "source": [
    "#### (1)\n",
    "\n",
    "신뢰수준 95%에서 IT 스타트업 DA 직군 초봉에 대한 신뢰구간을 구하시오. **[20점]**"
   ]
  },
  {
   "cell_type": "code",
   "execution_count": null,
   "id": "dbfc0dcd",
   "metadata": {},
   "outputs": [],
   "source": [
    "answer = \n",
    "print(f\"신뢰구간: {answer}\")"
   ]
  },
  {
   "cell_type": "markdown",
   "id": "9fcc8d7d",
   "metadata": {},
   "source": [
    "#### (2)\n",
    "\n",
    "2024년 최저연봉은 약 2500만원이라고 한다. 2500만원 이상 3000만원 미만에 속하는 기업에 입사하게 될 확률을 구하시오. **[20점]**"
   ]
  },
  {
   "cell_type": "code",
   "execution_count": null,
   "id": "cb04b5e6",
   "metadata": {},
   "outputs": [],
   "source": [
    "answer = \n",
    "print(f\"확률: {np.round(answer, 3)}\")"
   ]
  },
  {
   "cell_type": "markdown",
   "id": "941233fa",
   "metadata": {},
   "source": [
    "---"
   ]
  },
  {
   "cell_type": "markdown",
   "id": "2d1d3ac6",
   "metadata": {},
   "source": [
    "### 3.\n",
    "\n",
    "야구를 좋아하는 두인수(29)씨는 잠실구장의 진짜 주인이 누군지 가리고자 한다."
   ]
  },
  {
   "cell_type": "markdown",
   "id": "f453c991",
   "metadata": {},
   "source": [
    "#### (1)\n",
    "\n",
    "두인수 씨는 전체 야구 팬들을 대상으로 설문조사를 실시하여, LG 트윈스를 선호하는 비율을 95% 신뢰수준에서 구간추정하고자 한다. 이때 추정치의 허용오차를 5% 미만으로 하고 싶다. 몇 명의 야구팬을 대상으로 설문을 진행해야 하는가? **[25점]**"
   ]
  },
  {
   "cell_type": "code",
   "execution_count": null,
   "id": "f2fc6bff",
   "metadata": {},
   "outputs": [],
   "source": [
    "answer = \n",
    "print(f\"{answer}명\")"
   ]
  },
  {
   "cell_type": "markdown",
   "id": "b4aa3dce",
   "metadata": {},
   "source": [
    "#### (2)\n",
    "\n",
    "두인수 씨는 야구 커뮤니티를 통해 임의의 야구 팬 1,501명에게 설문을 받았다. 그 결과 688명이 LG 트윈스를 선호한다는 결과를 얻었다.\n",
    "\n",
    "한편, 오늘은 KBO 올스타전이 있는 날이다. 임의의 야구 팬들에 의해 잠실구장의 좌석 수 24,411석이 매진되었다고 전해진다. 이때 LG 트윈스를 선호하는 관객이 몇 명이나 있을지 알아보고 싶다. 95% 신뢰수준에서 신뢰구간을 구하시오. **[25점]**"
   ]
  },
  {
   "cell_type": "code",
   "execution_count": null,
   "id": "a45e3644",
   "metadata": {},
   "outputs": [],
   "source": [
    "answer = \n",
    "print(f\"신뢰구간: {answer}\")"
   ]
  }
 ],
 "metadata": {
  "kernelspec": {
   "display_name": "Python 3 (ipykernel)",
   "language": "python",
   "name": "python3"
  },
  "language_info": {
   "codemirror_mode": {
    "name": "ipython",
    "version": 3
   },
   "file_extension": ".py",
   "mimetype": "text/x-python",
   "name": "python",
   "nbconvert_exporter": "python",
   "pygments_lexer": "ipython3",
   "version": "3.9.16"
  },
  "toc": {
   "base_numbering": 1,
   "nav_menu": {},
   "number_sections": false,
   "sideBar": true,
   "skip_h1_title": false,
   "title_cell": "Table of Contents",
   "title_sidebar": "Contents",
   "toc_cell": false,
   "toc_position": {},
   "toc_section_display": true,
   "toc_window_display": false
  }
 },
 "nbformat": 4,
 "nbformat_minor": 5
}
