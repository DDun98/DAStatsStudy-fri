{
 "cells": [
  {
   "cell_type": "markdown",
   "id": "86eae928",
   "metadata": {},
   "source": [
    "# 스포티파이 마케팅 타겟 선정을 위한 분석\n",
    "\n",
    "2023.12.29 ~ 2024.01.05"
   ]
  },
  {
   "cell_type": "markdown",
   "id": "f9fed36a",
   "metadata": {},
   "source": [
    "---"
   ]
  },
  {
   "cell_type": "markdown",
   "id": "d1337e66",
   "metadata": {},
   "source": [
    "## 1. 프로젝트 개요"
   ]
  },
  {
   "cell_type": "markdown",
   "id": "90453dd7",
   "metadata": {},
   "source": [
    "### 1-1. 프로젝트 요약\n",
    "- 제목: 스포티파이 마케팅 타겟 선정을 위한 분석\n",
    "- 설명: 스포티파이 유저 설문 데이터를 이용하여, 구독 가능성이 높은 유저와, 구독 취소 위험성이 높은 유저를 식별해 낸다.\n",
    "- 사용한 데이터셋\n",
    "    - [Spotify User Behavior Dataset](https://www.kaggle.com/datasets/meeraajayakumar/spotify-user-behavior-dataset/): 유저 분석을 위한 종합 Spotify 데이터 세트\n",
    "- 진행 절차 및 내용\n",
    "    - 내용1\n",
    "    - 내용2\n",
    "- 사용한 스킬셋\n",
    "    - pandas\n",
    "    - matplotlib, seaborn\n",
    "    - ..."
   ]
  },
  {
   "cell_type": "markdown",
   "id": "52d7a1cc",
   "metadata": {},
   "source": [
    "### 1-2. 프로젝트 진행 배경\n",
    "\n",
    "내용"
   ]
  },
  {
   "cell_type": "markdown",
   "id": "a6bdae6a",
   "metadata": {},
   "source": [
    "---"
   ]
  },
  {
   "cell_type": "markdown",
   "id": "91e2c594",
   "metadata": {},
   "source": [
    "## 2. 데이터 로딩 및 EDA"
   ]
  },
  {
   "cell_type": "markdown",
   "id": "63499328",
   "metadata": {},
   "source": [
    "### 2-1. 데이터 불러오기"
   ]
  },
  {
   "cell_type": "code",
   "execution_count": 17,
   "id": "eec0d7e3",
   "metadata": {
    "ExecuteTime": {
     "end_time": "2024-01-05T07:23:14.581972Z",
     "start_time": "2024-01-05T07:23:14.561963Z"
    }
   },
   "outputs": [],
   "source": [
    "import pandas as pd\n",
    "import numpy as np\n",
    "import matplotlib.pyplot as plt\n",
    "import koreanize_matplotlib\n",
    "import seaborn as sns\n",
    "import pickle\n",
    "\n",
    "from scipy import stats\n",
    "from sklearn.cluster import KMeans\n",
    "from sklearn.metrics import silhouette_score"
   ]
  },
  {
   "cell_type": "code",
   "execution_count": 2,
   "id": "956e808e",
   "metadata": {
    "ExecuteTime": {
     "end_time": "2023-12-29T08:00:40.846889Z",
     "start_time": "2023-12-29T08:00:39.959799Z"
    }
   },
   "outputs": [
    {
     "data": {
      "text/html": [
       "<div>\n",
       "<style scoped>\n",
       "    .dataframe tbody tr th:only-of-type {\n",
       "        vertical-align: middle;\n",
       "    }\n",
       "\n",
       "    .dataframe tbody tr th {\n",
       "        vertical-align: top;\n",
       "    }\n",
       "\n",
       "    .dataframe thead th {\n",
       "        text-align: right;\n",
       "    }\n",
       "</style>\n",
       "<table border=\"1\" class=\"dataframe\">\n",
       "  <thead>\n",
       "    <tr style=\"text-align: right;\">\n",
       "      <th></th>\n",
       "      <th>Age</th>\n",
       "      <th>Gender</th>\n",
       "      <th>spotify_usage_period</th>\n",
       "      <th>spotify_listening_device</th>\n",
       "      <th>spotify_subscription_plan</th>\n",
       "      <th>premium_sub_willingness</th>\n",
       "      <th>preffered_premium_plan</th>\n",
       "      <th>preferred_listening_content</th>\n",
       "      <th>fav_music_genre</th>\n",
       "      <th>music_time_slot</th>\n",
       "      <th>music_Influencial_mood</th>\n",
       "      <th>music_lis_frequency</th>\n",
       "      <th>music_expl_method</th>\n",
       "      <th>music_recc_rating</th>\n",
       "      <th>pod_lis_frequency</th>\n",
       "      <th>fav_pod_genre</th>\n",
       "      <th>preffered_pod_format</th>\n",
       "      <th>pod_host_preference</th>\n",
       "      <th>preffered_pod_duration</th>\n",
       "      <th>pod_variety_satisfaction</th>\n",
       "    </tr>\n",
       "  </thead>\n",
       "  <tbody>\n",
       "    <tr>\n",
       "      <th>0</th>\n",
       "      <td>20-35</td>\n",
       "      <td>Female</td>\n",
       "      <td>More than 2 years</td>\n",
       "      <td>Smart speakers or voice assistants</td>\n",
       "      <td>Free (ad-supported)</td>\n",
       "      <td>Yes</td>\n",
       "      <td>Family Plan-Rs 179/month</td>\n",
       "      <td>Podcast</td>\n",
       "      <td>Melody</td>\n",
       "      <td>Night</td>\n",
       "      <td>Sadness or melancholy</td>\n",
       "      <td>leisure time</td>\n",
       "      <td>Playlists</td>\n",
       "      <td>3</td>\n",
       "      <td>Daily</td>\n",
       "      <td>Comedy</td>\n",
       "      <td>Interview</td>\n",
       "      <td>Both</td>\n",
       "      <td>Both</td>\n",
       "      <td>Ok</td>\n",
       "    </tr>\n",
       "    <tr>\n",
       "      <th>1</th>\n",
       "      <td>12-20</td>\n",
       "      <td>Male</td>\n",
       "      <td>More than 2 years</td>\n",
       "      <td>Computer or laptop</td>\n",
       "      <td>Free (ad-supported)</td>\n",
       "      <td>Yes</td>\n",
       "      <td>Individual Plan- Rs 119/ month</td>\n",
       "      <td>Podcast</td>\n",
       "      <td>Rap</td>\n",
       "      <td>Afternoon</td>\n",
       "      <td>Social gatherings or parties</td>\n",
       "      <td>Workout session</td>\n",
       "      <td>Playlists</td>\n",
       "      <td>2</td>\n",
       "      <td>Several times a week</td>\n",
       "      <td>Comedy</td>\n",
       "      <td>Interview</td>\n",
       "      <td>Both</td>\n",
       "      <td>None</td>\n",
       "      <td>Satisfied</td>\n",
       "    </tr>\n",
       "    <tr>\n",
       "      <th>2</th>\n",
       "      <td>35-60</td>\n",
       "      <td>Others</td>\n",
       "      <td>6 months to 1 year</td>\n",
       "      <td>Smart speakers or voice assistants</td>\n",
       "      <td>Free (ad-supported)</td>\n",
       "      <td>Yes</td>\n",
       "      <td>Student Plan-Rs 59/month</td>\n",
       "      <td>Podcast</td>\n",
       "      <td>Pop</td>\n",
       "      <td>Night</td>\n",
       "      <td>Relaxation and stress relief</td>\n",
       "      <td>Study Hours, While Traveling</td>\n",
       "      <td>Playlists</td>\n",
       "      <td>4</td>\n",
       "      <td>Once a week</td>\n",
       "      <td>Sports</td>\n",
       "      <td>Interview</td>\n",
       "      <td>None</td>\n",
       "      <td>Both</td>\n",
       "      <td>Satisfied</td>\n",
       "    </tr>\n",
       "    <tr>\n",
       "      <th>3</th>\n",
       "      <td>20-35</td>\n",
       "      <td>Female</td>\n",
       "      <td>1 year to 2 years</td>\n",
       "      <td>Smartphone, Smart speakers or voice assistants</td>\n",
       "      <td>Free (ad-supported)</td>\n",
       "      <td>No</td>\n",
       "      <td>None</td>\n",
       "      <td>Music</td>\n",
       "      <td>Melody</td>\n",
       "      <td>Night</td>\n",
       "      <td>Relaxation and stress relief, Social gathering...</td>\n",
       "      <td>Office hours, Workout session, leisure time</td>\n",
       "      <td>recommendations, Playlists</td>\n",
       "      <td>4</td>\n",
       "      <td>Never</td>\n",
       "      <td>None</td>\n",
       "      <td>None</td>\n",
       "      <td>None</td>\n",
       "      <td>None</td>\n",
       "      <td>Ok</td>\n",
       "    </tr>\n",
       "    <tr>\n",
       "      <th>4</th>\n",
       "      <td>20-35</td>\n",
       "      <td>Female</td>\n",
       "      <td>1 year to 2 years</td>\n",
       "      <td>Smartphone</td>\n",
       "      <td>Free (ad-supported)</td>\n",
       "      <td>No</td>\n",
       "      <td>None</td>\n",
       "      <td>Music</td>\n",
       "      <td>Melody</td>\n",
       "      <td>Night</td>\n",
       "      <td>Relaxation and stress relief</td>\n",
       "      <td>leisure time</td>\n",
       "      <td>recommendations, Playlists</td>\n",
       "      <td>4</td>\n",
       "      <td>Rarely</td>\n",
       "      <td>Lifestyle and Health</td>\n",
       "      <td>Story telling</td>\n",
       "      <td>Well known individuals</td>\n",
       "      <td>Both</td>\n",
       "      <td>Ok</td>\n",
       "    </tr>\n",
       "    <tr>\n",
       "      <th>...</th>\n",
       "      <td>...</td>\n",
       "      <td>...</td>\n",
       "      <td>...</td>\n",
       "      <td>...</td>\n",
       "      <td>...</td>\n",
       "      <td>...</td>\n",
       "      <td>...</td>\n",
       "      <td>...</td>\n",
       "      <td>...</td>\n",
       "      <td>...</td>\n",
       "      <td>...</td>\n",
       "      <td>...</td>\n",
       "      <td>...</td>\n",
       "      <td>...</td>\n",
       "      <td>...</td>\n",
       "      <td>...</td>\n",
       "      <td>...</td>\n",
       "      <td>...</td>\n",
       "      <td>...</td>\n",
       "      <td>...</td>\n",
       "    </tr>\n",
       "    <tr>\n",
       "      <th>515</th>\n",
       "      <td>20-35</td>\n",
       "      <td>Female</td>\n",
       "      <td>More than 2 years</td>\n",
       "      <td>Smartphone, Computer or laptop, Wearable devices</td>\n",
       "      <td>Free (ad-supported)</td>\n",
       "      <td>Yes</td>\n",
       "      <td>Student Plan-Rs 59/month</td>\n",
       "      <td>Music</td>\n",
       "      <td>Pop</td>\n",
       "      <td>Morning</td>\n",
       "      <td>Uplifting and motivational, Sadness or melancholy</td>\n",
       "      <td>While Traveling</td>\n",
       "      <td>recommendations</td>\n",
       "      <td>5</td>\n",
       "      <td>Rarely</td>\n",
       "      <td>Lifestyle and Health</td>\n",
       "      <td>Conversational</td>\n",
       "      <td>Both</td>\n",
       "      <td>Shorter</td>\n",
       "      <td>Ok</td>\n",
       "    </tr>\n",
       "    <tr>\n",
       "      <th>516</th>\n",
       "      <td>20-35</td>\n",
       "      <td>Female</td>\n",
       "      <td>More than 2 years</td>\n",
       "      <td>Smartphone, Computer or laptop</td>\n",
       "      <td>Free (ad-supported)</td>\n",
       "      <td>Yes</td>\n",
       "      <td>Student Plan-Rs 59/month</td>\n",
       "      <td>Music</td>\n",
       "      <td>Pop</td>\n",
       "      <td>Night</td>\n",
       "      <td>Relaxation and stress relief, Uplifting and mo...</td>\n",
       "      <td>While Traveling, Workout session, leisure time</td>\n",
       "      <td>Others</td>\n",
       "      <td>2</td>\n",
       "      <td>Rarely</td>\n",
       "      <td>Comedy</td>\n",
       "      <td>Story telling</td>\n",
       "      <td>Both</td>\n",
       "      <td>Shorter</td>\n",
       "      <td>Ok</td>\n",
       "    </tr>\n",
       "    <tr>\n",
       "      <th>517</th>\n",
       "      <td>20-35</td>\n",
       "      <td>Female</td>\n",
       "      <td>More than 2 years</td>\n",
       "      <td>Smartphone</td>\n",
       "      <td>Free (ad-supported)</td>\n",
       "      <td>No</td>\n",
       "      <td>Student Plan-Rs 59/month</td>\n",
       "      <td>Music</td>\n",
       "      <td>Pop</td>\n",
       "      <td>Night</td>\n",
       "      <td>Relaxation and stress relief</td>\n",
       "      <td>leisure time</td>\n",
       "      <td>recommendations</td>\n",
       "      <td>3</td>\n",
       "      <td>Never</td>\n",
       "      <td>None</td>\n",
       "      <td>Story telling</td>\n",
       "      <td>Both</td>\n",
       "      <td>Shorter</td>\n",
       "      <td>Ok</td>\n",
       "    </tr>\n",
       "    <tr>\n",
       "      <th>518</th>\n",
       "      <td>20-35</td>\n",
       "      <td>Female</td>\n",
       "      <td>6 months to 1 year</td>\n",
       "      <td>Smartphone</td>\n",
       "      <td>Premium (paid subscription)</td>\n",
       "      <td>Yes</td>\n",
       "      <td>Individual Plan- Rs 119/ month</td>\n",
       "      <td>Music</td>\n",
       "      <td>Melody</td>\n",
       "      <td>Night</td>\n",
       "      <td>Relaxation and stress relief, Uplifting and mo...</td>\n",
       "      <td>Workout session, leisure time</td>\n",
       "      <td>recommendations, Others</td>\n",
       "      <td>2</td>\n",
       "      <td>Several times a week</td>\n",
       "      <td>Comedy</td>\n",
       "      <td>Conversational</td>\n",
       "      <td>Both</td>\n",
       "      <td>Longer</td>\n",
       "      <td>Satisfied</td>\n",
       "    </tr>\n",
       "    <tr>\n",
       "      <th>519</th>\n",
       "      <td>20-35</td>\n",
       "      <td>Female</td>\n",
       "      <td>More than 2 years</td>\n",
       "      <td>Smartphone, Computer or laptop</td>\n",
       "      <td>Premium (paid subscription)</td>\n",
       "      <td>Yes</td>\n",
       "      <td>Student Plan-Rs 59/month</td>\n",
       "      <td>Music</td>\n",
       "      <td>Pop</td>\n",
       "      <td>Night</td>\n",
       "      <td>Relaxation and stress relief, Sadness or melan...</td>\n",
       "      <td>Office hours,Study Hours, While Traveling, lei...</td>\n",
       "      <td>Playlists, Radio</td>\n",
       "      <td>3</td>\n",
       "      <td>Never</td>\n",
       "      <td>None</td>\n",
       "      <td>None</td>\n",
       "      <td>None</td>\n",
       "      <td>None</td>\n",
       "      <td>Ok</td>\n",
       "    </tr>\n",
       "  </tbody>\n",
       "</table>\n",
       "<p>520 rows × 20 columns</p>\n",
       "</div>"
      ],
      "text/plain": [
       "       Age  Gender spotify_usage_period  \\\n",
       "0    20-35  Female    More than 2 years   \n",
       "1    12-20    Male    More than 2 years   \n",
       "2    35-60  Others   6 months to 1 year   \n",
       "3    20-35  Female    1 year to 2 years   \n",
       "4    20-35  Female    1 year to 2 years   \n",
       "..     ...     ...                  ...   \n",
       "515  20-35  Female    More than 2 years   \n",
       "516  20-35  Female    More than 2 years   \n",
       "517  20-35  Female    More than 2 years   \n",
       "518  20-35  Female   6 months to 1 year   \n",
       "519  20-35  Female    More than 2 years   \n",
       "\n",
       "                             spotify_listening_device  \\\n",
       "0                  Smart speakers or voice assistants   \n",
       "1                                  Computer or laptop   \n",
       "2                  Smart speakers or voice assistants   \n",
       "3      Smartphone, Smart speakers or voice assistants   \n",
       "4                                          Smartphone   \n",
       "..                                                ...   \n",
       "515  Smartphone, Computer or laptop, Wearable devices   \n",
       "516                    Smartphone, Computer or laptop   \n",
       "517                                        Smartphone   \n",
       "518                                        Smartphone   \n",
       "519                    Smartphone, Computer or laptop   \n",
       "\n",
       "       spotify_subscription_plan premium_sub_willingness  \\\n",
       "0            Free (ad-supported)                     Yes   \n",
       "1            Free (ad-supported)                     Yes   \n",
       "2            Free (ad-supported)                     Yes   \n",
       "3            Free (ad-supported)                      No   \n",
       "4            Free (ad-supported)                      No   \n",
       "..                           ...                     ...   \n",
       "515          Free (ad-supported)                     Yes   \n",
       "516          Free (ad-supported)                     Yes   \n",
       "517          Free (ad-supported)                      No   \n",
       "518  Premium (paid subscription)                     Yes   \n",
       "519  Premium (paid subscription)                     Yes   \n",
       "\n",
       "             preffered_premium_plan preferred_listening_content  \\\n",
       "0          Family Plan-Rs 179/month                     Podcast   \n",
       "1    Individual Plan- Rs 119/ month                     Podcast   \n",
       "2          Student Plan-Rs 59/month                     Podcast   \n",
       "3                              None                       Music   \n",
       "4                              None                       Music   \n",
       "..                              ...                         ...   \n",
       "515        Student Plan-Rs 59/month                       Music   \n",
       "516        Student Plan-Rs 59/month                       Music   \n",
       "517        Student Plan-Rs 59/month                       Music   \n",
       "518  Individual Plan- Rs 119/ month                       Music   \n",
       "519        Student Plan-Rs 59/month                       Music   \n",
       "\n",
       "    fav_music_genre music_time_slot  \\\n",
       "0            Melody           Night   \n",
       "1               Rap       Afternoon   \n",
       "2               Pop           Night   \n",
       "3            Melody           Night   \n",
       "4            Melody           Night   \n",
       "..              ...             ...   \n",
       "515             Pop         Morning   \n",
       "516             Pop           Night   \n",
       "517             Pop           Night   \n",
       "518          Melody           Night   \n",
       "519             Pop           Night   \n",
       "\n",
       "                                music_Influencial_mood  \\\n",
       "0                                Sadness or melancholy   \n",
       "1                         Social gatherings or parties   \n",
       "2                         Relaxation and stress relief   \n",
       "3    Relaxation and stress relief, Social gathering...   \n",
       "4                         Relaxation and stress relief   \n",
       "..                                                 ...   \n",
       "515  Uplifting and motivational, Sadness or melancholy   \n",
       "516  Relaxation and stress relief, Uplifting and mo...   \n",
       "517                       Relaxation and stress relief   \n",
       "518  Relaxation and stress relief, Uplifting and mo...   \n",
       "519  Relaxation and stress relief, Sadness or melan...   \n",
       "\n",
       "                                   music_lis_frequency  \\\n",
       "0                                         leisure time   \n",
       "1                                      Workout session   \n",
       "2                         Study Hours, While Traveling   \n",
       "3          Office hours, Workout session, leisure time   \n",
       "4                                         leisure time   \n",
       "..                                                 ...   \n",
       "515                                    While Traveling   \n",
       "516     While Traveling, Workout session, leisure time   \n",
       "517                                       leisure time   \n",
       "518                      Workout session, leisure time   \n",
       "519  Office hours,Study Hours, While Traveling, lei...   \n",
       "\n",
       "              music_expl_method  music_recc_rating     pod_lis_frequency  \\\n",
       "0                     Playlists                  3                 Daily   \n",
       "1                     Playlists                  2  Several times a week   \n",
       "2                     Playlists                  4           Once a week   \n",
       "3    recommendations, Playlists                  4                 Never   \n",
       "4    recommendations, Playlists                  4                Rarely   \n",
       "..                          ...                ...                   ...   \n",
       "515             recommendations                  5                Rarely   \n",
       "516                      Others                  2                Rarely   \n",
       "517             recommendations                  3                 Never   \n",
       "518     recommendations, Others                  2  Several times a week   \n",
       "519            Playlists, Radio                  3                 Never   \n",
       "\n",
       "            fav_pod_genre preffered_pod_format     pod_host_preference  \\\n",
       "0                  Comedy            Interview                    Both   \n",
       "1                  Comedy            Interview                    Both   \n",
       "2                  Sports            Interview                    None   \n",
       "3                    None                 None                    None   \n",
       "4    Lifestyle and Health        Story telling  Well known individuals   \n",
       "..                    ...                  ...                     ...   \n",
       "515  Lifestyle and Health       Conversational                    Both   \n",
       "516                Comedy        Story telling                    Both   \n",
       "517                  None        Story telling                    Both   \n",
       "518                Comedy       Conversational                    Both   \n",
       "519                  None                 None                    None   \n",
       "\n",
       "    preffered_pod_duration pod_variety_satisfaction  \n",
       "0                     Both                       Ok  \n",
       "1                     None                Satisfied  \n",
       "2                     Both                Satisfied  \n",
       "3                     None                       Ok  \n",
       "4                     Both                       Ok  \n",
       "..                     ...                      ...  \n",
       "515                Shorter                       Ok  \n",
       "516                Shorter                       Ok  \n",
       "517                Shorter                       Ok  \n",
       "518                 Longer                Satisfied  \n",
       "519                   None                       Ok  \n",
       "\n",
       "[520 rows x 20 columns]"
      ]
     },
     "execution_count": 2,
     "metadata": {},
     "output_type": "execute_result"
    }
   ],
   "source": [
    "spotify_df = pd.read_excel('Spotify_data.xlsx')\n",
    "spotify_df"
   ]
  },
  {
   "cell_type": "code",
   "execution_count": 6,
   "id": "e3f50770",
   "metadata": {
    "ExecuteTime": {
     "end_time": "2023-12-29T03:45:16.325704Z",
     "start_time": "2023-12-29T03:45:16.283410Z"
    }
   },
   "outputs": [
    {
     "name": "stdout",
     "output_type": "stream",
     "text": [
      "<class 'pandas.core.frame.DataFrame'>\n",
      "RangeIndex: 520 entries, 0 to 519\n",
      "Data columns (total 20 columns):\n",
      " #   Column                       Non-Null Count  Dtype \n",
      "---  ------                       --------------  ----- \n",
      " 0   Age                          520 non-null    object\n",
      " 1   Gender                       520 non-null    object\n",
      " 2   spotify_usage_period         520 non-null    object\n",
      " 3   spotify_listening_device     520 non-null    object\n",
      " 4   spotify_subscription_plan    520 non-null    object\n",
      " 5   premium_sub_willingness      520 non-null    object\n",
      " 6   preffered_premium_plan       520 non-null    object\n",
      " 7   preferred_listening_content  520 non-null    object\n",
      " 8   fav_music_genre              520 non-null    object\n",
      " 9   music_time_slot              520 non-null    object\n",
      " 10  music_Influencial_mood       520 non-null    object\n",
      " 11  music_lis_frequency          520 non-null    object\n",
      " 12  music_expl_method            520 non-null    object\n",
      " 13  music_recc_rating            520 non-null    int64 \n",
      " 14  pod_lis_frequency            520 non-null    object\n",
      " 15  fav_pod_genre                520 non-null    object\n",
      " 16  preffered_pod_format         520 non-null    object\n",
      " 17  pod_host_preference          520 non-null    object\n",
      " 18  preffered_pod_duration       520 non-null    object\n",
      " 19  pod_variety_satisfaction     520 non-null    object\n",
      "dtypes: int64(1), object(19)\n",
      "memory usage: 81.4+ KB\n"
     ]
    }
   ],
   "source": [
    "spotify_df.info()"
   ]
  },
  {
   "cell_type": "code",
   "execution_count": 7,
   "id": "66e25c2d",
   "metadata": {
    "ExecuteTime": {
     "end_time": "2023-12-29T03:45:22.999881Z",
     "start_time": "2023-12-29T03:45:22.969919Z"
    }
   },
   "outputs": [
    {
     "data": {
      "text/plain": [
       "Age                            0\n",
       "Gender                         0\n",
       "spotify_usage_period           0\n",
       "spotify_listening_device       0\n",
       "spotify_subscription_plan      0\n",
       "premium_sub_willingness        0\n",
       "preffered_premium_plan         0\n",
       "preferred_listening_content    0\n",
       "fav_music_genre                0\n",
       "music_time_slot                0\n",
       "music_Influencial_mood         0\n",
       "music_lis_frequency            0\n",
       "music_expl_method              0\n",
       "music_recc_rating              0\n",
       "pod_lis_frequency              0\n",
       "fav_pod_genre                  0\n",
       "preffered_pod_format           0\n",
       "pod_host_preference            0\n",
       "preffered_pod_duration         0\n",
       "pod_variety_satisfaction       0\n",
       "dtype: int64"
      ]
     },
     "execution_count": 7,
     "metadata": {},
     "output_type": "execute_result"
    }
   ],
   "source": [
    "spotify_df.isna().sum()"
   ]
  },
  {
   "cell_type": "markdown",
   "id": "d7229d54",
   "metadata": {},
   "source": [
    "|컬럼명|설명|\n",
    "|:---:|:---|\n",
    "|Age|사용자의 연령 그룹|\n",
    "|Gender|사용자의 성별|\n",
    "|spotify_usage_period|Spotify를 사용한 지 얼마나 되었습니까?|\n",
    "|spotify_listening_device|Spotify를 듣기 위해 주로 사용하는 기기는?|\n",
    "|spotify_subscription_plan|현재 보유하고 있는 Spotify 구독 플랜은 무엇입니까?|\n",
    "|premium_sub_willness|프리미엄 구독을 이용하실 의향이 있으신가요, 아니면 앞으로도 계속 프리미엄 구독을 하실 의향이 있으신가요?|\n",
    "|prefered_premium_plan|프리미엄 또는 프리미엄을 가져갈 의향이 있는 경우 구독에 대해 지불하는 금액은 얼마입니까?|\n",
    "|preferred_listening_content|더 듣기를 선호하는 것은 무엇입니까?|\n",
    "|fav_music_general|어떤 장르의 음악을 가장 즐겨 듣나요?|\n",
    "|music_time_slot|음악을 듣기에 가장 좋아하는 시간대는?|\n",
    "|music_Influencial_mood|음악을 듣는 것에 있어서, 다음 중 어떤 분위기나 상황이 당신의 음악 선택에 가장 강하게 영향을 미치는가?|\n",
    "|music_lis_frequency|언제 음악을 더 자주 듣나요?|\n",
    "|music_expl_method|Spotify에서 새로운 음악을 어떻게 발견하나요?|\n",
    "|music_recc_rating|스포티파이 음악 추천은 어떻게 평가하나요?|\n",
    "|pod_lis_frequency|팟캐스트를 얼마나 자주 듣나요?|\n",
    "|fav_pod_general|팟캐스트의 어떤 장르를 가장 즐겨?|\n",
    "|prefered_pod_format|일반적으로 선호하는 팟캐스트 포맷은 무엇인가?|\n",
    "|pod_host_preferences|당신은 알려지지 않은 사람들의 팟캐스트를 듣는 경향이 더 있는가, 아니면 잘 알려진 사람들이 진행하는 팟캐스트를 더 선호하는가?|\n",
    "|prefered_pod_duration|팟캐스트 에피소드가 짧은 편(30분 미만) 또는 긴 편(30분 이상)을 선호하십니까|\n",
    "|pod_variety|Spotify에서 팟캐스트의 다양성과 가용성에 만족하십니까?|"
   ]
  },
  {
   "cell_type": "markdown",
   "id": "fd0b53dd",
   "metadata": {},
   "source": [
    "### 2-2. 데이터 분포 확인 및 전처리"
   ]
  },
  {
   "cell_type": "markdown",
   "id": "b8c8cf89",
   "metadata": {},
   "source": [
    "#### 2-2-1. 컬럼별 분포 확인 (나이)"
   ]
  },
  {
   "cell_type": "code",
   "execution_count": 21,
   "id": "be906ce8",
   "metadata": {
    "ExecuteTime": {
     "end_time": "2023-12-29T04:01:01.567558Z",
     "start_time": "2023-12-29T04:01:01.529230Z"
    }
   },
   "outputs": [
    {
     "data": {
      "text/plain": [
       "6-12       3\n",
       "12-20     71\n",
       "20-35    422\n",
       "35-60     23\n",
       "60+        1\n",
       "Name: Age, dtype: int64"
      ]
     },
     "execution_count": 21,
     "metadata": {},
     "output_type": "execute_result"
    }
   ],
   "source": [
    "order_dict = {'6-12': 1, '12-20': 2, '20-35': 3, '35-60': 4, '60+': 5}\n",
    "\n",
    "age_df = spotify_df['Age'].value_counts().sort_index(key=lambda x:x.map(order_dict))\n",
    "age_df"
   ]
  },
  {
   "cell_type": "code",
   "execution_count": 23,
   "id": "8fc767d6",
   "metadata": {
    "ExecuteTime": {
     "end_time": "2023-12-29T04:01:38.619916Z",
     "start_time": "2023-12-29T04:01:38.488498Z"
    }
   },
   "outputs": [
    {
     "data": {
      "image/png": "[encoded data removed]",
      "text/plain": [
       "<Figure size 640x480 with 1 Axes>"
      ]
     },
     "metadata": {},
     "output_type": "display_data"
    }
   ],
   "source": [
    "plt.bar(\n",
    "    age_df.index,\n",
    "    age_df\n",
    ")\n",
    "\n",
    "plt.title('유저의 나이 그룹')\n",
    "plt.show()"
   ]
  },
  {
   "cell_type": "markdown",
   "id": "cbc656aa",
   "metadata": {},
   "source": [
    "20-35세가 압도적이고, 12-20세가 그 다음이다. 확실히 **젊은 연령층**의 수가 많다.\n",
    "\n",
    "현재 카테고리형으로 주어져 있는 상태인데 이를 numeric하게 변경하기 위해 **중앙값**으로 변환한다. 단, 60세 이상의 경우 60으로 넣는다."
   ]
  },
  {
   "cell_type": "code",
   "execution_count": 3,
   "id": "6950b733",
   "metadata": {
    "ExecuteTime": {
     "end_time": "2023-12-29T08:00:55.929959Z",
     "start_time": "2023-12-29T08:00:55.897794Z"
    },
    "scrolled": false
   },
   "outputs": [
    {
     "data": {
      "text/html": [
       "<div>\n",
       "<style scoped>\n",
       "    .dataframe tbody tr th:only-of-type {\n",
       "        vertical-align: middle;\n",
       "    }\n",
       "\n",
       "    .dataframe tbody tr th {\n",
       "        vertical-align: top;\n",
       "    }\n",
       "\n",
       "    .dataframe thead th {\n",
       "        text-align: right;\n",
       "    }\n",
       "</style>\n",
       "<table border=\"1\" class=\"dataframe\">\n",
       "  <thead>\n",
       "    <tr style=\"text-align: right;\">\n",
       "      <th></th>\n",
       "      <th>Age</th>\n",
       "      <th>age_median</th>\n",
       "    </tr>\n",
       "  </thead>\n",
       "  <tbody>\n",
       "    <tr>\n",
       "      <th>0</th>\n",
       "      <td>20-35</td>\n",
       "      <td>27.5</td>\n",
       "    </tr>\n",
       "    <tr>\n",
       "      <th>1</th>\n",
       "      <td>12-20</td>\n",
       "      <td>16.0</td>\n",
       "    </tr>\n",
       "    <tr>\n",
       "      <th>2</th>\n",
       "      <td>35-60</td>\n",
       "      <td>47.5</td>\n",
       "    </tr>\n",
       "    <tr>\n",
       "      <th>3</th>\n",
       "      <td>20-35</td>\n",
       "      <td>27.5</td>\n",
       "    </tr>\n",
       "    <tr>\n",
       "      <th>4</th>\n",
       "      <td>20-35</td>\n",
       "      <td>27.5</td>\n",
       "    </tr>\n",
       "    <tr>\n",
       "      <th>...</th>\n",
       "      <td>...</td>\n",
       "      <td>...</td>\n",
       "    </tr>\n",
       "    <tr>\n",
       "      <th>515</th>\n",
       "      <td>20-35</td>\n",
       "      <td>27.5</td>\n",
       "    </tr>\n",
       "    <tr>\n",
       "      <th>516</th>\n",
       "      <td>20-35</td>\n",
       "      <td>27.5</td>\n",
       "    </tr>\n",
       "    <tr>\n",
       "      <th>517</th>\n",
       "      <td>20-35</td>\n",
       "      <td>27.5</td>\n",
       "    </tr>\n",
       "    <tr>\n",
       "      <th>518</th>\n",
       "      <td>20-35</td>\n",
       "      <td>27.5</td>\n",
       "    </tr>\n",
       "    <tr>\n",
       "      <th>519</th>\n",
       "      <td>20-35</td>\n",
       "      <td>27.5</td>\n",
       "    </tr>\n",
       "  </tbody>\n",
       "</table>\n",
       "<p>520 rows × 2 columns</p>\n",
       "</div>"
      ],
      "text/plain": [
       "       Age  age_median\n",
       "0    20-35        27.5\n",
       "1    12-20        16.0\n",
       "2    35-60        47.5\n",
       "3    20-35        27.5\n",
       "4    20-35        27.5\n",
       "..     ...         ...\n",
       "515  20-35        27.5\n",
       "516  20-35        27.5\n",
       "517  20-35        27.5\n",
       "518  20-35        27.5\n",
       "519  20-35        27.5\n",
       "\n",
       "[520 rows x 2 columns]"
      ]
     },
     "execution_count": 3,
     "metadata": {},
     "output_type": "execute_result"
    }
   ],
   "source": [
    "def process_age(txt):\n",
    "    try:\n",
    "        return np.median(list(map(int, txt.split('-'))))\n",
    "    except:\n",
    "        return 60\n",
    "\n",
    "spotify_df['age_median'] = spotify_df['Age'].apply(process_age)\n",
    "spotify_df[['Age', 'age_median']]"
   ]
  },
  {
   "cell_type": "markdown",
   "id": "47e2d016",
   "metadata": {},
   "source": [
    "#### 2-2-2. 컬럼별 분포 확인 (성별)"
   ]
  },
  {
   "cell_type": "code",
   "execution_count": 24,
   "id": "ee4c1b0a",
   "metadata": {
    "ExecuteTime": {
     "end_time": "2023-12-29T04:03:15.886408Z",
     "start_time": "2023-12-29T04:03:15.839948Z"
    }
   },
   "outputs": [
    {
     "data": {
      "text/plain": [
       "Female    391\n",
       "Male      114\n",
       "Others     15\n",
       "Name: Gender, dtype: int64"
      ]
     },
     "execution_count": 24,
     "metadata": {},
     "output_type": "execute_result"
    }
   ],
   "source": [
    "spotify_df['Gender'].value_counts()"
   ]
  },
  {
   "cell_type": "code",
   "execution_count": 31,
   "id": "f1cc1169",
   "metadata": {
    "ExecuteTime": {
     "end_time": "2023-12-29T04:05:59.002348Z",
     "start_time": "2023-12-29T04:05:58.896029Z"
    }
   },
   "outputs": [
    {
     "data": {
      "image/png": "[encoded data removed]",
      "text/plain": [
       "<Figure size 640x480 with 1 Axes>"
      ]
     },
     "metadata": {},
     "output_type": "display_data"
    }
   ],
   "source": [
    "plt.pie(\n",
    "    spotify_df['Gender'].value_counts(),\n",
    "    labels=spotify_df['Gender'].value_counts().index,\n",
    "    autopct='%.1f%%',\n",
    "    startangle=140\n",
    ")\n",
    "\n",
    "plt.title('유저의 성별 분포')\n",
    "\n",
    "plt.show()"
   ]
  },
  {
   "cell_type": "markdown",
   "id": "b5c750fb",
   "metadata": {},
   "source": [
    "여성 유저가 남성 유저에 비해 훨씬 많다."
   ]
  },
  {
   "cell_type": "code",
   "execution_count": 4,
   "id": "e889c735",
   "metadata": {
    "ExecuteTime": {
     "end_time": "2023-12-29T08:01:01.712183Z",
     "start_time": "2023-12-29T08:01:01.687859Z"
    }
   },
   "outputs": [
    {
     "data": {
      "text/html": [
       "<div>\n",
       "<style scoped>\n",
       "    .dataframe tbody tr th:only-of-type {\n",
       "        vertical-align: middle;\n",
       "    }\n",
       "\n",
       "    .dataframe tbody tr th {\n",
       "        vertical-align: top;\n",
       "    }\n",
       "\n",
       "    .dataframe thead th {\n",
       "        text-align: right;\n",
       "    }\n",
       "</style>\n",
       "<table border=\"1\" class=\"dataframe\">\n",
       "  <thead>\n",
       "    <tr style=\"text-align: right;\">\n",
       "      <th></th>\n",
       "      <th>Gender</th>\n",
       "      <th>gender_binary</th>\n",
       "    </tr>\n",
       "  </thead>\n",
       "  <tbody>\n",
       "    <tr>\n",
       "      <th>0</th>\n",
       "      <td>Female</td>\n",
       "      <td>1</td>\n",
       "    </tr>\n",
       "    <tr>\n",
       "      <th>1</th>\n",
       "      <td>Male</td>\n",
       "      <td>0</td>\n",
       "    </tr>\n",
       "    <tr>\n",
       "      <th>2</th>\n",
       "      <td>Others</td>\n",
       "      <td>2</td>\n",
       "    </tr>\n",
       "    <tr>\n",
       "      <th>3</th>\n",
       "      <td>Female</td>\n",
       "      <td>1</td>\n",
       "    </tr>\n",
       "    <tr>\n",
       "      <th>4</th>\n",
       "      <td>Female</td>\n",
       "      <td>1</td>\n",
       "    </tr>\n",
       "    <tr>\n",
       "      <th>...</th>\n",
       "      <td>...</td>\n",
       "      <td>...</td>\n",
       "    </tr>\n",
       "    <tr>\n",
       "      <th>515</th>\n",
       "      <td>Female</td>\n",
       "      <td>1</td>\n",
       "    </tr>\n",
       "    <tr>\n",
       "      <th>516</th>\n",
       "      <td>Female</td>\n",
       "      <td>1</td>\n",
       "    </tr>\n",
       "    <tr>\n",
       "      <th>517</th>\n",
       "      <td>Female</td>\n",
       "      <td>1</td>\n",
       "    </tr>\n",
       "    <tr>\n",
       "      <th>518</th>\n",
       "      <td>Female</td>\n",
       "      <td>1</td>\n",
       "    </tr>\n",
       "    <tr>\n",
       "      <th>519</th>\n",
       "      <td>Female</td>\n",
       "      <td>1</td>\n",
       "    </tr>\n",
       "  </tbody>\n",
       "</table>\n",
       "<p>520 rows × 2 columns</p>\n",
       "</div>"
      ],
      "text/plain": [
       "     Gender  gender_binary\n",
       "0    Female              1\n",
       "1      Male              0\n",
       "2    Others              2\n",
       "3    Female              1\n",
       "4    Female              1\n",
       "..      ...            ...\n",
       "515  Female              1\n",
       "516  Female              1\n",
       "517  Female              1\n",
       "518  Female              1\n",
       "519  Female              1\n",
       "\n",
       "[520 rows x 2 columns]"
      ]
     },
     "execution_count": 4,
     "metadata": {},
     "output_type": "execute_result"
    }
   ],
   "source": [
    "spotify_df['gender_binary'] = spotify_df['Gender'].map({'Male': 0, 'Female': 1, 'Others': 2})\n",
    "\n",
    "spotify_df[['Gender', 'gender_binary']]"
   ]
  },
  {
   "cell_type": "markdown",
   "id": "051c8f7f",
   "metadata": {},
   "source": [
    "#### 2-2-3. 컬럼별 분포 확인 (이용 기간)"
   ]
  },
  {
   "cell_type": "code",
   "execution_count": 5,
   "id": "2e6e31d9",
   "metadata": {
    "ExecuteTime": {
     "end_time": "2023-12-29T08:01:04.769088Z",
     "start_time": "2023-12-29T08:01:04.745591Z"
    }
   },
   "outputs": [
    {
     "data": {
      "text/plain": [
       "Less than 6 months     91\n",
       "6 months to 1 year    119\n",
       "1 year to 2 years     141\n",
       "More than 2 years     169\n",
       "Name: spotify_usage_period, dtype: int64"
      ]
     },
     "execution_count": 5,
     "metadata": {},
     "output_type": "execute_result"
    }
   ],
   "source": [
    "period_dict = {\n",
    "    'Less than 6 months': 6, '6 months to 1 year': 9, '1 year to 2 years': 18, 'More than 2 years': 24\n",
    "}\n",
    "\n",
    "period_df = spotify_df['spotify_usage_period'].value_counts().sort_index(key=lambda x:x.map(period_dict))\n",
    "period_df"
   ]
  },
  {
   "cell_type": "code",
   "execution_count": 47,
   "id": "272b0156",
   "metadata": {
    "ExecuteTime": {
     "end_time": "2023-12-29T04:14:09.193790Z",
     "start_time": "2023-12-29T04:14:09.050743Z"
    }
   },
   "outputs": [
    {
     "data": {
      "image/png": "[encoded data removed]",
      "text/plain": [
       "<Figure size 1000x600 with 1 Axes>"
      ]
     },
     "metadata": {},
     "output_type": "display_data"
    }
   ],
   "source": [
    "plt.figure(figsize=(10, 6))\n",
    "\n",
    "plt.bar(\n",
    "    period_df.index,\n",
    "    period_df\n",
    ")\n",
    "\n",
    "plt.title('유저의 이용 기간 분포')\n",
    "plt.axhline(period_df.mean(), color='red', linestyle='--', linewidth=2)\n",
    "plt.yticks([i for i in range(0, 161, 20)] + [period_df.mean()])\n",
    "\n",
    "plt.show()"
   ]
  },
  {
   "cell_type": "markdown",
   "id": "f0c84ee1",
   "metadata": {},
   "source": [
    "2년 이상 **장기 이용자**가 많다. 스포티파이가 이미 성숙기에 접어들었음을 확인할 수 있는 대목이다.\n",
    "\n",
    "이 컬럼 역시 범주형이기 때문에, 개월 수의 중앙값을 취한 컬럼을 생성한다. 단, 6개월 미만 및 2년 이상은 각각 6, 24로 넣는다."
   ]
  },
  {
   "cell_type": "code",
   "execution_count": 6,
   "id": "2928c711",
   "metadata": {
    "ExecuteTime": {
     "end_time": "2023-12-29T08:01:08.076538Z",
     "start_time": "2023-12-29T08:01:08.052713Z"
    }
   },
   "outputs": [
    {
     "data": {
      "text/html": [
       "<div>\n",
       "<style scoped>\n",
       "    .dataframe tbody tr th:only-of-type {\n",
       "        vertical-align: middle;\n",
       "    }\n",
       "\n",
       "    .dataframe tbody tr th {\n",
       "        vertical-align: top;\n",
       "    }\n",
       "\n",
       "    .dataframe thead th {\n",
       "        text-align: right;\n",
       "    }\n",
       "</style>\n",
       "<table border=\"1\" class=\"dataframe\">\n",
       "  <thead>\n",
       "    <tr style=\"text-align: right;\">\n",
       "      <th></th>\n",
       "      <th>spotify_usage_period</th>\n",
       "      <th>period_median</th>\n",
       "    </tr>\n",
       "  </thead>\n",
       "  <tbody>\n",
       "    <tr>\n",
       "      <th>0</th>\n",
       "      <td>More than 2 years</td>\n",
       "      <td>24</td>\n",
       "    </tr>\n",
       "    <tr>\n",
       "      <th>1</th>\n",
       "      <td>More than 2 years</td>\n",
       "      <td>24</td>\n",
       "    </tr>\n",
       "    <tr>\n",
       "      <th>2</th>\n",
       "      <td>6 months to 1 year</td>\n",
       "      <td>9</td>\n",
       "    </tr>\n",
       "    <tr>\n",
       "      <th>3</th>\n",
       "      <td>1 year to 2 years</td>\n",
       "      <td>18</td>\n",
       "    </tr>\n",
       "    <tr>\n",
       "      <th>4</th>\n",
       "      <td>1 year to 2 years</td>\n",
       "      <td>18</td>\n",
       "    </tr>\n",
       "    <tr>\n",
       "      <th>...</th>\n",
       "      <td>...</td>\n",
       "      <td>...</td>\n",
       "    </tr>\n",
       "    <tr>\n",
       "      <th>515</th>\n",
       "      <td>More than 2 years</td>\n",
       "      <td>24</td>\n",
       "    </tr>\n",
       "    <tr>\n",
       "      <th>516</th>\n",
       "      <td>More than 2 years</td>\n",
       "      <td>24</td>\n",
       "    </tr>\n",
       "    <tr>\n",
       "      <th>517</th>\n",
       "      <td>More than 2 years</td>\n",
       "      <td>24</td>\n",
       "    </tr>\n",
       "    <tr>\n",
       "      <th>518</th>\n",
       "      <td>6 months to 1 year</td>\n",
       "      <td>9</td>\n",
       "    </tr>\n",
       "    <tr>\n",
       "      <th>519</th>\n",
       "      <td>More than 2 years</td>\n",
       "      <td>24</td>\n",
       "    </tr>\n",
       "  </tbody>\n",
       "</table>\n",
       "<p>520 rows × 2 columns</p>\n",
       "</div>"
      ],
      "text/plain": [
       "    spotify_usage_period  period_median\n",
       "0      More than 2 years             24\n",
       "1      More than 2 years             24\n",
       "2     6 months to 1 year              9\n",
       "3      1 year to 2 years             18\n",
       "4      1 year to 2 years             18\n",
       "..                   ...            ...\n",
       "515    More than 2 years             24\n",
       "516    More than 2 years             24\n",
       "517    More than 2 years             24\n",
       "518   6 months to 1 year              9\n",
       "519    More than 2 years             24\n",
       "\n",
       "[520 rows x 2 columns]"
      ]
     },
     "execution_count": 6,
     "metadata": {},
     "output_type": "execute_result"
    }
   ],
   "source": [
    "spotify_df['period_median'] = spotify_df['spotify_usage_period'].map(period_dict)\n",
    "spotify_df[['spotify_usage_period', 'period_median']]"
   ]
  },
  {
   "cell_type": "markdown",
   "id": "26756745",
   "metadata": {},
   "source": [
    "#### 2-2-4. 컬럼별 분포 확인 (구독 관련)"
   ]
  },
  {
   "cell_type": "code",
   "execution_count": 50,
   "id": "66c80cbb",
   "metadata": {
    "ExecuteTime": {
     "end_time": "2023-12-29T04:18:35.854880Z",
     "start_time": "2023-12-29T04:18:35.823483Z"
    }
   },
   "outputs": [
    {
     "data": {
      "text/plain": [
       "Free (ad-supported)            424\n",
       "Premium (paid subscription)     96\n",
       "Name: spotify_subscription_plan, dtype: int64"
      ]
     },
     "execution_count": 50,
     "metadata": {},
     "output_type": "execute_result"
    }
   ],
   "source": [
    "spotify_df['spotify_subscription_plan'].value_counts()"
   ]
  },
  {
   "cell_type": "code",
   "execution_count": 55,
   "id": "83652a27",
   "metadata": {
    "ExecuteTime": {
     "end_time": "2023-12-29T04:19:53.972642Z",
     "start_time": "2023-12-29T04:19:53.864695Z"
    }
   },
   "outputs": [
    {
     "data": {
      "image/png": "[encoded data removed]",
      "text/plain": [
       "<Figure size 640x480 with 1 Axes>"
      ]
     },
     "metadata": {},
     "output_type": "display_data"
    }
   ],
   "source": [
    "plt.pie(\n",
    "    spotify_df['spotify_subscription_plan'].value_counts(),\n",
    "    labels=spotify_df['spotify_subscription_plan'].value_counts().index,\n",
    "    startangle=140,\n",
    "    autopct='%.1f%%'\n",
    ")\n",
    "\n",
    "plt.title('구독 여부 분포')\n",
    "\n",
    "plt.show()"
   ]
  },
  {
   "cell_type": "markdown",
   "id": "ca4c5fb2",
   "metadata": {},
   "source": [
    "프리미엄 구독 중인 고객보다 무료 이용 고객이 훨씬 많다."
   ]
  },
  {
   "cell_type": "code",
   "execution_count": 7,
   "id": "36c5e928",
   "metadata": {
    "ExecuteTime": {
     "end_time": "2023-12-29T08:01:14.440250Z",
     "start_time": "2023-12-29T08:01:14.425243Z"
    }
   },
   "outputs": [
    {
     "data": {
      "text/html": [
       "<div>\n",
       "<style scoped>\n",
       "    .dataframe tbody tr th:only-of-type {\n",
       "        vertical-align: middle;\n",
       "    }\n",
       "\n",
       "    .dataframe tbody tr th {\n",
       "        vertical-align: top;\n",
       "    }\n",
       "\n",
       "    .dataframe thead th {\n",
       "        text-align: right;\n",
       "    }\n",
       "</style>\n",
       "<table border=\"1\" class=\"dataframe\">\n",
       "  <thead>\n",
       "    <tr style=\"text-align: right;\">\n",
       "      <th></th>\n",
       "      <th>spotify_subscription_plan</th>\n",
       "      <th>subscription_binary</th>\n",
       "    </tr>\n",
       "  </thead>\n",
       "  <tbody>\n",
       "    <tr>\n",
       "      <th>0</th>\n",
       "      <td>Free (ad-supported)</td>\n",
       "      <td>0</td>\n",
       "    </tr>\n",
       "    <tr>\n",
       "      <th>1</th>\n",
       "      <td>Free (ad-supported)</td>\n",
       "      <td>0</td>\n",
       "    </tr>\n",
       "    <tr>\n",
       "      <th>2</th>\n",
       "      <td>Free (ad-supported)</td>\n",
       "      <td>0</td>\n",
       "    </tr>\n",
       "    <tr>\n",
       "      <th>3</th>\n",
       "      <td>Free (ad-supported)</td>\n",
       "      <td>0</td>\n",
       "    </tr>\n",
       "    <tr>\n",
       "      <th>4</th>\n",
       "      <td>Free (ad-supported)</td>\n",
       "      <td>0</td>\n",
       "    </tr>\n",
       "    <tr>\n",
       "      <th>...</th>\n",
       "      <td>...</td>\n",
       "      <td>...</td>\n",
       "    </tr>\n",
       "    <tr>\n",
       "      <th>515</th>\n",
       "      <td>Free (ad-supported)</td>\n",
       "      <td>0</td>\n",
       "    </tr>\n",
       "    <tr>\n",
       "      <th>516</th>\n",
       "      <td>Free (ad-supported)</td>\n",
       "      <td>0</td>\n",
       "    </tr>\n",
       "    <tr>\n",
       "      <th>517</th>\n",
       "      <td>Free (ad-supported)</td>\n",
       "      <td>0</td>\n",
       "    </tr>\n",
       "    <tr>\n",
       "      <th>518</th>\n",
       "      <td>Premium (paid subscription)</td>\n",
       "      <td>1</td>\n",
       "    </tr>\n",
       "    <tr>\n",
       "      <th>519</th>\n",
       "      <td>Premium (paid subscription)</td>\n",
       "      <td>1</td>\n",
       "    </tr>\n",
       "  </tbody>\n",
       "</table>\n",
       "<p>520 rows × 2 columns</p>\n",
       "</div>"
      ],
      "text/plain": [
       "       spotify_subscription_plan  subscription_binary\n",
       "0            Free (ad-supported)                    0\n",
       "1            Free (ad-supported)                    0\n",
       "2            Free (ad-supported)                    0\n",
       "3            Free (ad-supported)                    0\n",
       "4            Free (ad-supported)                    0\n",
       "..                           ...                  ...\n",
       "515          Free (ad-supported)                    0\n",
       "516          Free (ad-supported)                    0\n",
       "517          Free (ad-supported)                    0\n",
       "518  Premium (paid subscription)                    1\n",
       "519  Premium (paid subscription)                    1\n",
       "\n",
       "[520 rows x 2 columns]"
      ]
     },
     "execution_count": 7,
     "metadata": {},
     "output_type": "execute_result"
    }
   ],
   "source": [
    "spotify_df['subscription_binary'] = spotify_df['spotify_subscription_plan'].map({\n",
    "    'Free (ad-supported)': 0,\n",
    "    'Premium (paid subscription)': 1\n",
    "})\n",
    "\n",
    "spotify_df[['spotify_subscription_plan', 'subscription_binary']]"
   ]
  },
  {
   "cell_type": "code",
   "execution_count": 10,
   "id": "150614ba",
   "metadata": {
    "ExecuteTime": {
     "end_time": "2023-12-29T08:02:43.222542Z",
     "start_time": "2023-12-29T08:02:43.215268Z"
    }
   },
   "outputs": [
    {
     "data": {
      "text/plain": [
       "0      Yes\n",
       "1      Yes\n",
       "2      Yes\n",
       "3       No\n",
       "4       No\n",
       "      ... \n",
       "515    Yes\n",
       "516    Yes\n",
       "517     No\n",
       "518    Yes\n",
       "519    Yes\n",
       "Name: premium_sub_willingness, Length: 520, dtype: object"
      ]
     },
     "execution_count": 10,
     "metadata": {},
     "output_type": "execute_result"
    }
   ],
   "source": [
    "spotify_df['premium_sub_willingness']"
   ]
  },
  {
   "cell_type": "code",
   "execution_count": 15,
   "id": "9fcfaf41",
   "metadata": {
    "ExecuteTime": {
     "end_time": "2023-12-29T08:05:54.572890Z",
     "start_time": "2023-12-29T08:05:54.556598Z"
    }
   },
   "outputs": [
    {
     "data": {
      "text/html": [
       "<div>\n",
       "<style scoped>\n",
       "    .dataframe tbody tr th:only-of-type {\n",
       "        vertical-align: middle;\n",
       "    }\n",
       "\n",
       "    .dataframe tbody tr th {\n",
       "        vertical-align: top;\n",
       "    }\n",
       "\n",
       "    .dataframe thead th {\n",
       "        text-align: right;\n",
       "    }\n",
       "</style>\n",
       "<table border=\"1\" class=\"dataframe\">\n",
       "  <thead>\n",
       "    <tr style=\"text-align: right;\">\n",
       "      <th></th>\n",
       "      <th></th>\n",
       "      <th>count</th>\n",
       "    </tr>\n",
       "    <tr>\n",
       "      <th>spotify_subscription_plan</th>\n",
       "      <th>premium_sub_willingness</th>\n",
       "      <th></th>\n",
       "    </tr>\n",
       "  </thead>\n",
       "  <tbody>\n",
       "    <tr>\n",
       "      <th rowspan=\"2\" valign=\"top\">Free (ad-supported)</th>\n",
       "      <th>No</th>\n",
       "      <td>310</td>\n",
       "    </tr>\n",
       "    <tr>\n",
       "      <th>Yes</th>\n",
       "      <td>114</td>\n",
       "    </tr>\n",
       "    <tr>\n",
       "      <th rowspan=\"2\" valign=\"top\">Premium (paid subscription)</th>\n",
       "      <th>No</th>\n",
       "      <td>24</td>\n",
       "    </tr>\n",
       "    <tr>\n",
       "      <th>Yes</th>\n",
       "      <td>72</td>\n",
       "    </tr>\n",
       "  </tbody>\n",
       "</table>\n",
       "</div>"
      ],
      "text/plain": [
       "                                                     count\n",
       "spotify_subscription_plan   premium_sub_willingness       \n",
       "Free (ad-supported)         No                         310\n",
       "                            Yes                        114\n",
       "Premium (paid subscription) No                          24\n",
       "                            Yes                         72"
      ]
     },
     "execution_count": 15,
     "metadata": {},
     "output_type": "execute_result"
    }
   ],
   "source": [
    "willingness_by_subscription = spotify_df.groupby(['spotify_subscription_plan', 'premium_sub_willingness']).agg({\n",
    "    'subscription_binary': 'count',\n",
    "}).rename(columns={'subscription_binary': 'count'})\n",
    "\n",
    "willingness_by_subscription"
   ]
  },
  {
   "cell_type": "code",
   "execution_count": 23,
   "id": "a2da6052",
   "metadata": {
    "ExecuteTime": {
     "end_time": "2023-12-29T08:09:09.949895Z",
     "start_time": "2023-12-29T08:09:09.833930Z"
    }
   },
   "outputs": [
    {
     "data": {
      "image/png": "[encoded data removed]",
      "text/plain": [
       "<Figure size 640x480 with 1 Axes>"
      ]
     },
     "metadata": {},
     "output_type": "display_data"
    }
   ],
   "source": [
    "willingness_by_subscription.unstack().plot(kind='bar')\n",
    "plt.title('현 구독 상태에 따른 구독 희망 여부')\n",
    "plt.legend(['미구독 희망', '구독 희망'])\n",
    "plt.xlabel('현재 구독 상태')\n",
    "\n",
    "plt.show()"
   ]
  },
  {
   "cell_type": "markdown",
   "id": "235ba95a",
   "metadata": {},
   "source": [
    "현재 구독 중인 사람들은 계속 구독을 유지하겠다는 의견이 많고, 현재 무료로 이용 중인 사람들은 계속 무료로 이용하겠다는 의견이 많다. 스포티파이 비즈니스의 잠재적 목표를 다음과 같이 정의해 볼 수 있다.\n",
    "\n",
    "- (Free, No)에 속한 사람들을 (Free, **Yes**)로 옮긴다.\n",
    "- (Premium, No)에 속한 사람들을 (Premium, **Yes**)로 옮긴다."
   ]
  },
  {
   "cell_type": "code",
   "execution_count": 25,
   "id": "372b098a",
   "metadata": {
    "ExecuteTime": {
     "end_time": "2023-12-29T08:11:58.288501Z",
     "start_time": "2023-12-29T08:11:58.274273Z"
    }
   },
   "outputs": [
    {
     "data": {
      "text/plain": [
       "None                              208\n",
       "Individual Plan- Rs 119/ month     95\n",
       "Student Plan-Rs 59/month           94\n",
       "Duo plan- Rs 149/month             84\n",
       "Family Plan-Rs 179/month           39\n",
       "Name: preffered_premium_plan, dtype: int64"
      ]
     },
     "execution_count": 25,
     "metadata": {},
     "output_type": "execute_result"
    }
   ],
   "source": [
    "spotify_df['preffered_premium_plan'].value_counts()"
   ]
  },
  {
   "cell_type": "code",
   "execution_count": 35,
   "id": "8cbb29ee",
   "metadata": {
    "ExecuteTime": {
     "end_time": "2023-12-29T08:21:12.488509Z",
     "start_time": "2023-12-29T08:21:12.466598Z"
    }
   },
   "outputs": [
    {
     "data": {
      "text/plain": [
       "None                              208\n",
       "Student Plan-Rs 59/month           94\n",
       "Individual Plan- Rs 119/ month     95\n",
       "Duo plan- Rs 149/month             84\n",
       "Family Plan-Rs 179/month           39\n",
       "Name: preffered_premium_plan, dtype: int64"
      ]
     },
     "execution_count": 35,
     "metadata": {},
     "output_type": "execute_result"
    }
   ],
   "source": [
    "premium_plan_dict = {\n",
    "    'None': 0, 'Individual Plan- Rs 119/ month': 119, 'Student Plan-Rs 59/month': 59,\n",
    "    'Duo plan- Rs 149/month': 149, 'Family Plan-Rs 179/month': 179\n",
    "}\n",
    "\n",
    "premium_plan = spotify_df['preffered_premium_plan'].value_counts().sort_index(key=lambda x:x.map(premium_plan_dict))\n",
    "premium_plan"
   ]
  },
  {
   "cell_type": "code",
   "execution_count": 36,
   "id": "50a60106",
   "metadata": {
    "ExecuteTime": {
     "end_time": "2023-12-29T08:21:18.831533Z",
     "start_time": "2023-12-29T08:21:18.713968Z"
    }
   },
   "outputs": [
    {
     "data": {
      "image/png": "[encoded data removed]",
      "text/plain": [
       "<Figure size 1200x800 with 1 Axes>"
      ]
     },
     "metadata": {},
     "output_type": "display_data"
    }
   ],
   "source": [
    "plt.figure(figsize=(12, 8))\n",
    "plt.bar(\n",
    "    premium_plan.index,\n",
    "    premium_plan\n",
    ")\n",
    "\n",
    "plt.title('희망하는 구독 플랜 분포')\n",
    "plt.xticks(rotation=45)\n",
    "plt.show()"
   ]
  },
  {
   "cell_type": "markdown",
   "id": "134eb414",
   "metadata": {},
   "source": [
    "무료 플랜에 대한 선호도가 가장 높다. 학생 요금제를 제외하고, 일반 요금제들끼리 비교해 보면 **구독료가 비쌀수록 수요가 낮다.**\n",
    "\n",
    "마찬가지로 범주형 데이터를 정수형으로 변환하는 과정을 거친다."
   ]
  },
  {
   "cell_type": "code",
   "execution_count": 43,
   "id": "97942d2e",
   "metadata": {
    "ExecuteTime": {
     "end_time": "2023-12-29T08:23:37.919544Z",
     "start_time": "2023-12-29T08:23:37.901918Z"
    }
   },
   "outputs": [
    {
     "data": {
      "text/html": [
       "<div>\n",
       "<style scoped>\n",
       "    .dataframe tbody tr th:only-of-type {\n",
       "        vertical-align: middle;\n",
       "    }\n",
       "\n",
       "    .dataframe tbody tr th {\n",
       "        vertical-align: top;\n",
       "    }\n",
       "\n",
       "    .dataframe thead th {\n",
       "        text-align: right;\n",
       "    }\n",
       "</style>\n",
       "<table border=\"1\" class=\"dataframe\">\n",
       "  <thead>\n",
       "    <tr style=\"text-align: right;\">\n",
       "      <th></th>\n",
       "      <th>preffered_premium_plan</th>\n",
       "      <th>preffered_premium_plan_numeric</th>\n",
       "    </tr>\n",
       "  </thead>\n",
       "  <tbody>\n",
       "    <tr>\n",
       "      <th>0</th>\n",
       "      <td>Family Plan-Rs 179/month</td>\n",
       "      <td>179</td>\n",
       "    </tr>\n",
       "    <tr>\n",
       "      <th>1</th>\n",
       "      <td>Individual Plan- Rs 119/ month</td>\n",
       "      <td>119</td>\n",
       "    </tr>\n",
       "    <tr>\n",
       "      <th>2</th>\n",
       "      <td>Student Plan-Rs 59/month</td>\n",
       "      <td>59</td>\n",
       "    </tr>\n",
       "    <tr>\n",
       "      <th>3</th>\n",
       "      <td>None</td>\n",
       "      <td>0</td>\n",
       "    </tr>\n",
       "    <tr>\n",
       "      <th>4</th>\n",
       "      <td>None</td>\n",
       "      <td>0</td>\n",
       "    </tr>\n",
       "    <tr>\n",
       "      <th>...</th>\n",
       "      <td>...</td>\n",
       "      <td>...</td>\n",
       "    </tr>\n",
       "    <tr>\n",
       "      <th>515</th>\n",
       "      <td>Student Plan-Rs 59/month</td>\n",
       "      <td>59</td>\n",
       "    </tr>\n",
       "    <tr>\n",
       "      <th>516</th>\n",
       "      <td>Student Plan-Rs 59/month</td>\n",
       "      <td>59</td>\n",
       "    </tr>\n",
       "    <tr>\n",
       "      <th>517</th>\n",
       "      <td>Student Plan-Rs 59/month</td>\n",
       "      <td>59</td>\n",
       "    </tr>\n",
       "    <tr>\n",
       "      <th>518</th>\n",
       "      <td>Individual Plan- Rs 119/ month</td>\n",
       "      <td>119</td>\n",
       "    </tr>\n",
       "    <tr>\n",
       "      <th>519</th>\n",
       "      <td>Student Plan-Rs 59/month</td>\n",
       "      <td>59</td>\n",
       "    </tr>\n",
       "  </tbody>\n",
       "</table>\n",
       "<p>520 rows × 2 columns</p>\n",
       "</div>"
      ],
      "text/plain": [
       "             preffered_premium_plan  preffered_premium_plan_numeric\n",
       "0          Family Plan-Rs 179/month                             179\n",
       "1    Individual Plan- Rs 119/ month                             119\n",
       "2          Student Plan-Rs 59/month                              59\n",
       "3                              None                               0\n",
       "4                              None                               0\n",
       "..                              ...                             ...\n",
       "515        Student Plan-Rs 59/month                              59\n",
       "516        Student Plan-Rs 59/month                              59\n",
       "517        Student Plan-Rs 59/month                              59\n",
       "518  Individual Plan- Rs 119/ month                             119\n",
       "519        Student Plan-Rs 59/month                              59\n",
       "\n",
       "[520 rows x 2 columns]"
      ]
     },
     "execution_count": 43,
     "metadata": {},
     "output_type": "execute_result"
    }
   ],
   "source": [
    "spotify_df['preffered_premium_plan_numeric'] = spotify_df['preffered_premium_plan'].map(premium_plan_dict)\n",
    "spotify_df[['preffered_premium_plan', 'preffered_premium_plan_numeric']]"
   ]
  },
  {
   "cell_type": "markdown",
   "id": "7339178c",
   "metadata": {},
   "source": [
    "#### 2-2-5. 컬럼별 분포 확인 (음악 취향)"
   ]
  },
  {
   "cell_type": "code",
   "execution_count": 45,
   "id": "7bd4388c",
   "metadata": {
    "ExecuteTime": {
     "end_time": "2023-12-29T08:27:47.910429Z",
     "start_time": "2023-12-29T08:27:47.888797Z"
    }
   },
   "outputs": [
    {
     "data": {
      "text/plain": [
       "Music      410\n",
       "Podcast    110\n",
       "Name: preferred_listening_content, dtype: int64"
      ]
     },
     "execution_count": 45,
     "metadata": {},
     "output_type": "execute_result"
    }
   ],
   "source": [
    "spotify_df['preferred_listening_content'].value_counts()"
   ]
  },
  {
   "cell_type": "code",
   "execution_count": 50,
   "id": "ec79d735",
   "metadata": {
    "ExecuteTime": {
     "end_time": "2023-12-29T08:29:21.061229Z",
     "start_time": "2023-12-29T08:29:20.987419Z"
    }
   },
   "outputs": [
    {
     "data": {
      "image/png": "[encoded data removed]",
      "text/plain": [
       "<Figure size 640x480 with 1 Axes>"
      ]
     },
     "metadata": {},
     "output_type": "display_data"
    }
   ],
   "source": [
    "plt.pie(\n",
    "    spotify_df['preferred_listening_content'].value_counts(),\n",
    "    labels=spotify_df['preferred_listening_content'].value_counts().index,\n",
    "    autopct='%.1f%%'\n",
    ")\n",
    "\n",
    "plt.title('선호 컨텐츠')\n",
    "\n",
    "plt.show()"
   ]
  },
  {
   "cell_type": "markdown",
   "id": "4d5f01fd",
   "metadata": {},
   "source": [
    "스포티파이 이용자들은 팟캐스트를 통해 음악을 듣는 것보다 자신이 직접 **음악을 찾아서** 듣는 것을 더 좋아한다. 그렇기 때문에 이후 분석에서 팟캐스트 관련 데이터들은 제외하고, 음악 관련 데이터들만 다루도록 한다."
   ]
  },
  {
   "cell_type": "code",
   "execution_count": 52,
   "id": "9205a94a",
   "metadata": {
    "ExecuteTime": {
     "end_time": "2023-12-29T08:30:41.347092Z",
     "start_time": "2023-12-29T08:30:41.334862Z"
    }
   },
   "outputs": [
    {
     "data": {
      "text/plain": [
       "Melody                       259\n",
       "classical                     87\n",
       "Pop                           85\n",
       "Rap                           55\n",
       "Electronic/Dance              16\n",
       "All                            6\n",
       "Rock                           4\n",
       "Kpop                           4\n",
       "Classical & melody, dance      2\n",
       "Old songs                      1\n",
       "trending songs random          1\n",
       "Name: fav_music_genre, dtype: int64"
      ]
     },
     "execution_count": 52,
     "metadata": {},
     "output_type": "execute_result"
    }
   ],
   "source": [
    "spotify_df['fav_music_genre'].value_counts()"
   ]
  },
  {
   "cell_type": "code",
   "execution_count": 64,
   "id": "c0a1a194",
   "metadata": {
    "ExecuteTime": {
     "end_time": "2023-12-29T08:33:48.578643Z",
     "start_time": "2023-12-29T08:33:48.456039Z"
    }
   },
   "outputs": [
    {
     "data": {
      "image/png": "[encoded data removed]",
      "text/plain": [
       "<Figure size 1200x800 with 1 Axes>"
      ]
     },
     "metadata": {},
     "output_type": "display_data"
    }
   ],
   "source": [
    "plt.figure(figsize=(12, 8))\n",
    "plt.bar(\n",
    "    spotify_df['fav_music_genre'].value_counts().index,\n",
    "    spotify_df['fav_music_genre'].value_counts()\n",
    ")\n",
    "\n",
    "plt.title('선호하는 음악 장르')\n",
    "plt.axhline(spotify_df['fav_music_genre'].value_counts().mean(), color='red', linewidth=2, linestyle='--')\n",
    "plt.xticks(rotation=45)\n",
    "plt.yticks([i for i in range(0, 301, 60)] + [spotify_df['fav_music_genre'].value_counts().mean()])\n",
    "\n",
    "plt.show()"
   ]
  },
  {
   "cell_type": "markdown",
   "id": "044e93be",
   "metadata": {},
   "source": [
    "평균보다 높은 선호도를 보인 장르는 **Melody, Classical, Pop, Rap**이다. 음악 스트리밍 서비스에 대해 내가 생각하는 것과 본 데이터 구성원들이 생각하는 게 꽤 괴리가 있는 것 같다. 내 생각엔 팝, 랩 같은 장르를 듣지 멜로디나 클래식을 들을 것 같지는 않았는데 오히려 그 둘이 지배적이다.\n",
    "\n",
    "마찬가지로 categorical을 numeric으로 바꿔준다."
   ]
  },
  {
   "cell_type": "code",
   "execution_count": 70,
   "id": "94d2966f",
   "metadata": {
    "ExecuteTime": {
     "end_time": "2023-12-29T08:39:29.956877Z",
     "start_time": "2023-12-29T08:39:29.932016Z"
    }
   },
   "outputs": [
    {
     "data": {
      "text/html": [
       "<div>\n",
       "<style scoped>\n",
       "    .dataframe tbody tr th:only-of-type {\n",
       "        vertical-align: middle;\n",
       "    }\n",
       "\n",
       "    .dataframe tbody tr th {\n",
       "        vertical-align: top;\n",
       "    }\n",
       "\n",
       "    .dataframe thead th {\n",
       "        text-align: right;\n",
       "    }\n",
       "</style>\n",
       "<table border=\"1\" class=\"dataframe\">\n",
       "  <thead>\n",
       "    <tr style=\"text-align: right;\">\n",
       "      <th></th>\n",
       "      <th>fav_music_genre</th>\n",
       "      <th>fav_music_genre_numeric</th>\n",
       "    </tr>\n",
       "  </thead>\n",
       "  <tbody>\n",
       "    <tr>\n",
       "      <th>0</th>\n",
       "      <td>Melody</td>\n",
       "      <td>0</td>\n",
       "    </tr>\n",
       "    <tr>\n",
       "      <th>1</th>\n",
       "      <td>Rap</td>\n",
       "      <td>3</td>\n",
       "    </tr>\n",
       "    <tr>\n",
       "      <th>2</th>\n",
       "      <td>Pop</td>\n",
       "      <td>2</td>\n",
       "    </tr>\n",
       "    <tr>\n",
       "      <th>3</th>\n",
       "      <td>Melody</td>\n",
       "      <td>0</td>\n",
       "    </tr>\n",
       "    <tr>\n",
       "      <th>4</th>\n",
       "      <td>Melody</td>\n",
       "      <td>0</td>\n",
       "    </tr>\n",
       "    <tr>\n",
       "      <th>...</th>\n",
       "      <td>...</td>\n",
       "      <td>...</td>\n",
       "    </tr>\n",
       "    <tr>\n",
       "      <th>515</th>\n",
       "      <td>Pop</td>\n",
       "      <td>2</td>\n",
       "    </tr>\n",
       "    <tr>\n",
       "      <th>516</th>\n",
       "      <td>Pop</td>\n",
       "      <td>2</td>\n",
       "    </tr>\n",
       "    <tr>\n",
       "      <th>517</th>\n",
       "      <td>Pop</td>\n",
       "      <td>2</td>\n",
       "    </tr>\n",
       "    <tr>\n",
       "      <th>518</th>\n",
       "      <td>Melody</td>\n",
       "      <td>0</td>\n",
       "    </tr>\n",
       "    <tr>\n",
       "      <th>519</th>\n",
       "      <td>Pop</td>\n",
       "      <td>2</td>\n",
       "    </tr>\n",
       "  </tbody>\n",
       "</table>\n",
       "<p>520 rows × 2 columns</p>\n",
       "</div>"
      ],
      "text/plain": [
       "    fav_music_genre  fav_music_genre_numeric\n",
       "0            Melody                        0\n",
       "1               Rap                        3\n",
       "2               Pop                        2\n",
       "3            Melody                        0\n",
       "4            Melody                        0\n",
       "..              ...                      ...\n",
       "515             Pop                        2\n",
       "516             Pop                        2\n",
       "517             Pop                        2\n",
       "518          Melody                        0\n",
       "519             Pop                        2\n",
       "\n",
       "[520 rows x 2 columns]"
      ]
     },
     "execution_count": 70,
     "metadata": {},
     "output_type": "execute_result"
    }
   ],
   "source": [
    "genre_dict = {\n",
    "    spotify_df['fav_music_genre'].value_counts().index[i] : i for i in range(len(spotify_df['fav_music_genre'].value_counts().index))\n",
    "}\n",
    "\n",
    "spotify_df['fav_music_genre_numeric'] = spotify_df['fav_music_genre'].map(genre_dict)\n",
    "spotify_df[['fav_music_genre', 'fav_music_genre_numeric']]"
   ]
  },
  {
   "cell_type": "markdown",
   "id": "dd8ece21",
   "metadata": {},
   "source": [
    "#### 2-2-6. 컬럼별 분포 확인 (서비스 이용 환경)"
   ]
  },
  {
   "cell_type": "code",
   "execution_count": 66,
   "id": "88548ecc",
   "metadata": {
    "ExecuteTime": {
     "end_time": "2023-12-29T08:36:56.243483Z",
     "start_time": "2023-12-29T08:36:56.232184Z"
    }
   },
   "outputs": [
    {
     "data": {
      "text/plain": [
       "Night        312\n",
       "Afternoon    117\n",
       "Morning       91\n",
       "Name: music_time_slot, dtype: int64"
      ]
     },
     "execution_count": 66,
     "metadata": {},
     "output_type": "execute_result"
    }
   ],
   "source": [
    "spotify_df['music_time_slot'].value_counts()"
   ]
  },
  {
   "cell_type": "code",
   "execution_count": 77,
   "id": "3896535c",
   "metadata": {
    "ExecuteTime": {
     "end_time": "2023-12-29T08:43:07.050418Z",
     "start_time": "2023-12-29T08:43:06.981548Z"
    }
   },
   "outputs": [
    {
     "data": {
      "image/png": "[encoded data removed]",
      "text/plain": [
       "<Figure size 640x480 with 1 Axes>"
      ]
     },
     "metadata": {},
     "output_type": "display_data"
    }
   ],
   "source": [
    "plt.pie(\n",
    "    spotify_df['music_time_slot'].value_counts(),\n",
    "    labels=spotify_df['music_time_slot'].value_counts().index,\n",
    "    autopct='%.1f%%'\n",
    ")\n",
    "\n",
    "plt.title('선호하는 음악 청취 시간대')\n",
    "plt.show()"
   ]
  },
  {
   "cell_type": "markdown",
   "id": "222c30b5",
   "metadata": {},
   "source": [
    "**밤 시간대**에 듣는 비중이 제일 많고 아침 시간대와 낮 시간대는 비슷하다."
   ]
  },
  {
   "cell_type": "code",
   "execution_count": 78,
   "id": "94e7d97d",
   "metadata": {
    "ExecuteTime": {
     "end_time": "2023-12-29T08:44:49.033488Z",
     "start_time": "2023-12-29T08:44:49.003962Z"
    }
   },
   "outputs": [
    {
     "data": {
      "text/html": [
       "<div>\n",
       "<style scoped>\n",
       "    .dataframe tbody tr th:only-of-type {\n",
       "        vertical-align: middle;\n",
       "    }\n",
       "\n",
       "    .dataframe tbody tr th {\n",
       "        vertical-align: top;\n",
       "    }\n",
       "\n",
       "    .dataframe thead th {\n",
       "        text-align: right;\n",
       "    }\n",
       "</style>\n",
       "<table border=\"1\" class=\"dataframe\">\n",
       "  <thead>\n",
       "    <tr style=\"text-align: right;\">\n",
       "      <th></th>\n",
       "      <th>music_time_slot</th>\n",
       "      <th>music_time_slot_numeric</th>\n",
       "    </tr>\n",
       "  </thead>\n",
       "  <tbody>\n",
       "    <tr>\n",
       "      <th>0</th>\n",
       "      <td>Night</td>\n",
       "      <td>2</td>\n",
       "    </tr>\n",
       "    <tr>\n",
       "      <th>1</th>\n",
       "      <td>Afternoon</td>\n",
       "      <td>1</td>\n",
       "    </tr>\n",
       "    <tr>\n",
       "      <th>2</th>\n",
       "      <td>Night</td>\n",
       "      <td>2</td>\n",
       "    </tr>\n",
       "    <tr>\n",
       "      <th>3</th>\n",
       "      <td>Night</td>\n",
       "      <td>2</td>\n",
       "    </tr>\n",
       "    <tr>\n",
       "      <th>4</th>\n",
       "      <td>Night</td>\n",
       "      <td>2</td>\n",
       "    </tr>\n",
       "    <tr>\n",
       "      <th>...</th>\n",
       "      <td>...</td>\n",
       "      <td>...</td>\n",
       "    </tr>\n",
       "    <tr>\n",
       "      <th>515</th>\n",
       "      <td>Morning</td>\n",
       "      <td>0</td>\n",
       "    </tr>\n",
       "    <tr>\n",
       "      <th>516</th>\n",
       "      <td>Night</td>\n",
       "      <td>2</td>\n",
       "    </tr>\n",
       "    <tr>\n",
       "      <th>517</th>\n",
       "      <td>Night</td>\n",
       "      <td>2</td>\n",
       "    </tr>\n",
       "    <tr>\n",
       "      <th>518</th>\n",
       "      <td>Night</td>\n",
       "      <td>2</td>\n",
       "    </tr>\n",
       "    <tr>\n",
       "      <th>519</th>\n",
       "      <td>Night</td>\n",
       "      <td>2</td>\n",
       "    </tr>\n",
       "  </tbody>\n",
       "</table>\n",
       "<p>520 rows × 2 columns</p>\n",
       "</div>"
      ],
      "text/plain": [
       "    music_time_slot  music_time_slot_numeric\n",
       "0             Night                        2\n",
       "1         Afternoon                        1\n",
       "2             Night                        2\n",
       "3             Night                        2\n",
       "4             Night                        2\n",
       "..              ...                      ...\n",
       "515         Morning                        0\n",
       "516           Night                        2\n",
       "517           Night                        2\n",
       "518           Night                        2\n",
       "519           Night                        2\n",
       "\n",
       "[520 rows x 2 columns]"
      ]
     },
     "execution_count": 78,
     "metadata": {},
     "output_type": "execute_result"
    }
   ],
   "source": [
    "time_dict = {'Morning': 0, 'Afternoon': 1, 'Night': 2}\n",
    "\n",
    "spotify_df['music_time_slot_numeric'] = spotify_df['music_time_slot'].map(time_dict)\n",
    "spotify_df[['music_time_slot', 'music_time_slot_numeric']]"
   ]
  },
  {
   "cell_type": "markdown",
   "id": "fa3af6ad",
   "metadata": {},
   "source": [
    "#### 2-2-7. 컬럼별 분포 확인 (서비스 선호도)"
   ]
  },
  {
   "cell_type": "code",
   "execution_count": 84,
   "id": "d58cde66",
   "metadata": {
    "ExecuteTime": {
     "end_time": "2023-12-29T08:47:21.599249Z",
     "start_time": "2023-12-29T08:47:21.576326Z"
    }
   },
   "outputs": [
    {
     "data": {
      "text/plain": [
       "recommendations                              113\n",
       "Playlists                                    112\n",
       "recommendations, Playlists                    86\n",
       "Others                                        55\n",
       "Radio                                         51\n",
       "Playlists, Radio                              18\n",
       "recommendations, Playlists, Others            18\n",
       "recommendations, Others                       15\n",
       "recommendations, Playlists, Radio             13\n",
       "Playlists, Others                              9\n",
       "Radio, Others                                  7\n",
       "recommendations, Radio                         6\n",
       "Playlists, Radio, Others                       6\n",
       "recommendations, Radio, Others                 4\n",
       "recommendations, Playlists, Radio, Others      2\n",
       "recommendations,Others, Social media           1\n",
       "Others, Social media                           1\n",
       "Others, Friends                                1\n",
       "recommendations, Others, Social media          1\n",
       "Others, Search                                 1\n",
       "Name: music_expl_method, dtype: int64"
      ]
     },
     "execution_count": 84,
     "metadata": {},
     "output_type": "execute_result"
    }
   ],
   "source": [
    "spotify_df['music_expl_method'].value_counts()"
   ]
  },
  {
   "cell_type": "code",
   "execution_count": 91,
   "id": "b4da9620",
   "metadata": {
    "ExecuteTime": {
     "end_time": "2023-12-29T08:48:27.570089Z",
     "start_time": "2023-12-29T08:48:27.557958Z"
    }
   },
   "outputs": [
    {
     "data": {
      "text/plain": [
       "0      3\n",
       "1      2\n",
       "2      4\n",
       "3      4\n",
       "4      4\n",
       "      ..\n",
       "515    5\n",
       "516    2\n",
       "517    3\n",
       "518    2\n",
       "519    3\n",
       "Name: music_recc_rating, Length: 520, dtype: int64"
      ]
     },
     "execution_count": 91,
     "metadata": {},
     "output_type": "execute_result"
    }
   ],
   "source": [
    "spotify_df['music_recc_rating']"
   ]
  },
  {
   "cell_type": "code",
   "execution_count": 98,
   "id": "1439a90a",
   "metadata": {
    "ExecuteTime": {
     "end_time": "2023-12-29T08:51:08.722903Z",
     "start_time": "2023-12-29T08:51:08.621415Z"
    }
   },
   "outputs": [
    {
     "data": {
      "image/png": "[encoded data removed]",
      "text/plain": [
       "<Figure size 640x480 with 1 Axes>"
      ]
     },
     "metadata": {},
     "output_type": "display_data"
    }
   ],
   "source": [
    "plt.boxplot(\n",
    "    spotify_df['music_recc_rating'],\n",
    "    labels=['만족도']\n",
    ")\n",
    "\n",
    "plt.title('음악 추천 만족도 분포')\n",
    "\n",
    "plt.show()"
   ]
  },
  {
   "cell_type": "code",
   "execution_count": 102,
   "id": "6099c762",
   "metadata": {
    "ExecuteTime": {
     "end_time": "2023-12-29T08:53:23.869034Z",
     "start_time": "2023-12-29T08:53:23.847411Z"
    }
   },
   "outputs": [
    {
     "data": {
      "text/html": [
       "<div>\n",
       "<style scoped>\n",
       "    .dataframe tbody tr th:only-of-type {\n",
       "        vertical-align: middle;\n",
       "    }\n",
       "\n",
       "    .dataframe tbody tr th {\n",
       "        vertical-align: top;\n",
       "    }\n",
       "\n",
       "    .dataframe thead th {\n",
       "        text-align: right;\n",
       "    }\n",
       "</style>\n",
       "<table border=\"1\" class=\"dataframe\">\n",
       "  <thead>\n",
       "    <tr style=\"text-align: right;\">\n",
       "      <th></th>\n",
       "      <th>age_median</th>\n",
       "      <th>gender_binary</th>\n",
       "      <th>period_median</th>\n",
       "      <th>subscription_binary</th>\n",
       "      <th>preffered_premium_plan_numeric</th>\n",
       "      <th>fav_music_genre_numeric</th>\n",
       "      <th>music_time_slot_numeric</th>\n",
       "      <th>music_recc_rating</th>\n",
       "    </tr>\n",
       "  </thead>\n",
       "  <tbody>\n",
       "    <tr>\n",
       "      <th>0</th>\n",
       "      <td>27.5</td>\n",
       "      <td>1</td>\n",
       "      <td>24</td>\n",
       "      <td>0</td>\n",
       "      <td>179</td>\n",
       "      <td>0</td>\n",
       "      <td>2</td>\n",
       "      <td>3</td>\n",
       "    </tr>\n",
       "    <tr>\n",
       "      <th>1</th>\n",
       "      <td>16.0</td>\n",
       "      <td>0</td>\n",
       "      <td>24</td>\n",
       "      <td>0</td>\n",
       "      <td>119</td>\n",
       "      <td>3</td>\n",
       "      <td>1</td>\n",
       "      <td>2</td>\n",
       "    </tr>\n",
       "    <tr>\n",
       "      <th>2</th>\n",
       "      <td>47.5</td>\n",
       "      <td>2</td>\n",
       "      <td>9</td>\n",
       "      <td>0</td>\n",
       "      <td>59</td>\n",
       "      <td>2</td>\n",
       "      <td>2</td>\n",
       "      <td>4</td>\n",
       "    </tr>\n",
       "    <tr>\n",
       "      <th>3</th>\n",
       "      <td>27.5</td>\n",
       "      <td>1</td>\n",
       "      <td>18</td>\n",
       "      <td>0</td>\n",
       "      <td>0</td>\n",
       "      <td>0</td>\n",
       "      <td>2</td>\n",
       "      <td>4</td>\n",
       "    </tr>\n",
       "    <tr>\n",
       "      <th>4</th>\n",
       "      <td>27.5</td>\n",
       "      <td>1</td>\n",
       "      <td>18</td>\n",
       "      <td>0</td>\n",
       "      <td>0</td>\n",
       "      <td>0</td>\n",
       "      <td>2</td>\n",
       "      <td>4</td>\n",
       "    </tr>\n",
       "    <tr>\n",
       "      <th>...</th>\n",
       "      <td>...</td>\n",
       "      <td>...</td>\n",
       "      <td>...</td>\n",
       "      <td>...</td>\n",
       "      <td>...</td>\n",
       "      <td>...</td>\n",
       "      <td>...</td>\n",
       "      <td>...</td>\n",
       "    </tr>\n",
       "    <tr>\n",
       "      <th>515</th>\n",
       "      <td>27.5</td>\n",
       "      <td>1</td>\n",
       "      <td>24</td>\n",
       "      <td>0</td>\n",
       "      <td>59</td>\n",
       "      <td>2</td>\n",
       "      <td>0</td>\n",
       "      <td>5</td>\n",
       "    </tr>\n",
       "    <tr>\n",
       "      <th>516</th>\n",
       "      <td>27.5</td>\n",
       "      <td>1</td>\n",
       "      <td>24</td>\n",
       "      <td>0</td>\n",
       "      <td>59</td>\n",
       "      <td>2</td>\n",
       "      <td>2</td>\n",
       "      <td>2</td>\n",
       "    </tr>\n",
       "    <tr>\n",
       "      <th>517</th>\n",
       "      <td>27.5</td>\n",
       "      <td>1</td>\n",
       "      <td>24</td>\n",
       "      <td>0</td>\n",
       "      <td>59</td>\n",
       "      <td>2</td>\n",
       "      <td>2</td>\n",
       "      <td>3</td>\n",
       "    </tr>\n",
       "    <tr>\n",
       "      <th>518</th>\n",
       "      <td>27.5</td>\n",
       "      <td>1</td>\n",
       "      <td>9</td>\n",
       "      <td>1</td>\n",
       "      <td>119</td>\n",
       "      <td>0</td>\n",
       "      <td>2</td>\n",
       "      <td>2</td>\n",
       "    </tr>\n",
       "    <tr>\n",
       "      <th>519</th>\n",
       "      <td>27.5</td>\n",
       "      <td>1</td>\n",
       "      <td>24</td>\n",
       "      <td>1</td>\n",
       "      <td>59</td>\n",
       "      <td>2</td>\n",
       "      <td>2</td>\n",
       "      <td>3</td>\n",
       "    </tr>\n",
       "  </tbody>\n",
       "</table>\n",
       "<p>520 rows × 8 columns</p>\n",
       "</div>"
      ],
      "text/plain": [
       "     age_median  gender_binary  period_median  subscription_binary  \\\n",
       "0          27.5              1             24                    0   \n",
       "1          16.0              0             24                    0   \n",
       "2          47.5              2              9                    0   \n",
       "3          27.5              1             18                    0   \n",
       "4          27.5              1             18                    0   \n",
       "..          ...            ...            ...                  ...   \n",
       "515        27.5              1             24                    0   \n",
       "516        27.5              1             24                    0   \n",
       "517        27.5              1             24                    0   \n",
       "518        27.5              1              9                    1   \n",
       "519        27.5              1             24                    1   \n",
       "\n",
       "     preffered_premium_plan_numeric  fav_music_genre_numeric  \\\n",
       "0                               179                        0   \n",
       "1                               119                        3   \n",
       "2                                59                        2   \n",
       "3                                 0                        0   \n",
       "4                                 0                        0   \n",
       "..                              ...                      ...   \n",
       "515                              59                        2   \n",
       "516                              59                        2   \n",
       "517                              59                        2   \n",
       "518                             119                        0   \n",
       "519                              59                        2   \n",
       "\n",
       "     music_time_slot_numeric  music_recc_rating  \n",
       "0                          2                  3  \n",
       "1                          1                  2  \n",
       "2                          2                  4  \n",
       "3                          2                  4  \n",
       "4                          2                  4  \n",
       "..                       ...                ...  \n",
       "515                        0                  5  \n",
       "516                        2                  2  \n",
       "517                        2                  3  \n",
       "518                        2                  2  \n",
       "519                        2                  3  \n",
       "\n",
       "[520 rows x 8 columns]"
      ]
     },
     "execution_count": 102,
     "metadata": {},
     "output_type": "execute_result"
    }
   ],
   "source": [
    "new_spotify_df = spotify_df[[\n",
    "    'age_median',\n",
    "    'gender_binary',\n",
    "    'period_median',\n",
    "    'subscription_binary',\n",
    "    'preffered_premium_plan_numeric',\n",
    "    'fav_music_genre_numeric',\n",
    "    'music_time_slot_numeric',\n",
    "    'music_recc_rating'\n",
    "]]\n",
    "\n",
    "new_spotify_df"
   ]
  },
  {
   "cell_type": "code",
   "execution_count": 106,
   "id": "0fe53f86",
   "metadata": {
    "ExecuteTime": {
     "end_time": "2023-12-29T08:53:57.855898Z",
     "start_time": "2023-12-29T08:53:57.835409Z"
    }
   },
   "outputs": [],
   "source": [
    "# pickle로 저장\n",
    "with open('new_spotify_df.pkl', 'wb') as file:\n",
    "    pickle.dump(new_spotify_df, file)"
   ]
  },
  {
   "cell_type": "markdown",
   "id": "5a6a8ec9",
   "metadata": {},
   "source": [
    "---"
   ]
  },
  {
   "cell_type": "markdown",
   "id": "6dcd5034",
   "metadata": {},
   "source": [
    "## 3. 데이터 분석"
   ]
  },
  {
   "cell_type": "markdown",
   "id": "99332bdb",
   "metadata": {},
   "source": [
    "### 3-1. 문제 정의\n",
    "\n",
    "스포티파이 비즈니스 목표는 **구독 가입자 수를 늘리는 것**으로 정의한다.\n",
    "\n",
    "목표에 도달하기 위해, 먼저 다음의 두 군집을 식별해 내고자 한다.\n",
    "- 현재 구독 중이나 잠재적으로 해지할 위험성이 높은 군집 (이상 집단 A)\n",
    "- 현재 구독 중이 아니지만 잠재적으로 구독할 가능성이 높은 군집 (이상 집단 B)\n",
    "\n",
    "이어지는 분석 절차는 다음과 같다.\n",
    "- z-score validation을 통해 집단 A가 지니는 특성을 발견해 낸 뒤, 유저의 이탈을 막기 위한 액션 아이템 도출\n",
    "- z-score validation을 통해 집단 B가 지니는 특성을 발견해 낸 뒤, 해당 유저들을 유인하기 위한 액션 아이템 도출"
   ]
  },
  {
   "cell_type": "markdown",
   "id": "14d2f3ca",
   "metadata": {},
   "source": [
    "### 3-2. 데이터 분석"
   ]
  },
  {
   "cell_type": "markdown",
   "id": "84036417",
   "metadata": {},
   "source": [
    "#### 3-2-1. 데이터 전처리"
   ]
  },
  {
   "cell_type": "code",
   "execution_count": 80,
   "id": "d47770ab",
   "metadata": {
    "ExecuteTime": {
     "end_time": "2024-01-05T08:26:40.712297Z",
     "start_time": "2024-01-05T08:26:40.674307Z"
    }
   },
   "outputs": [],
   "source": [
    "with open('new_spotify_df.pkl', 'rb') as file:\n",
    "    new_spotify_df = pickle.load(file)"
   ]
  },
  {
   "cell_type": "code",
   "execution_count": 81,
   "id": "207031ea",
   "metadata": {
    "ExecuteTime": {
     "end_time": "2024-01-05T08:26:41.491156Z",
     "start_time": "2024-01-05T08:26:41.458612Z"
    }
   },
   "outputs": [
    {
     "data": {
      "text/html": [
       "<div>\n",
       "<style scoped>\n",
       "    .dataframe tbody tr th:only-of-type {\n",
       "        vertical-align: middle;\n",
       "    }\n",
       "\n",
       "    .dataframe tbody tr th {\n",
       "        vertical-align: top;\n",
       "    }\n",
       "\n",
       "    .dataframe thead th {\n",
       "        text-align: right;\n",
       "    }\n",
       "</style>\n",
       "<table border=\"1\" class=\"dataframe\">\n",
       "  <thead>\n",
       "    <tr style=\"text-align: right;\">\n",
       "      <th></th>\n",
       "      <th>age_median</th>\n",
       "      <th>gender_binary</th>\n",
       "      <th>period_median</th>\n",
       "      <th>subscription_binary</th>\n",
       "      <th>preffered_premium_plan_numeric</th>\n",
       "      <th>fav_music_genre_numeric</th>\n",
       "      <th>music_time_slot_numeric</th>\n",
       "      <th>music_recc_rating</th>\n",
       "    </tr>\n",
       "  </thead>\n",
       "  <tbody>\n",
       "    <tr>\n",
       "      <th>0</th>\n",
       "      <td>27.5</td>\n",
       "      <td>1</td>\n",
       "      <td>24</td>\n",
       "      <td>0</td>\n",
       "      <td>179</td>\n",
       "      <td>0</td>\n",
       "      <td>2</td>\n",
       "      <td>3</td>\n",
       "    </tr>\n",
       "    <tr>\n",
       "      <th>1</th>\n",
       "      <td>16.0</td>\n",
       "      <td>0</td>\n",
       "      <td>24</td>\n",
       "      <td>0</td>\n",
       "      <td>119</td>\n",
       "      <td>3</td>\n",
       "      <td>1</td>\n",
       "      <td>2</td>\n",
       "    </tr>\n",
       "    <tr>\n",
       "      <th>2</th>\n",
       "      <td>47.5</td>\n",
       "      <td>2</td>\n",
       "      <td>9</td>\n",
       "      <td>0</td>\n",
       "      <td>59</td>\n",
       "      <td>2</td>\n",
       "      <td>2</td>\n",
       "      <td>4</td>\n",
       "    </tr>\n",
       "    <tr>\n",
       "      <th>3</th>\n",
       "      <td>27.5</td>\n",
       "      <td>1</td>\n",
       "      <td>18</td>\n",
       "      <td>0</td>\n",
       "      <td>0</td>\n",
       "      <td>0</td>\n",
       "      <td>2</td>\n",
       "      <td>4</td>\n",
       "    </tr>\n",
       "    <tr>\n",
       "      <th>4</th>\n",
       "      <td>27.5</td>\n",
       "      <td>1</td>\n",
       "      <td>18</td>\n",
       "      <td>0</td>\n",
       "      <td>0</td>\n",
       "      <td>0</td>\n",
       "      <td>2</td>\n",
       "      <td>4</td>\n",
       "    </tr>\n",
       "    <tr>\n",
       "      <th>...</th>\n",
       "      <td>...</td>\n",
       "      <td>...</td>\n",
       "      <td>...</td>\n",
       "      <td>...</td>\n",
       "      <td>...</td>\n",
       "      <td>...</td>\n",
       "      <td>...</td>\n",
       "      <td>...</td>\n",
       "    </tr>\n",
       "    <tr>\n",
       "      <th>515</th>\n",
       "      <td>27.5</td>\n",
       "      <td>1</td>\n",
       "      <td>24</td>\n",
       "      <td>0</td>\n",
       "      <td>59</td>\n",
       "      <td>2</td>\n",
       "      <td>0</td>\n",
       "      <td>5</td>\n",
       "    </tr>\n",
       "    <tr>\n",
       "      <th>516</th>\n",
       "      <td>27.5</td>\n",
       "      <td>1</td>\n",
       "      <td>24</td>\n",
       "      <td>0</td>\n",
       "      <td>59</td>\n",
       "      <td>2</td>\n",
       "      <td>2</td>\n",
       "      <td>2</td>\n",
       "    </tr>\n",
       "    <tr>\n",
       "      <th>517</th>\n",
       "      <td>27.5</td>\n",
       "      <td>1</td>\n",
       "      <td>24</td>\n",
       "      <td>0</td>\n",
       "      <td>59</td>\n",
       "      <td>2</td>\n",
       "      <td>2</td>\n",
       "      <td>3</td>\n",
       "    </tr>\n",
       "    <tr>\n",
       "      <th>518</th>\n",
       "      <td>27.5</td>\n",
       "      <td>1</td>\n",
       "      <td>9</td>\n",
       "      <td>1</td>\n",
       "      <td>119</td>\n",
       "      <td>0</td>\n",
       "      <td>2</td>\n",
       "      <td>2</td>\n",
       "    </tr>\n",
       "    <tr>\n",
       "      <th>519</th>\n",
       "      <td>27.5</td>\n",
       "      <td>1</td>\n",
       "      <td>24</td>\n",
       "      <td>1</td>\n",
       "      <td>59</td>\n",
       "      <td>2</td>\n",
       "      <td>2</td>\n",
       "      <td>3</td>\n",
       "    </tr>\n",
       "  </tbody>\n",
       "</table>\n",
       "<p>520 rows × 8 columns</p>\n",
       "</div>"
      ],
      "text/plain": [
       "     age_median  gender_binary  period_median  subscription_binary  \\\n",
       "0          27.5              1             24                    0   \n",
       "1          16.0              0             24                    0   \n",
       "2          47.5              2              9                    0   \n",
       "3          27.5              1             18                    0   \n",
       "4          27.5              1             18                    0   \n",
       "..          ...            ...            ...                  ...   \n",
       "515        27.5              1             24                    0   \n",
       "516        27.5              1             24                    0   \n",
       "517        27.5              1             24                    0   \n",
       "518        27.5              1              9                    1   \n",
       "519        27.5              1             24                    1   \n",
       "\n",
       "     preffered_premium_plan_numeric  fav_music_genre_numeric  \\\n",
       "0                               179                        0   \n",
       "1                               119                        3   \n",
       "2                                59                        2   \n",
       "3                                 0                        0   \n",
       "4                                 0                        0   \n",
       "..                              ...                      ...   \n",
       "515                              59                        2   \n",
       "516                              59                        2   \n",
       "517                              59                        2   \n",
       "518                             119                        0   \n",
       "519                              59                        2   \n",
       "\n",
       "     music_time_slot_numeric  music_recc_rating  \n",
       "0                          2                  3  \n",
       "1                          1                  2  \n",
       "2                          2                  4  \n",
       "3                          2                  4  \n",
       "4                          2                  4  \n",
       "..                       ...                ...  \n",
       "515                        0                  5  \n",
       "516                        2                  2  \n",
       "517                        2                  3  \n",
       "518                        2                  2  \n",
       "519                        2                  3  \n",
       "\n",
       "[520 rows x 8 columns]"
      ]
     },
     "execution_count": 81,
     "metadata": {},
     "output_type": "execute_result"
    }
   ],
   "source": [
    "new_spotify_df"
   ]
  },
  {
   "cell_type": "code",
   "execution_count": 82,
   "id": "c197ca20",
   "metadata": {
    "ExecuteTime": {
     "end_time": "2024-01-05T08:26:43.557528Z",
     "start_time": "2024-01-05T08:26:43.315635Z"
    }
   },
   "outputs": [
    {
     "data": {
      "image/png": "[encoded data removed]",
      "text/plain": [
       "<Figure size 640x480 with 2 Axes>"
      ]
     },
     "metadata": {},
     "output_type": "display_data"
    }
   ],
   "source": [
    "sns.heatmap(\n",
    "    np.abs(new_spotify_df.corr()),\n",
    "    annot=True\n",
    ")\n",
    "\n",
    "plt.show()"
   ]
  },
  {
   "cell_type": "markdown",
   "id": "c36fe5d0",
   "metadata": {},
   "source": [
    "컬럼들 간의 상관관계에는 크게 돋보이는 게 없다. 그냥 진행"
   ]
  },
  {
   "cell_type": "code",
   "execution_count": 83,
   "id": "e466d57f",
   "metadata": {
    "ExecuteTime": {
     "end_time": "2024-01-05T08:26:45.225458Z",
     "start_time": "2024-01-05T08:26:45.186923Z"
    }
   },
   "outputs": [
    {
     "data": {
      "text/html": [
       "<div>\n",
       "<style scoped>\n",
       "    .dataframe tbody tr th:only-of-type {\n",
       "        vertical-align: middle;\n",
       "    }\n",
       "\n",
       "    .dataframe tbody tr th {\n",
       "        vertical-align: top;\n",
       "    }\n",
       "\n",
       "    .dataframe thead th {\n",
       "        text-align: right;\n",
       "    }\n",
       "</style>\n",
       "<table border=\"1\" class=\"dataframe\">\n",
       "  <thead>\n",
       "    <tr style=\"text-align: right;\">\n",
       "      <th></th>\n",
       "      <th>age_median</th>\n",
       "      <th>gender_binary</th>\n",
       "      <th>period_median</th>\n",
       "      <th>subscription_binary</th>\n",
       "      <th>preffered_premium_plan_numeric</th>\n",
       "      <th>fav_music_genre_numeric</th>\n",
       "      <th>music_time_slot_numeric</th>\n",
       "      <th>music_recc_rating</th>\n",
       "    </tr>\n",
       "  </thead>\n",
       "  <tbody>\n",
       "    <tr>\n",
       "      <th>0</th>\n",
       "      <td>0.116531</td>\n",
       "      <td>0.413654</td>\n",
       "      <td>1.154634</td>\n",
       "      <td>-0.475831</td>\n",
       "      <td>1.659953</td>\n",
       "      <td>-0.739763</td>\n",
       "      <td>0.745826</td>\n",
       "      <td>-0.514859</td>\n",
       "    </tr>\n",
       "    <tr>\n",
       "      <th>1</th>\n",
       "      <td>-1.719709</td>\n",
       "      <td>-1.759075</td>\n",
       "      <td>1.154634</td>\n",
       "      <td>-0.475831</td>\n",
       "      <td>0.747055</td>\n",
       "      <td>1.174051</td>\n",
       "      <td>-0.551263</td>\n",
       "      <td>-1.536717</td>\n",
       "    </tr>\n",
       "    <tr>\n",
       "      <th>2</th>\n",
       "      <td>3.309990</td>\n",
       "      <td>2.586384</td>\n",
       "      <td>-0.955028</td>\n",
       "      <td>-0.475831</td>\n",
       "      <td>-0.165843</td>\n",
       "      <td>0.536113</td>\n",
       "      <td>0.745826</td>\n",
       "      <td>0.506999</td>\n",
       "    </tr>\n",
       "    <tr>\n",
       "      <th>3</th>\n",
       "      <td>0.116531</td>\n",
       "      <td>0.413654</td>\n",
       "      <td>0.310769</td>\n",
       "      <td>-0.475831</td>\n",
       "      <td>-1.063526</td>\n",
       "      <td>-0.739763</td>\n",
       "      <td>0.745826</td>\n",
       "      <td>0.506999</td>\n",
       "    </tr>\n",
       "    <tr>\n",
       "      <th>4</th>\n",
       "      <td>0.116531</td>\n",
       "      <td>0.413654</td>\n",
       "      <td>0.310769</td>\n",
       "      <td>-0.475831</td>\n",
       "      <td>-1.063526</td>\n",
       "      <td>-0.739763</td>\n",
       "      <td>0.745826</td>\n",
       "      <td>0.506999</td>\n",
       "    </tr>\n",
       "    <tr>\n",
       "      <th>...</th>\n",
       "      <td>...</td>\n",
       "      <td>...</td>\n",
       "      <td>...</td>\n",
       "      <td>...</td>\n",
       "      <td>...</td>\n",
       "      <td>...</td>\n",
       "      <td>...</td>\n",
       "      <td>...</td>\n",
       "    </tr>\n",
       "    <tr>\n",
       "      <th>515</th>\n",
       "      <td>0.116531</td>\n",
       "      <td>0.413654</td>\n",
       "      <td>1.154634</td>\n",
       "      <td>-0.475831</td>\n",
       "      <td>-0.165843</td>\n",
       "      <td>0.536113</td>\n",
       "      <td>-1.848352</td>\n",
       "      <td>1.528856</td>\n",
       "    </tr>\n",
       "    <tr>\n",
       "      <th>516</th>\n",
       "      <td>0.116531</td>\n",
       "      <td>0.413654</td>\n",
       "      <td>1.154634</td>\n",
       "      <td>-0.475831</td>\n",
       "      <td>-0.165843</td>\n",
       "      <td>0.536113</td>\n",
       "      <td>0.745826</td>\n",
       "      <td>-1.536717</td>\n",
       "    </tr>\n",
       "    <tr>\n",
       "      <th>517</th>\n",
       "      <td>0.116531</td>\n",
       "      <td>0.413654</td>\n",
       "      <td>1.154634</td>\n",
       "      <td>-0.475831</td>\n",
       "      <td>-0.165843</td>\n",
       "      <td>0.536113</td>\n",
       "      <td>0.745826</td>\n",
       "      <td>-0.514859</td>\n",
       "    </tr>\n",
       "    <tr>\n",
       "      <th>518</th>\n",
       "      <td>0.116531</td>\n",
       "      <td>0.413654</td>\n",
       "      <td>-0.955028</td>\n",
       "      <td>2.101587</td>\n",
       "      <td>0.747055</td>\n",
       "      <td>-0.739763</td>\n",
       "      <td>0.745826</td>\n",
       "      <td>-1.536717</td>\n",
       "    </tr>\n",
       "    <tr>\n",
       "      <th>519</th>\n",
       "      <td>0.116531</td>\n",
       "      <td>0.413654</td>\n",
       "      <td>1.154634</td>\n",
       "      <td>2.101587</td>\n",
       "      <td>-0.165843</td>\n",
       "      <td>0.536113</td>\n",
       "      <td>0.745826</td>\n",
       "      <td>-0.514859</td>\n",
       "    </tr>\n",
       "  </tbody>\n",
       "</table>\n",
       "<p>520 rows × 8 columns</p>\n",
       "</div>"
      ],
      "text/plain": [
       "     age_median  gender_binary  period_median  subscription_binary  \\\n",
       "0      0.116531       0.413654       1.154634            -0.475831   \n",
       "1     -1.719709      -1.759075       1.154634            -0.475831   \n",
       "2      3.309990       2.586384      -0.955028            -0.475831   \n",
       "3      0.116531       0.413654       0.310769            -0.475831   \n",
       "4      0.116531       0.413654       0.310769            -0.475831   \n",
       "..          ...            ...            ...                  ...   \n",
       "515    0.116531       0.413654       1.154634            -0.475831   \n",
       "516    0.116531       0.413654       1.154634            -0.475831   \n",
       "517    0.116531       0.413654       1.154634            -0.475831   \n",
       "518    0.116531       0.413654      -0.955028             2.101587   \n",
       "519    0.116531       0.413654       1.154634             2.101587   \n",
       "\n",
       "     preffered_premium_plan_numeric  fav_music_genre_numeric  \\\n",
       "0                          1.659953                -0.739763   \n",
       "1                          0.747055                 1.174051   \n",
       "2                         -0.165843                 0.536113   \n",
       "3                         -1.063526                -0.739763   \n",
       "4                         -1.063526                -0.739763   \n",
       "..                              ...                      ...   \n",
       "515                       -0.165843                 0.536113   \n",
       "516                       -0.165843                 0.536113   \n",
       "517                       -0.165843                 0.536113   \n",
       "518                        0.747055                -0.739763   \n",
       "519                       -0.165843                 0.536113   \n",
       "\n",
       "     music_time_slot_numeric  music_recc_rating  \n",
       "0                   0.745826          -0.514859  \n",
       "1                  -0.551263          -1.536717  \n",
       "2                   0.745826           0.506999  \n",
       "3                   0.745826           0.506999  \n",
       "4                   0.745826           0.506999  \n",
       "..                       ...                ...  \n",
       "515                -1.848352           1.528856  \n",
       "516                 0.745826          -1.536717  \n",
       "517                 0.745826          -0.514859  \n",
       "518                 0.745826          -1.536717  \n",
       "519                 0.745826          -0.514859  \n",
       "\n",
       "[520 rows x 8 columns]"
      ]
     },
     "execution_count": 83,
     "metadata": {},
     "output_type": "execute_result"
    }
   ],
   "source": [
    "from sklearn.preprocessing import StandardScaler\n",
    "\n",
    "scaler = StandardScaler()\n",
    "spotify_scaled = pd.DataFrame(scaler.fit_transform(new_spotify_df), columns=new_spotify_df.columns)\n",
    "\n",
    "spotify_scaled"
   ]
  },
  {
   "cell_type": "markdown",
   "id": "141ee6ea",
   "metadata": {},
   "source": [
    "KMeansClustering을 진행하기 위해 군집의 개수를 선정한다."
   ]
  },
  {
   "cell_type": "code",
   "execution_count": 86,
   "id": "5c65381b",
   "metadata": {
    "ExecuteTime": {
     "end_time": "2024-01-05T08:28:00.462011Z",
     "start_time": "2024-01-05T08:27:59.031933Z"
    }
   },
   "outputs": [
    {
     "data": {
      "image/png": "[encoded data removed]",
      "text/plain": [
       "<Figure size 640x480 with 1 Axes>"
      ]
     },
     "metadata": {},
     "output_type": "display_data"
    }
   ],
   "source": [
    "wcss = []\n",
    "for i in range(1, 21):\n",
    "    kmeans = KMeans(n_clusters=i, random_state=0)\n",
    "    kmeans.fit(spotify_scaled)\n",
    "    wcss.append(kmeans.inertia_)\n",
    "\n",
    "plt.plot(range(1, 21), wcss)\n",
    "plt.xticks([i for i in range(21)])\n",
    "plt.xlabel('클러스터 수')\n",
    "plt.ylabel('클러스터 내 분산의 합')\n",
    "plt.show()"
   ]
  },
  {
   "cell_type": "code",
   "execution_count": 96,
   "id": "96b2abcd",
   "metadata": {
    "ExecuteTime": {
     "end_time": "2024-01-05T08:33:00.117063Z",
     "start_time": "2024-01-05T08:32:58.595004Z"
    }
   },
   "outputs": [
    {
     "data": {
      "image/png": "[encoded data removed]",
      "text/plain": [
       "<Figure size 800x400 with 1 Axes>"
      ]
     },
     "metadata": {},
     "output_type": "display_data"
    }
   ],
   "source": [
    "silhouette_scores = []\n",
    "\n",
    "for n_clusters in range(2, 21):\n",
    "    kmeans = KMeans(n_clusters=n_clusters, random_state=42)\n",
    "    cluster_labels = kmeans.fit_predict(spotify_scaled)\n",
    "    \n",
    "    silhouette_avg = silhouette_score(spotify_scaled, cluster_labels)\n",
    "    silhouette_scores.append(silhouette_avg)\n",
    "\n",
    "plt.figure(figsize=(8, 4))\n",
    "plt.plot(range(min_clusters, max_clusters + 1), silhouette_scores, marker='o')\n",
    "plt.xticks([i for i in range(2, 21)])\n",
    "plt.title('Silhouette Score vs. Number of Clusters')\n",
    "plt.xlabel('Number of Clusters')\n",
    "plt.ylabel('Silhouette Score')\n",
    "plt.grid()\n",
    "plt.show()"
   ]
  },
  {
   "cell_type": "markdown",
   "id": "ffcbbce2",
   "metadata": {},
   "source": [
    "확인 결과 **k=19**가 최적인 것 같다."
   ]
  },
  {
   "cell_type": "markdown",
   "id": "711fa682",
   "metadata": {},
   "source": [
    "#### 3-2-2. 클러스터링"
   ]
  },
  {
   "cell_type": "code",
   "execution_count": 97,
   "id": "d19828d4",
   "metadata": {
    "ExecuteTime": {
     "end_time": "2024-01-05T08:33:23.739461Z",
     "start_time": "2024-01-05T08:33:23.619035Z"
    }
   },
   "outputs": [
    {
     "data": {
      "text/plain": [
       "0       6\n",
       "1       8\n",
       "2      18\n",
       "3      17\n",
       "4      17\n",
       "       ..\n",
       "515    10\n",
       "516     2\n",
       "517     2\n",
       "518     5\n",
       "519    11\n",
       "Name: cluster, Length: 520, dtype: int32"
      ]
     },
     "execution_count": 97,
     "metadata": {},
     "output_type": "execute_result"
    }
   ],
   "source": [
    "model = KMeans(n_clusters=19, random_state=42)\n",
    "new_spotify_df['cluster'] = model.fit_predict(spotify_scaled)\n",
    "new_spotify_df['cluster']"
   ]
  },
  {
   "cell_type": "markdown",
   "id": "219873a2",
   "metadata": {},
   "source": [
    "5개의 군집에 대한 특성치를 분석한다."
   ]
  },
  {
   "cell_type": "code",
   "execution_count": 98,
   "id": "85a410a8",
   "metadata": {
    "ExecuteTime": {
     "end_time": "2024-01-05T08:33:25.635562Z",
     "start_time": "2024-01-05T08:33:25.592502Z"
    }
   },
   "outputs": [
    {
     "data": {
      "text/html": [
       "<div>\n",
       "<style scoped>\n",
       "    .dataframe tbody tr th:only-of-type {\n",
       "        vertical-align: middle;\n",
       "    }\n",
       "\n",
       "    .dataframe tbody tr th {\n",
       "        vertical-align: top;\n",
       "    }\n",
       "\n",
       "    .dataframe thead th {\n",
       "        text-align: right;\n",
       "    }\n",
       "</style>\n",
       "<table border=\"1\" class=\"dataframe\">\n",
       "  <thead>\n",
       "    <tr style=\"text-align: right;\">\n",
       "      <th></th>\n",
       "      <th>age_median</th>\n",
       "      <th>gender_binary</th>\n",
       "      <th>period_median</th>\n",
       "      <th>subscription_binary</th>\n",
       "      <th>preffered_premium_plan_numeric</th>\n",
       "      <th>fav_music_genre_numeric</th>\n",
       "      <th>music_time_slot_numeric</th>\n",
       "      <th>music_recc_rating</th>\n",
       "    </tr>\n",
       "    <tr>\n",
       "      <th>cluster</th>\n",
       "      <th></th>\n",
       "      <th></th>\n",
       "      <th></th>\n",
       "      <th></th>\n",
       "      <th></th>\n",
       "      <th></th>\n",
       "      <th></th>\n",
       "      <th></th>\n",
       "    </tr>\n",
       "  </thead>\n",
       "  <tbody>\n",
       "    <tr>\n",
       "      <th>0</th>\n",
       "      <td>47.500000</td>\n",
       "      <td>0.222222</td>\n",
       "      <td>13.000000</td>\n",
       "      <td>0.000000</td>\n",
       "      <td>46.222222</td>\n",
       "      <td>0.444444</td>\n",
       "      <td>1.222222</td>\n",
       "      <td>4.222222</td>\n",
       "    </tr>\n",
       "    <tr>\n",
       "      <th>1</th>\n",
       "      <td>27.500000</td>\n",
       "      <td>0.966667</td>\n",
       "      <td>10.300000</td>\n",
       "      <td>0.000000</td>\n",
       "      <td>146.000000</td>\n",
       "      <td>0.733333</td>\n",
       "      <td>0.833333</td>\n",
       "      <td>2.533333</td>\n",
       "    </tr>\n",
       "    <tr>\n",
       "      <th>2</th>\n",
       "      <td>26.454545</td>\n",
       "      <td>1.000000</td>\n",
       "      <td>22.727273</td>\n",
       "      <td>0.000000</td>\n",
       "      <td>17.878788</td>\n",
       "      <td>0.787879</td>\n",
       "      <td>1.878788</td>\n",
       "      <td>2.666667</td>\n",
       "    </tr>\n",
       "    <tr>\n",
       "      <th>3</th>\n",
       "      <td>26.222222</td>\n",
       "      <td>1.037037</td>\n",
       "      <td>7.333333</td>\n",
       "      <td>0.000000</td>\n",
       "      <td>8.740741</td>\n",
       "      <td>0.703704</td>\n",
       "      <td>0.444444</td>\n",
       "      <td>3.555556</td>\n",
       "    </tr>\n",
       "    <tr>\n",
       "      <th>4</th>\n",
       "      <td>15.300000</td>\n",
       "      <td>1.000000</td>\n",
       "      <td>11.700000</td>\n",
       "      <td>1.000000</td>\n",
       "      <td>114.650000</td>\n",
       "      <td>1.800000</td>\n",
       "      <td>0.700000</td>\n",
       "      <td>2.600000</td>\n",
       "    </tr>\n",
       "    <tr>\n",
       "      <th>5</th>\n",
       "      <td>27.500000</td>\n",
       "      <td>1.035714</td>\n",
       "      <td>13.607143</td>\n",
       "      <td>1.000000</td>\n",
       "      <td>144.714286</td>\n",
       "      <td>1.571429</td>\n",
       "      <td>1.000000</td>\n",
       "      <td>2.571429</td>\n",
       "    </tr>\n",
       "    <tr>\n",
       "      <th>6</th>\n",
       "      <td>27.500000</td>\n",
       "      <td>1.000000</td>\n",
       "      <td>18.789474</td>\n",
       "      <td>0.000000</td>\n",
       "      <td>138.736842</td>\n",
       "      <td>0.342105</td>\n",
       "      <td>1.894737</td>\n",
       "      <td>4.131579</td>\n",
       "    </tr>\n",
       "    <tr>\n",
       "      <th>7</th>\n",
       "      <td>27.330882</td>\n",
       "      <td>1.000000</td>\n",
       "      <td>7.058824</td>\n",
       "      <td>0.014706</td>\n",
       "      <td>24.338235</td>\n",
       "      <td>0.397059</td>\n",
       "      <td>2.000000</td>\n",
       "      <td>3.750000</td>\n",
       "    </tr>\n",
       "    <tr>\n",
       "      <th>8</th>\n",
       "      <td>23.187500</td>\n",
       "      <td>0.000000</td>\n",
       "      <td>17.250000</td>\n",
       "      <td>0.000000</td>\n",
       "      <td>72.375000</td>\n",
       "      <td>1.625000</td>\n",
       "      <td>0.375000</td>\n",
       "      <td>3.500000</td>\n",
       "    </tr>\n",
       "    <tr>\n",
       "      <th>9</th>\n",
       "      <td>26.803030</td>\n",
       "      <td>0.000000</td>\n",
       "      <td>22.000000</td>\n",
       "      <td>0.000000</td>\n",
       "      <td>24.272727</td>\n",
       "      <td>1.090909</td>\n",
       "      <td>1.939394</td>\n",
       "      <td>3.878788</td>\n",
       "    </tr>\n",
       "    <tr>\n",
       "      <th>10</th>\n",
       "      <td>26.758065</td>\n",
       "      <td>1.000000</td>\n",
       "      <td>21.096774</td>\n",
       "      <td>0.000000</td>\n",
       "      <td>44.967742</td>\n",
       "      <td>0.838710</td>\n",
       "      <td>0.096774</td>\n",
       "      <td>3.548387</td>\n",
       "    </tr>\n",
       "    <tr>\n",
       "      <th>11</th>\n",
       "      <td>27.040000</td>\n",
       "      <td>0.760000</td>\n",
       "      <td>20.640000</td>\n",
       "      <td>1.000000</td>\n",
       "      <td>119.000000</td>\n",
       "      <td>0.720000</td>\n",
       "      <td>1.960000</td>\n",
       "      <td>4.000000</td>\n",
       "    </tr>\n",
       "    <tr>\n",
       "      <th>12</th>\n",
       "      <td>22.900000</td>\n",
       "      <td>0.000000</td>\n",
       "      <td>9.120000</td>\n",
       "      <td>0.000000</td>\n",
       "      <td>41.600000</td>\n",
       "      <td>1.120000</td>\n",
       "      <td>1.720000</td>\n",
       "      <td>3.160000</td>\n",
       "    </tr>\n",
       "    <tr>\n",
       "      <th>13</th>\n",
       "      <td>29.038462</td>\n",
       "      <td>0.461538</td>\n",
       "      <td>19.153846</td>\n",
       "      <td>0.000000</td>\n",
       "      <td>43.384615</td>\n",
       "      <td>6.923077</td>\n",
       "      <td>1.846154</td>\n",
       "      <td>3.615385</td>\n",
       "    </tr>\n",
       "    <tr>\n",
       "      <th>14</th>\n",
       "      <td>27.500000</td>\n",
       "      <td>1.176471</td>\n",
       "      <td>16.588235</td>\n",
       "      <td>0.000000</td>\n",
       "      <td>149.000000</td>\n",
       "      <td>3.235294</td>\n",
       "      <td>1.352941</td>\n",
       "      <td>3.529412</td>\n",
       "    </tr>\n",
       "    <tr>\n",
       "      <th>15</th>\n",
       "      <td>15.588235</td>\n",
       "      <td>1.235294</td>\n",
       "      <td>13.941176</td>\n",
       "      <td>0.000000</td>\n",
       "      <td>145.470588</td>\n",
       "      <td>1.470588</td>\n",
       "      <td>0.705882</td>\n",
       "      <td>2.941176</td>\n",
       "    </tr>\n",
       "    <tr>\n",
       "      <th>16</th>\n",
       "      <td>25.343750</td>\n",
       "      <td>0.000000</td>\n",
       "      <td>22.500000</td>\n",
       "      <td>1.000000</td>\n",
       "      <td>100.437500</td>\n",
       "      <td>2.625000</td>\n",
       "      <td>1.625000</td>\n",
       "      <td>3.437500</td>\n",
       "    </tr>\n",
       "    <tr>\n",
       "      <th>17</th>\n",
       "      <td>26.350000</td>\n",
       "      <td>1.000000</td>\n",
       "      <td>21.600000</td>\n",
       "      <td>0.000000</td>\n",
       "      <td>18.683333</td>\n",
       "      <td>0.766667</td>\n",
       "      <td>1.966667</td>\n",
       "      <td>4.333333</td>\n",
       "    </tr>\n",
       "    <tr>\n",
       "      <th>18</th>\n",
       "      <td>48.392857</td>\n",
       "      <td>1.214286</td>\n",
       "      <td>14.571429</td>\n",
       "      <td>0.428571</td>\n",
       "      <td>127.714286</td>\n",
       "      <td>1.428571</td>\n",
       "      <td>0.928571</td>\n",
       "      <td>3.071429</td>\n",
       "    </tr>\n",
       "  </tbody>\n",
       "</table>\n",
       "</div>"
      ],
      "text/plain": [
       "         age_median  gender_binary  period_median  subscription_binary  \\\n",
       "cluster                                                                  \n",
       "0         47.500000       0.222222      13.000000             0.000000   \n",
       "1         27.500000       0.966667      10.300000             0.000000   \n",
       "2         26.454545       1.000000      22.727273             0.000000   \n",
       "3         26.222222       1.037037       7.333333             0.000000   \n",
       "4         15.300000       1.000000      11.700000             1.000000   \n",
       "5         27.500000       1.035714      13.607143             1.000000   \n",
       "6         27.500000       1.000000      18.789474             0.000000   \n",
       "7         27.330882       1.000000       7.058824             0.014706   \n",
       "8         23.187500       0.000000      17.250000             0.000000   \n",
       "9         26.803030       0.000000      22.000000             0.000000   \n",
       "10        26.758065       1.000000      21.096774             0.000000   \n",
       "11        27.040000       0.760000      20.640000             1.000000   \n",
       "12        22.900000       0.000000       9.120000             0.000000   \n",
       "13        29.038462       0.461538      19.153846             0.000000   \n",
       "14        27.500000       1.176471      16.588235             0.000000   \n",
       "15        15.588235       1.235294      13.941176             0.000000   \n",
       "16        25.343750       0.000000      22.500000             1.000000   \n",
       "17        26.350000       1.000000      21.600000             0.000000   \n",
       "18        48.392857       1.214286      14.571429             0.428571   \n",
       "\n",
       "         preffered_premium_plan_numeric  fav_music_genre_numeric  \\\n",
       "cluster                                                            \n",
       "0                             46.222222                 0.444444   \n",
       "1                            146.000000                 0.733333   \n",
       "2                             17.878788                 0.787879   \n",
       "3                              8.740741                 0.703704   \n",
       "4                            114.650000                 1.800000   \n",
       "5                            144.714286                 1.571429   \n",
       "6                            138.736842                 0.342105   \n",
       "7                             24.338235                 0.397059   \n",
       "8                             72.375000                 1.625000   \n",
       "9                             24.272727                 1.090909   \n",
       "10                            44.967742                 0.838710   \n",
       "11                           119.000000                 0.720000   \n",
       "12                            41.600000                 1.120000   \n",
       "13                            43.384615                 6.923077   \n",
       "14                           149.000000                 3.235294   \n",
       "15                           145.470588                 1.470588   \n",
       "16                           100.437500                 2.625000   \n",
       "17                            18.683333                 0.766667   \n",
       "18                           127.714286                 1.428571   \n",
       "\n",
       "         music_time_slot_numeric  music_recc_rating  \n",
       "cluster                                              \n",
       "0                       1.222222           4.222222  \n",
       "1                       0.833333           2.533333  \n",
       "2                       1.878788           2.666667  \n",
       "3                       0.444444           3.555556  \n",
       "4                       0.700000           2.600000  \n",
       "5                       1.000000           2.571429  \n",
       "6                       1.894737           4.131579  \n",
       "7                       2.000000           3.750000  \n",
       "8                       0.375000           3.500000  \n",
       "9                       1.939394           3.878788  \n",
       "10                      0.096774           3.548387  \n",
       "11                      1.960000           4.000000  \n",
       "12                      1.720000           3.160000  \n",
       "13                      1.846154           3.615385  \n",
       "14                      1.352941           3.529412  \n",
       "15                      0.705882           2.941176  \n",
       "16                      1.625000           3.437500  \n",
       "17                      1.966667           4.333333  \n",
       "18                      0.928571           3.071429  "
      ]
     },
     "execution_count": 98,
     "metadata": {},
     "output_type": "execute_result"
    }
   ],
   "source": [
    "cluster_stats = new_spotify_df.groupby('cluster').agg('mean')\n",
    "cluster_stats"
   ]
  },
  {
   "cell_type": "code",
   "execution_count": 99,
   "id": "ac2c5038",
   "metadata": {
    "ExecuteTime": {
     "end_time": "2024-01-05T08:34:00.028789Z",
     "start_time": "2024-01-05T08:33:59.986437Z"
    }
   },
   "outputs": [
    {
     "data": {
      "text/html": [
       "<div>\n",
       "<style scoped>\n",
       "    .dataframe tbody tr th:only-of-type {\n",
       "        vertical-align: middle;\n",
       "    }\n",
       "\n",
       "    .dataframe tbody tr th {\n",
       "        vertical-align: top;\n",
       "    }\n",
       "\n",
       "    .dataframe thead th {\n",
       "        text-align: right;\n",
       "    }\n",
       "</style>\n",
       "<table border=\"1\" class=\"dataframe\">\n",
       "  <thead>\n",
       "    <tr style=\"text-align: right;\">\n",
       "      <th></th>\n",
       "      <th>age_median</th>\n",
       "      <th>gender_binary</th>\n",
       "      <th>period_median</th>\n",
       "      <th>subscription_binary</th>\n",
       "      <th>preffered_premium_plan_numeric</th>\n",
       "      <th>fav_music_genre_numeric</th>\n",
       "      <th>music_time_slot_numeric</th>\n",
       "      <th>music_recc_rating</th>\n",
       "    </tr>\n",
       "  </thead>\n",
       "  <tbody>\n",
       "    <tr>\n",
       "      <th>0</th>\n",
       "      <td>47.500000</td>\n",
       "      <td>0.222222</td>\n",
       "      <td>13.000000</td>\n",
       "      <td>0.000000</td>\n",
       "      <td>46.222222</td>\n",
       "      <td>0.444444</td>\n",
       "      <td>1.222222</td>\n",
       "      <td>4.222222</td>\n",
       "    </tr>\n",
       "    <tr>\n",
       "      <th>1</th>\n",
       "      <td>27.500000</td>\n",
       "      <td>0.966667</td>\n",
       "      <td>10.300000</td>\n",
       "      <td>0.000000</td>\n",
       "      <td>146.000000</td>\n",
       "      <td>0.733333</td>\n",
       "      <td>0.833333</td>\n",
       "      <td>2.533333</td>\n",
       "    </tr>\n",
       "    <tr>\n",
       "      <th>2</th>\n",
       "      <td>26.454545</td>\n",
       "      <td>1.000000</td>\n",
       "      <td>22.727273</td>\n",
       "      <td>0.000000</td>\n",
       "      <td>17.878788</td>\n",
       "      <td>0.787879</td>\n",
       "      <td>1.878788</td>\n",
       "      <td>2.666667</td>\n",
       "    </tr>\n",
       "    <tr>\n",
       "      <th>3</th>\n",
       "      <td>26.222222</td>\n",
       "      <td>1.037037</td>\n",
       "      <td>7.333333</td>\n",
       "      <td>0.000000</td>\n",
       "      <td>8.740741</td>\n",
       "      <td>0.703704</td>\n",
       "      <td>0.444444</td>\n",
       "      <td>3.555556</td>\n",
       "    </tr>\n",
       "    <tr>\n",
       "      <th>4</th>\n",
       "      <td>15.300000</td>\n",
       "      <td>1.000000</td>\n",
       "      <td>11.700000</td>\n",
       "      <td>1.000000</td>\n",
       "      <td>114.650000</td>\n",
       "      <td>1.800000</td>\n",
       "      <td>0.700000</td>\n",
       "      <td>2.600000</td>\n",
       "    </tr>\n",
       "    <tr>\n",
       "      <th>5</th>\n",
       "      <td>27.500000</td>\n",
       "      <td>1.035714</td>\n",
       "      <td>13.607143</td>\n",
       "      <td>1.000000</td>\n",
       "      <td>144.714286</td>\n",
       "      <td>1.571429</td>\n",
       "      <td>1.000000</td>\n",
       "      <td>2.571429</td>\n",
       "    </tr>\n",
       "    <tr>\n",
       "      <th>6</th>\n",
       "      <td>27.500000</td>\n",
       "      <td>1.000000</td>\n",
       "      <td>18.789474</td>\n",
       "      <td>0.000000</td>\n",
       "      <td>138.736842</td>\n",
       "      <td>0.342105</td>\n",
       "      <td>1.894737</td>\n",
       "      <td>4.131579</td>\n",
       "    </tr>\n",
       "    <tr>\n",
       "      <th>7</th>\n",
       "      <td>27.330882</td>\n",
       "      <td>1.000000</td>\n",
       "      <td>7.058824</td>\n",
       "      <td>0.014706</td>\n",
       "      <td>24.338235</td>\n",
       "      <td>0.397059</td>\n",
       "      <td>2.000000</td>\n",
       "      <td>3.750000</td>\n",
       "    </tr>\n",
       "    <tr>\n",
       "      <th>8</th>\n",
       "      <td>23.187500</td>\n",
       "      <td>0.000000</td>\n",
       "      <td>17.250000</td>\n",
       "      <td>0.000000</td>\n",
       "      <td>72.375000</td>\n",
       "      <td>1.625000</td>\n",
       "      <td>0.375000</td>\n",
       "      <td>3.500000</td>\n",
       "    </tr>\n",
       "    <tr>\n",
       "      <th>9</th>\n",
       "      <td>26.803030</td>\n",
       "      <td>0.000000</td>\n",
       "      <td>22.000000</td>\n",
       "      <td>0.000000</td>\n",
       "      <td>24.272727</td>\n",
       "      <td>1.090909</td>\n",
       "      <td>1.939394</td>\n",
       "      <td>3.878788</td>\n",
       "    </tr>\n",
       "    <tr>\n",
       "      <th>10</th>\n",
       "      <td>26.758065</td>\n",
       "      <td>1.000000</td>\n",
       "      <td>21.096774</td>\n",
       "      <td>0.000000</td>\n",
       "      <td>44.967742</td>\n",
       "      <td>0.838710</td>\n",
       "      <td>0.096774</td>\n",
       "      <td>3.548387</td>\n",
       "    </tr>\n",
       "    <tr>\n",
       "      <th>11</th>\n",
       "      <td>27.040000</td>\n",
       "      <td>0.760000</td>\n",
       "      <td>20.640000</td>\n",
       "      <td>1.000000</td>\n",
       "      <td>119.000000</td>\n",
       "      <td>0.720000</td>\n",
       "      <td>1.960000</td>\n",
       "      <td>4.000000</td>\n",
       "    </tr>\n",
       "    <tr>\n",
       "      <th>12</th>\n",
       "      <td>22.900000</td>\n",
       "      <td>0.000000</td>\n",
       "      <td>9.120000</td>\n",
       "      <td>0.000000</td>\n",
       "      <td>41.600000</td>\n",
       "      <td>1.120000</td>\n",
       "      <td>1.720000</td>\n",
       "      <td>3.160000</td>\n",
       "    </tr>\n",
       "    <tr>\n",
       "      <th>13</th>\n",
       "      <td>29.038462</td>\n",
       "      <td>0.461538</td>\n",
       "      <td>19.153846</td>\n",
       "      <td>0.000000</td>\n",
       "      <td>43.384615</td>\n",
       "      <td>6.923077</td>\n",
       "      <td>1.846154</td>\n",
       "      <td>3.615385</td>\n",
       "    </tr>\n",
       "    <tr>\n",
       "      <th>14</th>\n",
       "      <td>27.500000</td>\n",
       "      <td>1.176471</td>\n",
       "      <td>16.588235</td>\n",
       "      <td>0.000000</td>\n",
       "      <td>149.000000</td>\n",
       "      <td>3.235294</td>\n",
       "      <td>1.352941</td>\n",
       "      <td>3.529412</td>\n",
       "    </tr>\n",
       "    <tr>\n",
       "      <th>15</th>\n",
       "      <td>15.588235</td>\n",
       "      <td>1.235294</td>\n",
       "      <td>13.941176</td>\n",
       "      <td>0.000000</td>\n",
       "      <td>145.470588</td>\n",
       "      <td>1.470588</td>\n",
       "      <td>0.705882</td>\n",
       "      <td>2.941176</td>\n",
       "    </tr>\n",
       "    <tr>\n",
       "      <th>16</th>\n",
       "      <td>25.343750</td>\n",
       "      <td>0.000000</td>\n",
       "      <td>22.500000</td>\n",
       "      <td>1.000000</td>\n",
       "      <td>100.437500</td>\n",
       "      <td>2.625000</td>\n",
       "      <td>1.625000</td>\n",
       "      <td>3.437500</td>\n",
       "    </tr>\n",
       "    <tr>\n",
       "      <th>17</th>\n",
       "      <td>26.350000</td>\n",
       "      <td>1.000000</td>\n",
       "      <td>21.600000</td>\n",
       "      <td>0.000000</td>\n",
       "      <td>18.683333</td>\n",
       "      <td>0.766667</td>\n",
       "      <td>1.966667</td>\n",
       "      <td>4.333333</td>\n",
       "    </tr>\n",
       "    <tr>\n",
       "      <th>18</th>\n",
       "      <td>48.392857</td>\n",
       "      <td>1.214286</td>\n",
       "      <td>14.571429</td>\n",
       "      <td>0.428571</td>\n",
       "      <td>127.714286</td>\n",
       "      <td>1.428571</td>\n",
       "      <td>0.928571</td>\n",
       "      <td>3.071429</td>\n",
       "    </tr>\n",
       "    <tr>\n",
       "      <th>전체</th>\n",
       "      <td>26.770192</td>\n",
       "      <td>0.809615</td>\n",
       "      <td>15.790385</td>\n",
       "      <td>0.184615</td>\n",
       "      <td>69.900000</td>\n",
       "      <td>1.159615</td>\n",
       "      <td>1.425000</td>\n",
       "      <td>3.503846</td>\n",
       "    </tr>\n",
       "  </tbody>\n",
       "</table>\n",
       "</div>"
      ],
      "text/plain": [
       "    age_median  gender_binary  period_median  subscription_binary  \\\n",
       "0    47.500000       0.222222      13.000000             0.000000   \n",
       "1    27.500000       0.966667      10.300000             0.000000   \n",
       "2    26.454545       1.000000      22.727273             0.000000   \n",
       "3    26.222222       1.037037       7.333333             0.000000   \n",
       "4    15.300000       1.000000      11.700000             1.000000   \n",
       "5    27.500000       1.035714      13.607143             1.000000   \n",
       "6    27.500000       1.000000      18.789474             0.000000   \n",
       "7    27.330882       1.000000       7.058824             0.014706   \n",
       "8    23.187500       0.000000      17.250000             0.000000   \n",
       "9    26.803030       0.000000      22.000000             0.000000   \n",
       "10   26.758065       1.000000      21.096774             0.000000   \n",
       "11   27.040000       0.760000      20.640000             1.000000   \n",
       "12   22.900000       0.000000       9.120000             0.000000   \n",
       "13   29.038462       0.461538      19.153846             0.000000   \n",
       "14   27.500000       1.176471      16.588235             0.000000   \n",
       "15   15.588235       1.235294      13.941176             0.000000   \n",
       "16   25.343750       0.000000      22.500000             1.000000   \n",
       "17   26.350000       1.000000      21.600000             0.000000   \n",
       "18   48.392857       1.214286      14.571429             0.428571   \n",
       "전체   26.770192       0.809615      15.790385             0.184615   \n",
       "\n",
       "    preffered_premium_plan_numeric  fav_music_genre_numeric  \\\n",
       "0                        46.222222                 0.444444   \n",
       "1                       146.000000                 0.733333   \n",
       "2                        17.878788                 0.787879   \n",
       "3                         8.740741                 0.703704   \n",
       "4                       114.650000                 1.800000   \n",
       "5                       144.714286                 1.571429   \n",
       "6                       138.736842                 0.342105   \n",
       "7                        24.338235                 0.397059   \n",
       "8                        72.375000                 1.625000   \n",
       "9                        24.272727                 1.090909   \n",
       "10                       44.967742                 0.838710   \n",
       "11                      119.000000                 0.720000   \n",
       "12                       41.600000                 1.120000   \n",
       "13                       43.384615                 6.923077   \n",
       "14                      149.000000                 3.235294   \n",
       "15                      145.470588                 1.470588   \n",
       "16                      100.437500                 2.625000   \n",
       "17                       18.683333                 0.766667   \n",
       "18                      127.714286                 1.428571   \n",
       "전체                       69.900000                 1.159615   \n",
       "\n",
       "    music_time_slot_numeric  music_recc_rating  \n",
       "0                  1.222222           4.222222  \n",
       "1                  0.833333           2.533333  \n",
       "2                  1.878788           2.666667  \n",
       "3                  0.444444           3.555556  \n",
       "4                  0.700000           2.600000  \n",
       "5                  1.000000           2.571429  \n",
       "6                  1.894737           4.131579  \n",
       "7                  2.000000           3.750000  \n",
       "8                  0.375000           3.500000  \n",
       "9                  1.939394           3.878788  \n",
       "10                 0.096774           3.548387  \n",
       "11                 1.960000           4.000000  \n",
       "12                 1.720000           3.160000  \n",
       "13                 1.846154           3.615385  \n",
       "14                 1.352941           3.529412  \n",
       "15                 0.705882           2.941176  \n",
       "16                 1.625000           3.437500  \n",
       "17                 1.966667           4.333333  \n",
       "18                 0.928571           3.071429  \n",
       "전체                 1.425000           3.503846  "
      ]
     },
     "execution_count": 99,
     "metadata": {},
     "output_type": "execute_result"
    }
   ],
   "source": [
    "new_cluster_stats = cluster_stats.append(\n",
    "    new_spotify_df.drop('cluster', axis=1).mean(),\n",
    "    ignore_index=True\n",
    ")\n",
    "\n",
    "new_cluster_stats.index = new_cluster_stats.index[:-1].tolist() + ['전체']\n",
    "\n",
    "new_cluster_stats"
   ]
  },
  {
   "cell_type": "markdown",
   "id": "20f8a6d1",
   "metadata": {},
   "source": [
    "```subscription_binary```, ```preffered_premium_plan_numeric```에서 무료 요금제는 0으로 들어가 있음을 고려하면, 앞서 정의한 두 가지 군집을 식별해 낼 수 있다.\n",
    "\n",
    "- 현재 구독 중이나 잠재적으로 해지할 위험성이 높은 군집 (이상 군집 A): ```subscription_binary``` ↑, ```preffered_premium_plan_numeric``` ↓\n",
    "- 현재 구독 중이 아니지만 잠재적으로 구독할 가능성이 높은 군집 (이상 군집 B): ```subscription_binary``` ↓, ```preffered_premium_plan_numeric``` ↑"
   ]
  },
  {
   "cell_type": "code",
   "execution_count": 104,
   "id": "c8e92f0d",
   "metadata": {
    "ExecuteTime": {
     "end_time": "2024-01-05T08:34:49.168595Z",
     "start_time": "2024-01-05T08:34:49.122359Z"
    }
   },
   "outputs": [
    {
     "data": {
      "text/html": [
       "<div>\n",
       "<style scoped>\n",
       "    .dataframe tbody tr th:only-of-type {\n",
       "        vertical-align: middle;\n",
       "    }\n",
       "\n",
       "    .dataframe tbody tr th {\n",
       "        vertical-align: top;\n",
       "    }\n",
       "\n",
       "    .dataframe thead th {\n",
       "        text-align: right;\n",
       "    }\n",
       "</style>\n",
       "<table border=\"1\" class=\"dataframe\">\n",
       "  <thead>\n",
       "    <tr style=\"text-align: right;\">\n",
       "      <th></th>\n",
       "      <th>age_median</th>\n",
       "      <th>gender_binary</th>\n",
       "      <th>period_median</th>\n",
       "      <th>subscription_binary</th>\n",
       "      <th>preffered_premium_plan_numeric</th>\n",
       "      <th>fav_music_genre_numeric</th>\n",
       "      <th>music_time_slot_numeric</th>\n",
       "      <th>music_recc_rating</th>\n",
       "    </tr>\n",
       "  </thead>\n",
       "  <tbody>\n",
       "    <tr>\n",
       "      <th>0</th>\n",
       "      <td>2.527303</td>\n",
       "      <td>-1.159054</td>\n",
       "      <td>-0.576437</td>\n",
       "      <td>-0.574818</td>\n",
       "      <td>-0.662912</td>\n",
       "      <td>-0.722136</td>\n",
       "      <td>-0.108022</td>\n",
       "      <td>1.433860</td>\n",
       "    </tr>\n",
       "    <tr>\n",
       "      <th>1</th>\n",
       "      <td>-0.011421</td>\n",
       "      <td>0.499100</td>\n",
       "      <td>-1.104706</td>\n",
       "      <td>-0.574818</td>\n",
       "      <td>1.270629</td>\n",
       "      <td>-0.525711</td>\n",
       "      <td>-0.737642</td>\n",
       "      <td>-1.597959</td>\n",
       "    </tr>\n",
       "    <tr>\n",
       "      <th>2</th>\n",
       "      <td>-0.144127</td>\n",
       "      <td>0.573345</td>\n",
       "      <td>1.326756</td>\n",
       "      <td>-0.574818</td>\n",
       "      <td>-1.212164</td>\n",
       "      <td>-0.488623</td>\n",
       "      <td>0.954974</td>\n",
       "      <td>-1.358605</td>\n",
       "    </tr>\n",
       "    <tr>\n",
       "      <th>3</th>\n",
       "      <td>-0.173618</td>\n",
       "      <td>0.655841</td>\n",
       "      <td>-1.685150</td>\n",
       "      <td>-0.574818</td>\n",
       "      <td>-1.389246</td>\n",
       "      <td>-0.545857</td>\n",
       "      <td>-1.367263</td>\n",
       "      <td>0.237089</td>\n",
       "    </tr>\n",
       "    <tr>\n",
       "      <th>4</th>\n",
       "      <td>-1.560043</td>\n",
       "      <td>0.573345</td>\n",
       "      <td>-0.830789</td>\n",
       "      <td>1.883173</td>\n",
       "      <td>0.663114</td>\n",
       "      <td>0.199551</td>\n",
       "      <td>-0.953512</td>\n",
       "      <td>-1.478282</td>\n",
       "    </tr>\n",
       "    <tr>\n",
       "      <th>5</th>\n",
       "      <td>-0.011421</td>\n",
       "      <td>0.652894</td>\n",
       "      <td>-0.457646</td>\n",
       "      <td>1.883173</td>\n",
       "      <td>1.245714</td>\n",
       "      <td>0.044137</td>\n",
       "      <td>-0.467805</td>\n",
       "      <td>-1.529573</td>\n",
       "    </tr>\n",
       "    <tr>\n",
       "      <th>6</th>\n",
       "      <td>-0.011421</td>\n",
       "      <td>0.573345</td>\n",
       "      <td>0.556305</td>\n",
       "      <td>-0.574818</td>\n",
       "      <td>1.129880</td>\n",
       "      <td>-0.791719</td>\n",
       "      <td>0.980796</td>\n",
       "      <td>1.271141</td>\n",
       "    </tr>\n",
       "    <tr>\n",
       "      <th>7</th>\n",
       "      <td>-0.032888</td>\n",
       "      <td>0.573345</td>\n",
       "      <td>-1.738859</td>\n",
       "      <td>-0.538671</td>\n",
       "      <td>-1.086990</td>\n",
       "      <td>-0.754355</td>\n",
       "      <td>1.151219</td>\n",
       "      <td>0.586147</td>\n",
       "    </tr>\n",
       "    <tr>\n",
       "      <th>8</th>\n",
       "      <td>-0.558834</td>\n",
       "      <td>-1.654026</td>\n",
       "      <td>0.255098</td>\n",
       "      <td>-0.574818</td>\n",
       "      <td>-0.156111</td>\n",
       "      <td>0.080562</td>\n",
       "      <td>-1.479695</td>\n",
       "      <td>0.137358</td>\n",
       "    </tr>\n",
       "    <tr>\n",
       "      <th>9</th>\n",
       "      <td>-0.099892</td>\n",
       "      <td>-1.654026</td>\n",
       "      <td>1.184461</td>\n",
       "      <td>-0.574818</td>\n",
       "      <td>-1.088259</td>\n",
       "      <td>-0.282583</td>\n",
       "      <td>1.053097</td>\n",
       "      <td>0.817342</td>\n",
       "    </tr>\n",
       "    <tr>\n",
       "      <th>10</th>\n",
       "      <td>-0.105600</td>\n",
       "      <td>0.573345</td>\n",
       "      <td>1.007740</td>\n",
       "      <td>-0.574818</td>\n",
       "      <td>-0.687222</td>\n",
       "      <td>-0.454062</td>\n",
       "      <td>-1.930149</td>\n",
       "      <td>0.224221</td>\n",
       "    </tr>\n",
       "    <tr>\n",
       "      <th>11</th>\n",
       "      <td>-0.069812</td>\n",
       "      <td>0.038776</td>\n",
       "      <td>0.918370</td>\n",
       "      <td>1.883173</td>\n",
       "      <td>0.747410</td>\n",
       "      <td>-0.534776</td>\n",
       "      <td>1.086458</td>\n",
       "      <td>1.034936</td>\n",
       "    </tr>\n",
       "    <tr>\n",
       "      <th>12</th>\n",
       "      <td>-0.595328</td>\n",
       "      <td>-1.654026</td>\n",
       "      <td>-1.335579</td>\n",
       "      <td>-0.574818</td>\n",
       "      <td>-0.752483</td>\n",
       "      <td>-0.262803</td>\n",
       "      <td>0.697892</td>\n",
       "      <td>-0.472995</td>\n",
       "    </tr>\n",
       "    <tr>\n",
       "      <th>13</th>\n",
       "      <td>0.183865</td>\n",
       "      <td>-0.626008</td>\n",
       "      <td>0.627596</td>\n",
       "      <td>-0.574818</td>\n",
       "      <td>-0.717900</td>\n",
       "      <td>3.682896</td>\n",
       "      <td>0.902139</td>\n",
       "      <td>0.344492</td>\n",
       "    </tr>\n",
       "    <tr>\n",
       "      <th>14</th>\n",
       "      <td>-0.011421</td>\n",
       "      <td>0.966411</td>\n",
       "      <td>0.125621</td>\n",
       "      <td>-0.574818</td>\n",
       "      <td>1.328765</td>\n",
       "      <td>1.175453</td>\n",
       "      <td>0.103615</td>\n",
       "      <td>0.190157</td>\n",
       "    </tr>\n",
       "    <tr>\n",
       "      <th>15</th>\n",
       "      <td>-1.523456</td>\n",
       "      <td>1.097433</td>\n",
       "      <td>-0.392290</td>\n",
       "      <td>-0.574818</td>\n",
       "      <td>1.260370</td>\n",
       "      <td>-0.024427</td>\n",
       "      <td>-0.943989</td>\n",
       "      <td>-0.865817</td>\n",
       "    </tr>\n",
       "    <tr>\n",
       "      <th>16</th>\n",
       "      <td>-0.285127</td>\n",
       "      <td>-1.654026</td>\n",
       "      <td>1.282289</td>\n",
       "      <td>1.883173</td>\n",
       "      <td>0.387698</td>\n",
       "      <td>0.760495</td>\n",
       "      <td>0.544085</td>\n",
       "      <td>0.025161</td>\n",
       "    </tr>\n",
       "    <tr>\n",
       "      <th>17</th>\n",
       "      <td>-0.157398</td>\n",
       "      <td>0.573345</td>\n",
       "      <td>1.106199</td>\n",
       "      <td>-0.574818</td>\n",
       "      <td>-1.196573</td>\n",
       "      <td>-0.503046</td>\n",
       "      <td>1.097252</td>\n",
       "      <td>1.633322</td>\n",
       "    </tr>\n",
       "    <tr>\n",
       "      <th>18</th>\n",
       "      <td>2.640639</td>\n",
       "      <td>1.050639</td>\n",
       "      <td>-0.268978</td>\n",
       "      <td>0.478607</td>\n",
       "      <td>0.916280</td>\n",
       "      <td>-0.052996</td>\n",
       "      <td>-0.583450</td>\n",
       "      <td>-0.631994</td>\n",
       "    </tr>\n",
       "  </tbody>\n",
       "</table>\n",
       "</div>"
      ],
      "text/plain": [
       "    age_median  gender_binary  period_median  subscription_binary  \\\n",
       "0     2.527303      -1.159054      -0.576437            -0.574818   \n",
       "1    -0.011421       0.499100      -1.104706            -0.574818   \n",
       "2    -0.144127       0.573345       1.326756            -0.574818   \n",
       "3    -0.173618       0.655841      -1.685150            -0.574818   \n",
       "4    -1.560043       0.573345      -0.830789             1.883173   \n",
       "5    -0.011421       0.652894      -0.457646             1.883173   \n",
       "6    -0.011421       0.573345       0.556305            -0.574818   \n",
       "7    -0.032888       0.573345      -1.738859            -0.538671   \n",
       "8    -0.558834      -1.654026       0.255098            -0.574818   \n",
       "9    -0.099892      -1.654026       1.184461            -0.574818   \n",
       "10   -0.105600       0.573345       1.007740            -0.574818   \n",
       "11   -0.069812       0.038776       0.918370             1.883173   \n",
       "12   -0.595328      -1.654026      -1.335579            -0.574818   \n",
       "13    0.183865      -0.626008       0.627596            -0.574818   \n",
       "14   -0.011421       0.966411       0.125621            -0.574818   \n",
       "15   -1.523456       1.097433      -0.392290            -0.574818   \n",
       "16   -0.285127      -1.654026       1.282289             1.883173   \n",
       "17   -0.157398       0.573345       1.106199            -0.574818   \n",
       "18    2.640639       1.050639      -0.268978             0.478607   \n",
       "\n",
       "    preffered_premium_plan_numeric  fav_music_genre_numeric  \\\n",
       "0                        -0.662912                -0.722136   \n",
       "1                         1.270629                -0.525711   \n",
       "2                        -1.212164                -0.488623   \n",
       "3                        -1.389246                -0.545857   \n",
       "4                         0.663114                 0.199551   \n",
       "5                         1.245714                 0.044137   \n",
       "6                         1.129880                -0.791719   \n",
       "7                        -1.086990                -0.754355   \n",
       "8                        -0.156111                 0.080562   \n",
       "9                        -1.088259                -0.282583   \n",
       "10                       -0.687222                -0.454062   \n",
       "11                        0.747410                -0.534776   \n",
       "12                       -0.752483                -0.262803   \n",
       "13                       -0.717900                 3.682896   \n",
       "14                        1.328765                 1.175453   \n",
       "15                        1.260370                -0.024427   \n",
       "16                        0.387698                 0.760495   \n",
       "17                       -1.196573                -0.503046   \n",
       "18                        0.916280                -0.052996   \n",
       "\n",
       "    music_time_slot_numeric  music_recc_rating  \n",
       "0                 -0.108022           1.433860  \n",
       "1                 -0.737642          -1.597959  \n",
       "2                  0.954974          -1.358605  \n",
       "3                 -1.367263           0.237089  \n",
       "4                 -0.953512          -1.478282  \n",
       "5                 -0.467805          -1.529573  \n",
       "6                  0.980796           1.271141  \n",
       "7                  1.151219           0.586147  \n",
       "8                 -1.479695           0.137358  \n",
       "9                  1.053097           0.817342  \n",
       "10                -1.930149           0.224221  \n",
       "11                 1.086458           1.034936  \n",
       "12                 0.697892          -0.472995  \n",
       "13                 0.902139           0.344492  \n",
       "14                 0.103615           0.190157  \n",
       "15                -0.943989          -0.865817  \n",
       "16                 0.544085           0.025161  \n",
       "17                 1.097252           1.633322  \n",
       "18                -0.583450          -0.631994  "
      ]
     },
     "execution_count": 104,
     "metadata": {},
     "output_type": "execute_result"
    }
   ],
   "source": [
    "z_scores = stats.zscore(new_cluster_stats.drop('전체'))\n",
    "z_scores"
   ]
  },
  {
   "cell_type": "code",
   "execution_count": 125,
   "id": "6e42d900",
   "metadata": {
    "ExecuteTime": {
     "end_time": "2024-01-05T08:49:48.997414Z",
     "start_time": "2024-01-05T08:49:48.957148Z"
    }
   },
   "outputs": [
    {
     "data": {
      "text/html": [
       "<div>\n",
       "<style scoped>\n",
       "    .dataframe tbody tr th:only-of-type {\n",
       "        vertical-align: middle;\n",
       "    }\n",
       "\n",
       "    .dataframe tbody tr th {\n",
       "        vertical-align: top;\n",
       "    }\n",
       "\n",
       "    .dataframe thead th {\n",
       "        text-align: right;\n",
       "    }\n",
       "</style>\n",
       "<table border=\"1\" class=\"dataframe\">\n",
       "  <thead>\n",
       "    <tr style=\"text-align: right;\">\n",
       "      <th></th>\n",
       "      <th>age_median</th>\n",
       "      <th>gender_binary</th>\n",
       "      <th>period_median</th>\n",
       "      <th>subscription_binary</th>\n",
       "      <th>preffered_premium_plan_numeric</th>\n",
       "      <th>fav_music_genre_numeric</th>\n",
       "      <th>music_time_slot_numeric</th>\n",
       "      <th>music_recc_rating</th>\n",
       "    </tr>\n",
       "  </thead>\n",
       "  <tbody>\n",
       "  </tbody>\n",
       "</table>\n",
       "</div>"
      ],
      "text/plain": [
       "Empty DataFrame\n",
       "Columns: [age_median, gender_binary, period_median, subscription_binary, preffered_premium_plan_numeric, fav_music_genre_numeric, music_time_slot_numeric, music_recc_rating]\n",
       "Index: []"
      ]
     },
     "execution_count": 125,
     "metadata": {},
     "output_type": "execute_result"
    }
   ],
   "source": [
    "# 군집 A\n",
    "z_scores[\n",
    "    (z_scores['subscription_binary'] >= stats.norm.ppf(1 - 0.3)) & (z_scores['preffered_premium_plan_numeric'] <= stats.norm.ppf(0.3))\n",
    "]"
   ]
  },
  {
   "cell_type": "code",
   "execution_count": 126,
   "id": "04460289",
   "metadata": {
    "ExecuteTime": {
     "end_time": "2024-01-05T08:49:54.594904Z",
     "start_time": "2024-01-05T08:49:54.556648Z"
    }
   },
   "outputs": [
    {
     "data": {
      "text/html": [
       "<div>\n",
       "<style scoped>\n",
       "    .dataframe tbody tr th:only-of-type {\n",
       "        vertical-align: middle;\n",
       "    }\n",
       "\n",
       "    .dataframe tbody tr th {\n",
       "        vertical-align: top;\n",
       "    }\n",
       "\n",
       "    .dataframe thead th {\n",
       "        text-align: right;\n",
       "    }\n",
       "</style>\n",
       "<table border=\"1\" class=\"dataframe\">\n",
       "  <thead>\n",
       "    <tr style=\"text-align: right;\">\n",
       "      <th></th>\n",
       "      <th>age_median</th>\n",
       "      <th>gender_binary</th>\n",
       "      <th>period_median</th>\n",
       "      <th>subscription_binary</th>\n",
       "      <th>preffered_premium_plan_numeric</th>\n",
       "      <th>fav_music_genre_numeric</th>\n",
       "      <th>music_time_slot_numeric</th>\n",
       "      <th>music_recc_rating</th>\n",
       "    </tr>\n",
       "  </thead>\n",
       "  <tbody>\n",
       "    <tr>\n",
       "      <th>1</th>\n",
       "      <td>-0.011421</td>\n",
       "      <td>0.499100</td>\n",
       "      <td>-1.104706</td>\n",
       "      <td>-0.574818</td>\n",
       "      <td>1.270629</td>\n",
       "      <td>-0.525711</td>\n",
       "      <td>-0.737642</td>\n",
       "      <td>-1.597959</td>\n",
       "    </tr>\n",
       "    <tr>\n",
       "      <th>6</th>\n",
       "      <td>-0.011421</td>\n",
       "      <td>0.573345</td>\n",
       "      <td>0.556305</td>\n",
       "      <td>-0.574818</td>\n",
       "      <td>1.129880</td>\n",
       "      <td>-0.791719</td>\n",
       "      <td>0.980796</td>\n",
       "      <td>1.271141</td>\n",
       "    </tr>\n",
       "    <tr>\n",
       "      <th>14</th>\n",
       "      <td>-0.011421</td>\n",
       "      <td>0.966411</td>\n",
       "      <td>0.125621</td>\n",
       "      <td>-0.574818</td>\n",
       "      <td>1.328765</td>\n",
       "      <td>1.175453</td>\n",
       "      <td>0.103615</td>\n",
       "      <td>0.190157</td>\n",
       "    </tr>\n",
       "    <tr>\n",
       "      <th>15</th>\n",
       "      <td>-1.523456</td>\n",
       "      <td>1.097433</td>\n",
       "      <td>-0.392290</td>\n",
       "      <td>-0.574818</td>\n",
       "      <td>1.260370</td>\n",
       "      <td>-0.024427</td>\n",
       "      <td>-0.943989</td>\n",
       "      <td>-0.865817</td>\n",
       "    </tr>\n",
       "  </tbody>\n",
       "</table>\n",
       "</div>"
      ],
      "text/plain": [
       "    age_median  gender_binary  period_median  subscription_binary  \\\n",
       "1    -0.011421       0.499100      -1.104706            -0.574818   \n",
       "6    -0.011421       0.573345       0.556305            -0.574818   \n",
       "14   -0.011421       0.966411       0.125621            -0.574818   \n",
       "15   -1.523456       1.097433      -0.392290            -0.574818   \n",
       "\n",
       "    preffered_premium_plan_numeric  fav_music_genre_numeric  \\\n",
       "1                         1.270629                -0.525711   \n",
       "6                         1.129880                -0.791719   \n",
       "14                        1.328765                 1.175453   \n",
       "15                        1.260370                -0.024427   \n",
       "\n",
       "    music_time_slot_numeric  music_recc_rating  \n",
       "1                 -0.737642          -1.597959  \n",
       "6                  0.980796           1.271141  \n",
       "14                 0.103615           0.190157  \n",
       "15                -0.943989          -0.865817  "
      ]
     },
     "execution_count": 126,
     "metadata": {},
     "output_type": "execute_result"
    }
   ],
   "source": [
    "# 군집 B\n",
    "z_scores[\n",
    "    (z_scores['subscription_binary'] <= stats.norm.ppf(0.3)) & (z_scores['preffered_premium_plan_numeric'] >= stats.norm.ppf(1 - 0.3))\n",
    "]"
   ]
  },
  {
   "cell_type": "markdown",
   "id": "ab0264a6",
   "metadata": {},
   "source": [
    "군집 A가 식별되지 않음에 따라, 군집 B에 대한 분석만을 수행한다. 현재 구독 중이 아니지만 **잠재적으로 구독할 가능성이 높은 군집**의 특성을 살펴본다."
   ]
  },
  {
   "cell_type": "code",
   "execution_count": 123,
   "id": "1a5cfd7c",
   "metadata": {
    "ExecuteTime": {
     "end_time": "2024-01-05T08:45:20.860904Z",
     "start_time": "2024-01-05T08:45:20.219105Z"
    },
    "scrolled": false
   },
   "outputs": [
    {
     "data": {
      "image/png": "[encoded data removed]",
      "text/plain": [
       "<Figure size 1200x1200 with 4 Axes>"
      ]
     },
     "metadata": {},
     "output_type": "display_data"
    }
   ],
   "source": [
    "fig, axes = plt.subplots(nrows=2, ncols=2, figsize=(12, 12), constrained_layout=True)\n",
    "target_cluster = [1, 6, 14, 15]\n",
    "\n",
    "for i in range(2):\n",
    "    for j in range(2):\n",
    "        axes[i][j].set_title(f\"클러스터 #{target_cluster[2 * i + j]}\")\n",
    "        z_scores.loc[target_cluster[2 * i + j]].plot(kind='bar', ax=axes[i][j])\n",
    "        axes[i][j].set_yticks([i for i in range(-2, 3)])\n",
    "        axes[i][j].axhline(stats.norm.ppf(0.3), color='red', linestyle='--', linewidth=0.75)\n",
    "        axes[i][j].axhline(0, color='black', linewidth=0.75)\n",
    "        axes[i][j].axhline(-stats.norm.ppf(0.3), color='red', linestyle='--', linewidth=0.75)"
   ]
  },
  {
   "cell_type": "markdown",
   "id": "d05358dc",
   "metadata": {},
   "source": [
    "- 클러스터 1: 가입한 지 얼마 안 됨, 아침에 주로 들음, 음악 추천 만족도 낮음\n",
    "- 클러스터 6: 메이저한 취향, 밤에 많이 들음, 음악 추천 만족도 높음\n",
    "- 클러스터 14: 여성, 마이너한 취향\n",
    "- 클러스터 15: 나이 어림, 여성, 아침에 많이 들음, 음악 추천 만족도 낮음"
   ]
  },
  {
   "cell_type": "markdown",
   "id": "687950ec",
   "metadata": {},
   "source": [
    "### 3-3. 결과 해석"
   ]
  },
  {
   "cell_type": "markdown",
   "id": "7ac0fab3",
   "metadata": {},
   "source": [
    "현재 구독 중이 아니지만 잠재적으로 구독할 가능성이 높은 4개의 군집을 분석해 본 결과 위에 주관적 생각을 얹어본다.\n",
    "- 클러스터 1: 아직 가입한 지 얼마 안 되어 음악 추천을 위한 표본이 많이 쌓이지는 않았으나, 서비스에 흥미를 느끼고 있다. 이 유형의 경우 점차 취향 표본이 쌓이면서 추천의 정확도가 올라갈 것이다. 딱히 **별다른 액션을 취하지 않아도** 스포티파이 기능을 이용하면서 만족도를 쌓아나갈 유형이다.\n",
    "- 클러스터 6: 대중적인 취향을 지니고 있는 유저인데다가 서비스 만족도도 아주 높다. 아직은 무료로 이용 중이지만 특별한 계기가 있다면 가까운 시일 내에 구독을 진행할 것이다. 이 유저들을 **메인 타겟**으로 삼을 필요가 있다. 메이저한 취향의 유저들을 대상으로 **처음 3개월 할인 쿠폰을 발급**하는 마케팅 전략을 이용할 수 있다.\n",
    "- 클러스터 14: 마이너한 취향을 가지고 있기에 음악 추천 서비스가 정밀하게 제공되기 어렵다. 그럼에도 불구하고 불만족 중이 아니라는 점이 희망적이다. 이들을 위해 대중적이지 않은 장르에 대한 **추천 알고리즘**을 다듬을 필요가 있다. 그렇게 된다면 자연스럽게 서비스 만족도가 상승하면서 구독 유저로 전환될 수 있다.\n",
    "- 클러스터 15: 아직 나이가 어린 유저들인 만큼 자신의 취향이 확고히 정립되지 않았다고 볼 수 있다. 클러스터 1과 마찬가지로, 스포티파이 서비스를 이용하면서 자연스럽게 만족도를 쌓아나갈 유형으로 생각된다. 마찬가지로 **별다른 액션을 취하지 않는 것**이 유리할 수 있겠다.\n",
    "\n",
    "결론적으로, 유저 로그를 클러스터 6의 속성으로 필터링하여 대상자에 해당하는 경우 할인 팝업을 띄워 **이 창에서만 3개월 할인**과 같은 식으로 할인 상품을 판매하는 전략을 취할 수 있다. 또한 ML 엔지니어링 팀의 주요 목표로 **마이너한 취향에 대한 추천 알고리즘 가다듬기**를 설정하는 것도 도움이 될 것이다."
   ]
  }
 ],
 "metadata": {
  "kernelspec": {
   "display_name": "Python 3 (ipykernel)",
   "language": "python",
   "name": "python3"
  },
  "language_info": {
   "codemirror_mode": {
    "name": "ipython",
    "version": 3
   },
   "file_extension": ".py",
   "mimetype": "text/x-python",
   "name": "python",
   "nbconvert_exporter": "python",
   "pygments_lexer": "ipython3",
   "version": "3.9.16"
  },
  "toc": {
   "base_numbering": 1,
   "nav_menu": {},
   "number_sections": false,
   "sideBar": true,
   "skip_h1_title": false,
   "title_cell": "Table of Contents",
   "title_sidebar": "Contents",
   "toc_cell": false,
   "toc_position": {
    "height": "calc(100% - 180px)",
    "left": "10px",
    "top": "150px",
    "width": "326.6px"
   },
   "toc_section_display": true,
   "toc_window_display": true
  }
 },
 "nbformat": 4,
 "nbformat_minor": 5
}
