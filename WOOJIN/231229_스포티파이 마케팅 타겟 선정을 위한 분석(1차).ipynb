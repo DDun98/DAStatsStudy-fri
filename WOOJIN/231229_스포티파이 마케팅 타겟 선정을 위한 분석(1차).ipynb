{
 "cells": [
  {
   "cell_type": "markdown",
   "id": "86eae928",
   "metadata": {},
   "source": [
    "# 스포티파이 마케팅 타겟 선정을 위한 분석\n",
    "\n",
    "2023.12.29"
   ]
  },
  {
   "cell_type": "markdown",
   "id": "f9fed36a",
   "metadata": {},
   "source": [
    "---"
   ]
  },
  {
   "cell_type": "markdown",
   "id": "d1337e66",
   "metadata": {},
   "source": [
    "## 1. 프로젝트 개요"
   ]
  },
  {
   "cell_type": "markdown",
   "id": "90453dd7",
   "metadata": {},
   "source": [
    "### 1-1. 프로젝트 요약\n",
    "- 제목: 스포티파이 마케팅 타겟 선정을 위한 분석\n",
    "- 설명: 스포티파이 유저 설문 데이터를 이용하여, 구독 가능성이 높은 유저와, 구독 취소 위험성이 높은 유저를 식별해 낸다.\n",
    "- 사용한 데이터셋\n",
    "    - [Spotify User Behavior Dataset](https://www.kaggle.com/datasets/meeraajayakumar/spotify-user-behavior-dataset/): 유저 분석을 위한 종합 Spotify 데이터 세트\n",
    "- 진행 절차 및 내용\n",
    "    - 내용1\n",
    "    - 내용2\n",
    "- 사용한 스킬셋\n",
    "    - pandas\n",
    "    - matplotlib, seaborn\n",
    "    - ..."
   ]
  },
  {
   "cell_type": "markdown",
   "id": "52d7a1cc",
   "metadata": {},
   "source": [
    "### 1-2. 프로젝트 진행 배경\n",
    "\n",
    "내용"
   ]
  },
  {
   "cell_type": "markdown",
   "id": "a6bdae6a",
   "metadata": {},
   "source": [
    "---"
   ]
  },
  {
   "cell_type": "markdown",
   "id": "91e2c594",
   "metadata": {},
   "source": [
    "## 2. 데이터 로딩 및 EDA"
   ]
  },
  {
   "cell_type": "markdown",
   "id": "63499328",
   "metadata": {},
   "source": [
    "### 2-1. 데이터 불러오기"
   ]
  },
  {
   "cell_type": "code",
   "execution_count": 1,
   "id": "eec0d7e3",
   "metadata": {
    "ExecuteTime": {
     "end_time": "2023-12-29T08:00:38.142706Z",
     "start_time": "2023-12-29T08:00:35.212385Z"
    }
   },
   "outputs": [],
   "source": [
    "import pandas as pd\n",
    "import numpy as np\n",
    "import matplotlib.pyplot as plt\n",
    "import koreanize_matplotlib\n",
    "import seaborn as sns\n",
    "import pickle"
   ]
  },
  {
   "cell_type": "code",
   "execution_count": 2,
   "id": "956e808e",
   "metadata": {
    "ExecuteTime": {
     "end_time": "2023-12-29T08:00:40.846889Z",
     "start_time": "2023-12-29T08:00:39.959799Z"
    }
   },
   "outputs": [
    {
     "data": {
      "text/html": [
       "<div>\n",
       "<style scoped>\n",
       "    .dataframe tbody tr th:only-of-type {\n",
       "        vertical-align: middle;\n",
       "    }\n",
       "\n",
       "    .dataframe tbody tr th {\n",
       "        vertical-align: top;\n",
       "    }\n",
       "\n",
       "    .dataframe thead th {\n",
       "        text-align: right;\n",
       "    }\n",
       "</style>\n",
       "<table border=\"1\" class=\"dataframe\">\n",
       "  <thead>\n",
       "    <tr style=\"text-align: right;\">\n",
       "      <th></th>\n",
       "      <th>Age</th>\n",
       "      <th>Gender</th>\n",
       "      <th>spotify_usage_period</th>\n",
       "      <th>spotify_listening_device</th>\n",
       "      <th>spotify_subscription_plan</th>\n",
       "      <th>premium_sub_willingness</th>\n",
       "      <th>preffered_premium_plan</th>\n",
       "      <th>preferred_listening_content</th>\n",
       "      <th>fav_music_genre</th>\n",
       "      <th>music_time_slot</th>\n",
       "      <th>music_Influencial_mood</th>\n",
       "      <th>music_lis_frequency</th>\n",
       "      <th>music_expl_method</th>\n",
       "      <th>music_recc_rating</th>\n",
       "      <th>pod_lis_frequency</th>\n",
       "      <th>fav_pod_genre</th>\n",
       "      <th>preffered_pod_format</th>\n",
       "      <th>pod_host_preference</th>\n",
       "      <th>preffered_pod_duration</th>\n",
       "      <th>pod_variety_satisfaction</th>\n",
       "    </tr>\n",
       "  </thead>\n",
       "  <tbody>\n",
       "    <tr>\n",
       "      <th>0</th>\n",
       "      <td>20-35</td>\n",
       "      <td>Female</td>\n",
       "      <td>More than 2 years</td>\n",
       "      <td>Smart speakers or voice assistants</td>\n",
       "      <td>Free (ad-supported)</td>\n",
       "      <td>Yes</td>\n",
       "      <td>Family Plan-Rs 179/month</td>\n",
       "      <td>Podcast</td>\n",
       "      <td>Melody</td>\n",
       "      <td>Night</td>\n",
       "      <td>Sadness or melancholy</td>\n",
       "      <td>leisure time</td>\n",
       "      <td>Playlists</td>\n",
       "      <td>3</td>\n",
       "      <td>Daily</td>\n",
       "      <td>Comedy</td>\n",
       "      <td>Interview</td>\n",
       "      <td>Both</td>\n",
       "      <td>Both</td>\n",
       "      <td>Ok</td>\n",
       "    </tr>\n",
       "    <tr>\n",
       "      <th>1</th>\n",
       "      <td>12-20</td>\n",
       "      <td>Male</td>\n",
       "      <td>More than 2 years</td>\n",
       "      <td>Computer or laptop</td>\n",
       "      <td>Free (ad-supported)</td>\n",
       "      <td>Yes</td>\n",
       "      <td>Individual Plan- Rs 119/ month</td>\n",
       "      <td>Podcast</td>\n",
       "      <td>Rap</td>\n",
       "      <td>Afternoon</td>\n",
       "      <td>Social gatherings or parties</td>\n",
       "      <td>Workout session</td>\n",
       "      <td>Playlists</td>\n",
       "      <td>2</td>\n",
       "      <td>Several times a week</td>\n",
       "      <td>Comedy</td>\n",
       "      <td>Interview</td>\n",
       "      <td>Both</td>\n",
       "      <td>None</td>\n",
       "      <td>Satisfied</td>\n",
       "    </tr>\n",
       "    <tr>\n",
       "      <th>2</th>\n",
       "      <td>35-60</td>\n",
       "      <td>Others</td>\n",
       "      <td>6 months to 1 year</td>\n",
       "      <td>Smart speakers or voice assistants</td>\n",
       "      <td>Free (ad-supported)</td>\n",
       "      <td>Yes</td>\n",
       "      <td>Student Plan-Rs 59/month</td>\n",
       "      <td>Podcast</td>\n",
       "      <td>Pop</td>\n",
       "      <td>Night</td>\n",
       "      <td>Relaxation and stress relief</td>\n",
       "      <td>Study Hours, While Traveling</td>\n",
       "      <td>Playlists</td>\n",
       "      <td>4</td>\n",
       "      <td>Once a week</td>\n",
       "      <td>Sports</td>\n",
       "      <td>Interview</td>\n",
       "      <td>None</td>\n",
       "      <td>Both</td>\n",
       "      <td>Satisfied</td>\n",
       "    </tr>\n",
       "    <tr>\n",
       "      <th>3</th>\n",
       "      <td>20-35</td>\n",
       "      <td>Female</td>\n",
       "      <td>1 year to 2 years</td>\n",
       "      <td>Smartphone, Smart speakers or voice assistants</td>\n",
       "      <td>Free (ad-supported)</td>\n",
       "      <td>No</td>\n",
       "      <td>None</td>\n",
       "      <td>Music</td>\n",
       "      <td>Melody</td>\n",
       "      <td>Night</td>\n",
       "      <td>Relaxation and stress relief, Social gathering...</td>\n",
       "      <td>Office hours, Workout session, leisure time</td>\n",
       "      <td>recommendations, Playlists</td>\n",
       "      <td>4</td>\n",
       "      <td>Never</td>\n",
       "      <td>None</td>\n",
       "      <td>None</td>\n",
       "      <td>None</td>\n",
       "      <td>None</td>\n",
       "      <td>Ok</td>\n",
       "    </tr>\n",
       "    <tr>\n",
       "      <th>4</th>\n",
       "      <td>20-35</td>\n",
       "      <td>Female</td>\n",
       "      <td>1 year to 2 years</td>\n",
       "      <td>Smartphone</td>\n",
       "      <td>Free (ad-supported)</td>\n",
       "      <td>No</td>\n",
       "      <td>None</td>\n",
       "      <td>Music</td>\n",
       "      <td>Melody</td>\n",
       "      <td>Night</td>\n",
       "      <td>Relaxation and stress relief</td>\n",
       "      <td>leisure time</td>\n",
       "      <td>recommendations, Playlists</td>\n",
       "      <td>4</td>\n",
       "      <td>Rarely</td>\n",
       "      <td>Lifestyle and Health</td>\n",
       "      <td>Story telling</td>\n",
       "      <td>Well known individuals</td>\n",
       "      <td>Both</td>\n",
       "      <td>Ok</td>\n",
       "    </tr>\n",
       "    <tr>\n",
       "      <th>...</th>\n",
       "      <td>...</td>\n",
       "      <td>...</td>\n",
       "      <td>...</td>\n",
       "      <td>...</td>\n",
       "      <td>...</td>\n",
       "      <td>...</td>\n",
       "      <td>...</td>\n",
       "      <td>...</td>\n",
       "      <td>...</td>\n",
       "      <td>...</td>\n",
       "      <td>...</td>\n",
       "      <td>...</td>\n",
       "      <td>...</td>\n",
       "      <td>...</td>\n",
       "      <td>...</td>\n",
       "      <td>...</td>\n",
       "      <td>...</td>\n",
       "      <td>...</td>\n",
       "      <td>...</td>\n",
       "      <td>...</td>\n",
       "    </tr>\n",
       "    <tr>\n",
       "      <th>515</th>\n",
       "      <td>20-35</td>\n",
       "      <td>Female</td>\n",
       "      <td>More than 2 years</td>\n",
       "      <td>Smartphone, Computer or laptop, Wearable devices</td>\n",
       "      <td>Free (ad-supported)</td>\n",
       "      <td>Yes</td>\n",
       "      <td>Student Plan-Rs 59/month</td>\n",
       "      <td>Music</td>\n",
       "      <td>Pop</td>\n",
       "      <td>Morning</td>\n",
       "      <td>Uplifting and motivational, Sadness or melancholy</td>\n",
       "      <td>While Traveling</td>\n",
       "      <td>recommendations</td>\n",
       "      <td>5</td>\n",
       "      <td>Rarely</td>\n",
       "      <td>Lifestyle and Health</td>\n",
       "      <td>Conversational</td>\n",
       "      <td>Both</td>\n",
       "      <td>Shorter</td>\n",
       "      <td>Ok</td>\n",
       "    </tr>\n",
       "    <tr>\n",
       "      <th>516</th>\n",
       "      <td>20-35</td>\n",
       "      <td>Female</td>\n",
       "      <td>More than 2 years</td>\n",
       "      <td>Smartphone, Computer or laptop</td>\n",
       "      <td>Free (ad-supported)</td>\n",
       "      <td>Yes</td>\n",
       "      <td>Student Plan-Rs 59/month</td>\n",
       "      <td>Music</td>\n",
       "      <td>Pop</td>\n",
       "      <td>Night</td>\n",
       "      <td>Relaxation and stress relief, Uplifting and mo...</td>\n",
       "      <td>While Traveling, Workout session, leisure time</td>\n",
       "      <td>Others</td>\n",
       "      <td>2</td>\n",
       "      <td>Rarely</td>\n",
       "      <td>Comedy</td>\n",
       "      <td>Story telling</td>\n",
       "      <td>Both</td>\n",
       "      <td>Shorter</td>\n",
       "      <td>Ok</td>\n",
       "    </tr>\n",
       "    <tr>\n",
       "      <th>517</th>\n",
       "      <td>20-35</td>\n",
       "      <td>Female</td>\n",
       "      <td>More than 2 years</td>\n",
       "      <td>Smartphone</td>\n",
       "      <td>Free (ad-supported)</td>\n",
       "      <td>No</td>\n",
       "      <td>Student Plan-Rs 59/month</td>\n",
       "      <td>Music</td>\n",
       "      <td>Pop</td>\n",
       "      <td>Night</td>\n",
       "      <td>Relaxation and stress relief</td>\n",
       "      <td>leisure time</td>\n",
       "      <td>recommendations</td>\n",
       "      <td>3</td>\n",
       "      <td>Never</td>\n",
       "      <td>None</td>\n",
       "      <td>Story telling</td>\n",
       "      <td>Both</td>\n",
       "      <td>Shorter</td>\n",
       "      <td>Ok</td>\n",
       "    </tr>\n",
       "    <tr>\n",
       "      <th>518</th>\n",
       "      <td>20-35</td>\n",
       "      <td>Female</td>\n",
       "      <td>6 months to 1 year</td>\n",
       "      <td>Smartphone</td>\n",
       "      <td>Premium (paid subscription)</td>\n",
       "      <td>Yes</td>\n",
       "      <td>Individual Plan- Rs 119/ month</td>\n",
       "      <td>Music</td>\n",
       "      <td>Melody</td>\n",
       "      <td>Night</td>\n",
       "      <td>Relaxation and stress relief, Uplifting and mo...</td>\n",
       "      <td>Workout session, leisure time</td>\n",
       "      <td>recommendations, Others</td>\n",
       "      <td>2</td>\n",
       "      <td>Several times a week</td>\n",
       "      <td>Comedy</td>\n",
       "      <td>Conversational</td>\n",
       "      <td>Both</td>\n",
       "      <td>Longer</td>\n",
       "      <td>Satisfied</td>\n",
       "    </tr>\n",
       "    <tr>\n",
       "      <th>519</th>\n",
       "      <td>20-35</td>\n",
       "      <td>Female</td>\n",
       "      <td>More than 2 years</td>\n",
       "      <td>Smartphone, Computer or laptop</td>\n",
       "      <td>Premium (paid subscription)</td>\n",
       "      <td>Yes</td>\n",
       "      <td>Student Plan-Rs 59/month</td>\n",
       "      <td>Music</td>\n",
       "      <td>Pop</td>\n",
       "      <td>Night</td>\n",
       "      <td>Relaxation and stress relief, Sadness or melan...</td>\n",
       "      <td>Office hours,Study Hours, While Traveling, lei...</td>\n",
       "      <td>Playlists, Radio</td>\n",
       "      <td>3</td>\n",
       "      <td>Never</td>\n",
       "      <td>None</td>\n",
       "      <td>None</td>\n",
       "      <td>None</td>\n",
       "      <td>None</td>\n",
       "      <td>Ok</td>\n",
       "    </tr>\n",
       "  </tbody>\n",
       "</table>\n",
       "<p>520 rows × 20 columns</p>\n",
       "</div>"
      ],
      "text/plain": [
       "       Age  Gender spotify_usage_period  \\\n",
       "0    20-35  Female    More than 2 years   \n",
       "1    12-20    Male    More than 2 years   \n",
       "2    35-60  Others   6 months to 1 year   \n",
       "3    20-35  Female    1 year to 2 years   \n",
       "4    20-35  Female    1 year to 2 years   \n",
       "..     ...     ...                  ...   \n",
       "515  20-35  Female    More than 2 years   \n",
       "516  20-35  Female    More than 2 years   \n",
       "517  20-35  Female    More than 2 years   \n",
       "518  20-35  Female   6 months to 1 year   \n",
       "519  20-35  Female    More than 2 years   \n",
       "\n",
       "                             spotify_listening_device  \\\n",
       "0                  Smart speakers or voice assistants   \n",
       "1                                  Computer or laptop   \n",
       "2                  Smart speakers or voice assistants   \n",
       "3      Smartphone, Smart speakers or voice assistants   \n",
       "4                                          Smartphone   \n",
       "..                                                ...   \n",
       "515  Smartphone, Computer or laptop, Wearable devices   \n",
       "516                    Smartphone, Computer or laptop   \n",
       "517                                        Smartphone   \n",
       "518                                        Smartphone   \n",
       "519                    Smartphone, Computer or laptop   \n",
       "\n",
       "       spotify_subscription_plan premium_sub_willingness  \\\n",
       "0            Free (ad-supported)                     Yes   \n",
       "1            Free (ad-supported)                     Yes   \n",
       "2            Free (ad-supported)                     Yes   \n",
       "3            Free (ad-supported)                      No   \n",
       "4            Free (ad-supported)                      No   \n",
       "..                           ...                     ...   \n",
       "515          Free (ad-supported)                     Yes   \n",
       "516          Free (ad-supported)                     Yes   \n",
       "517          Free (ad-supported)                      No   \n",
       "518  Premium (paid subscription)                     Yes   \n",
       "519  Premium (paid subscription)                     Yes   \n",
       "\n",
       "             preffered_premium_plan preferred_listening_content  \\\n",
       "0          Family Plan-Rs 179/month                     Podcast   \n",
       "1    Individual Plan- Rs 119/ month                     Podcast   \n",
       "2          Student Plan-Rs 59/month                     Podcast   \n",
       "3                              None                       Music   \n",
       "4                              None                       Music   \n",
       "..                              ...                         ...   \n",
       "515        Student Plan-Rs 59/month                       Music   \n",
       "516        Student Plan-Rs 59/month                       Music   \n",
       "517        Student Plan-Rs 59/month                       Music   \n",
       "518  Individual Plan- Rs 119/ month                       Music   \n",
       "519        Student Plan-Rs 59/month                       Music   \n",
       "\n",
       "    fav_music_genre music_time_slot  \\\n",
       "0            Melody           Night   \n",
       "1               Rap       Afternoon   \n",
       "2               Pop           Night   \n",
       "3            Melody           Night   \n",
       "4            Melody           Night   \n",
       "..              ...             ...   \n",
       "515             Pop         Morning   \n",
       "516             Pop           Night   \n",
       "517             Pop           Night   \n",
       "518          Melody           Night   \n",
       "519             Pop           Night   \n",
       "\n",
       "                                music_Influencial_mood  \\\n",
       "0                                Sadness or melancholy   \n",
       "1                         Social gatherings or parties   \n",
       "2                         Relaxation and stress relief   \n",
       "3    Relaxation and stress relief, Social gathering...   \n",
       "4                         Relaxation and stress relief   \n",
       "..                                                 ...   \n",
       "515  Uplifting and motivational, Sadness or melancholy   \n",
       "516  Relaxation and stress relief, Uplifting and mo...   \n",
       "517                       Relaxation and stress relief   \n",
       "518  Relaxation and stress relief, Uplifting and mo...   \n",
       "519  Relaxation and stress relief, Sadness or melan...   \n",
       "\n",
       "                                   music_lis_frequency  \\\n",
       "0                                         leisure time   \n",
       "1                                      Workout session   \n",
       "2                         Study Hours, While Traveling   \n",
       "3          Office hours, Workout session, leisure time   \n",
       "4                                         leisure time   \n",
       "..                                                 ...   \n",
       "515                                    While Traveling   \n",
       "516     While Traveling, Workout session, leisure time   \n",
       "517                                       leisure time   \n",
       "518                      Workout session, leisure time   \n",
       "519  Office hours,Study Hours, While Traveling, lei...   \n",
       "\n",
       "              music_expl_method  music_recc_rating     pod_lis_frequency  \\\n",
       "0                     Playlists                  3                 Daily   \n",
       "1                     Playlists                  2  Several times a week   \n",
       "2                     Playlists                  4           Once a week   \n",
       "3    recommendations, Playlists                  4                 Never   \n",
       "4    recommendations, Playlists                  4                Rarely   \n",
       "..                          ...                ...                   ...   \n",
       "515             recommendations                  5                Rarely   \n",
       "516                      Others                  2                Rarely   \n",
       "517             recommendations                  3                 Never   \n",
       "518     recommendations, Others                  2  Several times a week   \n",
       "519            Playlists, Radio                  3                 Never   \n",
       "\n",
       "            fav_pod_genre preffered_pod_format     pod_host_preference  \\\n",
       "0                  Comedy            Interview                    Both   \n",
       "1                  Comedy            Interview                    Both   \n",
       "2                  Sports            Interview                    None   \n",
       "3                    None                 None                    None   \n",
       "4    Lifestyle and Health        Story telling  Well known individuals   \n",
       "..                    ...                  ...                     ...   \n",
       "515  Lifestyle and Health       Conversational                    Both   \n",
       "516                Comedy        Story telling                    Both   \n",
       "517                  None        Story telling                    Both   \n",
       "518                Comedy       Conversational                    Both   \n",
       "519                  None                 None                    None   \n",
       "\n",
       "    preffered_pod_duration pod_variety_satisfaction  \n",
       "0                     Both                       Ok  \n",
       "1                     None                Satisfied  \n",
       "2                     Both                Satisfied  \n",
       "3                     None                       Ok  \n",
       "4                     Both                       Ok  \n",
       "..                     ...                      ...  \n",
       "515                Shorter                       Ok  \n",
       "516                Shorter                       Ok  \n",
       "517                Shorter                       Ok  \n",
       "518                 Longer                Satisfied  \n",
       "519                   None                       Ok  \n",
       "\n",
       "[520 rows x 20 columns]"
      ]
     },
     "execution_count": 2,
     "metadata": {},
     "output_type": "execute_result"
    }
   ],
   "source": [
    "spotify_df = pd.read_excel('Spotify_data.xlsx')\n",
    "spotify_df"
   ]
  },
  {
   "cell_type": "code",
   "execution_count": 6,
   "id": "e3f50770",
   "metadata": {
    "ExecuteTime": {
     "end_time": "2023-12-29T03:45:16.325704Z",
     "start_time": "2023-12-29T03:45:16.283410Z"
    }
   },
   "outputs": [
    {
     "name": "stdout",
     "output_type": "stream",
     "text": [
      "<class 'pandas.core.frame.DataFrame'>\n",
      "RangeIndex: 520 entries, 0 to 519\n",
      "Data columns (total 20 columns):\n",
      " #   Column                       Non-Null Count  Dtype \n",
      "---  ------                       --------------  ----- \n",
      " 0   Age                          520 non-null    object\n",
      " 1   Gender                       520 non-null    object\n",
      " 2   spotify_usage_period         520 non-null    object\n",
      " 3   spotify_listening_device     520 non-null    object\n",
      " 4   spotify_subscription_plan    520 non-null    object\n",
      " 5   premium_sub_willingness      520 non-null    object\n",
      " 6   preffered_premium_plan       520 non-null    object\n",
      " 7   preferred_listening_content  520 non-null    object\n",
      " 8   fav_music_genre              520 non-null    object\n",
      " 9   music_time_slot              520 non-null    object\n",
      " 10  music_Influencial_mood       520 non-null    object\n",
      " 11  music_lis_frequency          520 non-null    object\n",
      " 12  music_expl_method            520 non-null    object\n",
      " 13  music_recc_rating            520 non-null    int64 \n",
      " 14  pod_lis_frequency            520 non-null    object\n",
      " 15  fav_pod_genre                520 non-null    object\n",
      " 16  preffered_pod_format         520 non-null    object\n",
      " 17  pod_host_preference          520 non-null    object\n",
      " 18  preffered_pod_duration       520 non-null    object\n",
      " 19  pod_variety_satisfaction     520 non-null    object\n",
      "dtypes: int64(1), object(19)\n",
      "memory usage: 81.4+ KB\n"
     ]
    }
   ],
   "source": [
    "spotify_df.info()"
   ]
  },
  {
   "cell_type": "code",
   "execution_count": 7,
   "id": "66e25c2d",
   "metadata": {
    "ExecuteTime": {
     "end_time": "2023-12-29T03:45:22.999881Z",
     "start_time": "2023-12-29T03:45:22.969919Z"
    }
   },
   "outputs": [
    {
     "data": {
      "text/plain": [
       "Age                            0\n",
       "Gender                         0\n",
       "spotify_usage_period           0\n",
       "spotify_listening_device       0\n",
       "spotify_subscription_plan      0\n",
       "premium_sub_willingness        0\n",
       "preffered_premium_plan         0\n",
       "preferred_listening_content    0\n",
       "fav_music_genre                0\n",
       "music_time_slot                0\n",
       "music_Influencial_mood         0\n",
       "music_lis_frequency            0\n",
       "music_expl_method              0\n",
       "music_recc_rating              0\n",
       "pod_lis_frequency              0\n",
       "fav_pod_genre                  0\n",
       "preffered_pod_format           0\n",
       "pod_host_preference            0\n",
       "preffered_pod_duration         0\n",
       "pod_variety_satisfaction       0\n",
       "dtype: int64"
      ]
     },
     "execution_count": 7,
     "metadata": {},
     "output_type": "execute_result"
    }
   ],
   "source": [
    "spotify_df.isna().sum()"
   ]
  },
  {
   "cell_type": "markdown",
   "id": "d7229d54",
   "metadata": {},
   "source": [
    "|컬럼명|설명|\n",
    "|:---:|:---|\n",
    "|Age|사용자의 연령 그룹|\n",
    "|Gender|사용자의 성별|\n",
    "|spotify_usage_period|Spotify를 사용한 지 얼마나 되었습니까?|\n",
    "|spotify_listening_device|Spotify를 듣기 위해 주로 사용하는 기기는?|\n",
    "|spotify_subscription_plan|현재 보유하고 있는 Spotify 구독 플랜은 무엇입니까?|\n",
    "|premium_sub_willness|프리미엄 구독을 이용하실 의향이 있으신가요, 아니면 앞으로도 계속 프리미엄 구독을 하실 의향이 있으신가요?|\n",
    "|prefered_premium_plan|프리미엄 또는 프리미엄을 가져갈 의향이 있는 경우 구독에 대해 지불하는 금액은 얼마입니까?|\n",
    "|preferred_listening_content|더 듣기를 선호하는 것은 무엇입니까?|\n",
    "|fav_music_general|어떤 장르의 음악을 가장 즐겨 듣나요?|\n",
    "|music_time_slot|음악을 듣기에 가장 좋아하는 시간대는?|\n",
    "|music_Influencial_mood|음악을 듣는 것에 있어서, 다음 중 어떤 분위기나 상황이 당신의 음악 선택에 가장 강하게 영향을 미치는가?|\n",
    "|music_lis_frequency|언제 음악을 더 자주 듣나요?|\n",
    "|music_expl_method|Spotify에서 새로운 음악을 어떻게 발견하나요?|\n",
    "|music_recc_rating|스포티파이 음악 추천은 어떻게 평가하나요?|\n",
    "|pod_lis_frequency|팟캐스트를 얼마나 자주 듣나요?|\n",
    "|fav_pod_general|팟캐스트의 어떤 장르를 가장 즐겨?|\n",
    "|prefered_pod_format|일반적으로 선호하는 팟캐스트 포맷은 무엇인가?|\n",
    "|pod_host_preferences|당신은 알려지지 않은 사람들의 팟캐스트를 듣는 경향이 더 있는가, 아니면 잘 알려진 사람들이 진행하는 팟캐스트를 더 선호하는가?|\n",
    "|prefered_pod_duration|팟캐스트 에피소드가 짧은 편(30분 미만) 또는 긴 편(30분 이상)을 선호하십니까|\n",
    "|pod_variety|Spotify에서 팟캐스트의 다양성과 가용성에 만족하십니까?|"
   ]
  },
  {
   "cell_type": "markdown",
   "id": "fd0b53dd",
   "metadata": {},
   "source": [
    "### 2-2. 데이터 분포 확인 및 전처리"
   ]
  },
  {
   "cell_type": "markdown",
   "id": "b8c8cf89",
   "metadata": {},
   "source": [
    "#### 2-2-1. 컬럼별 분포 확인 (나이)"
   ]
  },
  {
   "cell_type": "code",
   "execution_count": 21,
   "id": "be906ce8",
   "metadata": {
    "ExecuteTime": {
     "end_time": "2023-12-29T04:01:01.567558Z",
     "start_time": "2023-12-29T04:01:01.529230Z"
    }
   },
   "outputs": [
    {
     "data": {
      "text/plain": [
       "6-12       3\n",
       "12-20     71\n",
       "20-35    422\n",
       "35-60     23\n",
       "60+        1\n",
       "Name: Age, dtype: int64"
      ]
     },
     "execution_count": 21,
     "metadata": {},
     "output_type": "execute_result"
    }
   ],
   "source": [
    "order_dict = {'6-12': 1, '12-20': 2, '20-35': 3, '35-60': 4, '60+': 5}\n",
    "\n",
    "age_df = spotify_df['Age'].value_counts().sort_index(key=lambda x:x.map(order_dict))\n",
    "age_df"
   ]
  },
  {
   "cell_type": "code",
   "execution_count": 23,
   "id": "8fc767d6",
   "metadata": {
    "ExecuteTime": {
     "end_time": "2023-12-29T04:01:38.619916Z",
     "start_time": "2023-12-29T04:01:38.488498Z"
    }
   },
   "outputs": [
    {
     "data": {
      "image/png": "[encoded data removed]",
      "text/plain": [
       "<Figure size 640x480 with 1 Axes>"
      ]
     },
     "metadata": {},
     "output_type": "display_data"
    }
   ],
   "source": [
    "plt.bar(\n",
    "    age_df.index,\n",
    "    age_df\n",
    ")\n",
    "\n",
    "plt.title('유저의 나이 그룹')\n",
    "plt.show()"
   ]
  },
  {
   "cell_type": "markdown",
   "id": "cbc656aa",
   "metadata": {},
   "source": [
    "20-35세가 압도적이고, 12-20세가 그 다음이다. 확실히 **젊은 연령층**의 수가 많다.\n",
    "\n",
    "현재 카테고리형으로 주어져 있는 상태인데 이를 numeric하게 변경하기 위해 **중앙값**으로 변환한다. 단, 60세 이상의 경우 60으로 넣는다."
   ]
  },
  {
   "cell_type": "code",
   "execution_count": 3,
   "id": "6950b733",
   "metadata": {
    "ExecuteTime": {
     "end_time": "2023-12-29T08:00:55.929959Z",
     "start_time": "2023-12-29T08:00:55.897794Z"
    },
    "scrolled": false
   },
   "outputs": [
    {
     "data": {
      "text/html": [
       "<div>\n",
       "<style scoped>\n",
       "    .dataframe tbody tr th:only-of-type {\n",
       "        vertical-align: middle;\n",
       "    }\n",
       "\n",
       "    .dataframe tbody tr th {\n",
       "        vertical-align: top;\n",
       "    }\n",
       "\n",
       "    .dataframe thead th {\n",
       "        text-align: right;\n",
       "    }\n",
       "</style>\n",
       "<table border=\"1\" class=\"dataframe\">\n",
       "  <thead>\n",
       "    <tr style=\"text-align: right;\">\n",
       "      <th></th>\n",
       "      <th>Age</th>\n",
       "      <th>age_median</th>\n",
       "    </tr>\n",
       "  </thead>\n",
       "  <tbody>\n",
       "    <tr>\n",
       "      <th>0</th>\n",
       "      <td>20-35</td>\n",
       "      <td>27.5</td>\n",
       "    </tr>\n",
       "    <tr>\n",
       "      <th>1</th>\n",
       "      <td>12-20</td>\n",
       "      <td>16.0</td>\n",
       "    </tr>\n",
       "    <tr>\n",
       "      <th>2</th>\n",
       "      <td>35-60</td>\n",
       "      <td>47.5</td>\n",
       "    </tr>\n",
       "    <tr>\n",
       "      <th>3</th>\n",
       "      <td>20-35</td>\n",
       "      <td>27.5</td>\n",
       "    </tr>\n",
       "    <tr>\n",
       "      <th>4</th>\n",
       "      <td>20-35</td>\n",
       "      <td>27.5</td>\n",
       "    </tr>\n",
       "    <tr>\n",
       "      <th>...</th>\n",
       "      <td>...</td>\n",
       "      <td>...</td>\n",
       "    </tr>\n",
       "    <tr>\n",
       "      <th>515</th>\n",
       "      <td>20-35</td>\n",
       "      <td>27.5</td>\n",
       "    </tr>\n",
       "    <tr>\n",
       "      <th>516</th>\n",
       "      <td>20-35</td>\n",
       "      <td>27.5</td>\n",
       "    </tr>\n",
       "    <tr>\n",
       "      <th>517</th>\n",
       "      <td>20-35</td>\n",
       "      <td>27.5</td>\n",
       "    </tr>\n",
       "    <tr>\n",
       "      <th>518</th>\n",
       "      <td>20-35</td>\n",
       "      <td>27.5</td>\n",
       "    </tr>\n",
       "    <tr>\n",
       "      <th>519</th>\n",
       "      <td>20-35</td>\n",
       "      <td>27.5</td>\n",
       "    </tr>\n",
       "  </tbody>\n",
       "</table>\n",
       "<p>520 rows × 2 columns</p>\n",
       "</div>"
      ],
      "text/plain": [
       "       Age  age_median\n",
       "0    20-35        27.5\n",
       "1    12-20        16.0\n",
       "2    35-60        47.5\n",
       "3    20-35        27.5\n",
       "4    20-35        27.5\n",
       "..     ...         ...\n",
       "515  20-35        27.5\n",
       "516  20-35        27.5\n",
       "517  20-35        27.5\n",
       "518  20-35        27.5\n",
       "519  20-35        27.5\n",
       "\n",
       "[520 rows x 2 columns]"
      ]
     },
     "execution_count": 3,
     "metadata": {},
     "output_type": "execute_result"
    }
   ],
   "source": [
    "def process_age(txt):\n",
    "    try:\n",
    "        return np.median(list(map(int, txt.split('-'))))\n",
    "    except:\n",
    "        return 60\n",
    "\n",
    "spotify_df['age_median'] = spotify_df['Age'].apply(process_age)\n",
    "spotify_df[['Age', 'age_median']]"
   ]
  },
  {
   "cell_type": "markdown",
   "id": "47e2d016",
   "metadata": {},
   "source": [
    "#### 2-2-2. 컬럼별 분포 확인 (성별)"
   ]
  },
  {
   "cell_type": "code",
   "execution_count": 24,
   "id": "ee4c1b0a",
   "metadata": {
    "ExecuteTime": {
     "end_time": "2023-12-29T04:03:15.886408Z",
     "start_time": "2023-12-29T04:03:15.839948Z"
    }
   },
   "outputs": [
    {
     "data": {
      "text/plain": [
       "Female    391\n",
       "Male      114\n",
       "Others     15\n",
       "Name: Gender, dtype: int64"
      ]
     },
     "execution_count": 24,
     "metadata": {},
     "output_type": "execute_result"
    }
   ],
   "source": [
    "spotify_df['Gender'].value_counts()"
   ]
  },
  {
   "cell_type": "code",
   "execution_count": 31,
   "id": "f1cc1169",
   "metadata": {
    "ExecuteTime": {
     "end_time": "2023-12-29T04:05:59.002348Z",
     "start_time": "2023-12-29T04:05:58.896029Z"
    }
   },
   "outputs": [
    {
     "data": {
      "image/png": "[encoded data removed]",
      "text/plain": [
       "<Figure size 640x480 with 1 Axes>"
      ]
     },
     "metadata": {},
     "output_type": "display_data"
    }
   ],
   "source": [
    "plt.pie(\n",
    "    spotify_df['Gender'].value_counts(),\n",
    "    labels=spotify_df['Gender'].value_counts().index,\n",
    "    autopct='%.1f%%',\n",
    "    startangle=140\n",
    ")\n",
    "\n",
    "plt.title('유저의 성별 분포')\n",
    "\n",
    "plt.show()"
   ]
  },
  {
   "cell_type": "markdown",
   "id": "b5c750fb",
   "metadata": {},
   "source": [
    "여성 유저가 남성 유저에 비해 훨씬 많다."
   ]
  },
  {
   "cell_type": "code",
   "execution_count": 4,
   "id": "e889c735",
   "metadata": {
    "ExecuteTime": {
     "end_time": "2023-12-29T08:01:01.712183Z",
     "start_time": "2023-12-29T08:01:01.687859Z"
    }
   },
   "outputs": [
    {
     "data": {
      "text/html": [
       "<div>\n",
       "<style scoped>\n",
       "    .dataframe tbody tr th:only-of-type {\n",
       "        vertical-align: middle;\n",
       "    }\n",
       "\n",
       "    .dataframe tbody tr th {\n",
       "        vertical-align: top;\n",
       "    }\n",
       "\n",
       "    .dataframe thead th {\n",
       "        text-align: right;\n",
       "    }\n",
       "</style>\n",
       "<table border=\"1\" class=\"dataframe\">\n",
       "  <thead>\n",
       "    <tr style=\"text-align: right;\">\n",
       "      <th></th>\n",
       "      <th>Gender</th>\n",
       "      <th>gender_binary</th>\n",
       "    </tr>\n",
       "  </thead>\n",
       "  <tbody>\n",
       "    <tr>\n",
       "      <th>0</th>\n",
       "      <td>Female</td>\n",
       "      <td>1</td>\n",
       "    </tr>\n",
       "    <tr>\n",
       "      <th>1</th>\n",
       "      <td>Male</td>\n",
       "      <td>0</td>\n",
       "    </tr>\n",
       "    <tr>\n",
       "      <th>2</th>\n",
       "      <td>Others</td>\n",
       "      <td>2</td>\n",
       "    </tr>\n",
       "    <tr>\n",
       "      <th>3</th>\n",
       "      <td>Female</td>\n",
       "      <td>1</td>\n",
       "    </tr>\n",
       "    <tr>\n",
       "      <th>4</th>\n",
       "      <td>Female</td>\n",
       "      <td>1</td>\n",
       "    </tr>\n",
       "    <tr>\n",
       "      <th>...</th>\n",
       "      <td>...</td>\n",
       "      <td>...</td>\n",
       "    </tr>\n",
       "    <tr>\n",
       "      <th>515</th>\n",
       "      <td>Female</td>\n",
       "      <td>1</td>\n",
       "    </tr>\n",
       "    <tr>\n",
       "      <th>516</th>\n",
       "      <td>Female</td>\n",
       "      <td>1</td>\n",
       "    </tr>\n",
       "    <tr>\n",
       "      <th>517</th>\n",
       "      <td>Female</td>\n",
       "      <td>1</td>\n",
       "    </tr>\n",
       "    <tr>\n",
       "      <th>518</th>\n",
       "      <td>Female</td>\n",
       "      <td>1</td>\n",
       "    </tr>\n",
       "    <tr>\n",
       "      <th>519</th>\n",
       "      <td>Female</td>\n",
       "      <td>1</td>\n",
       "    </tr>\n",
       "  </tbody>\n",
       "</table>\n",
       "<p>520 rows × 2 columns</p>\n",
       "</div>"
      ],
      "text/plain": [
       "     Gender  gender_binary\n",
       "0    Female              1\n",
       "1      Male              0\n",
       "2    Others              2\n",
       "3    Female              1\n",
       "4    Female              1\n",
       "..      ...            ...\n",
       "515  Female              1\n",
       "516  Female              1\n",
       "517  Female              1\n",
       "518  Female              1\n",
       "519  Female              1\n",
       "\n",
       "[520 rows x 2 columns]"
      ]
     },
     "execution_count": 4,
     "metadata": {},
     "output_type": "execute_result"
    }
   ],
   "source": [
    "spotify_df['gender_binary'] = spotify_df['Gender'].map({'Male': 0, 'Female': 1, 'Others': 2})\n",
    "\n",
    "spotify_df[['Gender', 'gender_binary']]"
   ]
  },
  {
   "cell_type": "markdown",
   "id": "051c8f7f",
   "metadata": {},
   "source": [
    "#### 2-2-3. 컬럼별 분포 확인 (이용 기간)"
   ]
  },
  {
   "cell_type": "code",
   "execution_count": 5,
   "id": "2e6e31d9",
   "metadata": {
    "ExecuteTime": {
     "end_time": "2023-12-29T08:01:04.769088Z",
     "start_time": "2023-12-29T08:01:04.745591Z"
    }
   },
   "outputs": [
    {
     "data": {
      "text/plain": [
       "Less than 6 months     91\n",
       "6 months to 1 year    119\n",
       "1 year to 2 years     141\n",
       "More than 2 years     169\n",
       "Name: spotify_usage_period, dtype: int64"
      ]
     },
     "execution_count": 5,
     "metadata": {},
     "output_type": "execute_result"
    }
   ],
   "source": [
    "period_dict = {\n",
    "    'Less than 6 months': 6, '6 months to 1 year': 9, '1 year to 2 years': 18, 'More than 2 years': 24\n",
    "}\n",
    "\n",
    "period_df = spotify_df['spotify_usage_period'].value_counts().sort_index(key=lambda x:x.map(period_dict))\n",
    "period_df"
   ]
  },
  {
   "cell_type": "code",
   "execution_count": 47,
   "id": "272b0156",
   "metadata": {
    "ExecuteTime": {
     "end_time": "2023-12-29T04:14:09.193790Z",
     "start_time": "2023-12-29T04:14:09.050743Z"
    }
   },
   "outputs": [
    {
     "data": {
      "image/png": "[encoded data removed]",
      "text/plain": [
       "<Figure size 1000x600 with 1 Axes>"
      ]
     },
     "metadata": {},
     "output_type": "display_data"
    }
   ],
   "source": [
    "plt.figure(figsize=(10, 6))\n",
    "\n",
    "plt.bar(\n",
    "    period_df.index,\n",
    "    period_df\n",
    ")\n",
    "\n",
    "plt.title('유저의 이용 기간 분포')\n",
    "plt.axhline(period_df.mean(), color='red', linestyle='--', linewidth=2)\n",
    "plt.yticks([i for i in range(0, 161, 20)] + [period_df.mean()])\n",
    "\n",
    "plt.show()"
   ]
  },
  {
   "cell_type": "markdown",
   "id": "f0c84ee1",
   "metadata": {},
   "source": [
    "2년 이상 **장기 이용자**가 많다. 스포티파이가 이미 성숙기에 접어들었음을 확인할 수 있는 대목이다.\n",
    "\n",
    "이 컬럼 역시 범주형이기 때문에, 개월 수의 중앙값을 취한 컬럼을 생성한다. 단, 6개월 미만 및 2년 이상은 각각 6, 24로 넣는다."
   ]
  },
  {
   "cell_type": "code",
   "execution_count": 6,
   "id": "2928c711",
   "metadata": {
    "ExecuteTime": {
     "end_time": "2023-12-29T08:01:08.076538Z",
     "start_time": "2023-12-29T08:01:08.052713Z"
    }
   },
   "outputs": [
    {
     "data": {
      "text/html": [
       "<div>\n",
       "<style scoped>\n",
       "    .dataframe tbody tr th:only-of-type {\n",
       "        vertical-align: middle;\n",
       "    }\n",
       "\n",
       "    .dataframe tbody tr th {\n",
       "        vertical-align: top;\n",
       "    }\n",
       "\n",
       "    .dataframe thead th {\n",
       "        text-align: right;\n",
       "    }\n",
       "</style>\n",
       "<table border=\"1\" class=\"dataframe\">\n",
       "  <thead>\n",
       "    <tr style=\"text-align: right;\">\n",
       "      <th></th>\n",
       "      <th>spotify_usage_period</th>\n",
       "      <th>period_median</th>\n",
       "    </tr>\n",
       "  </thead>\n",
       "  <tbody>\n",
       "    <tr>\n",
       "      <th>0</th>\n",
       "      <td>More than 2 years</td>\n",
       "      <td>24</td>\n",
       "    </tr>\n",
       "    <tr>\n",
       "      <th>1</th>\n",
       "      <td>More than 2 years</td>\n",
       "      <td>24</td>\n",
       "    </tr>\n",
       "    <tr>\n",
       "      <th>2</th>\n",
       "      <td>6 months to 1 year</td>\n",
       "      <td>9</td>\n",
       "    </tr>\n",
       "    <tr>\n",
       "      <th>3</th>\n",
       "      <td>1 year to 2 years</td>\n",
       "      <td>18</td>\n",
       "    </tr>\n",
       "    <tr>\n",
       "      <th>4</th>\n",
       "      <td>1 year to 2 years</td>\n",
       "      <td>18</td>\n",
       "    </tr>\n",
       "    <tr>\n",
       "      <th>...</th>\n",
       "      <td>...</td>\n",
       "      <td>...</td>\n",
       "    </tr>\n",
       "    <tr>\n",
       "      <th>515</th>\n",
       "      <td>More than 2 years</td>\n",
       "      <td>24</td>\n",
       "    </tr>\n",
       "    <tr>\n",
       "      <th>516</th>\n",
       "      <td>More than 2 years</td>\n",
       "      <td>24</td>\n",
       "    </tr>\n",
       "    <tr>\n",
       "      <th>517</th>\n",
       "      <td>More than 2 years</td>\n",
       "      <td>24</td>\n",
       "    </tr>\n",
       "    <tr>\n",
       "      <th>518</th>\n",
       "      <td>6 months to 1 year</td>\n",
       "      <td>9</td>\n",
       "    </tr>\n",
       "    <tr>\n",
       "      <th>519</th>\n",
       "      <td>More than 2 years</td>\n",
       "      <td>24</td>\n",
       "    </tr>\n",
       "  </tbody>\n",
       "</table>\n",
       "<p>520 rows × 2 columns</p>\n",
       "</div>"
      ],
      "text/plain": [
       "    spotify_usage_period  period_median\n",
       "0      More than 2 years             24\n",
       "1      More than 2 years             24\n",
       "2     6 months to 1 year              9\n",
       "3      1 year to 2 years             18\n",
       "4      1 year to 2 years             18\n",
       "..                   ...            ...\n",
       "515    More than 2 years             24\n",
       "516    More than 2 years             24\n",
       "517    More than 2 years             24\n",
       "518   6 months to 1 year              9\n",
       "519    More than 2 years             24\n",
       "\n",
       "[520 rows x 2 columns]"
      ]
     },
     "execution_count": 6,
     "metadata": {},
     "output_type": "execute_result"
    }
   ],
   "source": [
    "spotify_df['period_median'] = spotify_df['spotify_usage_period'].map(period_dict)\n",
    "spotify_df[['spotify_usage_period', 'period_median']]"
   ]
  },
  {
   "cell_type": "markdown",
   "id": "26756745",
   "metadata": {},
   "source": [
    "#### 2-2-4. 컬럼별 분포 확인 (구독 관련)"
   ]
  },
  {
   "cell_type": "code",
   "execution_count": 50,
   "id": "66c80cbb",
   "metadata": {
    "ExecuteTime": {
     "end_time": "2023-12-29T04:18:35.854880Z",
     "start_time": "2023-12-29T04:18:35.823483Z"
    }
   },
   "outputs": [
    {
     "data": {
      "text/plain": [
       "Free (ad-supported)            424\n",
       "Premium (paid subscription)     96\n",
       "Name: spotify_subscription_plan, dtype: int64"
      ]
     },
     "execution_count": 50,
     "metadata": {},
     "output_type": "execute_result"
    }
   ],
   "source": [
    "spotify_df['spotify_subscription_plan'].value_counts()"
   ]
  },
  {
   "cell_type": "code",
   "execution_count": 55,
   "id": "83652a27",
   "metadata": {
    "ExecuteTime": {
     "end_time": "2023-12-29T04:19:53.972642Z",
     "start_time": "2023-12-29T04:19:53.864695Z"
    }
   },
   "outputs": [
    {
     "data": {
      "image/png": "[encoded data removed]",
      "text/plain": [
       "<Figure size 640x480 with 1 Axes>"
      ]
     },
     "metadata": {},
     "output_type": "display_data"
    }
   ],
   "source": [
    "plt.pie(\n",
    "    spotify_df['spotify_subscription_plan'].value_counts(),\n",
    "    labels=spotify_df['spotify_subscription_plan'].value_counts().index,\n",
    "    startangle=140,\n",
    "    autopct='%.1f%%'\n",
    ")\n",
    "\n",
    "plt.title('구독 여부 분포')\n",
    "\n",
    "plt.show()"
   ]
  },
  {
   "cell_type": "markdown",
   "id": "ca4c5fb2",
   "metadata": {},
   "source": [
    "프리미엄 구독 중인 고객보다 무료 이용 고객이 훨씬 많다."
   ]
  },
  {
   "cell_type": "code",
   "execution_count": 7,
   "id": "36c5e928",
   "metadata": {
    "ExecuteTime": {
     "end_time": "2023-12-29T08:01:14.440250Z",
     "start_time": "2023-12-29T08:01:14.425243Z"
    }
   },
   "outputs": [
    {
     "data": {
      "text/html": [
       "<div>\n",
       "<style scoped>\n",
       "    .dataframe tbody tr th:only-of-type {\n",
       "        vertical-align: middle;\n",
       "    }\n",
       "\n",
       "    .dataframe tbody tr th {\n",
       "        vertical-align: top;\n",
       "    }\n",
       "\n",
       "    .dataframe thead th {\n",
       "        text-align: right;\n",
       "    }\n",
       "</style>\n",
       "<table border=\"1\" class=\"dataframe\">\n",
       "  <thead>\n",
       "    <tr style=\"text-align: right;\">\n",
       "      <th></th>\n",
       "      <th>spotify_subscription_plan</th>\n",
       "      <th>subscription_binary</th>\n",
       "    </tr>\n",
       "  </thead>\n",
       "  <tbody>\n",
       "    <tr>\n",
       "      <th>0</th>\n",
       "      <td>Free (ad-supported)</td>\n",
       "      <td>0</td>\n",
       "    </tr>\n",
       "    <tr>\n",
       "      <th>1</th>\n",
       "      <td>Free (ad-supported)</td>\n",
       "      <td>0</td>\n",
       "    </tr>\n",
       "    <tr>\n",
       "      <th>2</th>\n",
       "      <td>Free (ad-supported)</td>\n",
       "      <td>0</td>\n",
       "    </tr>\n",
       "    <tr>\n",
       "      <th>3</th>\n",
       "      <td>Free (ad-supported)</td>\n",
       "      <td>0</td>\n",
       "    </tr>\n",
       "    <tr>\n",
       "      <th>4</th>\n",
       "      <td>Free (ad-supported)</td>\n",
       "      <td>0</td>\n",
       "    </tr>\n",
       "    <tr>\n",
       "      <th>...</th>\n",
       "      <td>...</td>\n",
       "      <td>...</td>\n",
       "    </tr>\n",
       "    <tr>\n",
       "      <th>515</th>\n",
       "      <td>Free (ad-supported)</td>\n",
       "      <td>0</td>\n",
       "    </tr>\n",
       "    <tr>\n",
       "      <th>516</th>\n",
       "      <td>Free (ad-supported)</td>\n",
       "      <td>0</td>\n",
       "    </tr>\n",
       "    <tr>\n",
       "      <th>517</th>\n",
       "      <td>Free (ad-supported)</td>\n",
       "      <td>0</td>\n",
       "    </tr>\n",
       "    <tr>\n",
       "      <th>518</th>\n",
       "      <td>Premium (paid subscription)</td>\n",
       "      <td>1</td>\n",
       "    </tr>\n",
       "    <tr>\n",
       "      <th>519</th>\n",
       "      <td>Premium (paid subscription)</td>\n",
       "      <td>1</td>\n",
       "    </tr>\n",
       "  </tbody>\n",
       "</table>\n",
       "<p>520 rows × 2 columns</p>\n",
       "</div>"
      ],
      "text/plain": [
       "       spotify_subscription_plan  subscription_binary\n",
       "0            Free (ad-supported)                    0\n",
       "1            Free (ad-supported)                    0\n",
       "2            Free (ad-supported)                    0\n",
       "3            Free (ad-supported)                    0\n",
       "4            Free (ad-supported)                    0\n",
       "..                           ...                  ...\n",
       "515          Free (ad-supported)                    0\n",
       "516          Free (ad-supported)                    0\n",
       "517          Free (ad-supported)                    0\n",
       "518  Premium (paid subscription)                    1\n",
       "519  Premium (paid subscription)                    1\n",
       "\n",
       "[520 rows x 2 columns]"
      ]
     },
     "execution_count": 7,
     "metadata": {},
     "output_type": "execute_result"
    }
   ],
   "source": [
    "spotify_df['subscription_binary'] = spotify_df['spotify_subscription_plan'].map({\n",
    "    'Free (ad-supported)': 0,\n",
    "    'Premium (paid subscription)': 1\n",
    "})\n",
    "\n",
    "spotify_df[['spotify_subscription_plan', 'subscription_binary']]"
   ]
  },
  {
   "cell_type": "code",
   "execution_count": 10,
   "id": "150614ba",
   "metadata": {
    "ExecuteTime": {
     "end_time": "2023-12-29T08:02:43.222542Z",
     "start_time": "2023-12-29T08:02:43.215268Z"
    }
   },
   "outputs": [
    {
     "data": {
      "text/plain": [
       "0      Yes\n",
       "1      Yes\n",
       "2      Yes\n",
       "3       No\n",
       "4       No\n",
       "      ... \n",
       "515    Yes\n",
       "516    Yes\n",
       "517     No\n",
       "518    Yes\n",
       "519    Yes\n",
       "Name: premium_sub_willingness, Length: 520, dtype: object"
      ]
     },
     "execution_count": 10,
     "metadata": {},
     "output_type": "execute_result"
    }
   ],
   "source": [
    "spotify_df['premium_sub_willingness']"
   ]
  },
  {
   "cell_type": "code",
   "execution_count": 15,
   "id": "9fcfaf41",
   "metadata": {
    "ExecuteTime": {
     "end_time": "2023-12-29T08:05:54.572890Z",
     "start_time": "2023-12-29T08:05:54.556598Z"
    }
   },
   "outputs": [
    {
     "data": {
      "text/html": [
       "<div>\n",
       "<style scoped>\n",
       "    .dataframe tbody tr th:only-of-type {\n",
       "        vertical-align: middle;\n",
       "    }\n",
       "\n",
       "    .dataframe tbody tr th {\n",
       "        vertical-align: top;\n",
       "    }\n",
       "\n",
       "    .dataframe thead th {\n",
       "        text-align: right;\n",
       "    }\n",
       "</style>\n",
       "<table border=\"1\" class=\"dataframe\">\n",
       "  <thead>\n",
       "    <tr style=\"text-align: right;\">\n",
       "      <th></th>\n",
       "      <th></th>\n",
       "      <th>count</th>\n",
       "    </tr>\n",
       "    <tr>\n",
       "      <th>spotify_subscription_plan</th>\n",
       "      <th>premium_sub_willingness</th>\n",
       "      <th></th>\n",
       "    </tr>\n",
       "  </thead>\n",
       "  <tbody>\n",
       "    <tr>\n",
       "      <th rowspan=\"2\" valign=\"top\">Free (ad-supported)</th>\n",
       "      <th>No</th>\n",
       "      <td>310</td>\n",
       "    </tr>\n",
       "    <tr>\n",
       "      <th>Yes</th>\n",
       "      <td>114</td>\n",
       "    </tr>\n",
       "    <tr>\n",
       "      <th rowspan=\"2\" valign=\"top\">Premium (paid subscription)</th>\n",
       "      <th>No</th>\n",
       "      <td>24</td>\n",
       "    </tr>\n",
       "    <tr>\n",
       "      <th>Yes</th>\n",
       "      <td>72</td>\n",
       "    </tr>\n",
       "  </tbody>\n",
       "</table>\n",
       "</div>"
      ],
      "text/plain": [
       "                                                     count\n",
       "spotify_subscription_plan   premium_sub_willingness       \n",
       "Free (ad-supported)         No                         310\n",
       "                            Yes                        114\n",
       "Premium (paid subscription) No                          24\n",
       "                            Yes                         72"
      ]
     },
     "execution_count": 15,
     "metadata": {},
     "output_type": "execute_result"
    }
   ],
   "source": [
    "willingness_by_subscription = spotify_df.groupby(['spotify_subscription_plan', 'premium_sub_willingness']).agg({\n",
    "    'subscription_binary': 'count',\n",
    "}).rename(columns={'subscription_binary': 'count'})\n",
    "\n",
    "willingness_by_subscription"
   ]
  },
  {
   "cell_type": "code",
   "execution_count": 23,
   "id": "a2da6052",
   "metadata": {
    "ExecuteTime": {
     "end_time": "2023-12-29T08:09:09.949895Z",
     "start_time": "2023-12-29T08:09:09.833930Z"
    }
   },
   "outputs": [
    {
     "data": {
      "image/png": "[encoded data removed]",
      "text/plain": [
       "<Figure size 640x480 with 1 Axes>"
      ]
     },
     "metadata": {},
     "output_type": "display_data"
    }
   ],
   "source": [
    "willingness_by_subscription.unstack().plot(kind='bar')\n",
    "plt.title('현 구독 상태에 따른 구독 희망 여부')\n",
    "plt.legend(['미구독 희망', '구독 희망'])\n",
    "plt.xlabel('현재 구독 상태')\n",
    "\n",
    "plt.show()"
   ]
  },
  {
   "cell_type": "markdown",
   "id": "235ba95a",
   "metadata": {},
   "source": [
    "현재 구독 중인 사람들은 계속 구독을 유지하겠다는 의견이 많고, 현재 무료로 이용 중인 사람들은 계속 무료로 이용하겠다는 의견이 많다. 스포티파이 비즈니스의 잠재적 목표를 다음과 같이 정의해 볼 수 있다.\n",
    "\n",
    "- (Free, No)에 속한 사람들을 (Free, **Yes**)로 옮긴다.\n",
    "- (Premium, No)에 속한 사람들을 (Premium, **Yes**)로 옮긴다."
   ]
  },
  {
   "cell_type": "code",
   "execution_count": 25,
   "id": "372b098a",
   "metadata": {
    "ExecuteTime": {
     "end_time": "2023-12-29T08:11:58.288501Z",
     "start_time": "2023-12-29T08:11:58.274273Z"
    }
   },
   "outputs": [
    {
     "data": {
      "text/plain": [
       "None                              208\n",
       "Individual Plan- Rs 119/ month     95\n",
       "Student Plan-Rs 59/month           94\n",
       "Duo plan- Rs 149/month             84\n",
       "Family Plan-Rs 179/month           39\n",
       "Name: preffered_premium_plan, dtype: int64"
      ]
     },
     "execution_count": 25,
     "metadata": {},
     "output_type": "execute_result"
    }
   ],
   "source": [
    "spotify_df['preffered_premium_plan'].value_counts()"
   ]
  },
  {
   "cell_type": "code",
   "execution_count": 35,
   "id": "8cbb29ee",
   "metadata": {
    "ExecuteTime": {
     "end_time": "2023-12-29T08:21:12.488509Z",
     "start_time": "2023-12-29T08:21:12.466598Z"
    }
   },
   "outputs": [
    {
     "data": {
      "text/plain": [
       "None                              208\n",
       "Student Plan-Rs 59/month           94\n",
       "Individual Plan- Rs 119/ month     95\n",
       "Duo plan- Rs 149/month             84\n",
       "Family Plan-Rs 179/month           39\n",
       "Name: preffered_premium_plan, dtype: int64"
      ]
     },
     "execution_count": 35,
     "metadata": {},
     "output_type": "execute_result"
    }
   ],
   "source": [
    "premium_plan_dict = {\n",
    "    'None': 0, 'Individual Plan- Rs 119/ month': 119, 'Student Plan-Rs 59/month': 59,\n",
    "    'Duo plan- Rs 149/month': 149, 'Family Plan-Rs 179/month': 179\n",
    "}\n",
    "\n",
    "premium_plan = spotify_df['preffered_premium_plan'].value_counts().sort_index(key=lambda x:x.map(premium_plan_dict))\n",
    "premium_plan"
   ]
  },
  {
   "cell_type": "code",
   "execution_count": 36,
   "id": "50a60106",
   "metadata": {
    "ExecuteTime": {
     "end_time": "2023-12-29T08:21:18.831533Z",
     "start_time": "2023-12-29T08:21:18.713968Z"
    }
   },
   "outputs": [
    {
     "data": {
      "image/png": "[encoded data removed]",
      "text/plain": [
       "<Figure size 1200x800 with 1 Axes>"
      ]
     },
     "metadata": {},
     "output_type": "display_data"
    }
   ],
   "source": [
    "plt.figure(figsize=(12, 8))\n",
    "plt.bar(\n",
    "    premium_plan.index,\n",
    "    premium_plan\n",
    ")\n",
    "\n",
    "plt.title('희망하는 구독 플랜 분포')\n",
    "plt.xticks(rotation=45)\n",
    "plt.show()"
   ]
  },
  {
   "cell_type": "markdown",
   "id": "134eb414",
   "metadata": {},
   "source": [
    "무료 플랜에 대한 선호도가 가장 높다. 학생 요금제를 제외하고, 일반 요금제들끼리 비교해 보면 **구독료가 비쌀수록 수요가 낮다.**\n",
    "\n",
    "마찬가지로 범주형 데이터를 정수형으로 변환하는 과정을 거친다."
   ]
  },
  {
   "cell_type": "code",
   "execution_count": 43,
   "id": "97942d2e",
   "metadata": {
    "ExecuteTime": {
     "end_time": "2023-12-29T08:23:37.919544Z",
     "start_time": "2023-12-29T08:23:37.901918Z"
    }
   },
   "outputs": [
    {
     "data": {
      "text/html": [
       "<div>\n",
       "<style scoped>\n",
       "    .dataframe tbody tr th:only-of-type {\n",
       "        vertical-align: middle;\n",
       "    }\n",
       "\n",
       "    .dataframe tbody tr th {\n",
       "        vertical-align: top;\n",
       "    }\n",
       "\n",
       "    .dataframe thead th {\n",
       "        text-align: right;\n",
       "    }\n",
       "</style>\n",
       "<table border=\"1\" class=\"dataframe\">\n",
       "  <thead>\n",
       "    <tr style=\"text-align: right;\">\n",
       "      <th></th>\n",
       "      <th>preffered_premium_plan</th>\n",
       "      <th>preffered_premium_plan_numeric</th>\n",
       "    </tr>\n",
       "  </thead>\n",
       "  <tbody>\n",
       "    <tr>\n",
       "      <th>0</th>\n",
       "      <td>Family Plan-Rs 179/month</td>\n",
       "      <td>179</td>\n",
       "    </tr>\n",
       "    <tr>\n",
       "      <th>1</th>\n",
       "      <td>Individual Plan- Rs 119/ month</td>\n",
       "      <td>119</td>\n",
       "    </tr>\n",
       "    <tr>\n",
       "      <th>2</th>\n",
       "      <td>Student Plan-Rs 59/month</td>\n",
       "      <td>59</td>\n",
       "    </tr>\n",
       "    <tr>\n",
       "      <th>3</th>\n",
       "      <td>None</td>\n",
       "      <td>0</td>\n",
       "    </tr>\n",
       "    <tr>\n",
       "      <th>4</th>\n",
       "      <td>None</td>\n",
       "      <td>0</td>\n",
       "    </tr>\n",
       "    <tr>\n",
       "      <th>...</th>\n",
       "      <td>...</td>\n",
       "      <td>...</td>\n",
       "    </tr>\n",
       "    <tr>\n",
       "      <th>515</th>\n",
       "      <td>Student Plan-Rs 59/month</td>\n",
       "      <td>59</td>\n",
       "    </tr>\n",
       "    <tr>\n",
       "      <th>516</th>\n",
       "      <td>Student Plan-Rs 59/month</td>\n",
       "      <td>59</td>\n",
       "    </tr>\n",
       "    <tr>\n",
       "      <th>517</th>\n",
       "      <td>Student Plan-Rs 59/month</td>\n",
       "      <td>59</td>\n",
       "    </tr>\n",
       "    <tr>\n",
       "      <th>518</th>\n",
       "      <td>Individual Plan- Rs 119/ month</td>\n",
       "      <td>119</td>\n",
       "    </tr>\n",
       "    <tr>\n",
       "      <th>519</th>\n",
       "      <td>Student Plan-Rs 59/month</td>\n",
       "      <td>59</td>\n",
       "    </tr>\n",
       "  </tbody>\n",
       "</table>\n",
       "<p>520 rows × 2 columns</p>\n",
       "</div>"
      ],
      "text/plain": [
       "             preffered_premium_plan  preffered_premium_plan_numeric\n",
       "0          Family Plan-Rs 179/month                             179\n",
       "1    Individual Plan- Rs 119/ month                             119\n",
       "2          Student Plan-Rs 59/month                              59\n",
       "3                              None                               0\n",
       "4                              None                               0\n",
       "..                              ...                             ...\n",
       "515        Student Plan-Rs 59/month                              59\n",
       "516        Student Plan-Rs 59/month                              59\n",
       "517        Student Plan-Rs 59/month                              59\n",
       "518  Individual Plan- Rs 119/ month                             119\n",
       "519        Student Plan-Rs 59/month                              59\n",
       "\n",
       "[520 rows x 2 columns]"
      ]
     },
     "execution_count": 43,
     "metadata": {},
     "output_type": "execute_result"
    }
   ],
   "source": [
    "spotify_df['preffered_premium_plan_numeric'] = spotify_df['preffered_premium_plan'].map(premium_plan_dict)\n",
    "spotify_df[['preffered_premium_plan', 'preffered_premium_plan_numeric']]"
   ]
  },
  {
   "cell_type": "markdown",
   "id": "7339178c",
   "metadata": {},
   "source": [
    "#### 2-2-5. 컬럼별 분포 확인 (음악 취향)"
   ]
  },
  {
   "cell_type": "code",
   "execution_count": 45,
   "id": "7bd4388c",
   "metadata": {
    "ExecuteTime": {
     "end_time": "2023-12-29T08:27:47.910429Z",
     "start_time": "2023-12-29T08:27:47.888797Z"
    }
   },
   "outputs": [
    {
     "data": {
      "text/plain": [
       "Music      410\n",
       "Podcast    110\n",
       "Name: preferred_listening_content, dtype: int64"
      ]
     },
     "execution_count": 45,
     "metadata": {},
     "output_type": "execute_result"
    }
   ],
   "source": [
    "spotify_df['preferred_listening_content'].value_counts()"
   ]
  },
  {
   "cell_type": "code",
   "execution_count": 50,
   "id": "ec79d735",
   "metadata": {
    "ExecuteTime": {
     "end_time": "2023-12-29T08:29:21.061229Z",
     "start_time": "2023-12-29T08:29:20.987419Z"
    }
   },
   "outputs": [
    {
     "data": {
      "image/png": "[encoded data removed]",
      "text/plain": [
       "<Figure size 640x480 with 1 Axes>"
      ]
     },
     "metadata": {},
     "output_type": "display_data"
    }
   ],
   "source": [
    "plt.pie(\n",
    "    spotify_df['preferred_listening_content'].value_counts(),\n",
    "    labels=spotify_df['preferred_listening_content'].value_counts().index,\n",
    "    autopct='%.1f%%'\n",
    ")\n",
    "\n",
    "plt.title('선호 컨텐츠')\n",
    "\n",
    "plt.show()"
   ]
  },
  {
   "cell_type": "markdown",
   "id": "4d5f01fd",
   "metadata": {},
   "source": [
    "스포티파이 이용자들은 팟캐스트를 통해 음악을 듣는 것보다 자신이 직접 **음악을 찾아서** 듣는 것을 더 좋아한다. 그렇기 때문에 이후 분석에서 팟캐스트 관련 데이터들은 제외하고, 음악 관련 데이터들만 다루도록 한다."
   ]
  },
  {
   "cell_type": "code",
   "execution_count": 52,
   "id": "9205a94a",
   "metadata": {
    "ExecuteTime": {
     "end_time": "2023-12-29T08:30:41.347092Z",
     "start_time": "2023-12-29T08:30:41.334862Z"
    }
   },
   "outputs": [
    {
     "data": {
      "text/plain": [
       "Melody                       259\n",
       "classical                     87\n",
       "Pop                           85\n",
       "Rap                           55\n",
       "Electronic/Dance              16\n",
       "All                            6\n",
       "Rock                           4\n",
       "Kpop                           4\n",
       "Classical & melody, dance      2\n",
       "Old songs                      1\n",
       "trending songs random          1\n",
       "Name: fav_music_genre, dtype: int64"
      ]
     },
     "execution_count": 52,
     "metadata": {},
     "output_type": "execute_result"
    }
   ],
   "source": [
    "spotify_df['fav_music_genre'].value_counts()"
   ]
  },
  {
   "cell_type": "code",
   "execution_count": 64,
   "id": "c0a1a194",
   "metadata": {
    "ExecuteTime": {
     "end_time": "2023-12-29T08:33:48.578643Z",
     "start_time": "2023-12-29T08:33:48.456039Z"
    }
   },
   "outputs": [
    {
     "data": {
      "image/png": "[encoded data removed]",
      "text/plain": [
       "<Figure size 1200x800 with 1 Axes>"
      ]
     },
     "metadata": {},
     "output_type": "display_data"
    }
   ],
   "source": [
    "plt.figure(figsize=(12, 8))\n",
    "plt.bar(\n",
    "    spotify_df['fav_music_genre'].value_counts().index,\n",
    "    spotify_df['fav_music_genre'].value_counts()\n",
    ")\n",
    "\n",
    "plt.title('선호하는 음악 장르')\n",
    "plt.axhline(spotify_df['fav_music_genre'].value_counts().mean(), color='red', linewidth=2, linestyle='--')\n",
    "plt.xticks(rotation=45)\n",
    "plt.yticks([i for i in range(0, 301, 60)] + [spotify_df['fav_music_genre'].value_counts().mean()])\n",
    "\n",
    "plt.show()"
   ]
  },
  {
   "cell_type": "markdown",
   "id": "044e93be",
   "metadata": {},
   "source": [
    "평균보다 높은 선호도를 보인 장르는 **Melody, Classical, Pop, Rap**이다. 음악 스트리밍 서비스에 대해 내가 생각하는 것과 본 데이터 구성원들이 생각하는 게 꽤 괴리가 있는 것 같다. 내 생각엔 팝, 랩 같은 장르를 듣지 멜로디나 클래식을 들을 것 같지는 않았는데 오히려 그 둘이 지배적이다.\n",
    "\n",
    "마찬가지로 categorical을 numeric으로 바꿔준다."
   ]
  },
  {
   "cell_type": "code",
   "execution_count": 70,
   "id": "94d2966f",
   "metadata": {
    "ExecuteTime": {
     "end_time": "2023-12-29T08:39:29.956877Z",
     "start_time": "2023-12-29T08:39:29.932016Z"
    }
   },
   "outputs": [
    {
     "data": {
      "text/html": [
       "<div>\n",
       "<style scoped>\n",
       "    .dataframe tbody tr th:only-of-type {\n",
       "        vertical-align: middle;\n",
       "    }\n",
       "\n",
       "    .dataframe tbody tr th {\n",
       "        vertical-align: top;\n",
       "    }\n",
       "\n",
       "    .dataframe thead th {\n",
       "        text-align: right;\n",
       "    }\n",
       "</style>\n",
       "<table border=\"1\" class=\"dataframe\">\n",
       "  <thead>\n",
       "    <tr style=\"text-align: right;\">\n",
       "      <th></th>\n",
       "      <th>fav_music_genre</th>\n",
       "      <th>fav_music_genre_numeric</th>\n",
       "    </tr>\n",
       "  </thead>\n",
       "  <tbody>\n",
       "    <tr>\n",
       "      <th>0</th>\n",
       "      <td>Melody</td>\n",
       "      <td>0</td>\n",
       "    </tr>\n",
       "    <tr>\n",
       "      <th>1</th>\n",
       "      <td>Rap</td>\n",
       "      <td>3</td>\n",
       "    </tr>\n",
       "    <tr>\n",
       "      <th>2</th>\n",
       "      <td>Pop</td>\n",
       "      <td>2</td>\n",
       "    </tr>\n",
       "    <tr>\n",
       "      <th>3</th>\n",
       "      <td>Melody</td>\n",
       "      <td>0</td>\n",
       "    </tr>\n",
       "    <tr>\n",
       "      <th>4</th>\n",
       "      <td>Melody</td>\n",
       "      <td>0</td>\n",
       "    </tr>\n",
       "    <tr>\n",
       "      <th>...</th>\n",
       "      <td>...</td>\n",
       "      <td>...</td>\n",
       "    </tr>\n",
       "    <tr>\n",
       "      <th>515</th>\n",
       "      <td>Pop</td>\n",
       "      <td>2</td>\n",
       "    </tr>\n",
       "    <tr>\n",
       "      <th>516</th>\n",
       "      <td>Pop</td>\n",
       "      <td>2</td>\n",
       "    </tr>\n",
       "    <tr>\n",
       "      <th>517</th>\n",
       "      <td>Pop</td>\n",
       "      <td>2</td>\n",
       "    </tr>\n",
       "    <tr>\n",
       "      <th>518</th>\n",
       "      <td>Melody</td>\n",
       "      <td>0</td>\n",
       "    </tr>\n",
       "    <tr>\n",
       "      <th>519</th>\n",
       "      <td>Pop</td>\n",
       "      <td>2</td>\n",
       "    </tr>\n",
       "  </tbody>\n",
       "</table>\n",
       "<p>520 rows × 2 columns</p>\n",
       "</div>"
      ],
      "text/plain": [
       "    fav_music_genre  fav_music_genre_numeric\n",
       "0            Melody                        0\n",
       "1               Rap                        3\n",
       "2               Pop                        2\n",
       "3            Melody                        0\n",
       "4            Melody                        0\n",
       "..              ...                      ...\n",
       "515             Pop                        2\n",
       "516             Pop                        2\n",
       "517             Pop                        2\n",
       "518          Melody                        0\n",
       "519             Pop                        2\n",
       "\n",
       "[520 rows x 2 columns]"
      ]
     },
     "execution_count": 70,
     "metadata": {},
     "output_type": "execute_result"
    }
   ],
   "source": [
    "genre_dict = {\n",
    "    spotify_df['fav_music_genre'].value_counts().index[i] : i for i in range(len(spotify_df['fav_music_genre'].value_counts().index))\n",
    "}\n",
    "\n",
    "spotify_df['fav_music_genre_numeric'] = spotify_df['fav_music_genre'].map(genre_dict)\n",
    "spotify_df[['fav_music_genre', 'fav_music_genre_numeric']]"
   ]
  },
  {
   "cell_type": "markdown",
   "id": "dd8ece21",
   "metadata": {},
   "source": [
    "#### 2-2-6. 컬럼별 분포 확인 (서비스 이용 환경)"
   ]
  },
  {
   "cell_type": "code",
   "execution_count": 66,
   "id": "88548ecc",
   "metadata": {
    "ExecuteTime": {
     "end_time": "2023-12-29T08:36:56.243483Z",
     "start_time": "2023-12-29T08:36:56.232184Z"
    }
   },
   "outputs": [
    {
     "data": {
      "text/plain": [
       "Night        312\n",
       "Afternoon    117\n",
       "Morning       91\n",
       "Name: music_time_slot, dtype: int64"
      ]
     },
     "execution_count": 66,
     "metadata": {},
     "output_type": "execute_result"
    }
   ],
   "source": [
    "spotify_df['music_time_slot'].value_counts()"
   ]
  },
  {
   "cell_type": "code",
   "execution_count": 77,
   "id": "3896535c",
   "metadata": {
    "ExecuteTime": {
     "end_time": "2023-12-29T08:43:07.050418Z",
     "start_time": "2023-12-29T08:43:06.981548Z"
    }
   },
   "outputs": [
    {
     "data": {
      "image/png": "[encoded data removed]",
      "text/plain": [
       "<Figure size 640x480 with 1 Axes>"
      ]
     },
     "metadata": {},
     "output_type": "display_data"
    }
   ],
   "source": [
    "plt.pie(\n",
    "    spotify_df['music_time_slot'].value_counts(),\n",
    "    labels=spotify_df['music_time_slot'].value_counts().index,\n",
    "    autopct='%.1f%%'\n",
    ")\n",
    "\n",
    "plt.title('선호하는 음악 청취 시간대')\n",
    "plt.show()"
   ]
  },
  {
   "cell_type": "markdown",
   "id": "222c30b5",
   "metadata": {},
   "source": [
    "**밤 시간대**에 듣는 비중이 제일 많고 아침 시간대와 낮 시간대는 비슷하다."
   ]
  },
  {
   "cell_type": "code",
   "execution_count": 78,
   "id": "94e7d97d",
   "metadata": {
    "ExecuteTime": {
     "end_time": "2023-12-29T08:44:49.033488Z",
     "start_time": "2023-12-29T08:44:49.003962Z"
    }
   },
   "outputs": [
    {
     "data": {
      "text/html": [
       "<div>\n",
       "<style scoped>\n",
       "    .dataframe tbody tr th:only-of-type {\n",
       "        vertical-align: middle;\n",
       "    }\n",
       "\n",
       "    .dataframe tbody tr th {\n",
       "        vertical-align: top;\n",
       "    }\n",
       "\n",
       "    .dataframe thead th {\n",
       "        text-align: right;\n",
       "    }\n",
       "</style>\n",
       "<table border=\"1\" class=\"dataframe\">\n",
       "  <thead>\n",
       "    <tr style=\"text-align: right;\">\n",
       "      <th></th>\n",
       "      <th>music_time_slot</th>\n",
       "      <th>music_time_slot_numeric</th>\n",
       "    </tr>\n",
       "  </thead>\n",
       "  <tbody>\n",
       "    <tr>\n",
       "      <th>0</th>\n",
       "      <td>Night</td>\n",
       "      <td>2</td>\n",
       "    </tr>\n",
       "    <tr>\n",
       "      <th>1</th>\n",
       "      <td>Afternoon</td>\n",
       "      <td>1</td>\n",
       "    </tr>\n",
       "    <tr>\n",
       "      <th>2</th>\n",
       "      <td>Night</td>\n",
       "      <td>2</td>\n",
       "    </tr>\n",
       "    <tr>\n",
       "      <th>3</th>\n",
       "      <td>Night</td>\n",
       "      <td>2</td>\n",
       "    </tr>\n",
       "    <tr>\n",
       "      <th>4</th>\n",
       "      <td>Night</td>\n",
       "      <td>2</td>\n",
       "    </tr>\n",
       "    <tr>\n",
       "      <th>...</th>\n",
       "      <td>...</td>\n",
       "      <td>...</td>\n",
       "    </tr>\n",
       "    <tr>\n",
       "      <th>515</th>\n",
       "      <td>Morning</td>\n",
       "      <td>0</td>\n",
       "    </tr>\n",
       "    <tr>\n",
       "      <th>516</th>\n",
       "      <td>Night</td>\n",
       "      <td>2</td>\n",
       "    </tr>\n",
       "    <tr>\n",
       "      <th>517</th>\n",
       "      <td>Night</td>\n",
       "      <td>2</td>\n",
       "    </tr>\n",
       "    <tr>\n",
       "      <th>518</th>\n",
       "      <td>Night</td>\n",
       "      <td>2</td>\n",
       "    </tr>\n",
       "    <tr>\n",
       "      <th>519</th>\n",
       "      <td>Night</td>\n",
       "      <td>2</td>\n",
       "    </tr>\n",
       "  </tbody>\n",
       "</table>\n",
       "<p>520 rows × 2 columns</p>\n",
       "</div>"
      ],
      "text/plain": [
       "    music_time_slot  music_time_slot_numeric\n",
       "0             Night                        2\n",
       "1         Afternoon                        1\n",
       "2             Night                        2\n",
       "3             Night                        2\n",
       "4             Night                        2\n",
       "..              ...                      ...\n",
       "515         Morning                        0\n",
       "516           Night                        2\n",
       "517           Night                        2\n",
       "518           Night                        2\n",
       "519           Night                        2\n",
       "\n",
       "[520 rows x 2 columns]"
      ]
     },
     "execution_count": 78,
     "metadata": {},
     "output_type": "execute_result"
    }
   ],
   "source": [
    "time_dict = {'Morning': 0, 'Afternoon': 1, 'Night': 2}\n",
    "\n",
    "spotify_df['music_time_slot_numeric'] = spotify_df['music_time_slot'].map(time_dict)\n",
    "spotify_df[['music_time_slot', 'music_time_slot_numeric']]"
   ]
  },
  {
   "cell_type": "markdown",
   "id": "fa3af6ad",
   "metadata": {},
   "source": [
    "#### 2-2-7. 컬럼별 분포 확인 (서비스 선호도)"
   ]
  },
  {
   "cell_type": "code",
   "execution_count": 84,
   "id": "d58cde66",
   "metadata": {
    "ExecuteTime": {
     "end_time": "2023-12-29T08:47:21.599249Z",
     "start_time": "2023-12-29T08:47:21.576326Z"
    }
   },
   "outputs": [
    {
     "data": {
      "text/plain": [
       "recommendations                              113\n",
       "Playlists                                    112\n",
       "recommendations, Playlists                    86\n",
       "Others                                        55\n",
       "Radio                                         51\n",
       "Playlists, Radio                              18\n",
       "recommendations, Playlists, Others            18\n",
       "recommendations, Others                       15\n",
       "recommendations, Playlists, Radio             13\n",
       "Playlists, Others                              9\n",
       "Radio, Others                                  7\n",
       "recommendations, Radio                         6\n",
       "Playlists, Radio, Others                       6\n",
       "recommendations, Radio, Others                 4\n",
       "recommendations, Playlists, Radio, Others      2\n",
       "recommendations,Others, Social media           1\n",
       "Others, Social media                           1\n",
       "Others, Friends                                1\n",
       "recommendations, Others, Social media          1\n",
       "Others, Search                                 1\n",
       "Name: music_expl_method, dtype: int64"
      ]
     },
     "execution_count": 84,
     "metadata": {},
     "output_type": "execute_result"
    }
   ],
   "source": [
    "spotify_df['music_expl_method'].value_counts()"
   ]
  },
  {
   "cell_type": "code",
   "execution_count": 91,
   "id": "b4da9620",
   "metadata": {
    "ExecuteTime": {
     "end_time": "2023-12-29T08:48:27.570089Z",
     "start_time": "2023-12-29T08:48:27.557958Z"
    }
   },
   "outputs": [
    {
     "data": {
      "text/plain": [
       "0      3\n",
       "1      2\n",
       "2      4\n",
       "3      4\n",
       "4      4\n",
       "      ..\n",
       "515    5\n",
       "516    2\n",
       "517    3\n",
       "518    2\n",
       "519    3\n",
       "Name: music_recc_rating, Length: 520, dtype: int64"
      ]
     },
     "execution_count": 91,
     "metadata": {},
     "output_type": "execute_result"
    }
   ],
   "source": [
    "spotify_df['music_recc_rating']"
   ]
  },
  {
   "cell_type": "code",
   "execution_count": 98,
   "id": "1439a90a",
   "metadata": {
    "ExecuteTime": {
     "end_time": "2023-12-29T08:51:08.722903Z",
     "start_time": "2023-12-29T08:51:08.621415Z"
    }
   },
   "outputs": [
    {
     "data": {
      "image/png": "[encoded data removed]",
      "text/plain": [
       "<Figure size 640x480 with 1 Axes>"
      ]
     },
     "metadata": {},
     "output_type": "display_data"
    }
   ],
   "source": [
    "plt.boxplot(\n",
    "    spotify_df['music_recc_rating'],\n",
    "    labels=['만족도']\n",
    ")\n",
    "\n",
    "plt.title('음악 추천 만족도 분포')\n",
    "\n",
    "plt.show()"
   ]
  },
  {
   "cell_type": "code",
   "execution_count": 102,
   "id": "6099c762",
   "metadata": {
    "ExecuteTime": {
     "end_time": "2023-12-29T08:53:23.869034Z",
     "start_time": "2023-12-29T08:53:23.847411Z"
    }
   },
   "outputs": [
    {
     "data": {
      "text/html": [
       "<div>\n",
       "<style scoped>\n",
       "    .dataframe tbody tr th:only-of-type {\n",
       "        vertical-align: middle;\n",
       "    }\n",
       "\n",
       "    .dataframe tbody tr th {\n",
       "        vertical-align: top;\n",
       "    }\n",
       "\n",
       "    .dataframe thead th {\n",
       "        text-align: right;\n",
       "    }\n",
       "</style>\n",
       "<table border=\"1\" class=\"dataframe\">\n",
       "  <thead>\n",
       "    <tr style=\"text-align: right;\">\n",
       "      <th></th>\n",
       "      <th>age_median</th>\n",
       "      <th>gender_binary</th>\n",
       "      <th>period_median</th>\n",
       "      <th>subscription_binary</th>\n",
       "      <th>preffered_premium_plan_numeric</th>\n",
       "      <th>fav_music_genre_numeric</th>\n",
       "      <th>music_time_slot_numeric</th>\n",
       "      <th>music_recc_rating</th>\n",
       "    </tr>\n",
       "  </thead>\n",
       "  <tbody>\n",
       "    <tr>\n",
       "      <th>0</th>\n",
       "      <td>27.5</td>\n",
       "      <td>1</td>\n",
       "      <td>24</td>\n",
       "      <td>0</td>\n",
       "      <td>179</td>\n",
       "      <td>0</td>\n",
       "      <td>2</td>\n",
       "      <td>3</td>\n",
       "    </tr>\n",
       "    <tr>\n",
       "      <th>1</th>\n",
       "      <td>16.0</td>\n",
       "      <td>0</td>\n",
       "      <td>24</td>\n",
       "      <td>0</td>\n",
       "      <td>119</td>\n",
       "      <td>3</td>\n",
       "      <td>1</td>\n",
       "      <td>2</td>\n",
       "    </tr>\n",
       "    <tr>\n",
       "      <th>2</th>\n",
       "      <td>47.5</td>\n",
       "      <td>2</td>\n",
       "      <td>9</td>\n",
       "      <td>0</td>\n",
       "      <td>59</td>\n",
       "      <td>2</td>\n",
       "      <td>2</td>\n",
       "      <td>4</td>\n",
       "    </tr>\n",
       "    <tr>\n",
       "      <th>3</th>\n",
       "      <td>27.5</td>\n",
       "      <td>1</td>\n",
       "      <td>18</td>\n",
       "      <td>0</td>\n",
       "      <td>0</td>\n",
       "      <td>0</td>\n",
       "      <td>2</td>\n",
       "      <td>4</td>\n",
       "    </tr>\n",
       "    <tr>\n",
       "      <th>4</th>\n",
       "      <td>27.5</td>\n",
       "      <td>1</td>\n",
       "      <td>18</td>\n",
       "      <td>0</td>\n",
       "      <td>0</td>\n",
       "      <td>0</td>\n",
       "      <td>2</td>\n",
       "      <td>4</td>\n",
       "    </tr>\n",
       "    <tr>\n",
       "      <th>...</th>\n",
       "      <td>...</td>\n",
       "      <td>...</td>\n",
       "      <td>...</td>\n",
       "      <td>...</td>\n",
       "      <td>...</td>\n",
       "      <td>...</td>\n",
       "      <td>...</td>\n",
       "      <td>...</td>\n",
       "    </tr>\n",
       "    <tr>\n",
       "      <th>515</th>\n",
       "      <td>27.5</td>\n",
       "      <td>1</td>\n",
       "      <td>24</td>\n",
       "      <td>0</td>\n",
       "      <td>59</td>\n",
       "      <td>2</td>\n",
       "      <td>0</td>\n",
       "      <td>5</td>\n",
       "    </tr>\n",
       "    <tr>\n",
       "      <th>516</th>\n",
       "      <td>27.5</td>\n",
       "      <td>1</td>\n",
       "      <td>24</td>\n",
       "      <td>0</td>\n",
       "      <td>59</td>\n",
       "      <td>2</td>\n",
       "      <td>2</td>\n",
       "      <td>2</td>\n",
       "    </tr>\n",
       "    <tr>\n",
       "      <th>517</th>\n",
       "      <td>27.5</td>\n",
       "      <td>1</td>\n",
       "      <td>24</td>\n",
       "      <td>0</td>\n",
       "      <td>59</td>\n",
       "      <td>2</td>\n",
       "      <td>2</td>\n",
       "      <td>3</td>\n",
       "    </tr>\n",
       "    <tr>\n",
       "      <th>518</th>\n",
       "      <td>27.5</td>\n",
       "      <td>1</td>\n",
       "      <td>9</td>\n",
       "      <td>1</td>\n",
       "      <td>119</td>\n",
       "      <td>0</td>\n",
       "      <td>2</td>\n",
       "      <td>2</td>\n",
       "    </tr>\n",
       "    <tr>\n",
       "      <th>519</th>\n",
       "      <td>27.5</td>\n",
       "      <td>1</td>\n",
       "      <td>24</td>\n",
       "      <td>1</td>\n",
       "      <td>59</td>\n",
       "      <td>2</td>\n",
       "      <td>2</td>\n",
       "      <td>3</td>\n",
       "    </tr>\n",
       "  </tbody>\n",
       "</table>\n",
       "<p>520 rows × 8 columns</p>\n",
       "</div>"
      ],
      "text/plain": [
       "     age_median  gender_binary  period_median  subscription_binary  \\\n",
       "0          27.5              1             24                    0   \n",
       "1          16.0              0             24                    0   \n",
       "2          47.5              2              9                    0   \n",
       "3          27.5              1             18                    0   \n",
       "4          27.5              1             18                    0   \n",
       "..          ...            ...            ...                  ...   \n",
       "515        27.5              1             24                    0   \n",
       "516        27.5              1             24                    0   \n",
       "517        27.5              1             24                    0   \n",
       "518        27.5              1              9                    1   \n",
       "519        27.5              1             24                    1   \n",
       "\n",
       "     preffered_premium_plan_numeric  fav_music_genre_numeric  \\\n",
       "0                               179                        0   \n",
       "1                               119                        3   \n",
       "2                                59                        2   \n",
       "3                                 0                        0   \n",
       "4                                 0                        0   \n",
       "..                              ...                      ...   \n",
       "515                              59                        2   \n",
       "516                              59                        2   \n",
       "517                              59                        2   \n",
       "518                             119                        0   \n",
       "519                              59                        2   \n",
       "\n",
       "     music_time_slot_numeric  music_recc_rating  \n",
       "0                          2                  3  \n",
       "1                          1                  2  \n",
       "2                          2                  4  \n",
       "3                          2                  4  \n",
       "4                          2                  4  \n",
       "..                       ...                ...  \n",
       "515                        0                  5  \n",
       "516                        2                  2  \n",
       "517                        2                  3  \n",
       "518                        2                  2  \n",
       "519                        2                  3  \n",
       "\n",
       "[520 rows x 8 columns]"
      ]
     },
     "execution_count": 102,
     "metadata": {},
     "output_type": "execute_result"
    }
   ],
   "source": [
    "new_spotify_df = spotify_df[[\n",
    "    'age_median',\n",
    "    'gender_binary',\n",
    "    'period_median',\n",
    "    'subscription_binary',\n",
    "    'preffered_premium_plan_numeric',\n",
    "    'fav_music_genre_numeric',\n",
    "    'music_time_slot_numeric',\n",
    "    'music_recc_rating'\n",
    "]]\n",
    "\n",
    "new_spotify_df"
   ]
  },
  {
   "cell_type": "code",
   "execution_count": 106,
   "id": "0fe53f86",
   "metadata": {
    "ExecuteTime": {
     "end_time": "2023-12-29T08:53:57.855898Z",
     "start_time": "2023-12-29T08:53:57.835409Z"
    }
   },
   "outputs": [],
   "source": [
    "# pickle로 저장\n",
    "with open('new_spotify_df.pkl', 'wb') as file:\n",
    "    pickle.dump(new_spotify_df, file)"
   ]
  },
  {
   "cell_type": "markdown",
   "id": "5a6a8ec9",
   "metadata": {},
   "source": [
    "---"
   ]
  },
  {
   "cell_type": "markdown",
   "id": "6dcd5034",
   "metadata": {},
   "source": [
    "## 3. 데이터 분석"
   ]
  },
  {
   "cell_type": "markdown",
   "id": "99332bdb",
   "metadata": {},
   "source": [
    "### 3-1. 문제 정의\n",
    "\n",
    "스포티파이 비즈니스 목표는 **구독 가입자 수를 늘리는 것**으로 정의한다.\n",
    "\n",
    "목표에 도달하기 위해, 먼저 다음의 두 군집을 식별해 내고자 한다.\n",
    "- 현재 구독 중이나 잠재적으로 해지할 위험성이 높은 군집 (이상 집단 A)\n",
    "- 현재 구독 중이 아니지만 잠재적으로 구독할 가능성이 높은 군집 (이상 집단 B)\n",
    "\n",
    "이어지는 분석 절차는 다음과 같다.\n",
    "- z-score validation을 통해 집단 A가 지니는 특성을 발견해 낸 뒤, 유저의 이탈을 막기 위한 액션 아이템 도출\n",
    "- z-score validation을 통해 집단 B가 지니는 특성을 발견해 낸 뒤, 해당 유저들을 유인하기 위한 액션 아이템 도출"
   ]
  },
  {
   "cell_type": "markdown",
   "id": "14d2f3ca",
   "metadata": {},
   "source": [
    "### 3-2. 데이터 분석"
   ]
  },
  {
   "cell_type": "code",
   "execution_count": null,
   "id": "d47770ab",
   "metadata": {},
   "outputs": [],
   "source": [
    "# 가설 검정, 머신러닝, ..."
   ]
  },
  {
   "cell_type": "markdown",
   "id": "687950ec",
   "metadata": {},
   "source": [
    "### 3-3. 결과 해석\n",
    "\n",
    "내용"
   ]
  },
  {
   "cell_type": "markdown",
   "id": "811987c2",
   "metadata": {},
   "source": [
    "---"
   ]
  },
  {
   "cell_type": "markdown",
   "id": "8947cf07",
   "metadata": {},
   "source": [
    "## 4. 후기"
   ]
  },
  {
   "cell_type": "markdown",
   "id": "9fb18056",
   "metadata": {},
   "source": [
    "내용"
   ]
  }
 ],
 "metadata": {
  "kernelspec": {
   "display_name": "Python 3 (ipykernel)",
   "language": "python",
   "name": "python3"
  },
  "language_info": {
   "codemirror_mode": {
    "name": "ipython",
    "version": 3
   },
   "file_extension": ".py",
   "mimetype": "text/x-python",
   "name": "python",
   "nbconvert_exporter": "python",
   "pygments_lexer": "ipython3",
   "version": "3.9.16"
  },
  "toc": {
   "base_numbering": 1,
   "nav_menu": {},
   "number_sections": false,
   "sideBar": true,
   "skip_h1_title": false,
   "title_cell": "Table of Contents",
   "title_sidebar": "Contents",
   "toc_cell": false,
   "toc_position": {
    "height": "calc(100% - 180px)",
    "left": "10px",
    "top": "150px",
    "width": "326.6px"
   },
   "toc_section_display": true,
   "toc_window_display": true
  }
 },
 "nbformat": 4,
 "nbformat_minor": 5
}
